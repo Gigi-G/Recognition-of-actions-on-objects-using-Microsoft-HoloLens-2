{
 "cells": [
  {
   "cell_type": "markdown",
   "id": "b57ba0a3",
   "metadata": {
    "id": "b57ba0a3"
   },
   "source": [
    "# LSTM"
   ]
  },
  {
   "cell_type": "code",
   "execution_count": 1,
   "id": "5cac63e0",
   "metadata": {
    "id": "5cac63e0"
   },
   "outputs": [],
   "source": [
    "import torch\n",
    "from torch import nn\n",
    "from torch.utils.tensorboard import SummaryWriter\n",
    "from torch.utils.data import Dataset, DataLoader, WeightedRandomSampler\n",
    "import torch.nn as nn\n",
    "\n",
    "import numpy as np\n",
    "import pandas as pd\n",
    "import sys\n",
    "import seaborn as sns\n",
    "import matplotlib.pyplot as plt\n",
    "from tqdm.notebook import tqdm\n",
    "from sklearn.metrics import confusion_matrix, classification_report, f1_score, accuracy_score\n",
    "\n",
    "from torch.utils.tensorboard import SummaryWriter\n",
    "\n",
    "from scipy.stats import mode\n",
    "\n",
    "from modules.pytorchtools import EarlyStopping \n",
    "\n",
    "import os\n",
    "import shutil\n",
    "import glob\n",
    "import random\n",
    "\n",
    "main_folder = \"../data\"\n",
    "\n",
    "folder = \"./runs/LSTM_1\"\n",
    "\n",
    "try:\n",
    "    shutil.rmtree(folder, ignore_errors=True)\n",
    "except:\n",
    "    pass\n",
    "\n",
    "try:\n",
    "    os.mkdir(folder)\n",
    "except:\n",
    "    pass\n",
    "\n",
    "writer = SummaryWriter(folder)"
   ]
  },
  {
   "cell_type": "code",
   "execution_count": 2,
   "id": "24ec9a06",
   "metadata": {},
   "outputs": [],
   "source": [
    "LABELS = [\n",
    "    \"No_action\",\n",
    "    \"Prendi\",\n",
    "    \"Rilascia\",\n",
    "    \"Premi\"\n",
    "]"
   ]
  },
  {
   "cell_type": "code",
   "execution_count": 3,
   "id": "8affb0f7",
   "metadata": {
    "id": "8affb0f7"
   },
   "outputs": [],
   "source": [
    "class2idx = {\n",
    "    \"No_action\": 0,\n",
    "    \"Prendi\": 1,\n",
    "    \"Rilascia\": 2,\n",
    "    \"Premi\": 3\n",
    "}\n",
    "\n",
    "idx2class = {v: k for k, v in class2idx.items()}"
   ]
  },
  {
   "cell_type": "code",
   "execution_count": 4,
   "id": "148e392d",
   "metadata": {},
   "outputs": [],
   "source": [
    "def create_set(folder_set):\n",
    "    csv:list = []\n",
    "    for file in glob.glob(folder_set + \"/*.csv\"):\n",
    "        csv.append(file)\n",
    "    data = []\n",
    "    target = []\n",
    "    for fcsv in csv:\n",
    "        data_video = pd.read_csv(fcsv, usecols = [i for i in range(156)]).to_numpy()\n",
    "        target_video = pd.read_csv(fcsv, usecols = [\"TARGET\"])\n",
    "        target_video[\"TARGET\"].replace(class2idx, inplace=True)\n",
    "        data.append(data_video)\n",
    "        target.append(target_video.to_numpy())\n",
    "    return (np.array(data, dtype=object), np.array(target, dtype=object))"
   ]
  },
  {
   "cell_type": "code",
   "execution_count": 5,
   "id": "-znJCwBvJBZK",
   "metadata": {
    "colab": {
     "base_uri": "https://localhost:8080/"
    },
    "id": "-znJCwBvJBZK",
    "outputId": "d587f561-d7ec-44c7-d3b2-d6a99535b586"
   },
   "outputs": [],
   "source": [
    "folder_set = [[main_folder + \"/train_set\", main_folder + \"/train.csv\"], [main_folder + \"/test_set\", main_folder + \"/test.csv\"], [main_folder + \"/val_set\", main_folder + \"/val.csv\"]]\n",
    "\n",
    "train_array, train_label_array = create_set(folder_set[0][0])\n",
    "test_array, test_label_array = create_set(folder_set[1][0])\n",
    "val_array, val_label_array = create_set(folder_set[2][0])"
   ]
  },
  {
   "cell_type": "code",
   "execution_count": 6,
   "id": "9b569e3d",
   "metadata": {},
   "outputs": [],
   "source": [
    "class ClassifierDataset(Dataset):\n",
    "    \n",
    "    def __init__(self, array, label, index_data, window):\n",
    "        self.index_data = index_data\n",
    "        self.array = array\n",
    "        self.label = label\n",
    "        self.window = window\n",
    "        \n",
    "    def __getitem__(self, index):\n",
    "        file_index = self.index_data[index][0].tolist()\n",
    "        i = self.index_data[index][1]\n",
    "        j = self.index_data[index][2]\n",
    "        if i == j:\n",
    "            x_data = [self.array[file_index][i]] * self.window\n",
    "            y_data = self.label[file_index][i]\n",
    "            X = torch.from_numpy(np.array(x_data).astype(float)).float()\n",
    "            Y = torch.from_numpy(np.array([y_data]).astype(int)).long()\n",
    "            return X, Y\n",
    "        elif j-i < self.window-1:\n",
    "            x_data = [self.array[file_index][i]] * (self.window-j)\n",
    "            x_data.extend(self.array[file_index][(i+1):(j+1)])\n",
    "            x_data = np.array(x_data).astype(float)\n",
    "        else:\n",
    "            x_data = self.array[file_index][i:(j+1)]\n",
    "            k = j-1\n",
    "            while len(x_data) > self.window:\n",
    "                x_data = self.array[file_index][i:(k+1)]\n",
    "                k -= 1\n",
    "        X = torch.from_numpy(x_data).float()\n",
    "        y_data = self.label[file_index][i:(j+1)]\n",
    "        y_mode = mode(y_data)[0][0]\n",
    "        Y = torch.from_numpy(np.array([y_mode])).long()\n",
    "        return X, Y\n",
    "        \n",
    "    def __len__ (self):\n",
    "        return len(self.index_data)"
   ]
  },
  {
   "cell_type": "code",
   "execution_count": 7,
   "id": "9f82fcc7",
   "metadata": {},
   "outputs": [],
   "source": [
    "def create_dataset(array_data, label_data, window):\n",
    "    X = []\n",
    "    files_num = len(array_data)\n",
    "    for index, array, label in zip(range(files_num), array_data, label_data):\n",
    "        l = array.shape[0]\n",
    "        i = 0\n",
    "        while l - i >= window:\n",
    "            j = i + window\n",
    "            index_window = np.array([index, i, j]).astype(int)\n",
    "            X.append(index_window)\n",
    "            i += window\n",
    "        if i < l:\n",
    "            w = l - i\n",
    "            i = i - w - window\n",
    "            j = i + window\n",
    "            index_window = np.array([index, i, j]).astype(int)\n",
    "            X.append(index_window)\n",
    "    X_data = torch.from_numpy(np.array(X).astype(int))\n",
    "    return ClassifierDataset(array_data, label_data, X_data, window)"
   ]
  },
  {
   "cell_type": "code",
   "execution_count": 8,
   "id": "172d3e3f",
   "metadata": {},
   "outputs": [],
   "source": [
    "def create_dataset2(array_data, label_data, window):\n",
    "    X = []\n",
    "    files_num = len(array_data)\n",
    "    for index, array, label in zip(range(files_num), array_data, label_data):\n",
    "        l = array.shape[0]\n",
    "        i = -1\n",
    "        w = [0] * window\n",
    "        while i < l:\n",
    "            i += 1 \n",
    "            w.pop(0)\n",
    "            w.append(i)\n",
    "            index_window = np.array([index, w[0], i]).astype(int)\n",
    "            X.append(index_window)\n",
    "    X_data = torch.from_numpy(np.array(X).astype(int))\n",
    "    return ClassifierDataset(array_data, label_data, X_data, window)"
   ]
  },
  {
   "cell_type": "code",
   "execution_count": 9,
   "id": "db98fb9e",
   "metadata": {},
   "outputs": [],
   "source": [
    "window_list = [(i) for i in range(1, 31)]"
   ]
  },
  {
   "cell_type": "code",
   "execution_count": 10,
   "id": "d3edb2a5",
   "metadata": {},
   "outputs": [],
   "source": [
    "random.shuffle(window_list)"
   ]
  },
  {
   "cell_type": "code",
   "execution_count": 11,
   "id": "48d5f832",
   "metadata": {},
   "outputs": [],
   "source": [
    "batch_size_list = [4, 8, 16, 32, 64, 128, 256, 512]"
   ]
  },
  {
   "cell_type": "code",
   "execution_count": 12,
   "id": "f589ae42",
   "metadata": {},
   "outputs": [],
   "source": [
    "learning_rate_list = [(random.uniform(0.01, 0.0000001)) for _ in range(0, 60)]"
   ]
  },
  {
   "cell_type": "code",
   "execution_count": 13,
   "id": "dce17d19",
   "metadata": {},
   "outputs": [],
   "source": [
    "layer_list = [1, 2, 3, 4]"
   ]
  },
  {
   "cell_type": "code",
   "execution_count": 14,
   "id": "bbae2009",
   "metadata": {},
   "outputs": [],
   "source": [
    "hidden_list = [(i) for i in range(4, 513)]\n",
    "random.shuffle(hidden_list)"
   ]
  },
  {
   "cell_type": "code",
   "execution_count": 15,
   "id": "ec06b54f",
   "metadata": {},
   "outputs": [],
   "source": [
    "index_name = 16"
   ]
  },
  {
   "cell_type": "code",
   "execution_count": 16,
   "id": "404be4ab",
   "metadata": {
    "id": "404be4ab"
   },
   "outputs": [],
   "source": [
    "EPOCHS = 200\n",
    "window = 23\n",
    "BATCH_SIZE = 512\n",
    "LEARNING_RATE = 0.04\n",
    "NUM_LAYER = 2\n",
    "NUM_HIDDEN = 16\n",
    "NUM_FEATURES = 156\n",
    "NUM_CLASSES = 4\n",
    "model_name = \"\""
   ]
  },
  {
   "cell_type": "code",
   "execution_count": 17,
   "id": "EGVAIQMIS685",
   "metadata": {
    "id": "EGVAIQMIS685"
   },
   "outputs": [],
   "source": [
    "class LSTM(nn.Module):\n",
    "    def __init__(self, input_size, window, output_size, hidden_layer_size, num_layers):\n",
    "        super(LSTM, self).__init__()\n",
    "        self.num_layers = num_layers\n",
    "        self.hidden_size = hidden_layer_size\n",
    "        self.output_size = output_size\n",
    "        self.lstm = nn.LSTM(input_size, hidden_layer_size, num_layers)\n",
    "        self.regressor = nn.Linear(hidden_layer_size, output_size)\n",
    "        #self.bn = nn.BatchNorm1d(window)\n",
    "        \n",
    "    def forward(self, x, hidden=None):\n",
    "        if hidden is not None:\n",
    "            h0 = hidden[0]\n",
    "            c0 = hidden [1]\n",
    "        else:\n",
    "            h0 = torch.zeros(self.num_layers, x.size()[0], self.hidden_size).to(device)\n",
    "            c0 = torch.zeros(self.num_layers, x.size()[0], self.hidden_size).to(device)\n",
    "        e = x.view(x.size(1), x.size(0), x.size(2))\n",
    "        h, hn = self.lstm(e, (h0, c0))\n",
    "        h = h.view(h.size(1), h.size(0), h.size(2))\n",
    "        h = h[:,-1,:]\n",
    "        h = self.regressor(h)\n",
    "        return h, hn"
   ]
  },
  {
   "cell_type": "code",
   "execution_count": 18,
   "id": "78e18779",
   "metadata": {
    "id": "78e18779"
   },
   "outputs": [],
   "source": [
    "device = torch.device('cuda' if torch.cuda.is_available() else 'cpu')"
   ]
  },
  {
   "cell_type": "code",
   "execution_count": 19,
   "id": "1e865bfb",
   "metadata": {},
   "outputs": [],
   "source": [
    "def categoryFromOutput(output):\n",
    "    top_n, top_i = output.topk(1)\n",
    "    category_i = top_i[0].item()\n",
    "    return LABELS[category_i], category_i"
   ]
  },
  {
   "cell_type": "code",
   "execution_count": 20,
   "id": "6beef30c",
   "metadata": {},
   "outputs": [],
   "source": [
    "def accuracy(y_pred, y_true):\n",
    "    return accuracy_score(y_true, y_pred) * 100"
   ]
  },
  {
   "cell_type": "code",
   "execution_count": 21,
   "id": "167ce754",
   "metadata": {},
   "outputs": [],
   "source": [
    "def f1_s(y_pred, y_true):\n",
    "    return f1_score(y_true, y_pred, average=None, zero_division=1, labels=[0,1,2,3])"
   ]
  },
  {
   "cell_type": "code",
   "execution_count": null,
   "id": "7abd183c",
   "metadata": {},
   "outputs": [
    {
     "name": "stdout",
     "output_type": "stream",
     "text": [
      "\n",
      "\n",
      "REPORT:\n",
      "WINDOW: 12\n",
      "BATCH_SIZE: 16\n",
      "LEARNING_RATE: 0.007808660957658549\n",
      "NUM_LAYER: 1\n",
      "NUM_HIDDEN: 395\n",
      "MODEL_NAME: 16mymodel.pt\n",
      "Begin training:  16\n"
     ]
    },
    {
     "data": {
      "application/vnd.jupyter.widget-view+json": {
       "model_id": "976ca507b7e842a1b9f84c152c683717",
       "version_major": 2,
       "version_minor": 0
      },
      "text/plain": [
       "  0%|          | 0/200 [00:00<?, ?it/s]"
      ]
     },
     "metadata": {},
     "output_type": "display_data"
    },
    {
     "name": "stdout",
     "output_type": "stream",
     "text": [
      "Done:  16\n",
      "Accuracy:  60.7413647851727\n",
      "F1 - No_action:  0.8784621744522529\n",
      "F1 - Prendi:  0.4018126888217522\n",
      "F1 - Rilascia:  0.40249249942303256\n",
      "F1 - Premi:  0.45399254463409844\n",
      "\n",
      "\n",
      "REPORT:\n",
      "WINDOW: 11\n",
      "BATCH_SIZE: 128\n",
      "LEARNING_RATE: 0.008660302628860384\n",
      "NUM_LAYER: 3\n",
      "NUM_HIDDEN: 391\n",
      "MODEL_NAME: 17mymodel.pt\n",
      "Begin training:  17\n"
     ]
    },
    {
     "data": {
      "application/vnd.jupyter.widget-view+json": {
       "model_id": "87b5bc978ce74922b121d5153fb15827",
       "version_major": 2,
       "version_minor": 0
      },
      "text/plain": [
       "  0%|          | 0/200 [00:00<?, ?it/s]"
      ]
     },
     "metadata": {},
     "output_type": "display_data"
    },
    {
     "name": "stdout",
     "output_type": "stream",
     "text": [
      "Done:  17\n",
      "Accuracy:  53.091828138163436\n",
      "F1 - No_action:  0.8352206169465053\n",
      "F1 - Prendi:  0.44952803997779006\n",
      "F1 - Rilascia:  0.0\n",
      "F1 - Premi:  0.0\n",
      "\n",
      "\n",
      "REPORT:\n",
      "WINDOW: 7\n",
      "BATCH_SIZE: 16\n",
      "LEARNING_RATE: 0.007234481004054133\n",
      "NUM_LAYER: 3\n",
      "NUM_HIDDEN: 90\n",
      "MODEL_NAME: 18mymodel.pt\n",
      "Begin training:  18\n"
     ]
    },
    {
     "data": {
      "application/vnd.jupyter.widget-view+json": {
       "model_id": "5b9a744ef631433fb290d6d0b22d6e4d",
       "version_major": 2,
       "version_minor": 0
      },
      "text/plain": [
       "  0%|          | 0/200 [00:00<?, ?it/s]"
      ]
     },
     "metadata": {},
     "output_type": "display_data"
    },
    {
     "name": "stdout",
     "output_type": "stream",
     "text": [
      "Done:  18\n",
      "Accuracy:  60.80033698399326\n",
      "F1 - No_action:  0.8791857506361322\n",
      "F1 - Prendi:  0.423034734917733\n",
      "F1 - Rilascia:  0.3638122883405902\n",
      "F1 - Premi:  0.4588262584087219\n",
      "\n",
      "\n",
      "REPORT:\n",
      "WINDOW: 28\n",
      "BATCH_SIZE: 4\n",
      "LEARNING_RATE: 0.0012820377693099367\n",
      "NUM_LAYER: 1\n",
      "NUM_HIDDEN: 117\n",
      "MODEL_NAME: 19mymodel.pt\n",
      "Begin training:  19\n"
     ]
    },
    {
     "data": {
      "application/vnd.jupyter.widget-view+json": {
       "model_id": "c4a369b79e2845b0bdd34bbbea62c58c",
       "version_major": 2,
       "version_minor": 0
      },
      "text/plain": [
       "  0%|          | 0/200 [00:00<?, ?it/s]"
      ]
     },
     "metadata": {},
     "output_type": "display_data"
    },
    {
     "name": "stdout",
     "output_type": "stream",
     "text": [
      "Done:  19\n",
      "Accuracy:  59.62089300758214\n",
      "F1 - No_action:  0.8499194198227237\n",
      "F1 - Prendi:  0.419079358466986\n",
      "F1 - Rilascia:  0.3840760009047726\n",
      "F1 - Premi:  0.43703703703703706\n",
      "\n",
      "\n",
      "REPORT:\n",
      "WINDOW: 21\n",
      "BATCH_SIZE: 8\n",
      "LEARNING_RATE: 0.007768942989280875\n",
      "NUM_LAYER: 1\n",
      "NUM_HIDDEN: 205\n",
      "MODEL_NAME: 20mymodel.pt\n",
      "Begin training:  20\n"
     ]
    },
    {
     "data": {
      "application/vnd.jupyter.widget-view+json": {
       "model_id": "2dc0088745e540f58fff449da6b15d48",
       "version_major": 2,
       "version_minor": 0
      },
      "text/plain": [
       "  0%|          | 0/200 [00:00<?, ?it/s]"
      ]
     },
     "metadata": {},
     "output_type": "display_data"
    },
    {
     "name": "stdout",
     "output_type": "stream",
     "text": [
      "Done:  20\n",
      "Accuracy:  59.5787700084246\n",
      "F1 - No_action:  0.8435387874508222\n",
      "F1 - Prendi:  0.4420505200594354\n",
      "F1 - Rilascia:  0.36689460033011084\n",
      "F1 - Premi:  0.4393146120894812\n",
      "\n",
      "\n",
      "REPORT:\n",
      "WINDOW: 12\n",
      "BATCH_SIZE: 16\n",
      "LEARNING_RATE: 0.00816369841981891\n",
      "NUM_LAYER: 1\n",
      "NUM_HIDDEN: 325\n",
      "MODEL_NAME: 21mymodel.pt\n",
      "Begin training:  21\n"
     ]
    },
    {
     "data": {
      "application/vnd.jupyter.widget-view+json": {
       "model_id": "30c2d07cf3364dc583cf6f506fcd5fe9",
       "version_major": 2,
       "version_minor": 0
      },
      "text/plain": [
       "  0%|          | 0/200 [00:00<?, ?it/s]"
      ]
     },
     "metadata": {},
     "output_type": "display_data"
    },
    {
     "name": "stdout",
     "output_type": "stream",
     "text": [
      "Done:  21\n",
      "Accuracy:  62.80539174389217\n",
      "F1 - No_action:  0.8798923172499482\n",
      "F1 - Prendi:  0.45894894333270997\n",
      "F1 - Rilascia:  0.4382294648755781\n",
      "F1 - Premi:  0.469241773962804\n",
      "\n",
      "\n",
      "REPORT:\n",
      "WINDOW: 7\n",
      "BATCH_SIZE: 32\n",
      "LEARNING_RATE: 0.007808660957658549\n",
      "NUM_LAYER: 3\n",
      "NUM_HIDDEN: 401\n",
      "MODEL_NAME: 22mymodel.pt\n",
      "Begin training:  22\n"
     ]
    },
    {
     "data": {
      "application/vnd.jupyter.widget-view+json": {
       "model_id": "aac64b31204b4aab953a966c81aeed05",
       "version_major": 2,
       "version_minor": 0
      },
      "text/plain": [
       "  0%|          | 0/200 [00:00<?, ?it/s]"
      ]
     },
     "metadata": {},
     "output_type": "display_data"
    },
    {
     "name": "stdout",
     "output_type": "stream",
     "text": [
      "Done:  22\n",
      "Accuracy:  59.612468407750626\n",
      "F1 - No_action:  0.8843341229786796\n",
      "F1 - Prendi:  0.4766308422894276\n",
      "F1 - Rilascia:  0.06658546488022737\n",
      "F1 - Premi:  0.4453168816601234\n",
      "\n",
      "\n",
      "REPORT:\n",
      "WINDOW: 6\n",
      "BATCH_SIZE: 8\n",
      "LEARNING_RATE: 0.006924520542170312\n",
      "NUM_LAYER: 3\n",
      "NUM_HIDDEN: 184\n",
      "MODEL_NAME: 23mymodel.pt\n",
      "Begin training:  23\n"
     ]
    },
    {
     "data": {
      "application/vnd.jupyter.widget-view+json": {
       "model_id": "9627bb4c252f4dfc8cf8532176d52957",
       "version_major": 2,
       "version_minor": 0
      },
      "text/plain": [
       "  0%|          | 0/200 [00:00<?, ?it/s]"
      ]
     },
     "metadata": {},
     "output_type": "display_data"
    },
    {
     "name": "stdout",
     "output_type": "stream",
     "text": [
      "Done:  23\n",
      "Accuracy:  64.76832350463353\n",
      "F1 - No_action:  0.8837777325463056\n",
      "F1 - Prendi:  0.4317727978699801\n",
      "F1 - Rilascia:  0.5165852837177977\n",
      "F1 - Premi:  0.48385236447520186\n",
      "\n",
      "\n",
      "REPORT:\n",
      "WINDOW: 19\n",
      "BATCH_SIZE: 32\n",
      "LEARNING_RATE: 0.007960361847135711\n",
      "NUM_LAYER: 4\n",
      "NUM_HIDDEN: 79\n",
      "MODEL_NAME: 24mymodel.pt\n",
      "Begin training:  24\n"
     ]
    },
    {
     "data": {
      "application/vnd.jupyter.widget-view+json": {
       "model_id": "029fcd2ff198406b9ae46f731a98b2a3",
       "version_major": 2,
       "version_minor": 0
      },
      "text/plain": [
       "  0%|          | 0/200 [00:00<?, ?it/s]"
      ]
     },
     "metadata": {},
     "output_type": "display_data"
    },
    {
     "name": "stdout",
     "output_type": "stream",
     "text": [
      "Done:  24\n",
      "Accuracy:  52.190395956192084\n",
      "F1 - No_action:  0.7997793712079427\n",
      "F1 - Prendi:  0.4408075498745669\n",
      "F1 - Rilascia:  0.0\n",
      "F1 - Premi:  0.0\n",
      "\n",
      "\n",
      "REPORT:\n",
      "WINDOW: 24\n",
      "BATCH_SIZE: 8\n",
      "LEARNING_RATE: 0.006924520542170312\n",
      "NUM_LAYER: 2\n",
      "NUM_HIDDEN: 118\n",
      "MODEL_NAME: 25mymodel.pt\n",
      "Begin training:  25\n"
     ]
    },
    {
     "data": {
      "application/vnd.jupyter.widget-view+json": {
       "model_id": "7cf3dd8d09f246fcbfc9d0950f8e9a7d",
       "version_major": 2,
       "version_minor": 0
      },
      "text/plain": [
       "  0%|          | 0/200 [00:00<?, ?it/s]"
      ]
     },
     "metadata": {},
     "output_type": "display_data"
    },
    {
     "name": "stdout",
     "output_type": "stream",
     "text": [
      "Done:  25\n",
      "Accuracy:  59.0480202190396\n",
      "F1 - No_action:  0.8467417538213998\n",
      "F1 - Prendi:  0.39768267613530184\n",
      "F1 - Rilascia:  0.38896306186025814\n",
      "F1 - Premi:  0.43583902809415337\n",
      "\n",
      "\n",
      "REPORT:\n",
      "WINDOW: 12\n",
      "BATCH_SIZE: 128\n",
      "LEARNING_RATE: 0.0014892496404866114\n",
      "NUM_LAYER: 2\n",
      "NUM_HIDDEN: 333\n",
      "MODEL_NAME: 26mymodel.pt\n",
      "Begin training:  26\n"
     ]
    },
    {
     "data": {
      "application/vnd.jupyter.widget-view+json": {
       "model_id": "20ecdb2ac51c4f1aae3800289b7e16e1",
       "version_major": 2,
       "version_minor": 0
      },
      "text/plain": [
       "  0%|          | 0/200 [00:00<?, ?it/s]"
      ]
     },
     "metadata": {},
     "output_type": "display_data"
    },
    {
     "name": "stdout",
     "output_type": "stream",
     "text": [
      "Done:  26\n",
      "Accuracy:  52.66217354675653\n",
      "F1 - No_action:  0.8039038496294958\n",
      "F1 - Prendi:  0.43831287224990884\n",
      "F1 - Rilascia:  0.0\n",
      "F1 - Premi:  0.0\n",
      "\n",
      "\n",
      "REPORT:\n",
      "WINDOW: 23\n",
      "BATCH_SIZE: 32\n",
      "LEARNING_RATE: 0.004092922325808005\n",
      "NUM_LAYER: 1\n",
      "NUM_HIDDEN: 139\n",
      "MODEL_NAME: 27mymodel.pt\n",
      "Begin training:  27\n"
     ]
    },
    {
     "data": {
      "application/vnd.jupyter.widget-view+json": {
       "model_id": "38eaf10b885f4b639eb14fdc42dc7429",
       "version_major": 2,
       "version_minor": 0
      },
      "text/plain": [
       "  0%|          | 0/200 [00:00<?, ?it/s]"
      ]
     },
     "metadata": {},
     "output_type": "display_data"
    },
    {
     "name": "stdout",
     "output_type": "stream",
     "text": [
      "Done:  27\n",
      "Accuracy:  57.2620050547599\n",
      "F1 - No_action:  0.8331337325349302\n",
      "F1 - Prendi:  0.49095906263561406\n",
      "F1 - Rilascia:  0.1335095836087244\n",
      "F1 - Premi:  0.3829674689235652\n",
      "\n",
      "\n",
      "REPORT:\n",
      "WINDOW: 20\n",
      "BATCH_SIZE: 256\n",
      "LEARNING_RATE: 0.008065832608212479\n",
      "NUM_LAYER: 1\n",
      "NUM_HIDDEN: 482\n",
      "MODEL_NAME: 28mymodel.pt\n",
      "Begin training:  28\n"
     ]
    },
    {
     "data": {
      "application/vnd.jupyter.widget-view+json": {
       "model_id": "49992f4f823a4d9daf154af186110e66",
       "version_major": 2,
       "version_minor": 0
      },
      "text/plain": [
       "  0%|          | 0/200 [00:00<?, ?it/s]"
      ]
     },
     "metadata": {},
     "output_type": "display_data"
    },
    {
     "name": "stdout",
     "output_type": "stream",
     "text": [
      "Done:  28\n",
      "Accuracy:  53.29401853411962\n",
      "F1 - No_action:  0.8077598152424942\n",
      "F1 - Prendi:  0.35527082119976705\n",
      "F1 - Rilascia:  0.11144081767227167\n",
      "F1 - Premi:  0.36778693722257444\n",
      "\n",
      "\n",
      "REPORT:\n",
      "WINDOW: 14\n",
      "BATCH_SIZE: 8\n",
      "LEARNING_RATE: 0.009931351693014925\n",
      "NUM_LAYER: 3\n",
      "NUM_HIDDEN: 356\n",
      "MODEL_NAME: 29mymodel.pt\n",
      "Begin training:  29\n"
     ]
    },
    {
     "data": {
      "application/vnd.jupyter.widget-view+json": {
       "model_id": "c9b4eb1c58d449f0a0b0548f8c277176",
       "version_major": 2,
       "version_minor": 0
      },
      "text/plain": [
       "  0%|          | 0/200 [00:00<?, ?it/s]"
      ]
     },
     "metadata": {},
     "output_type": "display_data"
    },
    {
     "name": "stdout",
     "output_type": "stream",
     "text": [
      "Done:  29\n",
      "Accuracy:  63.72367312552654\n",
      "F1 - No_action:  0.8783592644978783\n",
      "F1 - Prendi:  0.43668865716109806\n",
      "F1 - Rilascia:  0.45458167330677296\n",
      "F1 - Premi:  0.5093378607809848\n",
      "\n",
      "\n",
      "REPORT:\n",
      "WINDOW: 10\n",
      "BATCH_SIZE: 64\n",
      "LEARNING_RATE: 0.0014892496404866114\n",
      "NUM_LAYER: 3\n",
      "NUM_HIDDEN: 296\n",
      "MODEL_NAME: 30mymodel.pt\n",
      "Begin training:  30\n"
     ]
    },
    {
     "data": {
      "application/vnd.jupyter.widget-view+json": {
       "model_id": "0a0c4a3fbecd4004af4a7e12a623da29",
       "version_major": 2,
       "version_minor": 0
      },
      "text/plain": [
       "  0%|          | 0/200 [00:00<?, ?it/s]"
      ]
     },
     "metadata": {},
     "output_type": "display_data"
    },
    {
     "name": "stdout",
     "output_type": "stream",
     "text": [
      "Done:  30\n",
      "Accuracy:  51.65964616680707\n",
      "F1 - No_action:  0.75391462007582\n",
      "F1 - Prendi:  0.435195530726257\n",
      "F1 - Rilascia:  0.0\n",
      "F1 - Premi:  0.0\n",
      "\n",
      "\n",
      "REPORT:\n",
      "WINDOW: 14\n",
      "BATCH_SIZE: 128\n",
      "LEARNING_RATE: 0.005192013815429422\n",
      "NUM_LAYER: 1\n",
      "NUM_HIDDEN: 189\n",
      "MODEL_NAME: 31mymodel.pt\n",
      "Begin training:  31\n"
     ]
    },
    {
     "data": {
      "application/vnd.jupyter.widget-view+json": {
       "model_id": "e45b5cb59ac14359858ae41db23eab26",
       "version_major": 2,
       "version_minor": 0
      },
      "text/plain": [
       "  0%|          | 0/200 [00:00<?, ?it/s]"
      ]
     },
     "metadata": {},
     "output_type": "display_data"
    },
    {
     "name": "stdout",
     "output_type": "stream",
     "text": [
      "Done:  31\n",
      "Accuracy:  58.1044650379107\n",
      "F1 - No_action:  0.8448072383949645\n",
      "F1 - Prendi:  0.47638411010322185\n",
      "F1 - Rilascia:  0.15404785316289743\n",
      "F1 - Premi:  0.4090138114853405\n",
      "\n",
      "\n",
      "REPORT:\n",
      "WINDOW: 22\n",
      "BATCH_SIZE: 4\n",
      "LEARNING_RATE: 0.004218050180969985\n",
      "NUM_LAYER: 1\n",
      "NUM_HIDDEN: 354\n",
      "MODEL_NAME: 32mymodel.pt\n",
      "Begin training:  32\n"
     ]
    },
    {
     "data": {
      "application/vnd.jupyter.widget-view+json": {
       "model_id": "6045e9a23954463fad7805f0bd649419",
       "version_major": 2,
       "version_minor": 0
      },
      "text/plain": [
       "  0%|          | 0/200 [00:00<?, ?it/s]"
      ]
     },
     "metadata": {},
     "output_type": "display_data"
    },
    {
     "name": "stdout",
     "output_type": "stream",
     "text": [
      "Done:  32\n",
      "Accuracy:  60.45492839090143\n",
      "F1 - No_action:  0.8628089087765687\n",
      "F1 - Prendi:  0.4273032156243835\n",
      "F1 - Rilascia:  0.39369756496828323\n",
      "F1 - Premi:  0.4500126550240446\n",
      "\n",
      "\n",
      "REPORT:\n",
      "WINDOW: 26\n",
      "BATCH_SIZE: 128\n",
      "LEARNING_RATE: 0.007560923168723211\n",
      "NUM_LAYER: 2\n",
      "NUM_HIDDEN: 98\n",
      "MODEL_NAME: 33mymodel.pt\n",
      "Begin training:  33\n"
     ]
    },
    {
     "data": {
      "application/vnd.jupyter.widget-view+json": {
       "model_id": "d239d7ea1af3492eb3d8d98387e19c8d",
       "version_major": 2,
       "version_minor": 0
      },
      "text/plain": [
       "  0%|          | 0/200 [00:00<?, ?it/s]"
      ]
     },
     "metadata": {},
     "output_type": "display_data"
    },
    {
     "name": "stdout",
     "output_type": "stream",
     "text": [
      "Done:  33\n",
      "Accuracy:  50.918281381634365\n",
      "F1 - No_action:  0.7976878612716763\n",
      "F1 - Prendi:  0.35437397890984706\n",
      "F1 - Rilascia:  0.0\n",
      "F1 - Premi:  0.28150331613854085\n",
      "\n",
      "\n",
      "REPORT:\n",
      "WINDOW: 26\n",
      "BATCH_SIZE: 64\n",
      "LEARNING_RATE: 0.007808660957658549\n",
      "NUM_LAYER: 2\n",
      "NUM_HIDDEN: 23\n",
      "MODEL_NAME: 34mymodel.pt\n",
      "Begin training:  34\n"
     ]
    },
    {
     "data": {
      "application/vnd.jupyter.widget-view+json": {
       "model_id": "43afdc9439704b45a868e0af7f7884ff",
       "version_major": 2,
       "version_minor": 0
      },
      "text/plain": [
       "  0%|          | 0/200 [00:00<?, ?it/s]"
      ]
     },
     "metadata": {},
     "output_type": "display_data"
    },
    {
     "name": "stdout",
     "output_type": "stream",
     "text": [
      "Done:  34\n",
      "Accuracy:  52.7379949452401\n",
      "F1 - No_action:  0.8117589416952474\n",
      "F1 - Prendi:  0.2922885572139304\n",
      "F1 - Rilascia:  0.3056511056511057\n",
      "F1 - Premi:  0.3408748114630467\n",
      "\n",
      "\n",
      "REPORT:\n",
      "WINDOW: 4\n",
      "BATCH_SIZE: 8\n",
      "LEARNING_RATE: 0.005012307751553402\n",
      "NUM_LAYER: 4\n",
      "NUM_HIDDEN: 461\n",
      "MODEL_NAME: 35mymodel.pt\n",
      "Begin training:  35\n"
     ]
    },
    {
     "data": {
      "application/vnd.jupyter.widget-view+json": {
       "model_id": "06061d6245264ab4b2d87fee1a87c557",
       "version_major": 2,
       "version_minor": 0
      },
      "text/plain": [
       "  0%|          | 0/200 [00:00<?, ?it/s]"
      ]
     },
     "metadata": {},
     "output_type": "display_data"
    },
    {
     "name": "stdout",
     "output_type": "stream",
     "text": [
      "Done:  35\n",
      "Accuracy:  63.57203032855939\n",
      "F1 - No_action:  0.8967082860385925\n",
      "F1 - Prendi:  0.47684971542839566\n",
      "F1 - Rilascia:  0.3487442922374429\n",
      "F1 - Premi:  0.5143422354104847\n",
      "\n",
      "\n",
      "REPORT:\n",
      "WINDOW: 18\n",
      "BATCH_SIZE: 512\n",
      "LEARNING_RATE: 0.005192013815429422\n",
      "NUM_LAYER: 4\n",
      "NUM_HIDDEN: 481\n",
      "MODEL_NAME: 36mymodel.pt\n",
      "Begin training:  36\n"
     ]
    },
    {
     "data": {
      "application/vnd.jupyter.widget-view+json": {
       "model_id": "18acd166bcb24035aaf529d1fecd7d2d",
       "version_major": 2,
       "version_minor": 0
      },
      "text/plain": [
       "  0%|          | 0/200 [00:00<?, ?it/s]"
      ]
     },
     "metadata": {},
     "output_type": "display_data"
    },
    {
     "name": "stdout",
     "output_type": "stream",
     "text": [
      "Done:  36\n",
      "Accuracy:  42.39258635214827\n",
      "F1 - No_action:  0.5954324931960715\n",
      "F1 - Prendi:  0.0\n",
      "F1 - Rilascia:  0.0\n",
      "F1 - Premi:  0.0\n",
      "\n",
      "\n",
      "REPORT:\n",
      "WINDOW: 17\n",
      "BATCH_SIZE: 64\n",
      "LEARNING_RATE: 0.009931351693014925\n",
      "NUM_LAYER: 4\n",
      "NUM_HIDDEN: 249\n",
      "MODEL_NAME: 37mymodel.pt\n",
      "Begin training:  37\n"
     ]
    },
    {
     "data": {
      "application/vnd.jupyter.widget-view+json": {
       "model_id": "01131b47e4f8487a90d04cba3a6263c2",
       "version_major": 2,
       "version_minor": 0
      },
      "text/plain": [
       "  0%|          | 0/200 [00:00<?, ?it/s]"
      ]
     },
     "metadata": {},
     "output_type": "display_data"
    },
    {
     "name": "stdout",
     "output_type": "stream",
     "text": [
      "Done:  37\n",
      "Accuracy:  42.04717775905644\n",
      "F1 - No_action:  0.5920170808374354\n",
      "F1 - Prendi:  0.0\n",
      "F1 - Rilascia:  0.0\n",
      "F1 - Premi:  0.0\n",
      "\n",
      "\n",
      "REPORT:\n",
      "WINDOW: 24\n",
      "BATCH_SIZE: 256\n",
      "LEARNING_RATE: 0.0017655282285619321\n",
      "NUM_LAYER: 1\n",
      "NUM_HIDDEN: 203\n",
      "MODEL_NAME: 38mymodel.pt\n",
      "Begin training:  38\n"
     ]
    },
    {
     "data": {
      "application/vnd.jupyter.widget-view+json": {
       "model_id": "52380d53c1c74cdf85f49fbb3c440f30",
       "version_major": 2,
       "version_minor": 0
      },
      "text/plain": [
       "  0%|          | 0/200 [00:00<?, ?it/s]"
      ]
     },
     "metadata": {},
     "output_type": "display_data"
    },
    {
     "name": "stdout",
     "output_type": "stream",
     "text": [
      "Done:  38\n",
      "Accuracy:  51.94608256107834\n",
      "F1 - No_action:  0.7770555165144063\n",
      "F1 - Prendi:  0.4175546831183399\n",
      "F1 - Rilascia:  0.17035546613011404\n",
      "F1 - Premi:  0.0\n",
      "\n",
      "\n",
      "REPORT:\n",
      "WINDOW: 14\n",
      "BATCH_SIZE: 16\n",
      "LEARNING_RATE: 0.0012820377693099367\n",
      "NUM_LAYER: 2\n",
      "NUM_HIDDEN: 177\n",
      "MODEL_NAME: 39mymodel.pt\n",
      "Begin training:  39\n"
     ]
    },
    {
     "data": {
      "application/vnd.jupyter.widget-view+json": {
       "model_id": "f50252b855af4888a33a10f4e84637cc",
       "version_major": 2,
       "version_minor": 0
      },
      "text/plain": [
       "  0%|          | 0/200 [00:00<?, ?it/s]"
      ]
     },
     "metadata": {},
     "output_type": "display_data"
    },
    {
     "name": "stdout",
     "output_type": "stream",
     "text": [
      "Done:  39\n",
      "Accuracy:  57.00926705981466\n",
      "F1 - No_action:  0.8572860292643816\n",
      "F1 - Prendi:  0.462968024050287\n",
      "F1 - Rilascia:  0.11743515850144093\n",
      "F1 - Premi:  0.3451472191930207\n",
      "\n",
      "\n",
      "REPORT:\n",
      "WINDOW: 5\n",
      "BATCH_SIZE: 4\n",
      "LEARNING_RATE: 0.00016722433836876237\n",
      "NUM_LAYER: 2\n",
      "NUM_HIDDEN: 65\n",
      "MODEL_NAME: 40mymodel.pt\n",
      "Begin training:  40\n"
     ]
    },
    {
     "data": {
      "application/vnd.jupyter.widget-view+json": {
       "model_id": "befa49d59bc84b789e6df02c4a301179",
       "version_major": 2,
       "version_minor": 0
      },
      "text/plain": [
       "  0%|          | 0/200 [00:00<?, ?it/s]"
      ]
     },
     "metadata": {},
     "output_type": "display_data"
    },
    {
     "name": "stdout",
     "output_type": "stream",
     "text": [
      "Done:  40\n",
      "Accuracy:  62.737994945240104\n",
      "F1 - No_action:  0.8910529519172247\n",
      "F1 - Prendi:  0.4882370913534983\n",
      "F1 - Rilascia:  0.33182423435419445\n",
      "F1 - Premi:  0.4657916783021503\n",
      "\n",
      "\n",
      "REPORT:\n",
      "WINDOW: 12\n",
      "BATCH_SIZE: 32\n",
      "LEARNING_RATE: 0.0017655282285619321\n",
      "NUM_LAYER: 1\n",
      "NUM_HIDDEN: 435\n",
      "MODEL_NAME: 41mymodel.pt\n",
      "Begin training:  41\n"
     ]
    },
    {
     "data": {
      "application/vnd.jupyter.widget-view+json": {
       "model_id": "ee878564192a438389ff62bca2c2767a",
       "version_major": 2,
       "version_minor": 0
      },
      "text/plain": [
       "  0%|          | 0/200 [00:00<?, ?it/s]"
      ]
     },
     "metadata": {},
     "output_type": "display_data"
    },
    {
     "name": "stdout",
     "output_type": "stream",
     "text": [
      "Done:  41\n",
      "Accuracy:  57.86857624262848\n",
      "F1 - No_action:  0.8552499498092753\n",
      "F1 - Prendi:  0.4828173814257313\n",
      "F1 - Rilascia:  0.11308677098150782\n",
      "F1 - Premi:  0.382262996941896\n",
      "\n",
      "\n",
      "REPORT:\n",
      "WINDOW: 5\n",
      "BATCH_SIZE: 16\n",
      "LEARNING_RATE: 0.009931351693014925\n",
      "NUM_LAYER: 2\n",
      "NUM_HIDDEN: 192\n",
      "MODEL_NAME: 42mymodel.pt\n",
      "Begin training:  42\n"
     ]
    },
    {
     "data": {
      "application/vnd.jupyter.widget-view+json": {
       "model_id": "802a92bce94f4bf0bb7404446195231f",
       "version_major": 2,
       "version_minor": 0
      },
      "text/plain": [
       "  0%|          | 0/200 [00:00<?, ?it/s]"
      ]
     },
     "metadata": {},
     "output_type": "display_data"
    },
    {
     "name": "stdout",
     "output_type": "stream",
     "text": [
      "Done:  42\n",
      "Accuracy:  65.58550968828982\n",
      "F1 - No_action:  0.9063121532502879\n",
      "F1 - Prendi:  0.4927994380049175\n",
      "F1 - Rilascia:  0.42752918287937747\n",
      "F1 - Premi:  0.5359506961880849\n",
      "\n",
      "\n",
      "REPORT:\n",
      "WINDOW: 9\n",
      "BATCH_SIZE: 8\n",
      "LEARNING_RATE: 0.007960361847135711\n",
      "NUM_LAYER: 1\n",
      "NUM_HIDDEN: 248\n",
      "MODEL_NAME: 43mymodel.pt\n",
      "Begin training:  43\n"
     ]
    },
    {
     "data": {
      "application/vnd.jupyter.widget-view+json": {
       "model_id": "b3dd2e17f6fb4cb4b54feba4171ccf50",
       "version_major": 2,
       "version_minor": 0
      },
      "text/plain": [
       "  0%|          | 0/200 [00:00<?, ?it/s]"
      ]
     },
     "metadata": {},
     "output_type": "display_data"
    },
    {
     "name": "stdout",
     "output_type": "stream",
     "text": [
      "Done:  43\n",
      "Accuracy:  63.496208930075824\n",
      "F1 - No_action:  0.8772034066151713\n",
      "F1 - Prendi:  0.48011465424579\n",
      "F1 - Rilascia:  0.3888470233609646\n",
      "F1 - Premi:  0.4873743564599166\n",
      "\n",
      "\n",
      "REPORT:\n",
      "WINDOW: 10\n",
      "BATCH_SIZE: 512\n",
      "LEARNING_RATE: 0.008065832608212479\n",
      "NUM_LAYER: 2\n",
      "NUM_HIDDEN: 215\n",
      "MODEL_NAME: 44mymodel.pt\n",
      "Begin training:  44\n"
     ]
    },
    {
     "data": {
      "application/vnd.jupyter.widget-view+json": {
       "model_id": "2291029119f640139f032016973f6f93",
       "version_major": 2,
       "version_minor": 0
      },
      "text/plain": [
       "  0%|          | 0/200 [00:00<?, ?it/s]"
      ]
     },
     "metadata": {},
     "output_type": "display_data"
    },
    {
     "name": "stdout",
     "output_type": "stream",
     "text": [
      "Done:  44\n",
      "Accuracy:  53.68155012636899\n",
      "F1 - No_action:  0.8350525220024604\n",
      "F1 - Prendi:  0.4491807035636531\n",
      "F1 - Rilascia:  0.0\n",
      "F1 - Premi:  0.0\n",
      "\n",
      "\n",
      "REPORT:\n",
      "WINDOW: 1\n",
      "BATCH_SIZE: 64\n",
      "LEARNING_RATE: 0.00615174469115818\n",
      "NUM_LAYER: 4\n",
      "NUM_HIDDEN: 202\n",
      "MODEL_NAME: 45mymodel.pt\n",
      "Begin training:  45\n"
     ]
    },
    {
     "data": {
      "application/vnd.jupyter.widget-view+json": {
       "model_id": "a3f3ed1eaaf24ca5af7ceed6ea2fb0f5",
       "version_major": 2,
       "version_minor": 0
      },
      "text/plain": [
       "  0%|          | 0/200 [00:00<?, ?it/s]"
      ]
     },
     "metadata": {},
     "output_type": "display_data"
    },
    {
     "name": "stdout",
     "output_type": "stream",
     "text": [
      "Done:  45\n",
      "Error.\n",
      "\n",
      "\n",
      "REPORT:\n",
      "WINDOW: 16\n",
      "BATCH_SIZE: 128\n",
      "LEARNING_RATE: 0.007808660957658549\n",
      "NUM_LAYER: 3\n",
      "NUM_HIDDEN: 366\n",
      "MODEL_NAME: 45mymodel.pt\n",
      "Begin training:  45\n"
     ]
    },
    {
     "data": {
      "application/vnd.jupyter.widget-view+json": {
       "model_id": "0f7514692a84411a94954f0d31c10605",
       "version_major": 2,
       "version_minor": 0
      },
      "text/plain": [
       "  0%|          | 0/200 [00:00<?, ?it/s]"
      ]
     },
     "metadata": {},
     "output_type": "display_data"
    },
    {
     "name": "stdout",
     "output_type": "stream",
     "text": [
      "Done:  45\n",
      "Accuracy:  52.65374894692501\n",
      "F1 - No_action:  0.8237067747102611\n",
      "F1 - Prendi:  0.43469198703103296\n",
      "F1 - Rilascia:  0.0017706949977866313\n",
      "F1 - Premi:  0.0\n",
      "\n",
      "\n",
      "REPORT:\n",
      "WINDOW: 2\n",
      "BATCH_SIZE: 16\n",
      "LEARNING_RATE: 0.0017655282285619321\n",
      "NUM_LAYER: 4\n",
      "NUM_HIDDEN: 4\n",
      "MODEL_NAME: 46mymodel.pt\n",
      "Begin training:  46\n"
     ]
    },
    {
     "data": {
      "application/vnd.jupyter.widget-view+json": {
       "model_id": "d0a375fa562e4afc8e2438ac9a73ba09",
       "version_major": 2,
       "version_minor": 0
      },
      "text/plain": [
       "  0%|          | 0/200 [00:00<?, ?it/s]"
      ]
     },
     "metadata": {},
     "output_type": "display_data"
    },
    {
     "name": "stdout",
     "output_type": "stream",
     "text": [
      "Error.\n",
      "\n",
      "\n",
      "REPORT:\n",
      "WINDOW: 24\n",
      "BATCH_SIZE: 64\n",
      "LEARNING_RATE: 0.004829401118036806\n",
      "NUM_LAYER: 3\n",
      "NUM_HIDDEN: 321\n",
      "MODEL_NAME: 46mymodel.pt\n",
      "Begin training:  46\n"
     ]
    },
    {
     "data": {
      "application/vnd.jupyter.widget-view+json": {
       "model_id": "945b9c6cc98f412f88d2e102f778fafa",
       "version_major": 2,
       "version_minor": 0
      },
      "text/plain": [
       "  0%|          | 0/200 [00:00<?, ?it/s]"
      ]
     },
     "metadata": {},
     "output_type": "display_data"
    },
    {
     "name": "stdout",
     "output_type": "stream",
     "text": [
      "Done:  46\n",
      "Accuracy:  50.488626790227464\n",
      "F1 - No_action:  0.756692037971436\n",
      "F1 - Prendi:  0.4131665569453588\n",
      "F1 - Rilascia:  0.0\n",
      "F1 - Premi:  0.0\n",
      "\n",
      "\n",
      "REPORT:\n",
      "WINDOW: 13\n",
      "BATCH_SIZE: 128\n",
      "LEARNING_RATE: 0.0021384036546737324\n",
      "NUM_LAYER: 2\n",
      "NUM_HIDDEN: 154\n",
      "MODEL_NAME: 47mymodel.pt\n",
      "Begin training:  47\n"
     ]
    },
    {
     "data": {
      "application/vnd.jupyter.widget-view+json": {
       "model_id": "33719963812b461199b805c1ddcd40c8",
       "version_major": 2,
       "version_minor": 0
      },
      "text/plain": [
       "  0%|          | 0/200 [00:00<?, ?it/s]"
      ]
     },
     "metadata": {},
     "output_type": "display_data"
    }
   ],
   "source": [
    "while True:\n",
    "    window = random.choice(window_list)\n",
    "    BATCH_SIZE = random.choice(batch_size_list)\n",
    "    LEARNING_RATE = random.choice(learning_rate_list)\n",
    "    NUM_LAYER = random.choice(layer_list)\n",
    "    NUM_HIDDEN = random.choice(hidden_list)\n",
    "    model_name = str(index_name) + \"mymodel.pt\"\n",
    "    print(\"\\n\\nREPORT:\")\n",
    "    print(\"WINDOW:\", window)\n",
    "    print(\"BATCH_SIZE:\", BATCH_SIZE)\n",
    "    print(\"LEARNING_RATE:\", LEARNING_RATE)\n",
    "    print(\"NUM_LAYER:\", NUM_LAYER)\n",
    "    print(\"NUM_HIDDEN:\", NUM_HIDDEN)\n",
    "    print(\"MODEL_NAME:\", model_name)\n",
    "    try:\n",
    "        train_dataset = create_dataset(train_array, train_label_array, window)\n",
    "        test_dataset = create_dataset2(test_array, test_label_array, window)\n",
    "        val_dataset = create_dataset2(val_array, val_label_array, window)\n",
    "        train_loader = DataLoader(dataset=train_dataset, batch_size=BATCH_SIZE, shuffle=True, drop_last=True)\n",
    "        val_loader = DataLoader(dataset=val_dataset, batch_size=1, shuffle=False)\n",
    "        test_loader = DataLoader(dataset=test_dataset, batch_size=1, shuffle=False)\n",
    "        model = LSTM(input_size=NUM_FEATURES, window=window, output_size=NUM_CLASSES, hidden_layer_size=NUM_HIDDEN, num_layers=NUM_LAYER)\n",
    "        model.to(device)\n",
    "        criterion = nn.CrossEntropyLoss()\n",
    "        optimizer = torch.optim.SGD(model.parameters(), lr=LEARNING_RATE, momentum=0.9)\n",
    "        n_data_size_test = test_dataset.index_data.size()[0]\n",
    "        n_data_size_train = train_dataset.index_data.size()[0]\n",
    "        n_data_size_val = val_dataset.index_data.size()[0]\n",
    "        accuracy_stats = {\n",
    "            'train': [],\n",
    "            \"val\": []\n",
    "        }\n",
    "\n",
    "        loss_stats = {\n",
    "            'train': [],\n",
    "            \"val\": []\n",
    "        }\n",
    "\n",
    "        f1_score_No_action = {\n",
    "            'train': [],\n",
    "            \"val\": []\n",
    "        }\n",
    "\n",
    "        f1_score_Prendi = {\n",
    "            'train': [],\n",
    "            \"val\": []\n",
    "        }\n",
    "\n",
    "        f1_score_Rilascia = {\n",
    "            'train': [],\n",
    "            \"val\": []\n",
    "        }\n",
    "\n",
    "        f1_score_Premi = {\n",
    "            'train': [],\n",
    "            \"val\": []\n",
    "        }\n",
    "        print(\"Begin training: \", str(index_name))\n",
    "        for e in tqdm(range(1, EPOCHS+1)):\n",
    "\n",
    "            # TRAINING\n",
    "            train_epoch_loss = 0\n",
    "            train_epoch_acc = 0\n",
    "            train_epoch_f1_No_action = 0\n",
    "            train_epoch_f1_Prendi = 0\n",
    "            train_epoch_f1_Rilascia = 0\n",
    "            train_epoch_f1_Premi = 0\n",
    "            train_pred_lab = []\n",
    "            train_true_lab = []\n",
    "\n",
    "            model.train()\n",
    "\n",
    "            hidden_train = None\n",
    "\n",
    "            for X_train_batch, y_train_batch in train_loader:\n",
    "                X_train_batch, y_train_batch = X_train_batch.to(device), y_train_batch.to(device)\n",
    "                y_train_batch = torch.squeeze(y_train_batch)\n",
    "                optimizer.zero_grad()\n",
    "\n",
    "                y_train_pred, _ = model(X_train_batch, hidden_train)\n",
    "\n",
    "                #h0, c0 = hidden_train\n",
    "                #h0.detach_(), c0.detach_()\n",
    "                #hidden_train = (h0, c0)\n",
    "\n",
    "                train_loss = criterion(y_train_pred, y_train_batch)\n",
    "                train_pred_lab.append(y_train_pred)\n",
    "                train_true_lab.append(y_train_batch)\n",
    "\n",
    "                train_loss.backward()\n",
    "                optimizer.step()\n",
    "\n",
    "                train_epoch_loss += train_loss.item()\n",
    "\n",
    "            y_pred_tags = []\n",
    "            y_true_tags = []\n",
    "            for (p, t) in zip(train_pred_lab, train_true_lab):\n",
    "                _, y_tags = torch.max(p, dim = 1)\n",
    "                y_pred_tags.extend(y_tags.tolist())\n",
    "                y_true_tags.extend(t.tolist())\n",
    "\n",
    "            train_acc = accuracy(y_pred_tags, y_true_tags)\n",
    "            train_f1 = f1_s(y_pred_tags, y_true_tags)\n",
    "\n",
    "            train_epoch_acc += train_acc.item()\n",
    "            train_epoch_f1_No_action += train_f1[0].item()\n",
    "            train_epoch_f1_Prendi += train_f1[1].item()\n",
    "            train_epoch_f1_Rilascia += train_f1[2].item()\n",
    "            train_epoch_f1_Premi += train_f1[3].item()\n",
    "        print(\"Done: \", str(index_name))\n",
    "        y_pred_list = []\n",
    "        y_true_list = []\n",
    "\n",
    "        with torch.no_grad():\n",
    "            model.eval()\n",
    "            for X_batch, y_batch in test_loader:\n",
    "                X_batch = X_batch.to(device)\n",
    "                y_test_pred, _ = model(X_batch)\n",
    "                guess, guess_i = categoryFromOutput(y_test_pred)\n",
    "                y_pred_list.append(guess_i)\n",
    "                y_true_list.append(y_batch[0][0].tolist()[0])\n",
    "        accuracy_test = accuracy(y_pred_list, y_true_list)\n",
    "        f1_score_list = f1_s(y_pred_list, y_true_list)\n",
    "        print(\"Accuracy: \", accuracy_test)\n",
    "        print(\"F1 - No_action: \", f1_score_list[0])\n",
    "        print(\"F1 - Prendi: \", f1_score_list[1])\n",
    "        print(\"F1 - Rilascia: \", f1_score_list[2])\n",
    "        print(\"F1 - Premi: \", f1_score_list[3])\n",
    "        #if accuracy_test >= 65:\n",
    "        torch.save(model.state_dict(), main_folder + \"/random_model/\" + model_name)\n",
    "        index_name += 1\n",
    "    except:\n",
    "        print(\"Error.\")\n",
    "        continue"
   ]
  },
  {
   "cell_type": "code",
   "execution_count": null,
   "id": "dc3e1610",
   "metadata": {},
   "outputs": [],
   "source": []
  }
 ],
 "metadata": {
  "accelerator": "TPU",
  "colab": {
   "collapsed_sections": [],
   "name": "LSTM-Copy1.3.ipynb",
   "provenance": []
  },
  "kernelspec": {
   "display_name": "Python 3",
   "language": "python",
   "name": "python3"
  },
  "language_info": {
   "codemirror_mode": {
    "name": "ipython",
    "version": 3
   },
   "file_extension": ".py",
   "mimetype": "text/x-python",
   "name": "python",
   "nbconvert_exporter": "python",
   "pygments_lexer": "ipython3",
   "version": "3.8.10"
  },
  "widgets": {
   "application/vnd.jupyter.widget-state+json": {
    "0135b41a3a4340f99d7f448ce18cd460": {
     "model_module": "@jupyter-widgets/controls",
     "model_name": "DescriptionStyleModel",
     "state": {
      "_model_module": "@jupyter-widgets/controls",
      "_model_module_version": "1.5.0",
      "_model_name": "DescriptionStyleModel",
      "_view_count": null,
      "_view_module": "@jupyter-widgets/base",
      "_view_module_version": "1.2.0",
      "_view_name": "StyleView",
      "description_width": ""
     }
    },
    "2142be525ab64432b2de9edb80a5ac42": {
     "model_module": "@jupyter-widgets/controls",
     "model_name": "ProgressStyleModel",
     "state": {
      "_model_module": "@jupyter-widgets/controls",
      "_model_module_version": "1.5.0",
      "_model_name": "ProgressStyleModel",
      "_view_count": null,
      "_view_module": "@jupyter-widgets/base",
      "_view_module_version": "1.2.0",
      "_view_name": "StyleView",
      "bar_color": null,
      "description_width": "initial"
     }
    },
    "350aab8898b649a0ae733a5ac572f0db": {
     "model_module": "@jupyter-widgets/base",
     "model_name": "LayoutModel",
     "state": {
      "_model_module": "@jupyter-widgets/base",
      "_model_module_version": "1.2.0",
      "_model_name": "LayoutModel",
      "_view_count": null,
      "_view_module": "@jupyter-widgets/base",
      "_view_module_version": "1.2.0",
      "_view_name": "LayoutView",
      "align_content": null,
      "align_items": null,
      "align_self": null,
      "border": null,
      "bottom": null,
      "display": null,
      "flex": null,
      "flex_flow": null,
      "grid_area": null,
      "grid_auto_columns": null,
      "grid_auto_flow": null,
      "grid_auto_rows": null,
      "grid_column": null,
      "grid_gap": null,
      "grid_row": null,
      "grid_template_areas": null,
      "grid_template_columns": null,
      "grid_template_rows": null,
      "height": null,
      "justify_content": null,
      "justify_items": null,
      "left": null,
      "margin": null,
      "max_height": null,
      "max_width": null,
      "min_height": null,
      "min_width": null,
      "object_fit": null,
      "object_position": null,
      "order": null,
      "overflow": null,
      "overflow_x": null,
      "overflow_y": null,
      "padding": null,
      "right": null,
      "top": null,
      "visibility": null,
      "width": null
     }
    },
    "5bfd0cda32ad4b1f9a146a139a28bf6d": {
     "model_module": "@jupyter-widgets/controls",
     "model_name": "HTMLModel",
     "state": {
      "_dom_classes": [],
      "_model_module": "@jupyter-widgets/controls",
      "_model_module_version": "1.5.0",
      "_model_name": "HTMLModel",
      "_view_count": null,
      "_view_module": "@jupyter-widgets/controls",
      "_view_module_version": "1.5.0",
      "_view_name": "HTMLView",
      "description": "",
      "description_tooltip": null,
      "layout": "IPY_MODEL_b809dd46be0943878e4494089332b7be",
      "placeholder": "​",
      "style": "IPY_MODEL_0135b41a3a4340f99d7f448ce18cd460",
      "value": " 50/50 [10:18&lt;00:00, 12.38s/it]"
     }
    },
    "7802ba29b3e5429e8ee1ed115d1ca93b": {
     "model_module": "@jupyter-widgets/controls",
     "model_name": "FloatProgressModel",
     "state": {
      "_dom_classes": [],
      "_model_module": "@jupyter-widgets/controls",
      "_model_module_version": "1.5.0",
      "_model_name": "FloatProgressModel",
      "_view_count": null,
      "_view_module": "@jupyter-widgets/controls",
      "_view_module_version": "1.5.0",
      "_view_name": "ProgressView",
      "bar_style": "success",
      "description": "100%",
      "description_tooltip": null,
      "layout": "IPY_MODEL_c73e79e30252416985595da1660544a1",
      "max": 50,
      "min": 0,
      "orientation": "horizontal",
      "style": "IPY_MODEL_2142be525ab64432b2de9edb80a5ac42",
      "value": 50
     }
    },
    "9a9d334287f54a8d84800ed57d650997": {
     "model_module": "@jupyter-widgets/controls",
     "model_name": "HBoxModel",
     "state": {
      "_dom_classes": [],
      "_model_module": "@jupyter-widgets/controls",
      "_model_module_version": "1.5.0",
      "_model_name": "HBoxModel",
      "_view_count": null,
      "_view_module": "@jupyter-widgets/controls",
      "_view_module_version": "1.5.0",
      "_view_name": "HBoxView",
      "box_style": "",
      "children": [
       "IPY_MODEL_7802ba29b3e5429e8ee1ed115d1ca93b",
       "IPY_MODEL_5bfd0cda32ad4b1f9a146a139a28bf6d"
      ],
      "layout": "IPY_MODEL_350aab8898b649a0ae733a5ac572f0db"
     }
    },
    "b809dd46be0943878e4494089332b7be": {
     "model_module": "@jupyter-widgets/base",
     "model_name": "LayoutModel",
     "state": {
      "_model_module": "@jupyter-widgets/base",
      "_model_module_version": "1.2.0",
      "_model_name": "LayoutModel",
      "_view_count": null,
      "_view_module": "@jupyter-widgets/base",
      "_view_module_version": "1.2.0",
      "_view_name": "LayoutView",
      "align_content": null,
      "align_items": null,
      "align_self": null,
      "border": null,
      "bottom": null,
      "display": null,
      "flex": null,
      "flex_flow": null,
      "grid_area": null,
      "grid_auto_columns": null,
      "grid_auto_flow": null,
      "grid_auto_rows": null,
      "grid_column": null,
      "grid_gap": null,
      "grid_row": null,
      "grid_template_areas": null,
      "grid_template_columns": null,
      "grid_template_rows": null,
      "height": null,
      "justify_content": null,
      "justify_items": null,
      "left": null,
      "margin": null,
      "max_height": null,
      "max_width": null,
      "min_height": null,
      "min_width": null,
      "object_fit": null,
      "object_position": null,
      "order": null,
      "overflow": null,
      "overflow_x": null,
      "overflow_y": null,
      "padding": null,
      "right": null,
      "top": null,
      "visibility": null,
      "width": null
     }
    },
    "c73e79e30252416985595da1660544a1": {
     "model_module": "@jupyter-widgets/base",
     "model_name": "LayoutModel",
     "state": {
      "_model_module": "@jupyter-widgets/base",
      "_model_module_version": "1.2.0",
      "_model_name": "LayoutModel",
      "_view_count": null,
      "_view_module": "@jupyter-widgets/base",
      "_view_module_version": "1.2.0",
      "_view_name": "LayoutView",
      "align_content": null,
      "align_items": null,
      "align_self": null,
      "border": null,
      "bottom": null,
      "display": null,
      "flex": null,
      "flex_flow": null,
      "grid_area": null,
      "grid_auto_columns": null,
      "grid_auto_flow": null,
      "grid_auto_rows": null,
      "grid_column": null,
      "grid_gap": null,
      "grid_row": null,
      "grid_template_areas": null,
      "grid_template_columns": null,
      "grid_template_rows": null,
      "height": null,
      "justify_content": null,
      "justify_items": null,
      "left": null,
      "margin": null,
      "max_height": null,
      "max_width": null,
      "min_height": null,
      "min_width": null,
      "object_fit": null,
      "object_position": null,
      "order": null,
      "overflow": null,
      "overflow_x": null,
      "overflow_y": null,
      "padding": null,
      "right": null,
      "top": null,
      "visibility": null,
      "width": null
     }
    }
   }
  }
 },
 "nbformat": 4,
 "nbformat_minor": 5
}

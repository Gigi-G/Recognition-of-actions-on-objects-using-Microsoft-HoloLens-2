{
 "cells": [
  {
   "cell_type": "markdown",
   "id": "b57ba0a3",
   "metadata": {
    "id": "b57ba0a3"
   },
   "source": [
    "# LSTM"
   ]
  },
  {
   "cell_type": "markdown",
   "id": "2d826350",
   "metadata": {
    "id": "2d826350"
   },
   "source": [
    "## Caricamento del dataframe"
   ]
  },
  {
   "cell_type": "code",
   "execution_count": 1,
   "id": "5cac63e0",
   "metadata": {
    "colab": {
     "base_uri": "https://localhost:8080/",
     "height": 256
    },
    "id": "5cac63e0",
    "outputId": "b4225c27-827f-46ad-edc7-521c2df980c9"
   },
   "outputs": [
    {
     "data": {
      "text/html": [
       "<div>\n",
       "<style scoped>\n",
       "    .dataframe tbody tr th:only-of-type {\n",
       "        vertical-align: middle;\n",
       "    }\n",
       "\n",
       "    .dataframe tbody tr th {\n",
       "        vertical-align: top;\n",
       "    }\n",
       "\n",
       "    .dataframe thead th {\n",
       "        text-align: right;\n",
       "    }\n",
       "</style>\n",
       "<table border=\"1\" class=\"dataframe\">\n",
       "  <thead>\n",
       "    <tr style=\"text-align: right;\">\n",
       "      <th></th>\n",
       "      <th>RIGHT_Palm_x</th>\n",
       "      <th>RIGHT_Palm_y</th>\n",
       "      <th>RIGHT_Palm_z</th>\n",
       "      <th>LEFT_Palm_x</th>\n",
       "      <th>LEFT_Palm_y</th>\n",
       "      <th>LEFT_Palm_z</th>\n",
       "      <th>RIGHT_ThumbTip_x</th>\n",
       "      <th>RIGHT_ThumbTip_y</th>\n",
       "      <th>RIGHT_ThumbTip_z</th>\n",
       "      <th>LEFT_ThumbTip_x</th>\n",
       "      <th>...</th>\n",
       "      <th>LEFT_PinkyMetacarpal_x</th>\n",
       "      <th>LEFT_PinkyMetacarpal_y</th>\n",
       "      <th>LEFT_PinkyMetacarpal_z</th>\n",
       "      <th>RIGHT_Wrist_x</th>\n",
       "      <th>RIGHT_Wrist_y</th>\n",
       "      <th>RIGHT_Wrist_z</th>\n",
       "      <th>LEFT_Wrist_x</th>\n",
       "      <th>LEFT_Wrist_y</th>\n",
       "      <th>LEFT_Wrist_z</th>\n",
       "      <th>TARGET</th>\n",
       "    </tr>\n",
       "  </thead>\n",
       "  <tbody>\n",
       "    <tr>\n",
       "      <th>0</th>\n",
       "      <td>0.136106</td>\n",
       "      <td>-0.028342</td>\n",
       "      <td>0.504276</td>\n",
       "      <td>-0.143602</td>\n",
       "      <td>-0.013067</td>\n",
       "      <td>0.494088</td>\n",
       "      <td>0.041056</td>\n",
       "      <td>0.007040</td>\n",
       "      <td>0.522273</td>\n",
       "      <td>-0.041447</td>\n",
       "      <td>...</td>\n",
       "      <td>-0.158524</td>\n",
       "      <td>-0.043128</td>\n",
       "      <td>0.481324</td>\n",
       "      <td>0.127647</td>\n",
       "      <td>-0.070477</td>\n",
       "      <td>0.479784</td>\n",
       "      <td>-0.140429</td>\n",
       "      <td>-0.055822</td>\n",
       "      <td>0.469097</td>\n",
       "      <td>No_action</td>\n",
       "    </tr>\n",
       "    <tr>\n",
       "      <th>1</th>\n",
       "      <td>0.134557</td>\n",
       "      <td>-0.027701</td>\n",
       "      <td>0.504807</td>\n",
       "      <td>-0.144994</td>\n",
       "      <td>-0.012649</td>\n",
       "      <td>0.493745</td>\n",
       "      <td>0.039396</td>\n",
       "      <td>0.007685</td>\n",
       "      <td>0.522272</td>\n",
       "      <td>-0.042953</td>\n",
       "      <td>...</td>\n",
       "      <td>-0.159840</td>\n",
       "      <td>-0.042732</td>\n",
       "      <td>0.480951</td>\n",
       "      <td>0.126239</td>\n",
       "      <td>-0.069853</td>\n",
       "      <td>0.480289</td>\n",
       "      <td>-0.141675</td>\n",
       "      <td>-0.055392</td>\n",
       "      <td>0.468809</td>\n",
       "      <td>No_action</td>\n",
       "    </tr>\n",
       "    <tr>\n",
       "      <th>2</th>\n",
       "      <td>0.135006</td>\n",
       "      <td>-0.029101</td>\n",
       "      <td>0.504659</td>\n",
       "      <td>-0.144397</td>\n",
       "      <td>-0.013471</td>\n",
       "      <td>0.493747</td>\n",
       "      <td>0.039947</td>\n",
       "      <td>0.006667</td>\n",
       "      <td>0.522045</td>\n",
       "      <td>-0.042289</td>\n",
       "      <td>...</td>\n",
       "      <td>-0.159308</td>\n",
       "      <td>-0.043492</td>\n",
       "      <td>0.480892</td>\n",
       "      <td>0.126522</td>\n",
       "      <td>-0.071243</td>\n",
       "      <td>0.480231</td>\n",
       "      <td>-0.141182</td>\n",
       "      <td>-0.056131</td>\n",
       "      <td>0.468678</td>\n",
       "      <td>No_action</td>\n",
       "    </tr>\n",
       "    <tr>\n",
       "      <th>3</th>\n",
       "      <td>0.136988</td>\n",
       "      <td>-0.028733</td>\n",
       "      <td>0.503911</td>\n",
       "      <td>-0.142682</td>\n",
       "      <td>-0.012712</td>\n",
       "      <td>0.494288</td>\n",
       "      <td>0.042039</td>\n",
       "      <td>0.007355</td>\n",
       "      <td>0.521290</td>\n",
       "      <td>-0.040461</td>\n",
       "      <td>...</td>\n",
       "      <td>-0.158012</td>\n",
       "      <td>-0.042791</td>\n",
       "      <td>0.481284</td>\n",
       "      <td>0.127903</td>\n",
       "      <td>-0.070923</td>\n",
       "      <td>0.479887</td>\n",
       "      <td>-0.139945</td>\n",
       "      <td>-0.055469</td>\n",
       "      <td>0.469017</td>\n",
       "      <td>No_action</td>\n",
       "    </tr>\n",
       "    <tr>\n",
       "      <th>4</th>\n",
       "      <td>0.136362</td>\n",
       "      <td>-0.028703</td>\n",
       "      <td>0.503735</td>\n",
       "      <td>-0.143380</td>\n",
       "      <td>-0.012937</td>\n",
       "      <td>0.493749</td>\n",
       "      <td>0.041309</td>\n",
       "      <td>0.007276</td>\n",
       "      <td>0.520998</td>\n",
       "      <td>-0.041185</td>\n",
       "      <td>...</td>\n",
       "      <td>-0.157719</td>\n",
       "      <td>-0.042696</td>\n",
       "      <td>0.481494</td>\n",
       "      <td>0.128316</td>\n",
       "      <td>-0.070940</td>\n",
       "      <td>0.479696</td>\n",
       "      <td>-0.139668</td>\n",
       "      <td>-0.055395</td>\n",
       "      <td>0.469222</td>\n",
       "      <td>No_action</td>\n",
       "    </tr>\n",
       "  </tbody>\n",
       "</table>\n",
       "<p>5 rows × 157 columns</p>\n",
       "</div>"
      ],
      "text/plain": [
       "   RIGHT_Palm_x  RIGHT_Palm_y  RIGHT_Palm_z  LEFT_Palm_x  LEFT_Palm_y  \\\n",
       "0      0.136106     -0.028342      0.504276    -0.143602    -0.013067   \n",
       "1      0.134557     -0.027701      0.504807    -0.144994    -0.012649   \n",
       "2      0.135006     -0.029101      0.504659    -0.144397    -0.013471   \n",
       "3      0.136988     -0.028733      0.503911    -0.142682    -0.012712   \n",
       "4      0.136362     -0.028703      0.503735    -0.143380    -0.012937   \n",
       "\n",
       "   LEFT_Palm_z  RIGHT_ThumbTip_x  RIGHT_ThumbTip_y  RIGHT_ThumbTip_z  \\\n",
       "0     0.494088          0.041056          0.007040          0.522273   \n",
       "1     0.493745          0.039396          0.007685          0.522272   \n",
       "2     0.493747          0.039947          0.006667          0.522045   \n",
       "3     0.494288          0.042039          0.007355          0.521290   \n",
       "4     0.493749          0.041309          0.007276          0.520998   \n",
       "\n",
       "   LEFT_ThumbTip_x  ...  LEFT_PinkyMetacarpal_x  LEFT_PinkyMetacarpal_y  \\\n",
       "0        -0.041447  ...               -0.158524               -0.043128   \n",
       "1        -0.042953  ...               -0.159840               -0.042732   \n",
       "2        -0.042289  ...               -0.159308               -0.043492   \n",
       "3        -0.040461  ...               -0.158012               -0.042791   \n",
       "4        -0.041185  ...               -0.157719               -0.042696   \n",
       "\n",
       "   LEFT_PinkyMetacarpal_z  RIGHT_Wrist_x  RIGHT_Wrist_y  RIGHT_Wrist_z  \\\n",
       "0                0.481324       0.127647      -0.070477       0.479784   \n",
       "1                0.480951       0.126239      -0.069853       0.480289   \n",
       "2                0.480892       0.126522      -0.071243       0.480231   \n",
       "3                0.481284       0.127903      -0.070923       0.479887   \n",
       "4                0.481494       0.128316      -0.070940       0.479696   \n",
       "\n",
       "   LEFT_Wrist_x  LEFT_Wrist_y  LEFT_Wrist_z     TARGET  \n",
       "0     -0.140429     -0.055822      0.469097  No_action  \n",
       "1     -0.141675     -0.055392      0.468809  No_action  \n",
       "2     -0.141182     -0.056131      0.468678  No_action  \n",
       "3     -0.139945     -0.055469      0.469017  No_action  \n",
       "4     -0.139668     -0.055395      0.469222  No_action  \n",
       "\n",
       "[5 rows x 157 columns]"
      ]
     },
     "execution_count": 1,
     "metadata": {},
     "output_type": "execute_result"
    }
   ],
   "source": [
    "import torch\n",
    "from torch import nn\n",
    "from torch.utils.tensorboard import SummaryWriter\n",
    "from torch.utils.data import Dataset, DataLoader, WeightedRandomSampler\n",
    "import torch.nn as nn\n",
    "\n",
    "import numpy as np\n",
    "import pandas as pd\n",
    "import sys\n",
    "import seaborn as sns\n",
    "import matplotlib.pyplot as plt\n",
    "from tqdm.notebook import tqdm\n",
    "from sklearn.metrics import confusion_matrix, classification_report\n",
    "\n",
    "from torch.utils.tensorboard import SummaryWriter\n",
    "\n",
    "writer = SummaryWriter(\"./runs/LSTM\")\n",
    "\n",
    "df = pd.read_csv(\"./framing_action.csv\")\n",
    "df.head()"
   ]
  },
  {
   "cell_type": "code",
   "execution_count": 2,
   "id": "8affb0f7",
   "metadata": {
    "id": "8affb0f7"
   },
   "outputs": [],
   "source": [
    "class2idx = {\n",
    "    \"No_action\": 0,\n",
    "    \"Prendi\": 1,\n",
    "    \"Rilascia\": 2,\n",
    "    \"Premi\": 3\n",
    "}\n",
    "\n",
    "idx2class = {v: k for k, v in class2idx.items()}"
   ]
  },
  {
   "cell_type": "code",
   "execution_count": 3,
   "id": "a971a849",
   "metadata": {
    "id": "a971a849"
   },
   "outputs": [],
   "source": [
    "df['TARGET'].replace(class2idx, inplace=True)"
   ]
  },
  {
   "cell_type": "code",
   "execution_count": 4,
   "id": "7a38725f",
   "metadata": {
    "colab": {
     "base_uri": "https://localhost:8080/",
     "height": 256
    },
    "id": "7a38725f",
    "outputId": "8c9e2966-a976-47d0-e49d-d4d473cfe220"
   },
   "outputs": [
    {
     "data": {
      "text/html": [
       "<div>\n",
       "<style scoped>\n",
       "    .dataframe tbody tr th:only-of-type {\n",
       "        vertical-align: middle;\n",
       "    }\n",
       "\n",
       "    .dataframe tbody tr th {\n",
       "        vertical-align: top;\n",
       "    }\n",
       "\n",
       "    .dataframe thead th {\n",
       "        text-align: right;\n",
       "    }\n",
       "</style>\n",
       "<table border=\"1\" class=\"dataframe\">\n",
       "  <thead>\n",
       "    <tr style=\"text-align: right;\">\n",
       "      <th></th>\n",
       "      <th>RIGHT_Palm_x</th>\n",
       "      <th>RIGHT_Palm_y</th>\n",
       "      <th>RIGHT_Palm_z</th>\n",
       "      <th>LEFT_Palm_x</th>\n",
       "      <th>LEFT_Palm_y</th>\n",
       "      <th>LEFT_Palm_z</th>\n",
       "      <th>RIGHT_ThumbTip_x</th>\n",
       "      <th>RIGHT_ThumbTip_y</th>\n",
       "      <th>RIGHT_ThumbTip_z</th>\n",
       "      <th>LEFT_ThumbTip_x</th>\n",
       "      <th>...</th>\n",
       "      <th>LEFT_PinkyMetacarpal_x</th>\n",
       "      <th>LEFT_PinkyMetacarpal_y</th>\n",
       "      <th>LEFT_PinkyMetacarpal_z</th>\n",
       "      <th>RIGHT_Wrist_x</th>\n",
       "      <th>RIGHT_Wrist_y</th>\n",
       "      <th>RIGHT_Wrist_z</th>\n",
       "      <th>LEFT_Wrist_x</th>\n",
       "      <th>LEFT_Wrist_y</th>\n",
       "      <th>LEFT_Wrist_z</th>\n",
       "      <th>TARGET</th>\n",
       "    </tr>\n",
       "  </thead>\n",
       "  <tbody>\n",
       "    <tr>\n",
       "      <th>0</th>\n",
       "      <td>0.136106</td>\n",
       "      <td>-0.028342</td>\n",
       "      <td>0.504276</td>\n",
       "      <td>-0.143602</td>\n",
       "      <td>-0.013067</td>\n",
       "      <td>0.494088</td>\n",
       "      <td>0.041056</td>\n",
       "      <td>0.007040</td>\n",
       "      <td>0.522273</td>\n",
       "      <td>-0.041447</td>\n",
       "      <td>...</td>\n",
       "      <td>-0.158524</td>\n",
       "      <td>-0.043128</td>\n",
       "      <td>0.481324</td>\n",
       "      <td>0.127647</td>\n",
       "      <td>-0.070477</td>\n",
       "      <td>0.479784</td>\n",
       "      <td>-0.140429</td>\n",
       "      <td>-0.055822</td>\n",
       "      <td>0.469097</td>\n",
       "      <td>0</td>\n",
       "    </tr>\n",
       "    <tr>\n",
       "      <th>1</th>\n",
       "      <td>0.134557</td>\n",
       "      <td>-0.027701</td>\n",
       "      <td>0.504807</td>\n",
       "      <td>-0.144994</td>\n",
       "      <td>-0.012649</td>\n",
       "      <td>0.493745</td>\n",
       "      <td>0.039396</td>\n",
       "      <td>0.007685</td>\n",
       "      <td>0.522272</td>\n",
       "      <td>-0.042953</td>\n",
       "      <td>...</td>\n",
       "      <td>-0.159840</td>\n",
       "      <td>-0.042732</td>\n",
       "      <td>0.480951</td>\n",
       "      <td>0.126239</td>\n",
       "      <td>-0.069853</td>\n",
       "      <td>0.480289</td>\n",
       "      <td>-0.141675</td>\n",
       "      <td>-0.055392</td>\n",
       "      <td>0.468809</td>\n",
       "      <td>0</td>\n",
       "    </tr>\n",
       "    <tr>\n",
       "      <th>2</th>\n",
       "      <td>0.135006</td>\n",
       "      <td>-0.029101</td>\n",
       "      <td>0.504659</td>\n",
       "      <td>-0.144397</td>\n",
       "      <td>-0.013471</td>\n",
       "      <td>0.493747</td>\n",
       "      <td>0.039947</td>\n",
       "      <td>0.006667</td>\n",
       "      <td>0.522045</td>\n",
       "      <td>-0.042289</td>\n",
       "      <td>...</td>\n",
       "      <td>-0.159308</td>\n",
       "      <td>-0.043492</td>\n",
       "      <td>0.480892</td>\n",
       "      <td>0.126522</td>\n",
       "      <td>-0.071243</td>\n",
       "      <td>0.480231</td>\n",
       "      <td>-0.141182</td>\n",
       "      <td>-0.056131</td>\n",
       "      <td>0.468678</td>\n",
       "      <td>0</td>\n",
       "    </tr>\n",
       "    <tr>\n",
       "      <th>3</th>\n",
       "      <td>0.136988</td>\n",
       "      <td>-0.028733</td>\n",
       "      <td>0.503911</td>\n",
       "      <td>-0.142682</td>\n",
       "      <td>-0.012712</td>\n",
       "      <td>0.494288</td>\n",
       "      <td>0.042039</td>\n",
       "      <td>0.007355</td>\n",
       "      <td>0.521290</td>\n",
       "      <td>-0.040461</td>\n",
       "      <td>...</td>\n",
       "      <td>-0.158012</td>\n",
       "      <td>-0.042791</td>\n",
       "      <td>0.481284</td>\n",
       "      <td>0.127903</td>\n",
       "      <td>-0.070923</td>\n",
       "      <td>0.479887</td>\n",
       "      <td>-0.139945</td>\n",
       "      <td>-0.055469</td>\n",
       "      <td>0.469017</td>\n",
       "      <td>0</td>\n",
       "    </tr>\n",
       "    <tr>\n",
       "      <th>4</th>\n",
       "      <td>0.136362</td>\n",
       "      <td>-0.028703</td>\n",
       "      <td>0.503735</td>\n",
       "      <td>-0.143380</td>\n",
       "      <td>-0.012937</td>\n",
       "      <td>0.493749</td>\n",
       "      <td>0.041309</td>\n",
       "      <td>0.007276</td>\n",
       "      <td>0.520998</td>\n",
       "      <td>-0.041185</td>\n",
       "      <td>...</td>\n",
       "      <td>-0.157719</td>\n",
       "      <td>-0.042696</td>\n",
       "      <td>0.481494</td>\n",
       "      <td>0.128316</td>\n",
       "      <td>-0.070940</td>\n",
       "      <td>0.479696</td>\n",
       "      <td>-0.139668</td>\n",
       "      <td>-0.055395</td>\n",
       "      <td>0.469222</td>\n",
       "      <td>0</td>\n",
       "    </tr>\n",
       "  </tbody>\n",
       "</table>\n",
       "<p>5 rows × 157 columns</p>\n",
       "</div>"
      ],
      "text/plain": [
       "   RIGHT_Palm_x  RIGHT_Palm_y  RIGHT_Palm_z  LEFT_Palm_x  LEFT_Palm_y  \\\n",
       "0      0.136106     -0.028342      0.504276    -0.143602    -0.013067   \n",
       "1      0.134557     -0.027701      0.504807    -0.144994    -0.012649   \n",
       "2      0.135006     -0.029101      0.504659    -0.144397    -0.013471   \n",
       "3      0.136988     -0.028733      0.503911    -0.142682    -0.012712   \n",
       "4      0.136362     -0.028703      0.503735    -0.143380    -0.012937   \n",
       "\n",
       "   LEFT_Palm_z  RIGHT_ThumbTip_x  RIGHT_ThumbTip_y  RIGHT_ThumbTip_z  \\\n",
       "0     0.494088          0.041056          0.007040          0.522273   \n",
       "1     0.493745          0.039396          0.007685          0.522272   \n",
       "2     0.493747          0.039947          0.006667          0.522045   \n",
       "3     0.494288          0.042039          0.007355          0.521290   \n",
       "4     0.493749          0.041309          0.007276          0.520998   \n",
       "\n",
       "   LEFT_ThumbTip_x  ...  LEFT_PinkyMetacarpal_x  LEFT_PinkyMetacarpal_y  \\\n",
       "0        -0.041447  ...               -0.158524               -0.043128   \n",
       "1        -0.042953  ...               -0.159840               -0.042732   \n",
       "2        -0.042289  ...               -0.159308               -0.043492   \n",
       "3        -0.040461  ...               -0.158012               -0.042791   \n",
       "4        -0.041185  ...               -0.157719               -0.042696   \n",
       "\n",
       "   LEFT_PinkyMetacarpal_z  RIGHT_Wrist_x  RIGHT_Wrist_y  RIGHT_Wrist_z  \\\n",
       "0                0.481324       0.127647      -0.070477       0.479784   \n",
       "1                0.480951       0.126239      -0.069853       0.480289   \n",
       "2                0.480892       0.126522      -0.071243       0.480231   \n",
       "3                0.481284       0.127903      -0.070923       0.479887   \n",
       "4                0.481494       0.128316      -0.070940       0.479696   \n",
       "\n",
       "   LEFT_Wrist_x  LEFT_Wrist_y  LEFT_Wrist_z  TARGET  \n",
       "0     -0.140429     -0.055822      0.469097       0  \n",
       "1     -0.141675     -0.055392      0.468809       0  \n",
       "2     -0.141182     -0.056131      0.468678       0  \n",
       "3     -0.139945     -0.055469      0.469017       0  \n",
       "4     -0.139668     -0.055395      0.469222       0  \n",
       "\n",
       "[5 rows x 157 columns]"
      ]
     },
     "execution_count": 4,
     "metadata": {},
     "output_type": "execute_result"
    }
   ],
   "source": [
    "df.head()"
   ]
  },
  {
   "cell_type": "markdown",
   "id": "acbaa788",
   "metadata": {
    "id": "acbaa788"
   },
   "source": [
    "## Train - Validation - Test"
   ]
  },
  {
   "cell_type": "markdown",
   "id": "121bf342",
   "metadata": {
    "id": "121bf342"
   },
   "source": [
    "Per creare il train-val-split, utilizziamo la seguente funzione:"
   ]
  },
  {
   "cell_type": "code",
   "execution_count": 5,
   "id": "0126e325",
   "metadata": {
    "id": "0126e325"
   },
   "outputs": [],
   "source": [
    "def create_dataset(dataset, target, window_size = 2):\n",
    "    dataX, dataY = [], []\n",
    "    for i in range(len(dataset) - window_size):\n",
    "        dataX.append(dataset[i:i + window_size])\n",
    "        dataY.append(target[(i + window_size):(i + window_size + 1)].values[0])\n",
    "    return np.array(dataX), np.array(dataY)"
   ]
  },
  {
   "cell_type": "markdown",
   "id": "fb886a28",
   "metadata": {
    "id": "fb886a28"
   },
   "source": [
    "Determiniamo la grandezza dei tre dataset."
   ]
  },
  {
   "cell_type": "code",
   "execution_count": 6,
   "id": "44c86554",
   "metadata": {
    "colab": {
     "base_uri": "https://localhost:8080/"
    },
    "id": "44c86554",
    "outputId": "63c020c6-d211-4566-d37b-9db96dd8416f"
   },
   "outputs": [
    {
     "name": "stdout",
     "output_type": "stream",
     "text": [
      "3816 1908 636\n"
     ]
    }
   ],
   "source": [
    "train_size = int(len(df) * 0.6)\n",
    "test_size = int((len(df) - train_size) * 0.75)\n",
    "val_size = len(df) - train_size - test_size\n",
    "\n",
    "print(train_size, test_size, val_size)"
   ]
  },
  {
   "cell_type": "code",
   "execution_count": 7,
   "id": "e196b6c0",
   "metadata": {
    "colab": {
     "base_uri": "https://localhost:8080/"
    },
    "id": "e196b6c0",
    "outputId": "22c320a4-e674-4521-ac35-72defed513b2"
   },
   "outputs": [
    {
     "name": "stdout",
     "output_type": "stream",
     "text": [
      "3816 1908 636\n"
     ]
    }
   ],
   "source": [
    "train = df[0:train_size]\n",
    "test = df[train_size:(len(df) - val_size)] \n",
    "val = df[(len(df) - val_size):len(df)]\n",
    "\n",
    "print(train.shape[0], test.shape[0], val.shape[0])"
   ]
  },
  {
   "cell_type": "markdown",
   "id": "da4ea305",
   "metadata": {
    "id": "da4ea305"
   },
   "source": [
    "Separiamo le colonne delle features dall'etichetta."
   ]
  },
  {
   "cell_type": "code",
   "execution_count": 8,
   "id": "d1c6d06b",
   "metadata": {
    "id": "d1c6d06b"
   },
   "outputs": [],
   "source": [
    "train_label = train[\"TARGET\"]\n",
    "test_label = test[\"TARGET\"]\n",
    "val_label = val[\"TARGET\"]\n",
    "\n",
    "del train[\"TARGET\"]\n",
    "del test[\"TARGET\"]\n",
    "del val[\"TARGET\"]"
   ]
  },
  {
   "cell_type": "markdown",
   "id": "owUiLKf4H9jh",
   "metadata": {
    "id": "owUiLKf4H9jh"
   },
   "source": [
    "## Visualizzazione della distribuzione delle classi in Train, Val e Test"
   ]
  },
  {
   "cell_type": "code",
   "execution_count": 9,
   "id": "NvPdymyAH07E",
   "metadata": {
    "id": "NvPdymyAH07E"
   },
   "outputs": [],
   "source": [
    "def get_class_distribution(obj):\n",
    "    count_dict = {\n",
    "        \"No_action\": 0,\n",
    "        \"Prendi\": 0,\n",
    "        \"Rilascia\": 0,\n",
    "        \"Premi\": 0,\n",
    "    }\n",
    "    \n",
    "    for i in obj:\n",
    "        if i == 0: \n",
    "            count_dict['No_action'] += 1\n",
    "        elif i == 1: \n",
    "            count_dict['Prendi'] += 1\n",
    "        elif i == 2: \n",
    "            count_dict['Rilascia'] += 1\n",
    "        elif i == 3: \n",
    "            count_dict['Premi'] += 1            \n",
    "        else:\n",
    "            print(\"Check classes.\")\n",
    "            \n",
    "    return count_dict"
   ]
  },
  {
   "cell_type": "code",
   "execution_count": 10,
   "id": "mdj_1catIJPD",
   "metadata": {
    "colab": {
     "base_uri": "https://localhost:8080/",
     "height": 476
    },
    "id": "mdj_1catIJPD",
    "outputId": "2bcceb8a-1876-443f-eff6-2d26c13d77c0"
   },
   "outputs": [
    {
     "data": {
      "text/plain": [
       "Text(0.5, 1.0, 'Class Distribution in Test Set')"
      ]
     },
     "execution_count": 10,
     "metadata": {},
     "output_type": "execute_result"
    },
    {
     "data": {
      "image/png": "[encoded data removed]",
      "text/plain": [
       "<Figure size 1800x504 with 3 Axes>"
      ]
     },
     "metadata": {
      "needs_background": "light"
     },
     "output_type": "display_data"
    }
   ],
   "source": [
    "fig, axes = plt.subplots(nrows=1, ncols=3, figsize=(25,7))\n",
    "# Train\n",
    "sns.barplot(data = pd.DataFrame.from_dict([get_class_distribution(train_label)]).melt(), x = \"variable\", y=\"value\", hue=\"variable\",  ax=axes[0]).set_title('Class Distribution in Train Set')\n",
    "# Validation\n",
    "sns.barplot(data = pd.DataFrame.from_dict([get_class_distribution(val_label)]).melt(), x = \"variable\", y=\"value\", hue=\"variable\",  ax=axes[1]).set_title('Class Distribution in Val Set')\n",
    "# Test\n",
    "sns.barplot(data = pd.DataFrame.from_dict([get_class_distribution(test_label)]).melt(), x = \"variable\", y=\"value\", hue=\"variable\",  ax=axes[2]).set_title('Class Distribution in Test Set')"
   ]
  },
  {
   "cell_type": "code",
   "execution_count": 11,
   "id": "4fef0ed3",
   "metadata": {
    "id": "4fef0ed3"
   },
   "outputs": [],
   "source": [
    "class ClassifierDataset(Dataset):\n",
    "    \n",
    "    def __init__(self, X_data, y_data):\n",
    "        self.X_data = X_data\n",
    "        self.y_data = y_data\n",
    "        \n",
    "    def __getitem__(self, index):\n",
    "        return self.X_data[index], self.y_data[index]\n",
    "        \n",
    "    def __len__ (self):\n",
    "        return len(self.X_data)"
   ]
  },
  {
   "cell_type": "code",
   "execution_count": 12,
   "id": "0948a1a9",
   "metadata": {
    "id": "0948a1a9"
   },
   "outputs": [],
   "source": [
    "window_size = 15"
   ]
  },
  {
   "cell_type": "code",
   "execution_count": 13,
   "id": "679b12e8",
   "metadata": {
    "id": "679b12e8"
   },
   "outputs": [],
   "source": [
    "train_X, train_Y = create_dataset(train, train_label, window_size)\n",
    "train_dataset = ClassifierDataset(torch.from_numpy(train_X).float(), torch.from_numpy(train_Y).long())\n",
    "\n",
    "test_X, test_Y = create_dataset(test, test_label, window_size)\n",
    "test_dataset = ClassifierDataset(torch.from_numpy(test_X).float(), torch.from_numpy(test_Y).long())\n",
    "\n",
    "val_X, val_Y = create_dataset(val, val_label, window_size)\n",
    "val_dataset = ClassifierDataset(torch.from_numpy(val_X).float(), torch.from_numpy(val_Y).long())"
   ]
  },
  {
   "cell_type": "markdown",
   "id": "i3SiYeWKKX9P",
   "metadata": {
    "id": "i3SiYeWKKX9P"
   },
   "source": [
    "## Weighted Sampling"
   ]
  },
  {
   "cell_type": "markdown",
   "id": "fGJur35nKc4Y",
   "metadata": {
    "id": "fGJur35nKc4Y"
   },
   "source": [
    "Poiché c'è uno squilibrio di classe, utilizziamo la suddivisione stratificata per creare i nostri set di train, convalida e test."
   ]
  },
  {
   "cell_type": "code",
   "execution_count": 14,
   "id": "XAC-pLjfKlRB",
   "metadata": {
    "id": "XAC-pLjfKlRB"
   },
   "outputs": [],
   "source": [
    "target_list = []\n",
    "\n",
    "for _, t in train_dataset:\n",
    "    target_list.append(t)\n",
    "    \n",
    "target_list = torch.tensor(target_list)\n",
    "target_list = target_list[torch.randperm(len(target_list))]"
   ]
  },
  {
   "cell_type": "markdown",
   "id": "zSWgB6_kLDcB",
   "metadata": {
    "id": "zSWgB6_kLDcB"
   },
   "source": [
    "Quindi, otteniamo il conteggio di tutte le classi nel nostro set di allenamento.  Usiamo il reciproco di ogni conteggio per ottenere il suo peso.  Ora che abbiamo calcolato i pesi per ogni classe, possiamo procedere."
   ]
  },
  {
   "cell_type": "code",
   "execution_count": 15,
   "id": "AfYqQv22LFiY",
   "metadata": {
    "colab": {
     "base_uri": "https://localhost:8080/"
    },
    "id": "AfYqQv22LFiY",
    "outputId": "c3163ae9-b0da-4d02-8ba4-fc891257a66a"
   },
   "outputs": [
    {
     "name": "stdout",
     "output_type": "stream",
     "text": [
      "tensor([0.0004, 0.0015, 0.0020, 0.0037])\n"
     ]
    }
   ],
   "source": [
    "class_count = [i for i in get_class_distribution(train_label).values()]\n",
    "class_weights = 1./torch.tensor(class_count, dtype=torch.float) \n",
    "\n",
    "print(class_weights)"
   ]
  },
  {
   "cell_type": "markdown",
   "id": "kTcnQd-qLm_E",
   "metadata": {
    "id": "kTcnQd-qLm_E"
   },
   "source": [
    "WeightedRandomSampler prevede un peso per ogni campione.  Lo usiamo come segue."
   ]
  },
  {
   "cell_type": "code",
   "execution_count": 16,
   "id": "_k5ysLm-LRoX",
   "metadata": {
    "id": "_k5ysLm-LRoX"
   },
   "outputs": [],
   "source": [
    "class_weights_all = class_weights[target_list]"
   ]
  },
  {
   "cell_type": "markdown",
   "id": "jzKuSiX2LuMs",
   "metadata": {
    "id": "jzKuSiX2LuMs"
   },
   "source": [
    "Infine, inizializziamo il nostro WeightedRandomSampler.  Lo chiameremo nel nostro dataloader in seguito."
   ]
  },
  {
   "cell_type": "code",
   "execution_count": 17,
   "id": "0Kcco4ucL3j7",
   "metadata": {
    "id": "0Kcco4ucL3j7"
   },
   "outputs": [],
   "source": [
    "weighted_sampler = WeightedRandomSampler(\n",
    "    weights=class_weights_all,\n",
    "    num_samples=len(class_weights_all),\n",
    "    replacement=True\n",
    ")"
   ]
  },
  {
   "cell_type": "markdown",
   "id": "e449aca9",
   "metadata": {
    "id": "e449aca9"
   },
   "source": [
    "## Parametri del modello"
   ]
  },
  {
   "cell_type": "code",
   "execution_count": 18,
   "id": "404be4ab",
   "metadata": {
    "id": "404be4ab"
   },
   "outputs": [],
   "source": [
    "EPOCHS = 100\n",
    "BATCH_SIZE = 16\n",
    "LEARNING_RATE = 0.0002\n",
    "NUM_FEATURES = len(df.columns)-1\n",
    "NUM_CLASSES = 4"
   ]
  },
  {
   "cell_type": "markdown",
   "id": "fe209a48",
   "metadata": {
    "id": "fe209a48"
   },
   "source": [
    "## Dataloader"
   ]
  },
  {
   "cell_type": "code",
   "execution_count": 19,
   "id": "f65a6d03",
   "metadata": {
    "id": "f65a6d03"
   },
   "outputs": [],
   "source": [
    "train_loader = DataLoader(dataset=train_dataset, batch_size=BATCH_SIZE, shuffle=False, sampler=weighted_sampler)\n",
    "\n",
    "val_loader = DataLoader(dataset=val_dataset, batch_size=1, shuffle=False)\n",
    "\n",
    "test_loader = DataLoader(dataset=test_dataset, batch_size=1, shuffle=False)"
   ]
  },
  {
   "cell_type": "markdown",
   "id": "20e5701a",
   "metadata": {
    "id": "20e5701a"
   },
   "source": [
    "## Rete Neurale LSTM"
   ]
  },
  {
   "cell_type": "code",
   "execution_count": 20,
   "id": "51251295",
   "metadata": {
    "id": "51251295"
   },
   "outputs": [],
   "source": [
    "class LSTM(nn.Module):\n",
    "    def __init__(self, input_size, output_size=1, hidden_layer_size=100, num_layers=2):\n",
    "        super(LSTM, self).__init__()\n",
    "        self.num_layers = num_layers\n",
    "        self.hidden_size = hidden_layer_size \n",
    "        self.rnn = nn.LSTM(input_size, hidden_layer_size, num_layers, batch_first=True)\n",
    "        self.layer_1 = nn.Linear(hidden_layer_size, 50)\n",
    "        self.layer_2 = nn.Linear(50, 25)\n",
    "        self.layer_3 = nn.Linear(25, 5)\n",
    "        self.layer_out = nn.Linear(5, output_size) \n",
    "        #self.regressor = nn.Linear(hidden_layer_size, output_size)\n",
    "        \n",
    "        self.tanh = nn.Tanh()\n",
    "        self.dropout = nn.Dropout(p=0.2)\n",
    "        self.batchnorm1 = nn.BatchNorm1d(50)\n",
    "        self.batchnorm2 = nn.BatchNorm1d(25)\n",
    "        self.batchnorm3 = nn.BatchNorm1d(5)\n",
    "        \n",
    "    def forward(self, x):\n",
    "        h0 = torch.zeros(self.num_layers, x.size(0), self.hidden_size).to(device)\n",
    "        \n",
    "        c0 = torch.zeros(self.num_layers, x.size(0), self.hidden_size).to(device)\n",
    "        \n",
    "        h, _ = self.rnn(x, (h0, c0)) #h contiene i valori di tutti gli output\n",
    "        h = h[:,-1,:] #seleziona l'ultimo output\n",
    "        #h = h.squeeze(1) #trasforma la shape da bs x 1 x hidden_size a bs x hidden_size\n",
    "        \n",
    "        h = self.layer_1(h)\n",
    "        h = self.batchnorm1(h)\n",
    "        h = self.tanh(h)\n",
    "        \n",
    "        h = self.layer_2(h)\n",
    "        h = self.batchnorm2(h)\n",
    "        h = self.tanh(h)\n",
    "        h = self.dropout(h)\n",
    "        \n",
    "        h = self.layer_3(h)\n",
    "        h = self.batchnorm3(h)\n",
    "        h = self.tanh(h)\n",
    "        h = self.dropout(h)\n",
    "        \n",
    "        h = self.layer_out(h)\n",
    "        \n",
    "        return h"
   ]
  },
  {
   "cell_type": "code",
   "execution_count": 21,
   "id": "78e18779",
   "metadata": {
    "id": "78e18779"
   },
   "outputs": [],
   "source": [
    "device = torch.device('cuda' if torch.cuda.is_available() else 'cpu')"
   ]
  },
  {
   "cell_type": "code",
   "execution_count": 22,
   "id": "9a8781ca",
   "metadata": {
    "colab": {
     "base_uri": "https://localhost:8080/"
    },
    "id": "9a8781ca",
    "outputId": "4ef1ecbf-9f77-40d4-e886-53ba2b846eb4"
   },
   "outputs": [
    {
     "data": {
      "text/plain": [
       "device(type='cpu')"
      ]
     },
     "execution_count": 22,
     "metadata": {},
     "output_type": "execute_result"
    }
   ],
   "source": [
    "device"
   ]
  },
  {
   "cell_type": "code",
   "execution_count": 23,
   "id": "62349e74",
   "metadata": {
    "colab": {
     "base_uri": "https://localhost:8080/"
    },
    "id": "62349e74",
    "outputId": "669380f7-80da-42b9-d4ee-5a2c91586cc4"
   },
   "outputs": [
    {
     "name": "stdout",
     "output_type": "stream",
     "text": [
      "LSTM(\n",
      "  (rnn): LSTM(156, 100, num_layers=2, batch_first=True)\n",
      "  (layer_1): Linear(in_features=100, out_features=50, bias=True)\n",
      "  (layer_2): Linear(in_features=50, out_features=25, bias=True)\n",
      "  (layer_3): Linear(in_features=25, out_features=5, bias=True)\n",
      "  (layer_out): Linear(in_features=5, out_features=4, bias=True)\n",
      "  (tanh): Tanh()\n",
      "  (dropout): Dropout(p=0.2, inplace=False)\n",
      "  (batchnorm1): BatchNorm1d(50, eps=1e-05, momentum=0.1, affine=True, track_running_stats=True)\n",
      "  (batchnorm2): BatchNorm1d(25, eps=1e-05, momentum=0.1, affine=True, track_running_stats=True)\n",
      "  (batchnorm3): BatchNorm1d(5, eps=1e-05, momentum=0.1, affine=True, track_running_stats=True)\n",
      ")\n"
     ]
    }
   ],
   "source": [
    "model = LSTM(input_size=NUM_FEATURES, output_size=NUM_CLASSES)\n",
    "model.to(device)\n",
    "\n",
    "criterion = nn.CrossEntropyLoss(weight=class_weights.to(device))\n",
    "optimizer = torch.optim.Adam(model.parameters(), lr=LEARNING_RATE)\n",
    "\n",
    "print(model)"
   ]
  },
  {
   "cell_type": "markdown",
   "id": "930e16a8",
   "metadata": {
    "id": "930e16a8"
   },
   "source": [
    "## Train the model"
   ]
  },
  {
   "cell_type": "markdown",
   "id": "d38b5ea5",
   "metadata": {
    "id": "d38b5ea5"
   },
   "source": [
    "Prima di iniziare il nostro addestramento, definiamo una funzione per calcolare la precisione per epoca."
   ]
  },
  {
   "cell_type": "markdown",
   "id": "e77daf61",
   "metadata": {
    "id": "e77daf61"
   },
   "source": [
    "Questa funzione accetta y_pred e y_test come argomenti di input.  Quindi applichiamo log_softmax a y_pred ed estraiamo la classe che ha una probabilità maggiore."
   ]
  },
  {
   "cell_type": "markdown",
   "id": "ab0aa302",
   "metadata": {
    "id": "ab0aa302"
   },
   "source": [
    "Successivamente, confrontiamo le classi previste e le classi effettive per calcolare l'accuratezza."
   ]
  },
  {
   "cell_type": "code",
   "execution_count": 24,
   "id": "e1c00459",
   "metadata": {
    "id": "e1c00459"
   },
   "outputs": [],
   "source": [
    "def multi_acc(y_pred, y_test):\n",
    "    y_pred_softmax = torch.log_softmax(y_pred, dim = 1)\n",
    "    _, y_pred_tags = torch.max(y_pred_softmax, dim = 1)    \n",
    "    \n",
    "    correct_pred = (y_pred_tags == y_test).float()\n",
    "    acc = correct_pred.sum() / len(correct_pred)\n",
    "    \n",
    "    acc = torch.round(acc * 100)\n",
    "    \n",
    "    return acc"
   ]
  },
  {
   "cell_type": "markdown",
   "id": "85a2c253",
   "metadata": {
    "id": "85a2c253"
   },
   "source": [
    "Definiremo anche 2 dizionari che memorizzeranno l'accuratezza/epoca e la perdita/epoca sia per il treno che per i set di convalida."
   ]
  },
  {
   "cell_type": "code",
   "execution_count": 25,
   "id": "c907075c",
   "metadata": {
    "id": "c907075c"
   },
   "outputs": [],
   "source": [
    "accuracy_stats = {\n",
    "    'train': [],\n",
    "    \"val\": []\n",
    "}\n",
    "\n",
    "loss_stats = {\n",
    "    'train': [],\n",
    "    \"val\": []\n",
    "}"
   ]
  },
  {
   "cell_type": "code",
   "execution_count": 26,
   "id": "b01e00d5",
   "metadata": {
    "colab": {
     "base_uri": "https://localhost:8080/",
     "height": 1000,
     "referenced_widgets": [
      "2094ed721fd240278a95fc74faca5f69",
      "d4e2a214153843de8b454cfe9ba8c659",
      "ee4d57b50c9344e89d8f1e50b46696df",
      "8aad80fccf69488d94aad9331518fa23",
      "582e9dcf9b174c6b8bc6d4c386f273bd",
      "80718daf22514304850cc8435169a088",
      "ac1b37b0faee44569fe5f7c36c54655b",
      "6edbd7ef749d4d318f256bfed6190646"
     ]
    },
    "id": "b01e00d5",
    "outputId": "2dbffdbe-b7e5-486a-dc4c-7b7be2c78af7"
   },
   "outputs": [
    {
     "name": "stdout",
     "output_type": "stream",
     "text": [
      "Begin training.\n"
     ]
    },
    {
     "data": {
      "application/vnd.jupyter.widget-view+json": {
       "model_id": "d5a1e97509614ace84b3aa59df3ae44b",
       "version_major": 2,
       "version_minor": 0
      },
      "text/plain": [
       "  0%|          | 0/100 [00:00<?, ?it/s]"
      ]
     },
     "metadata": {},
     "output_type": "display_data"
    },
    {
     "name": "stdout",
     "output_type": "stream",
     "text": [
      "Epoch 001:          | Train Loss: 1.38343          | Val Loss: 1.18404          | Train Acc: 41.420          | Val Acc: 38.325\n",
      "Epoch 002:          | Train Loss: 1.32909          | Val Loss: 1.11538          | Train Acc: 43.987          | Val Acc: 73.269\n",
      "Epoch 003:          | Train Loss: 1.28205          | Val Loss: 1.17119          | Train Acc: 47.605          | Val Acc: 38.325\n",
      "Epoch 004:          | Train Loss: 1.24459          | Val Loss: 1.17180          | Train Acc: 50.580          | Val Acc: 37.520\n",
      "Epoch 005:          | Train Loss: 1.22667          | Val Loss: 1.10961          | Train Acc: 49.916          | Val Acc: 71.176\n",
      "Epoch 006:          | Train Loss: 1.16626          | Val Loss: 1.00333          | Train Acc: 54.185          | Val Acc: 75.845\n",
      "Epoch 007:          | Train Loss: 1.15044          | Val Loss: 1.10163          | Train Acc: 53.706          | Val Acc: 75.845\n",
      "Epoch 008:          | Train Loss: 1.12409          | Val Loss: 1.18534          | Train Acc: 53.370          | Val Acc: 31.723\n",
      "Epoch 009:          | Train Loss: 1.11375          | Val Loss: 1.08653          | Train Acc: 53.571          | Val Acc: 66.667\n",
      "Epoch 010:          | Train Loss: 1.07727          | Val Loss: 1.00537          | Train Acc: 55.122          | Val Acc: 79.066\n",
      "Epoch 011:          | Train Loss: 1.04452          | Val Loss: 1.15760          | Train Acc: 56.445          | Val Acc: 40.902\n",
      "Epoch 012:          | Train Loss: 1.01283          | Val Loss: 1.11734          | Train Acc: 57.265          | Val Acc: 45.411\n",
      "Epoch 013:          | Train Loss: 1.00367          | Val Loss: 1.20607          | Train Acc: 57.416          | Val Acc: 38.003\n",
      "Epoch 014:          | Train Loss: 0.98978          | Val Loss: 1.06595          | Train Acc: 57.807          | Val Acc: 47.021\n",
      "Epoch 015:          | Train Loss: 0.96324          | Val Loss: 0.94680          | Train Acc: 57.130          | Val Acc: 79.710\n",
      "Epoch 016:          | Train Loss: 0.93689          | Val Loss: 1.02373          | Train Acc: 59.996          | Val Acc: 44.122\n",
      "Epoch 017:          | Train Loss: 0.92154          | Val Loss: 0.96186          | Train Acc: 61.529          | Val Acc: 73.752\n",
      "Epoch 018:          | Train Loss: 0.89789          | Val Loss: 0.91760          | Train Acc: 61.567          | Val Acc: 78.261\n",
      "Epoch 019:          | Train Loss: 0.93670          | Val Loss: 1.16201          | Train Acc: 60.870          | Val Acc: 36.715\n",
      "Epoch 020:          | Train Loss: 0.90328          | Val Loss: 1.26987          | Train Acc: 62.059          | Val Acc: 37.198\n",
      "Epoch 021:          | Train Loss: 0.88425          | Val Loss: 1.10969          | Train Acc: 62.307          | Val Acc: 42.995\n",
      "Epoch 022:          | Train Loss: 0.89482          | Val Loss: 0.93858          | Train Acc: 61.832          | Val Acc: 40.580\n",
      "Epoch 023:          | Train Loss: 0.88241          | Val Loss: 1.02879          | Train Acc: 60.286          | Val Acc: 43.800\n",
      "Epoch 024:          | Train Loss: 0.85221          | Val Loss: 1.05551          | Train Acc: 63.668          | Val Acc: 43.639\n",
      "Epoch 025:          | Train Loss: 0.87843          | Val Loss: 1.18191          | Train Acc: 62.782          | Val Acc: 38.164\n",
      "Epoch 026:          | Train Loss: 0.81932          | Val Loss: 0.88715          | Train Acc: 66.290          | Val Acc: 75.845\n",
      "Epoch 027:          | Train Loss: 0.84839          | Val Loss: 0.89610          | Train Acc: 64.437          | Val Acc: 76.329\n",
      "Epoch 028:          | Train Loss: 0.83735          | Val Loss: 0.90279          | Train Acc: 64.492          | Val Acc: 79.066\n",
      "Epoch 029:          | Train Loss: 0.83313          | Val Loss: 1.12957          | Train Acc: 65.471          | Val Acc: 40.097\n",
      "Epoch 030:          | Train Loss: 0.82187          | Val Loss: 0.88358          | Train Acc: 65.210          | Val Acc: 77.778\n",
      "Epoch 031:          | Train Loss: 0.79304          | Val Loss: 0.91845          | Train Acc: 67.807          | Val Acc: 76.973\n",
      "Epoch 032:          | Train Loss: 0.81535          | Val Loss: 1.02204          | Train Acc: 64.559          | Val Acc: 45.572\n",
      "Epoch 033:          | Train Loss: 0.80909          | Val Loss: 0.93547          | Train Acc: 65.853          | Val Acc: 45.250\n",
      "Epoch 034:          | Train Loss: 0.78437          | Val Loss: 0.86179          | Train Acc: 66.336          | Val Acc: 79.227\n",
      "Epoch 035:          | Train Loss: 0.85445          | Val Loss: 0.81328          | Train Acc: 64.235          | Val Acc: 79.066\n",
      "Epoch 036:          | Train Loss: 0.74629          | Val Loss: 0.91682          | Train Acc: 68.836          | Val Acc: 75.684\n",
      "Epoch 037:          | Train Loss: 0.80385          | Val Loss: 0.90368          | Train Acc: 67.697          | Val Acc: 79.227\n",
      "Epoch 038:          | Train Loss: 0.82252          | Val Loss: 0.87175          | Train Acc: 65.807          | Val Acc: 78.583\n",
      "Epoch 039:          | Train Loss: 0.88595          | Val Loss: 1.07290          | Train Acc: 64.895          | Val Acc: 74.396\n",
      "Epoch 040:          | Train Loss: 0.82646          | Val Loss: 0.92613          | Train Acc: 66.105          | Val Acc: 48.792\n",
      "Epoch 041:          | Train Loss: 0.74135          | Val Loss: 1.01350          | Train Acc: 67.634          | Val Acc: 43.478\n",
      "Epoch 042:          | Train Loss: 0.76866          | Val Loss: 1.01106          | Train Acc: 68.147          | Val Acc: 41.224\n",
      "Epoch 043:          | Train Loss: 0.75913          | Val Loss: 1.08182          | Train Acc: 66.248          | Val Acc: 42.512\n",
      "Epoch 044:          | Train Loss: 0.79123          | Val Loss: 0.96805          | Train Acc: 67.248          | Val Acc: 76.167\n",
      "Epoch 045:          | Train Loss: 0.77950          | Val Loss: 0.84169          | Train Acc: 66.529          | Val Acc: 80.032\n",
      "Epoch 046:          | Train Loss: 0.74844          | Val Loss: 0.87024          | Train Acc: 69.668          | Val Acc: 80.998\n",
      "Epoch 047:          | Train Loss: 0.74287          | Val Loss: 0.97637          | Train Acc: 69.992          | Val Acc: 47.665\n",
      "Epoch 048:          | Train Loss: 0.78121          | Val Loss: 0.96526          | Train Acc: 67.097          | Val Acc: 43.961\n",
      "Epoch 049:          | Train Loss: 0.78129          | Val Loss: 0.78771          | Train Acc: 67.391          | Val Acc: 80.998\n",
      "Epoch 050:          | Train Loss: 0.73625          | Val Loss: 0.84646          | Train Acc: 69.697          | Val Acc: 76.329\n",
      "Epoch 051:          | Train Loss: 0.73524          | Val Loss: 0.89622          | Train Acc: 70.155          | Val Acc: 78.100\n",
      "Epoch 052:          | Train Loss: 0.73667          | Val Loss: 0.81179          | Train Acc: 69.202          | Val Acc: 80.515\n",
      "Epoch 053:          | Train Loss: 0.76590          | Val Loss: 0.93243          | Train Acc: 68.155          | Val Acc: 79.549\n",
      "Epoch 054:          | Train Loss: 0.73638          | Val Loss: 0.93680          | Train Acc: 68.668          | Val Acc: 77.134\n",
      "Epoch 055:          | Train Loss: 0.77966          | Val Loss: 0.97185          | Train Acc: 68.483          | Val Acc: 75.684\n",
      "Epoch 056:          | Train Loss: 0.78055          | Val Loss: 0.86050          | Train Acc: 69.151          | Val Acc: 78.261\n",
      "Epoch 057:          | Train Loss: 0.68977          | Val Loss: 0.87050          | Train Acc: 72.609          | Val Acc: 79.227\n",
      "Epoch 058:          | Train Loss: 0.73195          | Val Loss: 0.94533          | Train Acc: 69.164          | Val Acc: 44.928\n",
      "Epoch 059:          | Train Loss: 0.72506          | Val Loss: 0.87497          | Train Acc: 68.718          | Val Acc: 76.812\n",
      "Epoch 060:          | Train Loss: 0.75581          | Val Loss: 0.80814          | Train Acc: 71.113          | Val Acc: 76.490\n",
      "Epoch 061:          | Train Loss: 0.78009          | Val Loss: 0.86440          | Train Acc: 67.303          | Val Acc: 78.422\n",
      "Epoch 062:          | Train Loss: 0.71968          | Val Loss: 0.94632          | Train Acc: 70.202          | Val Acc: 41.224\n",
      "Epoch 063:          | Train Loss: 0.73026          | Val Loss: 0.88638          | Train Acc: 69.702          | Val Acc: 77.778\n",
      "Epoch 064:          | Train Loss: 0.71303          | Val Loss: 0.88455          | Train Acc: 70.601          | Val Acc: 75.845\n",
      "Epoch 065:          | Train Loss: 0.71063          | Val Loss: 0.88370          | Train Acc: 70.256          | Val Acc: 76.651\n"
     ]
    },
    {
     "name": "stdout",
     "output_type": "stream",
     "text": [
      "Epoch 066:          | Train Loss: 0.70974          | Val Loss: 0.94502          | Train Acc: 70.992          | Val Acc: 79.066\n",
      "Epoch 067:          | Train Loss: 0.74667          | Val Loss: 0.83515          | Train Acc: 69.319          | Val Acc: 78.422\n",
      "Epoch 068:          | Train Loss: 0.73960          | Val Loss: 0.96138          | Train Acc: 69.651          | Val Acc: 76.812\n",
      "Epoch 069:          | Train Loss: 0.79582          | Val Loss: 0.79191          | Train Acc: 66.063          | Val Acc: 75.845\n",
      "Epoch 070:          | Train Loss: 0.73222          | Val Loss: 0.84493          | Train Acc: 72.084          | Val Acc: 79.710\n",
      "Epoch 071:          | Train Loss: 0.75789          | Val Loss: 0.77696          | Train Acc: 67.983          | Val Acc: 78.261\n",
      "Epoch 072:          | Train Loss: 0.70023          | Val Loss: 0.86291          | Train Acc: 71.118          | Val Acc: 80.193\n",
      "Epoch 073:          | Train Loss: 0.75011          | Val Loss: 0.88462          | Train Acc: 69.761          | Val Acc: 78.100\n",
      "Epoch 074:          | Train Loss: 0.70302          | Val Loss: 0.85398          | Train Acc: 69.651          | Val Acc: 77.778\n",
      "Epoch 075:          | Train Loss: 0.71340          | Val Loss: 0.99981          | Train Acc: 70.223          | Val Acc: 75.684\n",
      "Epoch 076:          | Train Loss: 0.68174          | Val Loss: 0.83117          | Train Acc: 70.929          | Val Acc: 79.710\n",
      "Epoch 077:          | Train Loss: 0.70142          | Val Loss: 0.89090          | Train Acc: 72.618          | Val Acc: 79.227\n",
      "Epoch 078:          | Train Loss: 0.70978          | Val Loss: 0.98557          | Train Acc: 71.294          | Val Acc: 39.452\n",
      "Epoch 079:          | Train Loss: 0.71445          | Val Loss: 0.89860          | Train Acc: 71.134          | Val Acc: 77.617\n",
      "Epoch 080:          | Train Loss: 0.69809          | Val Loss: 0.98970          | Train Acc: 71.748          | Val Acc: 76.651\n",
      "Epoch 081:          | Train Loss: 0.76350          | Val Loss: 0.88273          | Train Acc: 68.441          | Val Acc: 77.456\n",
      "Epoch 082:          | Train Loss: 0.71228          | Val Loss: 1.05252          | Train Acc: 71.227          | Val Acc: 42.512\n",
      "Epoch 083:          | Train Loss: 0.67873          | Val Loss: 0.90998          | Train Acc: 71.080          | Val Acc: 78.905\n",
      "Epoch 084:          | Train Loss: 0.70593          | Val Loss: 0.93687          | Train Acc: 71.412          | Val Acc: 77.134\n",
      "Epoch 085:          | Train Loss: 0.66504          | Val Loss: 0.94720          | Train Acc: 71.445          | Val Acc: 41.707\n",
      "Epoch 086:          | Train Loss: 0.67693          | Val Loss: 0.82557          | Train Acc: 71.370          | Val Acc: 76.329\n",
      "Epoch 087:          | Train Loss: 0.73560          | Val Loss: 0.84395          | Train Acc: 70.761          | Val Acc: 78.100\n",
      "Epoch 088:          | Train Loss: 0.67797          | Val Loss: 0.79692          | Train Acc: 73.508          | Val Acc: 79.871\n",
      "Epoch 089:          | Train Loss: 0.68380          | Val Loss: 0.93598          | Train Acc: 72.416          | Val Acc: 78.261\n",
      "Epoch 090:          | Train Loss: 0.78617          | Val Loss: 0.92972          | Train Acc: 69.933          | Val Acc: 76.490\n",
      "Epoch 091:          | Train Loss: 0.68257          | Val Loss: 0.97183          | Train Acc: 71.693          | Val Acc: 75.040\n",
      "Epoch 092:          | Train Loss: 0.66908          | Val Loss: 0.94038          | Train Acc: 72.454          | Val Acc: 76.490\n",
      "Epoch 093:          | Train Loss: 0.70368          | Val Loss: 0.90440          | Train Acc: 71.828          | Val Acc: 78.905\n",
      "Epoch 094:          | Train Loss: 0.72979          | Val Loss: 0.95970          | Train Acc: 72.038          | Val Acc: 77.778\n",
      "Epoch 095:          | Train Loss: 0.70263          | Val Loss: 0.88176          | Train Acc: 72.899          | Val Acc: 78.744\n",
      "Epoch 096:          | Train Loss: 0.66711          | Val Loss: 0.96640          | Train Acc: 71.513          | Val Acc: 75.845\n",
      "Epoch 097:          | Train Loss: 0.67949          | Val Loss: 0.80809          | Train Acc: 71.034          | Val Acc: 80.515\n",
      "Epoch 098:          | Train Loss: 0.69588          | Val Loss: 0.92299          | Train Acc: 73.261          | Val Acc: 77.778\n",
      "Epoch 099:          | Train Loss: 0.65703          | Val Loss: 0.91762          | Train Acc: 74.639          | Val Acc: 78.261\n",
      "Epoch 100:          | Train Loss: 0.64563          | Val Loss: 0.93766          | Train Acc: 74.277          | Val Acc: 46.377\n",
      "Done.\n"
     ]
    }
   ],
   "source": [
    "print(\"Begin training.\")\n",
    "\n",
    "for e in tqdm(range(1, EPOCHS+1)):\n",
    "    \n",
    "    # TRAINING\n",
    "    train_epoch_loss = 0\n",
    "    train_epoch_acc = 0\n",
    "    \n",
    "    model.train()\n",
    "    for X_train_batch, y_train_batch in train_loader:\n",
    "        X_train_batch, y_train_batch = X_train_batch.to(device), y_train_batch.to(device)\n",
    "        optimizer.zero_grad()\n",
    "        \n",
    "        y_train_pred = model(X_train_batch)\n",
    "        \n",
    "        train_loss = criterion(y_train_pred, y_train_batch)\n",
    "        train_acc = multi_acc(y_train_pred, y_train_batch)\n",
    "        \n",
    "        train_loss.backward()\n",
    "        optimizer.step()\n",
    "        \n",
    "        train_epoch_loss += train_loss.item()\n",
    "        train_epoch_acc += train_acc.item()\n",
    "        \n",
    "    # VALIDATION    \n",
    "    with torch.no_grad():\n",
    "        \n",
    "        val_epoch_loss = 0\n",
    "        val_epoch_acc = 0\n",
    "        \n",
    "        model.eval()\n",
    "        for X_val_batch, y_val_batch in val_loader:\n",
    "            X_val_batch, y_val_batch = X_val_batch.to(device), y_val_batch.to(device)\n",
    "            \n",
    "            y_val_pred = model(X_val_batch)\n",
    "                        \n",
    "            val_loss = criterion(y_val_pred, y_val_batch)\n",
    "            val_acc = multi_acc(y_val_pred, y_val_batch)\n",
    "            \n",
    "            val_epoch_loss += val_loss.item()\n",
    "            val_epoch_acc += val_acc.item()\n",
    "            \n",
    "    loss_stats['train'].append(train_epoch_loss/len(train_loader))        \n",
    "    loss_stats['val'].append(val_epoch_loss/len(val_loader))\n",
    "    accuracy_stats['train'].append(train_epoch_acc/len(train_loader))\n",
    "    accuracy_stats['val'].append(val_epoch_acc/len(val_loader))\n",
    "                              \n",
    "    writer.add_scalars(\"Loss/train_val\", {\n",
    "        \"train\": train_epoch_loss/len(train_loader),\n",
    "        \"val\": val_epoch_loss/len(val_loader),\n",
    "    }, e)\n",
    "    writer.add_scalars(\"Acc/train_val\", {\n",
    "        \"train\": train_epoch_acc/len(train_loader),\n",
    "        \"val\": val_epoch_acc/len(val_loader),\n",
    "    }, e)\n",
    "    writer.flush()\n",
    "    print(f'Epoch {e+0:03}:\\\n",
    "          | Train Loss: {train_epoch_loss/len(train_loader):.5f}\\\n",
    "          | Val Loss: {val_epoch_loss/len(val_loader):.5f}\\\n",
    "          | Train Acc: {train_epoch_acc/len(train_loader):.3f}\\\n",
    "          | Val Acc: {val_epoch_acc/len(val_loader):.3f}')\n",
    "writer.close()\n",
    "print(\"Done.\")"
   ]
  },
  {
   "cell_type": "markdown",
   "id": "bf53d3eb",
   "metadata": {
    "id": "bf53d3eb"
   },
   "source": [
    "## Visualizzazione Loss e Accuracy"
   ]
  },
  {
   "cell_type": "markdown",
   "id": "21362aee",
   "metadata": {
    "id": "21362aee"
   },
   "source": [
    "Per tracciare i grafici delle linee di perdita e accuratezza, creiamo nuovamente un dataframe dai dizionari precision_stats e loss_stats."
   ]
  },
  {
   "cell_type": "code",
   "execution_count": 27,
   "id": "d42f2836",
   "metadata": {
    "colab": {
     "base_uri": "https://localhost:8080/",
     "height": 475
    },
    "id": "d42f2836",
    "outputId": "1bfe85ff-db53-4879-92cf-854e44ef7fea"
   },
   "outputs": [
    {
     "data": {
      "text/plain": [
       "Text(0.5, 1.0, 'Train-Val Loss/Epoch')"
      ]
     },
     "execution_count": 27,
     "metadata": {},
     "output_type": "execute_result"
    },
    {
     "data": {
      "image/png": "[encoded data removed]",
      "text/plain": [
       "<Figure size 1440x504 with 2 Axes>"
      ]
     },
     "metadata": {
      "needs_background": "light"
     },
     "output_type": "display_data"
    }
   ],
   "source": [
    "# Create dataframes\n",
    "train_val_acc_df = pd.DataFrame.from_dict(accuracy_stats).reset_index().melt(id_vars=['index']).rename(columns={\"index\":\"epochs\"})\n",
    "train_val_loss_df = pd.DataFrame.from_dict(loss_stats).reset_index().melt(id_vars=['index']).rename(columns={\"index\":\"epochs\"})\n",
    "\n",
    "# Plot the dataframes\n",
    "fig, axes = plt.subplots(nrows=1, ncols=2, figsize=(20,7))\n",
    "\n",
    "sns.lineplot(data=train_val_acc_df, x = \"epochs\", y=\"value\", hue=\"variable\", ax=axes[0]).set_title('Train-Val Accuracy/Epoch')\n",
    "sns.lineplot(data=train_val_loss_df, x = \"epochs\", y=\"value\", hue=\"variable\", ax=axes[1]).set_title('Train-Val Loss/Epoch')"
   ]
  },
  {
   "cell_type": "markdown",
   "id": "bac0b337",
   "metadata": {
    "id": "bac0b337"
   },
   "source": [
    "## Test the model"
   ]
  },
  {
   "cell_type": "markdown",
   "id": "84238398",
   "metadata": {
    "id": "84238398"
   },
   "source": [
    "Al termine dell'addestramento, dobbiamo testare come si è comportato il nostro modello.  Nota che abbiamo usato model.eval() prima di eseguire il nostro codice di test.  Per dire a PyTorch che non vogliamo eseguire la retropropagazione durante l'inferenza, usiamo torch.no_grad(), proprio come abbiamo fatto per il ciclo di convalida sopra."
   ]
  },
  {
   "cell_type": "markdown",
   "id": "d2f0fd7f",
   "metadata": {
    "id": "d2f0fd7f"
   },
   "source": [
    "Iniziamo definendo un elenco che conterrà le nostre previsioni.  Quindi eseguiamo il ciclo dei nostri batch utilizzando test_loader."
   ]
  },
  {
   "cell_type": "code",
   "execution_count": 28,
   "id": "adc82670",
   "metadata": {
    "id": "adc82670"
   },
   "outputs": [],
   "source": [
    "y_pred_list = []\n",
    "\n",
    "with torch.no_grad():\n",
    "    model.eval()\n",
    "    for X_batch, _ in test_loader:\n",
    "        X_batch = X_batch.to(device)\n",
    "        y_test_pred = model(X_batch)\n",
    "        _, y_pred_tags = torch.max(y_test_pred, dim = 1)\n",
    "        y_pred_list.append(y_pred_tags.cpu().numpy())\n",
    "\n",
    "y_pred_list = [a.squeeze().tolist() for a in y_pred_list]"
   ]
  },
  {
   "cell_type": "markdown",
   "id": "a5507ef3",
   "metadata": {
    "id": "a5507ef3"
   },
   "source": [
    "## Confusion Matrix"
   ]
  },
  {
   "cell_type": "markdown",
   "id": "8a3aa387",
   "metadata": {
    "id": "8a3aa387"
   },
   "source": [
    "Creiamo un dataframe dalla matrice di confusione e lo tracciamo come una mappa di calore utilizzando la libreria Seaborn."
   ]
  },
  {
   "cell_type": "code",
   "execution_count": 29,
   "id": "6a1bfae3",
   "metadata": {
    "colab": {
     "base_uri": "https://localhost:8080/",
     "height": 283
    },
    "id": "6a1bfae3",
    "outputId": "b9698171-dbfb-4f11-8d1f-abc31d6ec3ba"
   },
   "outputs": [
    {
     "data": {
      "text/plain": [
       "<AxesSubplot:>"
      ]
     },
     "execution_count": 29,
     "metadata": {},
     "output_type": "execute_result"
    },
    {
     "data": {
      "image/png": "[encoded data removed]",
      "text/plain": [
       "<Figure size 432x288 with 2 Axes>"
      ]
     },
     "metadata": {
      "needs_background": "light"
     },
     "output_type": "display_data"
    }
   ],
   "source": [
    "confusion_matrix_df = pd.DataFrame(confusion_matrix(test_Y, y_pred_list)).rename(columns=idx2class, index=idx2class)\n",
    "sns.heatmap(confusion_matrix_df, annot=True)"
   ]
  },
  {
   "cell_type": "code",
   "execution_count": 30,
   "id": "94b39741",
   "metadata": {
    "colab": {
     "base_uri": "https://localhost:8080/"
    },
    "id": "94b39741",
    "outputId": "e5c2c9d6-3d6f-4a90-fa20-e4683bace465"
   },
   "outputs": [
    {
     "name": "stdout",
     "output_type": "stream",
     "text": [
      "              precision    recall  f1-score   support\n",
      "\n",
      "           0       0.73      0.32      0.45      1334\n",
      "           1       0.38      0.28      0.33       204\n",
      "           2       0.07      0.42      0.12       179\n",
      "           3       0.49      0.22      0.31       176\n",
      "\n",
      "    accuracy                           0.32      1893\n",
      "   macro avg       0.42      0.31      0.30      1893\n",
      "weighted avg       0.61      0.32      0.39      1893\n",
      "\n"
     ]
    }
   ],
   "source": [
    "print(classification_report(test_Y, y_pred_list))"
   ]
  },
  {
   "cell_type": "code",
   "execution_count": null,
   "id": "5bbde930",
   "metadata": {
    "id": "5bbde930"
   },
   "outputs": [],
   "source": []
  }
 ],
 "metadata": {
  "accelerator": "GPU",
  "colab": {
   "name": "LSTM_Funzionante.ipynb",
   "provenance": []
  },
  "kernelspec": {
   "display_name": "Python 3",
   "language": "python",
   "name": "python3"
  },
  "language_info": {
   "codemirror_mode": {
    "name": "ipython",
    "version": 3
   },
   "file_extension": ".py",
   "mimetype": "text/x-python",
   "name": "python",
   "nbconvert_exporter": "python",
   "pygments_lexer": "ipython3",
   "version": "3.8.6"
  },
  "widgets": {
   "application/vnd.jupyter.widget-state+json": {
    "2094ed721fd240278a95fc74faca5f69": {
     "model_module": "@jupyter-widgets/controls",
     "model_name": "HBoxModel",
     "state": {
      "_dom_classes": [],
      "_model_module": "@jupyter-widgets/controls",
      "_model_module_version": "1.5.0",
      "_model_name": "HBoxModel",
      "_view_count": null,
      "_view_module": "@jupyter-widgets/controls",
      "_view_module_version": "1.5.0",
      "_view_name": "HBoxView",
      "box_style": "",
      "children": [
       "IPY_MODEL_ee4d57b50c9344e89d8f1e50b46696df",
       "IPY_MODEL_8aad80fccf69488d94aad9331518fa23"
      ],
      "layout": "IPY_MODEL_d4e2a214153843de8b454cfe9ba8c659"
     }
    },
    "582e9dcf9b174c6b8bc6d4c386f273bd": {
     "model_module": "@jupyter-widgets/controls",
     "model_name": "ProgressStyleModel",
     "state": {
      "_model_module": "@jupyter-widgets/controls",
      "_model_module_version": "1.5.0",
      "_model_name": "ProgressStyleModel",
      "_view_count": null,
      "_view_module": "@jupyter-widgets/base",
      "_view_module_version": "1.2.0",
      "_view_name": "StyleView",
      "bar_color": null,
      "description_width": "initial"
     }
    },
    "6edbd7ef749d4d318f256bfed6190646": {
     "model_module": "@jupyter-widgets/base",
     "model_name": "LayoutModel",
     "state": {
      "_model_module": "@jupyter-widgets/base",
      "_model_module_version": "1.2.0",
      "_model_name": "LayoutModel",
      "_view_count": null,
      "_view_module": "@jupyter-widgets/base",
      "_view_module_version": "1.2.0",
      "_view_name": "LayoutView",
      "align_content": null,
      "align_items": null,
      "align_self": null,
      "border": null,
      "bottom": null,
      "display": null,
      "flex": null,
      "flex_flow": null,
      "grid_area": null,
      "grid_auto_columns": null,
      "grid_auto_flow": null,
      "grid_auto_rows": null,
      "grid_column": null,
      "grid_gap": null,
      "grid_row": null,
      "grid_template_areas": null,
      "grid_template_columns": null,
      "grid_template_rows": null,
      "height": null,
      "justify_content": null,
      "justify_items": null,
      "left": null,
      "margin": null,
      "max_height": null,
      "max_width": null,
      "min_height": null,
      "min_width": null,
      "object_fit": null,
      "object_position": null,
      "order": null,
      "overflow": null,
      "overflow_x": null,
      "overflow_y": null,
      "padding": null,
      "right": null,
      "top": null,
      "visibility": null,
      "width": null
     }
    },
    "80718daf22514304850cc8435169a088": {
     "model_module": "@jupyter-widgets/base",
     "model_name": "LayoutModel",
     "state": {
      "_model_module": "@jupyter-widgets/base",
      "_model_module_version": "1.2.0",
      "_model_name": "LayoutModel",
      "_view_count": null,
      "_view_module": "@jupyter-widgets/base",
      "_view_module_version": "1.2.0",
      "_view_name": "LayoutView",
      "align_content": null,
      "align_items": null,
      "align_self": null,
      "border": null,
      "bottom": null,
      "display": null,
      "flex": null,
      "flex_flow": null,
      "grid_area": null,
      "grid_auto_columns": null,
      "grid_auto_flow": null,
      "grid_auto_rows": null,
      "grid_column": null,
      "grid_gap": null,
      "grid_row": null,
      "grid_template_areas": null,
      "grid_template_columns": null,
      "grid_template_rows": null,
      "height": null,
      "justify_content": null,
      "justify_items": null,
      "left": null,
      "margin": null,
      "max_height": null,
      "max_width": null,
      "min_height": null,
      "min_width": null,
      "object_fit": null,
      "object_position": null,
      "order": null,
      "overflow": null,
      "overflow_x": null,
      "overflow_y": null,
      "padding": null,
      "right": null,
      "top": null,
      "visibility": null,
      "width": null
     }
    },
    "8aad80fccf69488d94aad9331518fa23": {
     "model_module": "@jupyter-widgets/controls",
     "model_name": "HTMLModel",
     "state": {
      "_dom_classes": [],
      "_model_module": "@jupyter-widgets/controls",
      "_model_module_version": "1.5.0",
      "_model_name": "HTMLModel",
      "_view_count": null,
      "_view_module": "@jupyter-widgets/controls",
      "_view_module_version": "1.5.0",
      "_view_name": "HTMLView",
      "description": "",
      "description_tooltip": null,
      "layout": "IPY_MODEL_6edbd7ef749d4d318f256bfed6190646",
      "placeholder": "​",
      "style": "IPY_MODEL_ac1b37b0faee44569fe5f7c36c54655b",
      "value": " 100/100 [05:21&lt;00:00,  3.22s/it]"
     }
    },
    "ac1b37b0faee44569fe5f7c36c54655b": {
     "model_module": "@jupyter-widgets/controls",
     "model_name": "DescriptionStyleModel",
     "state": {
      "_model_module": "@jupyter-widgets/controls",
      "_model_module_version": "1.5.0",
      "_model_name": "DescriptionStyleModel",
      "_view_count": null,
      "_view_module": "@jupyter-widgets/base",
      "_view_module_version": "1.2.0",
      "_view_name": "StyleView",
      "description_width": ""
     }
    },
    "d4e2a214153843de8b454cfe9ba8c659": {
     "model_module": "@jupyter-widgets/base",
     "model_name": "LayoutModel",
     "state": {
      "_model_module": "@jupyter-widgets/base",
      "_model_module_version": "1.2.0",
      "_model_name": "LayoutModel",
      "_view_count": null,
      "_view_module": "@jupyter-widgets/base",
      "_view_module_version": "1.2.0",
      "_view_name": "LayoutView",
      "align_content": null,
      "align_items": null,
      "align_self": null,
      "border": null,
      "bottom": null,
      "display": null,
      "flex": null,
      "flex_flow": null,
      "grid_area": null,
      "grid_auto_columns": null,
      "grid_auto_flow": null,
      "grid_auto_rows": null,
      "grid_column": null,
      "grid_gap": null,
      "grid_row": null,
      "grid_template_areas": null,
      "grid_template_columns": null,
      "grid_template_rows": null,
      "height": null,
      "justify_content": null,
      "justify_items": null,
      "left": null,
      "margin": null,
      "max_height": null,
      "max_width": null,
      "min_height": null,
      "min_width": null,
      "object_fit": null,
      "object_position": null,
      "order": null,
      "overflow": null,
      "overflow_x": null,
      "overflow_y": null,
      "padding": null,
      "right": null,
      "top": null,
      "visibility": null,
      "width": null
     }
    },
    "ee4d57b50c9344e89d8f1e50b46696df": {
     "model_module": "@jupyter-widgets/controls",
     "model_name": "FloatProgressModel",
     "state": {
      "_dom_classes": [],
      "_model_module": "@jupyter-widgets/controls",
      "_model_module_version": "1.5.0",
      "_model_name": "FloatProgressModel",
      "_view_count": null,
      "_view_module": "@jupyter-widgets/controls",
      "_view_module_version": "1.5.0",
      "_view_name": "ProgressView",
      "bar_style": "success",
      "description": "100%",
      "description_tooltip": null,
      "layout": "IPY_MODEL_80718daf22514304850cc8435169a088",
      "max": 100,
      "min": 0,
      "orientation": "horizontal",
      "style": "IPY_MODEL_582e9dcf9b174c6b8bc6d4c386f273bd",
      "value": 100
     }
    }
   }
  }
 },
 "nbformat": 4,
 "nbformat_minor": 5
}

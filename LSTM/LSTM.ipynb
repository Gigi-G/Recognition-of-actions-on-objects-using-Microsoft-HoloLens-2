{
 "cells": [
  {
   "cell_type": "markdown",
   "metadata": {},
   "source": [
    "# LSTM (Long Short-Term Memory)"
   ]
  },
  {
   "cell_type": "markdown",
   "metadata": {},
   "source": [
    "Gli elementi principali di questo modello sono:\n",
    "\n",
    "- la capacità di *didmenticare* (**forget**);\n",
    "- la capacità di *salvare* (**save**);\n",
    "- la capacità di *mettere a fuoco* (**focus**) gli aspetti più rilevanti della memoria.\n",
    "\n",
    "Il modello LSTM ha due layer nascosti ad ogni istante di tempo t:\n",
    "\n",
    "- $s_t$, *state vector*, cioè la memoria di lavoro;\n",
    "- $c_t$, *cell state*, cioè la memoria a lungo termine.\n",
    "\n",
    "Questi due vettori di stato hanno la stessa lunghezza."
   ]
  },
  {
   "cell_type": "markdown",
   "metadata": {},
   "source": [
    "L'architettura che abilita la capacità di *forget*, *save* e *focus* è il **gate**.\n",
    "Un gate **g** è un vettore della stessa lunghezza dello *state vecor* **s**; ogni elemento del gate è compreso tra 0 e 1.\n",
    "Il prodotto di Hadamard $s \\circ g$ permette di selezionare solo alcuni elementi del vettore di stato da passare.\n",
    "Solitamente il *gate* è creato da una combinazione lineare dello stato nascosto con l'input corrente.\n",
    "In generale, un LSTM può usare differenti tipi di gate, ognuno per uno scopo differente. Al tempo t, possiamo creare un gate **g** come segue:\n",
    "<center>$g = \\sigma(W * s_{t-1} + U * x_t + b)$</center>\n",
    "W e U sono matrici peso e b il vettore di bias. "
   ]
  },
  {
   "cell_type": "markdown",
   "metadata": {},
   "source": [
    "Al tempo t, possiamo calcolare un candidato come un vettore di aggiornamento dello stato $h_t$ basato sul precedente stato nascosto e dall'input corrente:\n",
    "<center>$h_t = \\tanh(W_h * s_{t-1} + U_h * x_t + b_h$</center>\n"
   ]
  },
  {
   "cell_type": "markdown",
   "metadata": {},
   "source": [
    "Inoltre si calcolano due gate:\n",
    "\n",
    "- il forget gate $f_t$, che determina quali aspetti della memoria a lungo termine bisogna rtrattenere;\n",
    "- l'input gate $i_t$, che determina quali parti di $h_t$ bisogna salvare nella memoria a lungo termine.\n",
    "\n",
    "<center>$f_t = \\sigma(W_f * s_{t-1} + U_f * x_t + b_f$</center>\n",
    "<center>$i_t = \\sigma(W_i * s_{t-1} + U_i * x_t + b_i$</center>\n",
    "\n",
    "A questo puhnto possiamo aggiornare la memoria a lungo termine nel seguente modo:\n",
    "<center>$c_t = c_{t-1} \\circ f_t + h_t \\circ i_t$</center>"
   ]
  },
  {
   "cell_type": "markdown",
   "metadata": {},
   "source": [
    "A questo punto bisogna aggiornate la memoria corrente, possiamo farlo in due passi:\n",
    "\n",
    "1. creare un output gate;\n",
    "2. applicare l'output gate alla memoria a lungo termine usanto la funzione di attivazione tanh.\n",
    "\n",
    "<center>$o_t = \\sigma(W * o_{t-1} + U_o * x_t + b_o$</center>\n",
    "<center>$s_t = \\tanh(c_t \\circ o_t)$</center>"
   ]
  },
  {
   "cell_type": "markdown",
   "metadata": {},
   "source": [
    "L'output al tempo t è dato dalla seguente espressione:\n",
    "<center>$y_t = g(V * s_t + d)$</center>\n",
    "\n",
    "dove *g* è una funzione di attivazione, *V* una matrice dei pesi e *d* il vettore di bias."
   ]
  },
  {
   "cell_type": "markdown",
   "metadata": {},
   "source": [
    "Alcuni esempi:<br>\n",
    "<a href=\"https://github.com/jaungiers/LSTM-Neural-Network-for-Time-Series-Prediction\" target=\"_blank\">https://github.com/jaungiers/LSTM-Neural-Network-for-Time-Series-Prediction</a><br>\n",
    "<a href=\"https://github.com/guillaume-chevalier/LSTM-Human-Activity-Recognition\" target=\"_blank\">https://github.com/guillaume-chevalier/LSTM-Human-Activity-Recognition</a><br>\n",
    "<a href=\"https://github.com/hichenway/stock_predict_with_LSTM\" target=\"_blank\">https://github.com/hichenway/stock_predict_with_LSTM</a><br>\n",
    "<a href=\"https://keras.io/examples/timeseries/timeseries_weather_forecasting/\" target=\"_blank\">https://keras.io/examples/timeseries/timeseries_weather_forecasting/</a><br>"
   ]
  },
  {
   "cell_type": "code",
   "execution_count": 2,
   "metadata": {},
   "outputs": [
    {
     "data": {
      "image/png": "[encoded data removed]",
      "text/plain": [
       "<Figure size 432x288 with 1 Axes>"
      ]
     },
     "metadata": {
      "needs_background": "light"
     },
     "output_type": "display_data"
    }
   ],
   "source": [
    "import pandas\n",
    "import matplotlib.pyplot as plt\n",
    "dataset = pandas.read_csv('airline-passengers.csv', usecols=[1], engine='python')\n",
    "plt.plot(dataset)\n",
    "plt.show()"
   ]
  },
  {
   "cell_type": "markdown",
   "metadata": {},
   "source": [
    "Possiamo definire il problema come un problema di regressione.\n",
    "\n",
    "Cioè, dato il numero di passeggeri (in unità di migliaia) questo mese, qual è il numero di passeggeri il mese prossimo?\n",
    "\n",
    "Possiamo scrivere una semplice funzione per convertire la nostra singola colonna di dati in un set di dati a due colonne: la prima colonna contenente il conteggio dei passeggeri di questo mese (t) e la seconda colonna contenente il conteggio dei passeggeri del mese successivo (t + 1), da prevedere."
   ]
  },
  {
   "cell_type": "code",
   "execution_count": 11,
   "metadata": {},
   "outputs": [],
   "source": [
    "import numpy\n",
    "import matplotlib.pyplot as plt\n",
    "import pandas\n",
    "import math\n",
    "from tensorflow.keras.models import Sequential\n",
    "from tensorflow.keras.layers import Dense\n",
    "from tensorflow.keras.layers import LSTM\n",
    "from sklearn.preprocessing import MinMaxScaler\n",
    "from sklearn.metrics import mean_squared_error"
   ]
  },
  {
   "cell_type": "code",
   "execution_count": 12,
   "metadata": {},
   "outputs": [],
   "source": [
    "# fix random seed for reproducibility\n",
    "numpy.random.seed(7)"
   ]
  },
  {
   "cell_type": "code",
   "execution_count": 13,
   "metadata": {},
   "outputs": [],
   "source": [
    "# load the dataset\n",
    "dataframe = pandas.read_csv('airline-passengers.csv', usecols=[1], engine='python')\n",
    "dataset = dataframe.values\n",
    "dataset = dataset.astype('float32')"
   ]
  },
  {
   "cell_type": "code",
   "execution_count": 14,
   "metadata": {},
   "outputs": [],
   "source": [
    "# normalize the dataset\n",
    "scaler = MinMaxScaler(feature_range=(0, 1))\n",
    "dataset = scaler.fit_transform(dataset)"
   ]
  },
  {
   "cell_type": "code",
   "execution_count": 15,
   "metadata": {},
   "outputs": [
    {
     "name": "stdout",
     "output_type": "stream",
     "text": [
      "96 48\n"
     ]
    }
   ],
   "source": [
    "# split into train and test sets\n",
    "train_size = int(len(dataset) * 0.67)\n",
    "test_size = len(dataset) - train_size\n",
    "train, test = dataset[0:train_size,:], dataset[train_size:len(dataset),:]\n",
    "print(len(train), len(test))"
   ]
  },
  {
   "cell_type": "code",
   "execution_count": 16,
   "metadata": {},
   "outputs": [],
   "source": [
    "# convert an array of values into a dataset matrix\n",
    "def create_dataset(dataset, look_back=1):\n",
    "\tdataX, dataY = [], []\n",
    "\tfor i in range(len(dataset)-look_back-1):\n",
    "\t\ta = dataset[i:(i+look_back), 0]\n",
    "\t\tdataX.append(a)\n",
    "\t\tdataY.append(dataset[i + look_back, 0])\n",
    "\treturn numpy.array(dataX), numpy.array(dataY)"
   ]
  },
  {
   "cell_type": "code",
   "execution_count": 18,
   "metadata": {},
   "outputs": [],
   "source": [
    "# reshape into X=t and Y=t+1\n",
    "look_back = 1\n",
    "trainX, trainY = create_dataset(train, look_back)\n",
    "testX, testY = create_dataset(test, look_back)"
   ]
  },
  {
   "cell_type": "code",
   "execution_count": 19,
   "metadata": {},
   "outputs": [],
   "source": [
    "# reshape input to be [samples, time steps, features]\n",
    "trainX = numpy.reshape(trainX, (trainX.shape[0], 1, trainX.shape[1]))\n",
    "testX = numpy.reshape(testX, (testX.shape[0], 1, testX.shape[1]))"
   ]
  },
  {
   "cell_type": "code",
   "execution_count": 20,
   "metadata": {},
   "outputs": [
    {
     "name": "stdout",
     "output_type": "stream",
     "text": [
      "Epoch 1/100\n",
      "94/94 - 7s - loss: 0.0502\n",
      "Epoch 2/100\n",
      "94/94 - 0s - loss: 0.0244\n",
      "Epoch 3/100\n",
      "94/94 - 0s - loss: 0.0182\n",
      "Epoch 4/100\n",
      "94/94 - 0s - loss: 0.0166\n",
      "Epoch 5/100\n",
      "94/94 - 0s - loss: 0.0155\n",
      "Epoch 6/100\n",
      "94/94 - 0s - loss: 0.0145\n",
      "Epoch 7/100\n",
      "94/94 - 0s - loss: 0.0134\n",
      "Epoch 8/100\n",
      "94/94 - 0s - loss: 0.0124\n",
      "Epoch 9/100\n",
      "94/94 - 0s - loss: 0.0114\n",
      "Epoch 10/100\n",
      "94/94 - 0s - loss: 0.0107\n",
      "Epoch 11/100\n",
      "94/94 - 0s - loss: 0.0096\n",
      "Epoch 12/100\n",
      "94/94 - 0s - loss: 0.0086\n",
      "Epoch 13/100\n",
      "94/94 - 0s - loss: 0.0078\n",
      "Epoch 14/100\n",
      "94/94 - 0s - loss: 0.0070\n",
      "Epoch 15/100\n",
      "94/94 - 0s - loss: 0.0062\n",
      "Epoch 16/100\n",
      "94/94 - 0s - loss: 0.0055\n",
      "Epoch 17/100\n",
      "94/94 - 0s - loss: 0.0048\n",
      "Epoch 18/100\n",
      "94/94 - 0s - loss: 0.0042\n",
      "Epoch 19/100\n",
      "94/94 - 0s - loss: 0.0038\n",
      "Epoch 20/100\n",
      "94/94 - 0s - loss: 0.0033\n",
      "Epoch 21/100\n",
      "94/94 - 0s - loss: 0.0030\n",
      "Epoch 22/100\n",
      "94/94 - 0s - loss: 0.0027\n",
      "Epoch 23/100\n",
      "94/94 - 0s - loss: 0.0025\n",
      "Epoch 24/100\n",
      "94/94 - 0s - loss: 0.0024\n",
      "Epoch 25/100\n",
      "94/94 - 0s - loss: 0.0023\n",
      "Epoch 26/100\n",
      "94/94 - 0s - loss: 0.0022\n",
      "Epoch 27/100\n",
      "94/94 - 0s - loss: 0.0021\n",
      "Epoch 28/100\n",
      "94/94 - 0s - loss: 0.0021\n",
      "Epoch 29/100\n",
      "94/94 - 0s - loss: 0.0021\n",
      "Epoch 30/100\n",
      "94/94 - 0s - loss: 0.0021\n",
      "Epoch 31/100\n",
      "94/94 - 0s - loss: 0.0020\n",
      "Epoch 32/100\n",
      "94/94 - 0s - loss: 0.0021\n",
      "Epoch 33/100\n",
      "94/94 - 0s - loss: 0.0021\n",
      "Epoch 34/100\n",
      "94/94 - 0s - loss: 0.0020\n",
      "Epoch 35/100\n",
      "94/94 - 0s - loss: 0.0020\n",
      "Epoch 36/100\n",
      "94/94 - 0s - loss: 0.0020\n",
      "Epoch 37/100\n",
      "94/94 - 0s - loss: 0.0020\n",
      "Epoch 38/100\n",
      "94/94 - 0s - loss: 0.0020\n",
      "Epoch 39/100\n",
      "94/94 - 0s - loss: 0.0020\n",
      "Epoch 40/100\n",
      "94/94 - 0s - loss: 0.0021\n",
      "Epoch 41/100\n",
      "94/94 - 0s - loss: 0.0020\n",
      "Epoch 42/100\n",
      "94/94 - 0s - loss: 0.0020\n",
      "Epoch 43/100\n",
      "94/94 - 0s - loss: 0.0020\n",
      "Epoch 44/100\n",
      "94/94 - 0s - loss: 0.0021\n",
      "Epoch 45/100\n",
      "94/94 - 0s - loss: 0.0020\n",
      "Epoch 46/100\n",
      "94/94 - 0s - loss: 0.0020\n",
      "Epoch 47/100\n",
      "94/94 - 0s - loss: 0.0020\n",
      "Epoch 48/100\n",
      "94/94 - 0s - loss: 0.0020\n",
      "Epoch 49/100\n",
      "94/94 - 0s - loss: 0.0020\n",
      "Epoch 50/100\n",
      "94/94 - 0s - loss: 0.0021\n",
      "Epoch 51/100\n",
      "94/94 - 0s - loss: 0.0021\n",
      "Epoch 52/100\n",
      "94/94 - 0s - loss: 0.0020\n",
      "Epoch 53/100\n",
      "94/94 - 0s - loss: 0.0021\n",
      "Epoch 54/100\n",
      "94/94 - 0s - loss: 0.0020\n",
      "Epoch 55/100\n",
      "94/94 - 0s - loss: 0.0020\n",
      "Epoch 56/100\n",
      "94/94 - 0s - loss: 0.0021\n",
      "Epoch 57/100\n",
      "94/94 - 0s - loss: 0.0020\n",
      "Epoch 58/100\n",
      "94/94 - 0s - loss: 0.0020\n",
      "Epoch 59/100\n",
      "94/94 - 0s - loss: 0.0020\n",
      "Epoch 60/100\n",
      "94/94 - 0s - loss: 0.0020\n",
      "Epoch 61/100\n",
      "94/94 - 0s - loss: 0.0020\n",
      "Epoch 62/100\n",
      "94/94 - 0s - loss: 0.0020\n",
      "Epoch 63/100\n",
      "94/94 - 0s - loss: 0.0020\n",
      "Epoch 64/100\n",
      "94/94 - 0s - loss: 0.0020\n",
      "Epoch 65/100\n",
      "94/94 - 0s - loss: 0.0020\n",
      "Epoch 66/100\n",
      "94/94 - 0s - loss: 0.0020\n",
      "Epoch 67/100\n",
      "94/94 - 0s - loss: 0.0020\n",
      "Epoch 68/100\n",
      "94/94 - 0s - loss: 0.0020\n",
      "Epoch 69/100\n",
      "94/94 - 0s - loss: 0.0022\n",
      "Epoch 70/100\n",
      "94/94 - 0s - loss: 0.0020\n",
      "Epoch 71/100\n",
      "94/94 - 0s - loss: 0.0020\n",
      "Epoch 72/100\n",
      "94/94 - 0s - loss: 0.0021\n",
      "Epoch 73/100\n",
      "94/94 - 0s - loss: 0.0020\n",
      "Epoch 74/100\n",
      "94/94 - 0s - loss: 0.0020\n",
      "Epoch 75/100\n",
      "94/94 - 0s - loss: 0.0022\n",
      "Epoch 76/100\n",
      "94/94 - 0s - loss: 0.0020\n",
      "Epoch 77/100\n",
      "94/94 - 0s - loss: 0.0020\n",
      "Epoch 78/100\n",
      "94/94 - 0s - loss: 0.0020\n",
      "Epoch 79/100\n",
      "94/94 - 0s - loss: 0.0020\n",
      "Epoch 80/100\n",
      "94/94 - 0s - loss: 0.0020\n",
      "Epoch 81/100\n",
      "94/94 - 0s - loss: 0.0020\n",
      "Epoch 82/100\n",
      "94/94 - 0s - loss: 0.0021\n",
      "Epoch 83/100\n",
      "94/94 - 0s - loss: 0.0020\n",
      "Epoch 84/100\n",
      "94/94 - 0s - loss: 0.0020\n",
      "Epoch 85/100\n",
      "94/94 - 0s - loss: 0.0021\n",
      "Epoch 86/100\n",
      "94/94 - 0s - loss: 0.0021\n",
      "Epoch 87/100\n",
      "94/94 - 0s - loss: 0.0021\n",
      "Epoch 88/100\n",
      "94/94 - 0s - loss: 0.0020\n",
      "Epoch 89/100\n",
      "94/94 - 0s - loss: 0.0021\n",
      "Epoch 90/100\n",
      "94/94 - 0s - loss: 0.0020\n",
      "Epoch 91/100\n",
      "94/94 - 0s - loss: 0.0020\n",
      "Epoch 92/100\n",
      "94/94 - 0s - loss: 0.0020\n",
      "Epoch 93/100\n",
      "94/94 - 0s - loss: 0.0020\n",
      "Epoch 94/100\n",
      "94/94 - 0s - loss: 0.0020\n",
      "Epoch 95/100\n",
      "94/94 - 0s - loss: 0.0020\n",
      "Epoch 96/100\n",
      "94/94 - 0s - loss: 0.0020\n",
      "Epoch 97/100\n",
      "94/94 - 0s - loss: 0.0020\n",
      "Epoch 98/100\n",
      "94/94 - 0s - loss: 0.0020\n",
      "Epoch 99/100\n",
      "94/94 - 0s - loss: 0.0020\n",
      "Epoch 100/100\n",
      "94/94 - 0s - loss: 0.0020\n"
     ]
    },
    {
     "data": {
      "text/plain": [
       "<tensorflow.python.keras.callbacks.History at 0x7f51edf79cd0>"
      ]
     },
     "execution_count": 20,
     "metadata": {},
     "output_type": "execute_result"
    }
   ],
   "source": [
    "# create and fit the LSTM network\n",
    "model = Sequential()\n",
    "model.add(LSTM(4, input_shape=(1, look_back)))\n",
    "model.add(Dense(1))\n",
    "model.compile(loss='mean_squared_error', optimizer='adam')\n",
    "model.fit(trainX, trainY, epochs=100, batch_size=1, verbose=2)"
   ]
  },
  {
   "cell_type": "code",
   "execution_count": 21,
   "metadata": {},
   "outputs": [
    {
     "name": "stdout",
     "output_type": "stream",
     "text": [
      "Train Score: 22.91 RMSE\n",
      "Test Score: 49.29 RMSE\n"
     ]
    }
   ],
   "source": [
    "# make predictions\n",
    "trainPredict = model.predict(trainX)\n",
    "testPredict = model.predict(testX)\n",
    "# invert predictions\n",
    "trainPredict = scaler.inverse_transform(trainPredict)\n",
    "trainY = scaler.inverse_transform([trainY])\n",
    "testPredict = scaler.inverse_transform(testPredict)\n",
    "testY = scaler.inverse_transform([testY])\n",
    "# calculate root mean squared error\n",
    "trainScore = math.sqrt(mean_squared_error(trainY[0], trainPredict[:,0]))\n",
    "print('Train Score: %.2f RMSE' % (trainScore))\n",
    "testScore = math.sqrt(mean_squared_error(testY[0], testPredict[:,0]))\n",
    "print('Test Score: %.2f RMSE' % (testScore))"
   ]
  },
  {
   "cell_type": "code",
   "execution_count": 22,
   "metadata": {},
   "outputs": [
    {
     "data": {
      "image/png": "[encoded data removed]",
      "text/plain": [
       "<Figure size 432x288 with 1 Axes>"
      ]
     },
     "metadata": {
      "needs_background": "light"
     },
     "output_type": "display_data"
    }
   ],
   "source": [
    "# shift train predictions for plotting\n",
    "trainPredictPlot = numpy.empty_like(dataset)\n",
    "trainPredictPlot[:, :] = numpy.nan\n",
    "trainPredictPlot[look_back:len(trainPredict)+look_back, :] = trainPredict\n",
    "# shift test predictions for plotting\n",
    "testPredictPlot = numpy.empty_like(dataset)\n",
    "testPredictPlot[:, :] = numpy.nan\n",
    "testPredictPlot[len(trainPredict)+(look_back*2)+1:len(dataset)-1, :] = testPredict\n",
    "# plot baseline and predictions\n",
    "plt.plot(scaler.inverse_transform(dataset))\n",
    "plt.plot(trainPredictPlot)\n",
    "plt.plot(testPredictPlot)\n",
    "plt.show()"
   ]
  },
  {
   "cell_type": "code",
   "execution_count": null,
   "metadata": {},
   "outputs": [],
   "source": []
  }
 ],
 "metadata": {
  "kernelspec": {
   "display_name": "Python 3",
   "language": "python",
   "name": "python3"
  },
  "language_info": {
   "codemirror_mode": {
    "name": "ipython",
    "version": 3
   },
   "file_extension": ".py",
   "mimetype": "text/x-python",
   "name": "python",
   "nbconvert_exporter": "python",
   "pygments_lexer": "ipython3",
   "version": "3.8.6"
  }
 },
 "nbformat": 4,
 "nbformat_minor": 4
}

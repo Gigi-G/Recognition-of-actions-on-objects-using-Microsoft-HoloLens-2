{
 "cells": [
  {
   "cell_type": "markdown",
   "id": "b57ba0a3",
   "metadata": {
    "id": "b57ba0a3"
   },
   "source": [
    "# LSTM"
   ]
  },
  {
   "cell_type": "markdown",
   "id": "2d826350",
   "metadata": {
    "id": "2d826350"
   },
   "source": [
    "## Caricamento del dataframe"
   ]
  },
  {
   "cell_type": "code",
   "execution_count": 1,
   "id": "5cac63e0",
   "metadata": {
    "id": "5cac63e0"
   },
   "outputs": [],
   "source": [
    "import torch\n",
    "from torch import nn\n",
    "from torch.utils.tensorboard import SummaryWriter\n",
    "from torch.utils.data import Dataset, DataLoader, WeightedRandomSampler\n",
    "import torch.nn as nn\n",
    "\n",
    "import numpy as np\n",
    "import pandas as pd\n",
    "import sys\n",
    "import seaborn as sns\n",
    "import matplotlib.pyplot as plt\n",
    "from tqdm.notebook import tqdm\n",
    "from sklearn.metrics import confusion_matrix, classification_report, f1_score, accuracy_score\n",
    "\n",
    "from torch.utils.tensorboard import SummaryWriter\n",
    "\n",
    "from scipy.stats import mode\n",
    "\n",
    "import os\n",
    "import shutil\n",
    "import glob\n",
    "\n",
    "main_folder = \"../data\"\n",
    "\n",
    "folder = \"./runs/LSTM_1\"\n",
    "\n",
    "try:\n",
    "    shutil.rmtree(folder, ignore_errors=True)\n",
    "except:\n",
    "    pass\n",
    "\n",
    "try:\n",
    "    os.mkdir(folder)\n",
    "except:\n",
    "    pass\n",
    "\n",
    "writer = SummaryWriter(folder)"
   ]
  },
  {
   "cell_type": "markdown",
   "id": "acbaa788",
   "metadata": {
    "id": "acbaa788"
   },
   "source": [
    "## Train - Validation - Test"
   ]
  },
  {
   "cell_type": "code",
   "execution_count": 2,
   "id": "6c77f31b",
   "metadata": {},
   "outputs": [],
   "source": [
    "class2idx = {\n",
    "    \"No_action\": 0,\n",
    "    \"Prendi\": 1,\n",
    "    \"Rilascia\": 2,\n",
    "    \"Premi\": 3\n",
    "}\n",
    "\n",
    "idx2class = {v: k for k, v in class2idx.items()}"
   ]
  },
  {
   "cell_type": "code",
   "execution_count": 3,
   "id": "148e392d",
   "metadata": {
    "id": "148e392d"
   },
   "outputs": [],
   "source": [
    "def create_set(folder_set):\n",
    "    csv:list = []\n",
    "    for file in glob.glob(folder_set + \"/*.csv\"):\n",
    "        csv.append(file)\n",
    "    data = []\n",
    "    target = []\n",
    "    for fcsv in csv:\n",
    "        data_video = pd.read_csv(fcsv, usecols = [i for i in range(156)]).to_numpy()\n",
    "        target_video = pd.read_csv(fcsv, usecols = [\"TARGET\"])\n",
    "        target_video[\"TARGET\"].replace(class2idx, inplace=True)\n",
    "        data.append(data_video)\n",
    "        target.append(target_video.to_numpy())\n",
    "    return (np.array(data, dtype=object), np.array(target, dtype=object))"
   ]
  },
  {
   "cell_type": "code",
   "execution_count": 4,
   "id": "-znJCwBvJBZK",
   "metadata": {
    "id": "-znJCwBvJBZK"
   },
   "outputs": [],
   "source": [
    "folder_set = [[main_folder + \"/train_set\", main_folder + \"/train.csv\"], [main_folder + \"/test_set\", main_folder + \"/test.csv\"], [main_folder + \"/val_set\", main_folder + \"/val.csv\"]]\n",
    "\n",
    "train_array, train_label_array = create_set(folder_set[0][0])\n",
    "test_array, test_label_array = create_set(folder_set[1][0])\n",
    "val_array, val_label_array = create_set(folder_set[2][0])"
   ]
  },
  {
   "cell_type": "markdown",
   "id": "e449aca9",
   "metadata": {
    "id": "e449aca9"
   },
   "source": [
    "## Parametri del modello"
   ]
  },
  {
   "cell_type": "code",
   "execution_count": 5,
   "id": "9b569e3d",
   "metadata": {
    "id": "9b569e3d"
   },
   "outputs": [],
   "source": [
    "class ClassifierDataset(Dataset):\n",
    "    \n",
    "    def __init__(self, array, label, index_data, window):\n",
    "        self.index_data = index_data\n",
    "        self.array = array\n",
    "        self.label = label\n",
    "        self.window = window\n",
    "        \n",
    "    def __getitem__(self, index):\n",
    "        file_index = self.index_data[index][0].tolist()\n",
    "        i = self.index_data[index][1]\n",
    "        j = self.index_data[index][2]\n",
    "        if i == j:\n",
    "            x_data = [self.array[file_index][i]] * self.window\n",
    "            y_data = self.label[file_index][i]\n",
    "            X = torch.from_numpy(np.array(x_data).astype(float)).float()\n",
    "            Y = torch.from_numpy(np.array([y_data]).astype(int)).long()\n",
    "            return X, Y\n",
    "        elif j-i < self.window-1:\n",
    "            x_data = [self.array[file_index][i]] * (self.window-j)\n",
    "            x_data.extend(self.array[file_index][(i+1):(j+1)])\n",
    "            x_data = np.array(x_data).astype(float)\n",
    "        else:\n",
    "            x_data = self.array[file_index][i:(j+1)]\n",
    "            k = j-1\n",
    "            while len(x_data) > self.window:\n",
    "                x_data = self.array[file_index][i:(k+1)]\n",
    "                k -= 1\n",
    "        X = torch.from_numpy(x_data).float()\n",
    "        y_data = self.label[file_index][i:(j+1)]\n",
    "        y_mode = mode(y_data)[0][0]\n",
    "        Y = torch.from_numpy(np.array([y_mode])).long()\n",
    "        return X, Y\n",
    "        \n",
    "    def __len__ (self):\n",
    "        return len(self.index_data)"
   ]
  },
  {
   "cell_type": "code",
   "execution_count": 6,
   "id": "9f82fcc7",
   "metadata": {
    "id": "9f82fcc7"
   },
   "outputs": [],
   "source": [
    "def create_dataset(array_data, label_data, window):\n",
    "    X = []\n",
    "    files_num = len(array_data)\n",
    "    for index, array, label in zip(range(files_num), array_data, label_data):\n",
    "        l = array.shape[0]\n",
    "        i = 0\n",
    "        while l - i >= window:\n",
    "            j = i + window\n",
    "            index_window = np.array([index, i, j]).astype(int)\n",
    "            X.append(index_window)\n",
    "            i += window\n",
    "        if i < l:\n",
    "            w = l - i\n",
    "            i = i - w - window\n",
    "            j = i + window\n",
    "            index_window = np.array([index, i, j]).astype(int)\n",
    "            X.append(index_window)\n",
    "    X_data = torch.from_numpy(np.array(X).astype(int))\n",
    "    return ClassifierDataset(array_data, label_data, X_data, window)"
   ]
  },
  {
   "cell_type": "code",
   "execution_count": 7,
   "id": "172d3e3f",
   "metadata": {
    "id": "172d3e3f"
   },
   "outputs": [],
   "source": [
    "def create_dataset2(array_data, label_data, window):\n",
    "    X = []\n",
    "    files_num = len(array_data)\n",
    "    for index, array, label in zip(range(files_num), array_data, label_data):\n",
    "        l = array.shape[0]\n",
    "        i = -1\n",
    "        w = [0] * window\n",
    "        while i < l:\n",
    "            i += 1 \n",
    "            w.pop(0)\n",
    "            w.append(i)\n",
    "            index_window = np.array([index, w[0], i]).astype(int)\n",
    "            X.append(index_window)\n",
    "    X_data = torch.from_numpy(np.array(X).astype(int))\n",
    "    return ClassifierDataset(array_data, label_data, X_data, window)"
   ]
  },
  {
   "cell_type": "code",
   "execution_count": 8,
   "id": "404be4ab",
   "metadata": {
    "id": "404be4ab"
   },
   "outputs": [],
   "source": [
    "EPOCHS = 200\n",
    "window = 8\n",
    "BATCH_SIZE = 512\n",
    "LEARNING_RATE = 0.005217779658903428\n",
    "NUM_LAYER = 2\n",
    "NUM_HIDDEN = 78\n",
    "NUM_FEATURES = 156\n",
    "NUM_CLASSES = 4\n",
    "index_name = 8\n",
    "model_name = \"000\" + str(index_name) + \"_mymodel.pt\""
   ]
  },
  {
   "cell_type": "code",
   "execution_count": 9,
   "id": "383c55f2",
   "metadata": {
    "id": "383c55f2"
   },
   "outputs": [],
   "source": [
    "train_dataset = create_dataset(train_array, train_label_array, window)\n",
    "test_dataset = create_dataset2(test_array, test_label_array, window)\n",
    "val_dataset = create_dataset2(val_array, val_label_array, window)"
   ]
  },
  {
   "cell_type": "code",
   "execution_count": 10,
   "id": "95f0cb16",
   "metadata": {
    "id": "95f0cb16"
   },
   "outputs": [],
   "source": [
    "train_loader = DataLoader(dataset=train_dataset, batch_size=BATCH_SIZE, shuffle=True, drop_last=True)\n",
    "val_loader = DataLoader(dataset=val_dataset, batch_size=1, shuffle=False)\n",
    "test_loader = DataLoader(dataset=test_dataset, batch_size=1, shuffle=False)"
   ]
  },
  {
   "cell_type": "markdown",
   "id": "20e5701a",
   "metadata": {
    "id": "20e5701a"
   },
   "source": [
    "## Rete Neurale LSTM"
   ]
  },
  {
   "cell_type": "code",
   "execution_count": 11,
   "id": "EGVAIQMIS685",
   "metadata": {
    "id": "EGVAIQMIS685"
   },
   "outputs": [],
   "source": [
    "class LSTM(nn.Module):\n",
    "    def __init__(self, input_size, window, output_size, hidden_layer_size, num_layers):\n",
    "        super(LSTM, self).__init__()\n",
    "        self.num_layers = num_layers\n",
    "        self.hidden_size = hidden_layer_size\n",
    "        self.output_size = output_size\n",
    "        self.lstm = nn.LSTM(input_size, hidden_layer_size, num_layers)\n",
    "        self.regressor = nn.Linear(hidden_layer_size, output_size)\n",
    "        \n",
    "    def forward(self, x, hidden=None):\n",
    "        if hidden is not None:\n",
    "            h0 = hidden[0]\n",
    "            c0 = hidden [1]\n",
    "        else:\n",
    "            h0 = torch.zeros(self.num_layers, x.size()[0], self.hidden_size).to(device)\n",
    "            c0 = torch.zeros(self.num_layers, x.size()[0], self.hidden_size).to(device)\n",
    "        e = x.view(x.size(1), x.size(0), x.size(2))\n",
    "        h, hn = self.lstm(e, (h0, c0))\n",
    "        h = h.view(h.size(1), h.size(0), h.size(2))\n",
    "        h = h[:,-1,:]\n",
    "        h = self.regressor(h)\n",
    "        return h, hn"
   ]
  },
  {
   "cell_type": "code",
   "execution_count": 12,
   "id": "78e18779",
   "metadata": {
    "id": "78e18779"
   },
   "outputs": [],
   "source": [
    "device = torch.device('cuda' if torch.cuda.is_available() else 'cpu')"
   ]
  },
  {
   "cell_type": "code",
   "execution_count": 13,
   "id": "9a8781ca",
   "metadata": {
    "colab": {
     "base_uri": "https://localhost:8080/"
    },
    "id": "9a8781ca",
    "outputId": "5fe5e93a-1e0d-4afc-90f5-db8f2415eb0e"
   },
   "outputs": [
    {
     "data": {
      "text/plain": [
       "device(type='cuda')"
      ]
     },
     "execution_count": 13,
     "metadata": {},
     "output_type": "execute_result"
    }
   ],
   "source": [
    "device"
   ]
  },
  {
   "cell_type": "code",
   "execution_count": 14,
   "id": "1e865bfb",
   "metadata": {
    "id": "1e865bfb"
   },
   "outputs": [],
   "source": [
    "def categoryFromOutput(output):\n",
    "    top_n, top_i = output.topk(1)\n",
    "    category_i = top_i[0].item()\n",
    "    return LABELS[category_i], category_i"
   ]
  },
  {
   "cell_type": "code",
   "execution_count": 15,
   "id": "6beef30c",
   "metadata": {
    "id": "6beef30c"
   },
   "outputs": [],
   "source": [
    "def accuracy(y_pred, y_true):\n",
    "    return accuracy_score(y_true, y_pred) * 100"
   ]
  },
  {
   "cell_type": "code",
   "execution_count": 16,
   "id": "167ce754",
   "metadata": {
    "id": "167ce754"
   },
   "outputs": [],
   "source": [
    "def f1_s(y_pred, y_true):\n",
    "    return f1_score(y_true, y_pred, average=None, zero_division=1, labels=[0,1,2,3])"
   ]
  },
  {
   "cell_type": "markdown",
   "id": "bac0b337",
   "metadata": {
    "id": "bac0b337"
   },
   "source": [
    "## Test the model"
   ]
  },
  {
   "cell_type": "code",
   "execution_count": 17,
   "id": "24ec9a06",
   "metadata": {
    "id": "24ec9a06"
   },
   "outputs": [],
   "source": [
    "LABELS = [\n",
    "    \"No_action\",\n",
    "    \"Prendi\",\n",
    "    \"Rilascia\",\n",
    "    \"Premi\"\n",
    "]"
   ]
  },
  {
   "cell_type": "code",
   "execution_count": 18,
   "id": "8affb0f7",
   "metadata": {
    "id": "8affb0f7"
   },
   "outputs": [],
   "source": [
    "class2idx = {\n",
    "    \"No_action\": 0,\n",
    "    \"Prendi\": 1,\n",
    "    \"Rilascia\": 2,\n",
    "    \"Premi\": 3\n",
    "}\n",
    "\n",
    "idx2class = {v: k for k, v in class2idx.items()}"
   ]
  },
  {
   "cell_type": "code",
   "execution_count": 19,
   "id": "12b09d2d",
   "metadata": {
    "id": "12b09d2d"
   },
   "outputs": [
    {
     "name": "stdout",
     "output_type": "stream",
     "text": [
      "LSTM(\n",
      "  (lstm): LSTM(156, 78, num_layers=2)\n",
      "  (regressor): Linear(in_features=78, out_features=4, bias=True)\n",
      ")\n"
     ]
    }
   ],
   "source": [
    "model = LSTM(input_size=NUM_FEATURES, window=window, output_size=NUM_CLASSES, hidden_layer_size=NUM_HIDDEN, num_layers=NUM_LAYER)\n",
    "model.to(device)\n",
    "model.load_state_dict(torch.load(\"../data/modelli_overlap/\" + model_name))\n",
    "print(model)"
   ]
  },
  {
   "cell_type": "code",
   "execution_count": 20,
   "id": "286e2731",
   "metadata": {
    "id": "286e2731"
   },
   "outputs": [],
   "source": [
    "y_pred_list = []\n",
    "y_true_list = []\n",
    "\n",
    "with torch.no_grad():\n",
    "    model.eval()\n",
    "    for X_batch, y_batch in test_loader:\n",
    "        X_batch = X_batch.to(device)\n",
    "        y_test_pred, _ = model(X_batch)\n",
    "        guess, guess_i = categoryFromOutput(y_test_pred)\n",
    "        y_pred_list.append(guess_i)\n",
    "        y_true_list.append(y_batch[0][0].tolist()[0])"
   ]
  },
  {
   "cell_type": "code",
   "execution_count": 21,
   "id": "9ff82a6a",
   "metadata": {
    "id": "9ff82a6a"
   },
   "outputs": [],
   "source": [
    "Y_t = y_true_list\n",
    "Y_p = y_pred_list"
   ]
  },
  {
   "cell_type": "markdown",
   "id": "a5507ef3",
   "metadata": {
    "id": "a5507ef3"
   },
   "source": [
    "## Confusion Matrix"
   ]
  },
  {
   "cell_type": "markdown",
   "id": "8a3aa387",
   "metadata": {
    "id": "8a3aa387"
   },
   "source": [
    "Creiamo un dataframe dalla matrice di confusione e lo tracciamo come una mappa di calore utilizzando la libreria Seaborn."
   ]
  },
  {
   "cell_type": "code",
   "execution_count": 22,
   "id": "6a1bfae3",
   "metadata": {
    "id": "6a1bfae3"
   },
   "outputs": [
    {
     "data": {
      "text/plain": [
       "<AxesSubplot:>"
      ]
     },
     "execution_count": 22,
     "metadata": {},
     "output_type": "execute_result"
    },
    {
     "data": {
      "image/png": "[encoded data removed]",
      "text/plain": [
       "<Figure size 432x288 with 2 Axes>"
      ]
     },
     "metadata": {
      "needs_background": "light"
     },
     "output_type": "display_data"
    }
   ],
   "source": [
    "confusion_matrix_df = pd.DataFrame(confusion_matrix(y_true_list, y_pred_list, normalize='true')).rename(columns=idx2class, index=idx2class)\n",
    "sns.heatmap(confusion_matrix_df, annot=True)"
   ]
  },
  {
   "cell_type": "code",
   "execution_count": 23,
   "id": "94b39741",
   "metadata": {
    "id": "94b39741"
   },
   "outputs": [
    {
     "name": "stdout",
     "output_type": "stream",
     "text": [
      "              precision    recall  f1-score   support\n",
      "\n",
      "           0       0.94      0.89      0.92      5042\n",
      "           1       0.45      0.67      0.54      2384\n",
      "           2       0.48      0.40      0.43      2215\n",
      "           3       0.66      0.51      0.58      2229\n",
      "\n",
      "    accuracy                           0.68     11870\n",
      "   macro avg       0.63      0.62      0.62     11870\n",
      "weighted avg       0.71      0.68      0.69     11870\n",
      "\n"
     ]
    }
   ],
   "source": [
    "print(classification_report(y_true_list, y_pred_list))"
   ]
  },
  {
   "cell_type": "code",
   "execution_count": 24,
   "id": "8ef57b5c",
   "metadata": {
    "id": "8ef57b5c"
   },
   "outputs": [],
   "source": [
    "class2idx = {\n",
    "    \"No_action\": 0,\n",
    "    \"Action\": 1\n",
    "}\n",
    "\n",
    "idx2class = {v: k for k, v in class2idx.items()}"
   ]
  },
  {
   "cell_type": "code",
   "execution_count": 25,
   "id": "97e992ab",
   "metadata": {
    "id": "97e992ab"
   },
   "outputs": [],
   "source": [
    "real2class = {\n",
    "    0:0,\n",
    "    1:1,\n",
    "    2:1,\n",
    "    3:1\n",
    "}"
   ]
  },
  {
   "cell_type": "code",
   "execution_count": 26,
   "id": "e2e6eb93",
   "metadata": {
    "id": "e2e6eb93"
   },
   "outputs": [],
   "source": [
    "y_pred_list = [(real2class[c]) for c in Y_p]\n",
    "y_true_list = [(real2class[c]) for c in Y_t]"
   ]
  },
  {
   "cell_type": "code",
   "execution_count": 27,
   "id": "9f8da85c",
   "metadata": {
    "id": "9f8da85c"
   },
   "outputs": [
    {
     "data": {
      "text/plain": [
       "<AxesSubplot:>"
      ]
     },
     "execution_count": 27,
     "metadata": {},
     "output_type": "execute_result"
    },
    {
     "data": {
      "image/png": "[encoded data removed]",
      "text/plain": [
       "<Figure size 432x288 with 2 Axes>"
      ]
     },
     "metadata": {
      "needs_background": "light"
     },
     "output_type": "display_data"
    }
   ],
   "source": [
    "confusion_matrix_df = pd.DataFrame(confusion_matrix(y_true_list, y_pred_list, normalize='true')).rename(columns=idx2class, index=idx2class)\n",
    "sns.heatmap(confusion_matrix_df, annot=True)"
   ]
  },
  {
   "cell_type": "code",
   "execution_count": 28,
   "id": "9d44863f",
   "metadata": {
    "id": "9d44863f"
   },
   "outputs": [
    {
     "name": "stdout",
     "output_type": "stream",
     "text": [
      "              precision    recall  f1-score   support\n",
      "\n",
      "           0       0.94      0.89      0.92      5042\n",
      "           1       0.92      0.96      0.94      6828\n",
      "\n",
      "    accuracy                           0.93     11870\n",
      "   macro avg       0.93      0.93      0.93     11870\n",
      "weighted avg       0.93      0.93      0.93     11870\n",
      "\n"
     ]
    }
   ],
   "source": [
    "print(classification_report(y_true_list, y_pred_list))"
   ]
  },
  {
   "cell_type": "code",
   "execution_count": 29,
   "id": "49868e69",
   "metadata": {
    "id": "49868e69"
   },
   "outputs": [],
   "source": [
    "class2idx = {\n",
    "    \"No_action\": 0,\n",
    "    \"P/R\": 1,\n",
    "    \"Premi\": 2\n",
    "}\n",
    "\n",
    "idx2class = {v: k for k, v in class2idx.items()}"
   ]
  },
  {
   "cell_type": "code",
   "execution_count": 30,
   "id": "ddc4d3b2",
   "metadata": {
    "id": "ddc4d3b2"
   },
   "outputs": [],
   "source": [
    "real2class = {\n",
    "    0:0,\n",
    "    1:1,\n",
    "    2:1,\n",
    "    3:2\n",
    "}"
   ]
  },
  {
   "cell_type": "code",
   "execution_count": 31,
   "id": "1194c2f1",
   "metadata": {
    "id": "1194c2f1"
   },
   "outputs": [],
   "source": [
    "y_pred_list = [(real2class[c]) for c in Y_p]\n",
    "y_true_list = [(real2class[c]) for c in Y_t]"
   ]
  },
  {
   "cell_type": "code",
   "execution_count": 32,
   "id": "b81855e9",
   "metadata": {
    "id": "b81855e9"
   },
   "outputs": [
    {
     "data": {
      "text/plain": [
       "<AxesSubplot:>"
      ]
     },
     "execution_count": 32,
     "metadata": {},
     "output_type": "execute_result"
    },
    {
     "data": {
      "image/png": "[encoded data removed]",
      "text/plain": [
       "<Figure size 432x288 with 2 Axes>"
      ]
     },
     "metadata": {
      "needs_background": "light"
     },
     "output_type": "display_data"
    }
   ],
   "source": [
    "confusion_matrix_df = pd.DataFrame(confusion_matrix(y_true_list, y_pred_list, normalize='true')).rename(columns=idx2class, index=idx2class)\n",
    "sns.heatmap(confusion_matrix_df, annot=True)"
   ]
  },
  {
   "cell_type": "code",
   "execution_count": 33,
   "id": "d8e05c93",
   "metadata": {
    "id": "d8e05c93"
   },
   "outputs": [
    {
     "name": "stdout",
     "output_type": "stream",
     "text": [
      "              precision    recall  f1-score   support\n",
      "\n",
      "           0       0.94      0.89      0.92      5042\n",
      "           1       0.74      0.87      0.80      4599\n",
      "           2       0.66      0.51      0.58      2229\n",
      "\n",
      "    accuracy                           0.81     11870\n",
      "   macro avg       0.78      0.76      0.76     11870\n",
      "weighted avg       0.81      0.81      0.81     11870\n",
      "\n"
     ]
    }
   ],
   "source": [
    "print(classification_report(y_true_list, y_pred_list))"
   ]
  },
  {
   "cell_type": "code",
   "execution_count": 34,
   "id": "cf2847e7",
   "metadata": {
    "id": "cf2847e7"
   },
   "outputs": [],
   "source": [
    "class2idx = {\n",
    "    \"No_action\": 0,\n",
    "    \"P/P\": 1,\n",
    "    \"Rilascia\": 2\n",
    "}\n",
    "\n",
    "idx2class = {v: k for k, v in class2idx.items()}"
   ]
  },
  {
   "cell_type": "code",
   "execution_count": 35,
   "id": "3ebe707c",
   "metadata": {
    "id": "3ebe707c"
   },
   "outputs": [],
   "source": [
    "real2class = {\n",
    "    0:0,\n",
    "    1:1,\n",
    "    2:2,\n",
    "    3:1\n",
    "}"
   ]
  },
  {
   "cell_type": "code",
   "execution_count": 36,
   "id": "ab540460",
   "metadata": {
    "id": "ab540460"
   },
   "outputs": [],
   "source": [
    "y_pred_list = [(real2class[c]) for c in Y_p]\n",
    "y_true_list = [(real2class[c]) for c in Y_t]"
   ]
  },
  {
   "cell_type": "code",
   "execution_count": 37,
   "id": "9ed49bdf",
   "metadata": {
    "id": "9ed49bdf"
   },
   "outputs": [
    {
     "data": {
      "text/plain": [
       "<AxesSubplot:>"
      ]
     },
     "execution_count": 37,
     "metadata": {},
     "output_type": "execute_result"
    },
    {
     "data": {
      "image/png": "[encoded data removed]",
      "text/plain": [
       "<Figure size 432x288 with 2 Axes>"
      ]
     },
     "metadata": {
      "needs_background": "light"
     },
     "output_type": "display_data"
    }
   ],
   "source": [
    "confusion_matrix_df = pd.DataFrame(confusion_matrix(y_true_list, y_pred_list, normalize='true')).rename(columns=idx2class, index=idx2class)\n",
    "sns.heatmap(confusion_matrix_df, annot=True)"
   ]
  },
  {
   "cell_type": "code",
   "execution_count": 38,
   "id": "5c0b4425",
   "metadata": {
    "id": "5c0b4425"
   },
   "outputs": [
    {
     "name": "stdout",
     "output_type": "stream",
     "text": [
      "              precision    recall  f1-score   support\n",
      "\n",
      "           0       0.94      0.89      0.92      5042\n",
      "           1       0.68      0.78      0.72      4613\n",
      "           2       0.48      0.40      0.43      2215\n",
      "\n",
      "    accuracy                           0.75     11870\n",
      "   macro avg       0.70      0.69      0.69     11870\n",
      "weighted avg       0.75      0.75      0.75     11870\n",
      "\n"
     ]
    }
   ],
   "source": [
    "print(classification_report(y_true_list, y_pred_list))"
   ]
  },
  {
   "cell_type": "code",
   "execution_count": 39,
   "id": "5f743ea9",
   "metadata": {
    "id": "5f743ea9"
   },
   "outputs": [],
   "source": [
    "class2idx = {\n",
    "    \"No_action\": 0,\n",
    "    \"R/P\": 1,\n",
    "    \"Prendi\": 2\n",
    "}\n",
    "\n",
    "idx2class = {v: k for k, v in class2idx.items()}"
   ]
  },
  {
   "cell_type": "code",
   "execution_count": 40,
   "id": "73e13bac",
   "metadata": {
    "id": "73e13bac"
   },
   "outputs": [],
   "source": [
    "real2class = {\n",
    "    0:0,\n",
    "    1:2,\n",
    "    2:1,\n",
    "    3:1\n",
    "}"
   ]
  },
  {
   "cell_type": "code",
   "execution_count": 41,
   "id": "b0d429b8",
   "metadata": {
    "id": "b0d429b8"
   },
   "outputs": [],
   "source": [
    "y_pred_list = [(real2class[c]) for c in Y_p]\n",
    "y_true_list = [(real2class[c]) for c in Y_t]"
   ]
  },
  {
   "cell_type": "code",
   "execution_count": 42,
   "id": "75349317",
   "metadata": {
    "id": "75349317"
   },
   "outputs": [
    {
     "data": {
      "text/plain": [
       "<AxesSubplot:>"
      ]
     },
     "execution_count": 42,
     "metadata": {},
     "output_type": "execute_result"
    },
    {
     "data": {
      "image/png": "[encoded data removed]",
      "text/plain": [
       "<Figure size 432x288 with 2 Axes>"
      ]
     },
     "metadata": {
      "needs_background": "light"
     },
     "output_type": "display_data"
    }
   ],
   "source": [
    "confusion_matrix_df = pd.DataFrame(confusion_matrix(y_true_list, y_pred_list, normalize='true')).rename(columns=idx2class, index=idx2class)\n",
    "sns.heatmap(confusion_matrix_df, annot=True)"
   ]
  },
  {
   "cell_type": "code",
   "execution_count": 43,
   "id": "f6384bdd",
   "metadata": {
    "id": "f6384bdd"
   },
   "outputs": [
    {
     "name": "stdout",
     "output_type": "stream",
     "text": [
      "              precision    recall  f1-score   support\n",
      "\n",
      "           0       0.94      0.89      0.92      5042\n",
      "           1       0.73      0.59      0.65      4444\n",
      "           2       0.45      0.67      0.54      2384\n",
      "\n",
      "    accuracy                           0.73     11870\n",
      "   macro avg       0.71      0.72      0.70     11870\n",
      "weighted avg       0.77      0.73      0.74     11870\n",
      "\n"
     ]
    }
   ],
   "source": [
    "print(classification_report(y_true_list, y_pred_list))"
   ]
  },
  {
   "cell_type": "code",
   "execution_count": null,
   "id": "7cf8b58d",
   "metadata": {},
   "outputs": [],
   "source": []
  }
 ],
 "metadata": {
  "accelerator": "GPU",
  "colab": {
   "collapsed_sections": [],
   "name": "LSTM_1 - Test_set_replication_2.ipynb",
   "provenance": []
  },
  "kernelspec": {
   "display_name": "Python 3",
   "language": "python",
   "name": "python3"
  },
  "language_info": {
   "codemirror_mode": {
    "name": "ipython",
    "version": 3
   },
   "file_extension": ".py",
   "mimetype": "text/x-python",
   "name": "python",
   "nbconvert_exporter": "python",
   "pygments_lexer": "ipython3",
   "version": "3.8.8"
  },
  "widgets": {
   "application/vnd.jupyter.widget-state+json": {
    "174fafb8f02d462dbc848133367464de": {
     "model_module": "@jupyter-widgets/base",
     "model_name": "LayoutModel",
     "state": {
      "_model_module": "@jupyter-widgets/base",
      "_model_module_version": "1.2.0",
      "_model_name": "LayoutModel",
      "_view_count": null,
      "_view_module": "@jupyter-widgets/base",
      "_view_module_version": "1.2.0",
      "_view_name": "LayoutView",
      "align_content": null,
      "align_items": null,
      "align_self": null,
      "border": null,
      "bottom": null,
      "display": null,
      "flex": null,
      "flex_flow": null,
      "grid_area": null,
      "grid_auto_columns": null,
      "grid_auto_flow": null,
      "grid_auto_rows": null,
      "grid_column": null,
      "grid_gap": null,
      "grid_row": null,
      "grid_template_areas": null,
      "grid_template_columns": null,
      "grid_template_rows": null,
      "height": null,
      "justify_content": null,
      "justify_items": null,
      "left": null,
      "margin": null,
      "max_height": null,
      "max_width": null,
      "min_height": null,
      "min_width": null,
      "object_fit": null,
      "object_position": null,
      "order": null,
      "overflow": null,
      "overflow_x": null,
      "overflow_y": null,
      "padding": null,
      "right": null,
      "top": null,
      "visibility": null,
      "width": null
     }
    },
    "1912e1802f32431382fc309428d16855": {
     "model_module": "@jupyter-widgets/controls",
     "model_name": "DescriptionStyleModel",
     "state": {
      "_model_module": "@jupyter-widgets/controls",
      "_model_module_version": "1.5.0",
      "_model_name": "DescriptionStyleModel",
      "_view_count": null,
      "_view_module": "@jupyter-widgets/base",
      "_view_module_version": "1.2.0",
      "_view_name": "StyleView",
      "description_width": ""
     }
    },
    "22868c1785f1415fb7793d3f906f56f2": {
     "model_module": "@jupyter-widgets/controls",
     "model_name": "HBoxModel",
     "state": {
      "_dom_classes": [],
      "_model_module": "@jupyter-widgets/controls",
      "_model_module_version": "1.5.0",
      "_model_name": "HBoxModel",
      "_view_count": null,
      "_view_module": "@jupyter-widgets/controls",
      "_view_module_version": "1.5.0",
      "_view_name": "HBoxView",
      "box_style": "",
      "children": [
       "IPY_MODEL_93ae4bdb34a94fccae1f8cb742ec1c18",
       "IPY_MODEL_5e531454f2df444bb54cfb4daf6e5a68"
      ],
      "layout": "IPY_MODEL_855ad64e6b0a4075b4bbb6f7f28aa1a4"
     }
    },
    "36f34a91bb1548289dc816c088817514": {
     "model_module": "@jupyter-widgets/controls",
     "model_name": "ProgressStyleModel",
     "state": {
      "_model_module": "@jupyter-widgets/controls",
      "_model_module_version": "1.5.0",
      "_model_name": "ProgressStyleModel",
      "_view_count": null,
      "_view_module": "@jupyter-widgets/base",
      "_view_module_version": "1.2.0",
      "_view_name": "StyleView",
      "bar_color": null,
      "description_width": "initial"
     }
    },
    "5e531454f2df444bb54cfb4daf6e5a68": {
     "model_module": "@jupyter-widgets/controls",
     "model_name": "HTMLModel",
     "state": {
      "_dom_classes": [],
      "_model_module": "@jupyter-widgets/controls",
      "_model_module_version": "1.5.0",
      "_model_name": "HTMLModel",
      "_view_count": null,
      "_view_module": "@jupyter-widgets/controls",
      "_view_module_version": "1.5.0",
      "_view_name": "HTMLView",
      "description": "",
      "description_tooltip": null,
      "layout": "IPY_MODEL_174fafb8f02d462dbc848133367464de",
      "placeholder": "​",
      "style": "IPY_MODEL_1912e1802f32431382fc309428d16855",
      "value": " 503/10000 [55:06&lt;20:00:19,  7.58s/it]"
     }
    },
    "855ad64e6b0a4075b4bbb6f7f28aa1a4": {
     "model_module": "@jupyter-widgets/base",
     "model_name": "LayoutModel",
     "state": {
      "_model_module": "@jupyter-widgets/base",
      "_model_module_version": "1.2.0",
      "_model_name": "LayoutModel",
      "_view_count": null,
      "_view_module": "@jupyter-widgets/base",
      "_view_module_version": "1.2.0",
      "_view_name": "LayoutView",
      "align_content": null,
      "align_items": null,
      "align_self": null,
      "border": null,
      "bottom": null,
      "display": null,
      "flex": null,
      "flex_flow": null,
      "grid_area": null,
      "grid_auto_columns": null,
      "grid_auto_flow": null,
      "grid_auto_rows": null,
      "grid_column": null,
      "grid_gap": null,
      "grid_row": null,
      "grid_template_areas": null,
      "grid_template_columns": null,
      "grid_template_rows": null,
      "height": null,
      "justify_content": null,
      "justify_items": null,
      "left": null,
      "margin": null,
      "max_height": null,
      "max_width": null,
      "min_height": null,
      "min_width": null,
      "object_fit": null,
      "object_position": null,
      "order": null,
      "overflow": null,
      "overflow_x": null,
      "overflow_y": null,
      "padding": null,
      "right": null,
      "top": null,
      "visibility": null,
      "width": null
     }
    },
    "93ae4bdb34a94fccae1f8cb742ec1c18": {
     "model_module": "@jupyter-widgets/controls",
     "model_name": "FloatProgressModel",
     "state": {
      "_dom_classes": [],
      "_model_module": "@jupyter-widgets/controls",
      "_model_module_version": "1.5.0",
      "_model_name": "FloatProgressModel",
      "_view_count": null,
      "_view_module": "@jupyter-widgets/controls",
      "_view_module_version": "1.5.0",
      "_view_name": "ProgressView",
      "bar_style": "",
      "description": "  5%",
      "description_tooltip": null,
      "layout": "IPY_MODEL_f45f210bc2a44164bdf4e3a7857d8ed9",
      "max": 10000,
      "min": 0,
      "orientation": "horizontal",
      "style": "IPY_MODEL_36f34a91bb1548289dc816c088817514",
      "value": 503
     }
    },
    "f45f210bc2a44164bdf4e3a7857d8ed9": {
     "model_module": "@jupyter-widgets/base",
     "model_name": "LayoutModel",
     "state": {
      "_model_module": "@jupyter-widgets/base",
      "_model_module_version": "1.2.0",
      "_model_name": "LayoutModel",
      "_view_count": null,
      "_view_module": "@jupyter-widgets/base",
      "_view_module_version": "1.2.0",
      "_view_name": "LayoutView",
      "align_content": null,
      "align_items": null,
      "align_self": null,
      "border": null,
      "bottom": null,
      "display": null,
      "flex": null,
      "flex_flow": null,
      "grid_area": null,
      "grid_auto_columns": null,
      "grid_auto_flow": null,
      "grid_auto_rows": null,
      "grid_column": null,
      "grid_gap": null,
      "grid_row": null,
      "grid_template_areas": null,
      "grid_template_columns": null,
      "grid_template_rows": null,
      "height": null,
      "justify_content": null,
      "justify_items": null,
      "left": null,
      "margin": null,
      "max_height": null,
      "max_width": null,
      "min_height": null,
      "min_width": null,
      "object_fit": null,
      "object_position": null,
      "order": null,
      "overflow": null,
      "overflow_x": null,
      "overflow_y": null,
      "padding": null,
      "right": null,
      "top": null,
      "visibility": null,
      "width": null
     }
    }
   }
  }
 },
 "nbformat": 4,
 "nbformat_minor": 5
}

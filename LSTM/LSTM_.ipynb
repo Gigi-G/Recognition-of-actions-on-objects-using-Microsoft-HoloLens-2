{
 "cells": [
  {
   "cell_type": "markdown",
   "id": "b57ba0a3",
   "metadata": {
    "id": "b57ba0a3"
   },
   "source": [
    "# LSTM"
   ]
  },
  {
   "cell_type": "markdown",
   "id": "2d826350",
   "metadata": {
    "id": "2d826350"
   },
   "source": [
    "## Caricamento del dataframe"
   ]
  },
  {
   "cell_type": "code",
   "execution_count": 1,
   "id": "5cac63e0",
   "metadata": {
    "id": "5cac63e0"
   },
   "outputs": [],
   "source": [
    "import torch\n",
    "from torch import nn\n",
    "from torch.utils.tensorboard import SummaryWriter\n",
    "from torch.utils.data import Dataset, DataLoader, WeightedRandomSampler\n",
    "import torch.nn as nn\n",
    "\n",
    "import numpy as np\n",
    "import pandas as pd\n",
    "import sys\n",
    "import seaborn as sns\n",
    "import matplotlib.pyplot as plt\n",
    "from tqdm.notebook import tqdm\n",
    "from sklearn.metrics import confusion_matrix, classification_report, f1_score, accuracy_score\n",
    "\n",
    "from torch.utils.tensorboard import SummaryWriter\n",
    "\n",
    "import os\n",
    "import shutil\n",
    "import glob\n",
    "\n",
    "main_folder = \"../data\"\n",
    "\n",
    "folder = \"./runs/LSTM\"\n",
    "\n",
    "try:\n",
    "    #shutil.rmtree(folder + \"/Acc_train_val_train\")\n",
    "    #shutil.rmtree(folder + \"/Acc_train_val_val\")\n",
    "    #shutil.rmtree(folder + \"/Loss_train_val_train\")\n",
    "    #shutil.rmtree(folder + \"/Loss_train_val_val\")\n",
    "    #os.rmdir(folder + \"/Acc_train_val_train\")\n",
    "    #os.rmdir(folder + \"/Acc_train_val_val\")\n",
    "    #os.rmdir(folder + \"/Loss_train_val_train\")\n",
    "    #os.rmdir(folder + \"/Loss_train_val_val\")\n",
    "    #shutil.rmtree(folder)\n",
    "    #os.rmdir(folder)\n",
    "    shutil.rmtree(folder, ignore_errors=True)\n",
    "except:\n",
    "    pass\n",
    "\n",
    "try:\n",
    "    os.mkdir(folder)\n",
    "except:\n",
    "    pass\n",
    "\n",
    "writer = SummaryWriter(folder)"
   ]
  },
  {
   "cell_type": "markdown",
   "id": "acbaa788",
   "metadata": {
    "id": "acbaa788"
   },
   "source": [
    "## Train - Validation - Test"
   ]
  },
  {
   "cell_type": "code",
   "execution_count": 2,
   "id": "8affb0f7",
   "metadata": {
    "id": "8affb0f7"
   },
   "outputs": [],
   "source": [
    "class2idx = {\n",
    "    \"No_action\": 0,\n",
    "    \"Prendi\": 1,\n",
    "    \"Rilascia\": 2,\n",
    "    \"Premi\": 3\n",
    "}\n",
    "\n",
    "idx2class = {v: k for k, v in class2idx.items()}"
   ]
  },
  {
   "cell_type": "code",
   "execution_count": 3,
   "id": "49ed37c9",
   "metadata": {
    "id": "49ed37c9"
   },
   "outputs": [],
   "source": [
    "def join_csv(folder_set, filename):\n",
    "    csv:list = []\n",
    "\n",
    "    for file in glob.glob(folder_set + \"/*.csv\"):\n",
    "        csv.append(file)\n",
    "\n",
    "    columns:bool = True\n",
    "    with open(filename, \"w\") as f:\n",
    "        for fcsv in csv:\n",
    "            with open(fcsv, \"r\") as fc:\n",
    "                if columns:\n",
    "                    f.writelines(fc.readlines())\n",
    "                    columns = False\n",
    "                fc.readline()\n",
    "                f.writelines(fc.readlines())"
   ]
  },
  {
   "cell_type": "code",
   "execution_count": 4,
   "id": "Yoh1ul_pHjc5",
   "metadata": {
    "id": "Yoh1ul_pHjc5"
   },
   "outputs": [],
   "source": [
    "def create_set(folder_set, filename) -> list:\n",
    "    csv:list = []\n",
    "    for file in glob.glob(folder_set + \"/*.csv\"):\n",
    "        csv.append(file)\n",
    "    columns:bool = True\n",
    "    colname = []\n",
    "    data = []\n",
    "    target = []\n",
    "    for fcsv in csv:\n",
    "        data_video = []\n",
    "        target_video = []\n",
    "        with open(fcsv, \"r\") as fc:\n",
    "            if columns:\n",
    "                colname = [(name) for name in fc.readline().split(\",\")]\n",
    "                colname[-1] = colname[-1][:-1]\n",
    "                columns = False\n",
    "            else:\n",
    "                fc.readline()\n",
    "            for row in fc.readlines():\n",
    "              split_row = row.split(\",\")\n",
    "              data_video.append(split_row[:-1])\n",
    "              target_video.append(class2idx[split_row[-1][:-1]])\n",
    "        data.append(np.array(data_video).astype(float))\n",
    "        target.append(np.array(target_video).astype(int))\n",
    "    return (np.array(data, dtype=object), np.array(target, dtype=object), colname)"
   ]
  },
  {
   "cell_type": "code",
   "execution_count": 5,
   "id": "-znJCwBvJBZK",
   "metadata": {
    "colab": {
     "base_uri": "https://localhost:8080/"
    },
    "id": "-znJCwBvJBZK",
    "outputId": "d587f561-d7ec-44c7-d3b2-d6a99535b586"
   },
   "outputs": [
    {
     "name": "stdout",
     "output_type": "stream",
     "text": [
      "(1031, 156) (1031,)\n",
      "<class 'numpy.ndarray'> <class 'numpy.ndarray'>\n",
      "(2367, 156) (2367,)\n",
      "<class 'numpy.ndarray'> <class 'numpy.ndarray'>\n",
      "(2193, 156) (2193,)\n",
      "<class 'numpy.ndarray'> <class 'numpy.ndarray'>\n",
      "(1245, 156) (1245,)\n",
      "<class 'numpy.ndarray'> <class 'numpy.ndarray'>\n",
      "(2247, 156) (2247,)\n",
      "<class 'numpy.ndarray'> <class 'numpy.ndarray'>\n",
      "(563, 156) (563,)\n",
      "<class 'numpy.ndarray'> <class 'numpy.ndarray'>\n",
      "(3791, 156) (3791,)\n",
      "<class 'numpy.ndarray'> <class 'numpy.ndarray'>\n",
      "(971, 156) (971,)\n",
      "<class 'numpy.ndarray'> <class 'numpy.ndarray'>\n",
      "(1361, 156) (1361,)\n",
      "<class 'numpy.ndarray'> <class 'numpy.ndarray'>\n",
      "(1188, 156) (1188,)\n",
      "<class 'numpy.ndarray'> <class 'numpy.ndarray'>\n",
      "(819, 156) (819,)\n",
      "<class 'numpy.ndarray'> <class 'numpy.ndarray'>\n",
      "(1164, 156) (1164,)\n",
      "<class 'numpy.ndarray'> <class 'numpy.ndarray'>\n",
      "(1732, 156) (1732,)\n",
      "<class 'numpy.ndarray'> <class 'numpy.ndarray'>\n",
      "(486, 156) (486,)\n",
      "<class 'numpy.ndarray'> <class 'numpy.ndarray'>\n",
      "(1516, 156) (1516,)\n",
      "<class 'numpy.ndarray'> <class 'numpy.ndarray'>\n",
      "(1676, 156) (1676,)\n",
      "<class 'numpy.ndarray'> <class 'numpy.ndarray'>\n",
      "(2112, 156) (2112,)\n",
      "<class 'numpy.ndarray'> <class 'numpy.ndarray'>\n",
      "(1115, 156) (1115,)\n",
      "<class 'numpy.ndarray'> <class 'numpy.ndarray'>\n",
      "(2210, 156) (2210,)\n",
      "<class 'numpy.ndarray'> <class 'numpy.ndarray'>\n",
      "(541, 156) (541,)\n",
      "<class 'numpy.ndarray'> <class 'numpy.ndarray'>\n",
      "(3598, 156) (3598,)\n",
      "<class 'numpy.ndarray'> <class 'numpy.ndarray'>\n",
      "(1117, 156) (1117,)\n",
      "<class 'numpy.ndarray'> <class 'numpy.ndarray'>\n",
      "(471, 156) (471,)\n",
      "<class 'numpy.ndarray'> <class 'numpy.ndarray'>\n",
      "(655, 156) (655,)\n",
      "<class 'numpy.ndarray'> <class 'numpy.ndarray'>\n",
      "(1489, 156) (1489,)\n",
      "<class 'numpy.ndarray'> <class 'numpy.ndarray'>\n",
      "(1434, 156) (1434,)\n",
      "<class 'numpy.ndarray'> <class 'numpy.ndarray'>\n",
      "(855, 156) (855,)\n",
      "<class 'numpy.ndarray'> <class 'numpy.ndarray'>\n",
      "(2135, 156) (2135,)\n",
      "<class 'numpy.ndarray'> <class 'numpy.ndarray'>\n",
      "(1070, 156) (1070,)\n",
      "<class 'numpy.ndarray'> <class 'numpy.ndarray'>\n",
      "(1259, 156) (1259,)\n",
      "<class 'numpy.ndarray'> <class 'numpy.ndarray'>\n",
      "(1100, 156) (1100,)\n",
      "<class 'numpy.ndarray'> <class 'numpy.ndarray'>\n",
      "(1153, 156) (1153,)\n",
      "<class 'numpy.ndarray'> <class 'numpy.ndarray'>\n",
      "(2187, 156) (2187,)\n",
      "<class 'numpy.ndarray'> <class 'numpy.ndarray'>\n",
      "(1471, 156) (1471,)\n",
      "<class 'numpy.ndarray'> <class 'numpy.ndarray'>\n",
      "(1121, 156) (1121,)\n",
      "<class 'numpy.ndarray'> <class 'numpy.ndarray'>\n",
      "(832, 156) (832,)\n",
      "<class 'numpy.ndarray'> <class 'numpy.ndarray'>\n",
      "(1020, 156) (1020,)\n",
      "<class 'numpy.ndarray'> <class 'numpy.ndarray'>\n",
      "(842, 156) (842,)\n",
      "<class 'numpy.ndarray'> <class 'numpy.ndarray'>\n",
      "(749, 156) (749,)\n",
      "<class 'numpy.ndarray'> <class 'numpy.ndarray'>\n"
     ]
    }
   ],
   "source": [
    "folder_set = [[main_folder + \"/train_set\", main_folder + \"/train.csv\"], [main_folder + \"/test_set\", main_folder + \"/test.csv\"], [main_folder + \"/val_set\", main_folder + \"/val.csv\"]]\n",
    "\n",
    "train_array, train_label_array, colname = create_set(folder_set[0][0], folder_set[0][1])\n",
    "test_array, test_label_array, colname = create_set(folder_set[1][0], folder_set[1][1])\n",
    "val_array, val_label_array, colname = create_set(folder_set[2][0], folder_set[2][1])\n",
    "#print(train_array.shape, train_label_array.shape, test_array.shape, test_label_array.shape, val_array.shape, val_label_array.shape, colname)\n",
    "for elem, label in zip(train_array, train_label_array):\n",
    "  print(elem.shape, label.shape)\n",
    "  print(type(elem), type(label))"
   ]
  },
  {
   "cell_type": "code",
   "execution_count": 6,
   "id": "3eca6d5f",
   "metadata": {
    "id": "3eca6d5f"
   },
   "outputs": [],
   "source": [
    "folder_set = [[main_folder + \"/train_set\", main_folder + \"/train.csv\"], [main_folder + \"/test_set\", main_folder + \"/test.csv\"], [main_folder + \"/val_set\", main_folder + \"/val.csv\"]]\n",
    "\n",
    "for f_set, filename in folder_set:\n",
    "    join_csv(f_set, filename)\n",
    "    \n",
    "train = pd.read_csv(main_folder + \"/train.csv\")\n",
    "test = pd.read_csv(main_folder + \"/test.csv\")\n",
    "val = pd.read_csv(main_folder + \"/val.csv\")\n",
    "\n",
    "train['TARGET'].replace(class2idx, inplace=True)\n",
    "test['TARGET'].replace(class2idx, inplace=True)\n",
    "val['TARGET'].replace(class2idx, inplace=True)"
   ]
  },
  {
   "cell_type": "code",
   "execution_count": 7,
   "id": "7a38725f",
   "metadata": {
    "colab": {
     "base_uri": "https://localhost:8080/",
     "height": 256
    },
    "id": "7a38725f",
    "outputId": "277f27e8-0baf-4e19-fa2a-578dc71deade"
   },
   "outputs": [
    {
     "data": {
      "text/html": [
       "<div>\n",
       "<style scoped>\n",
       "    .dataframe tbody tr th:only-of-type {\n",
       "        vertical-align: middle;\n",
       "    }\n",
       "\n",
       "    .dataframe tbody tr th {\n",
       "        vertical-align: top;\n",
       "    }\n",
       "\n",
       "    .dataframe thead th {\n",
       "        text-align: right;\n",
       "    }\n",
       "</style>\n",
       "<table border=\"1\" class=\"dataframe\">\n",
       "  <thead>\n",
       "    <tr style=\"text-align: right;\">\n",
       "      <th></th>\n",
       "      <th>RIGHT_Palm_x</th>\n",
       "      <th>RIGHT_Palm_y</th>\n",
       "      <th>RIGHT_Palm_z</th>\n",
       "      <th>LEFT_Palm_x</th>\n",
       "      <th>LEFT_Palm_y</th>\n",
       "      <th>LEFT_Palm_z</th>\n",
       "      <th>RIGHT_ThumbTip_x</th>\n",
       "      <th>RIGHT_ThumbTip_y</th>\n",
       "      <th>RIGHT_ThumbTip_z</th>\n",
       "      <th>LEFT_ThumbTip_x</th>\n",
       "      <th>...</th>\n",
       "      <th>LEFT_PinkyMetacarpal_x</th>\n",
       "      <th>LEFT_PinkyMetacarpal_y</th>\n",
       "      <th>LEFT_PinkyMetacarpal_z</th>\n",
       "      <th>RIGHT_Wrist_x</th>\n",
       "      <th>RIGHT_Wrist_y</th>\n",
       "      <th>RIGHT_Wrist_z</th>\n",
       "      <th>LEFT_Wrist_x</th>\n",
       "      <th>LEFT_Wrist_y</th>\n",
       "      <th>LEFT_Wrist_z</th>\n",
       "      <th>TARGET</th>\n",
       "    </tr>\n",
       "  </thead>\n",
       "  <tbody>\n",
       "    <tr>\n",
       "      <th>0</th>\n",
       "      <td>0.0</td>\n",
       "      <td>0.0</td>\n",
       "      <td>0.0</td>\n",
       "      <td>0.0</td>\n",
       "      <td>0.0</td>\n",
       "      <td>0.0</td>\n",
       "      <td>0.0</td>\n",
       "      <td>0.0</td>\n",
       "      <td>0.0</td>\n",
       "      <td>0.0</td>\n",
       "      <td>...</td>\n",
       "      <td>0.0</td>\n",
       "      <td>0.0</td>\n",
       "      <td>0.0</td>\n",
       "      <td>0.0</td>\n",
       "      <td>0.0</td>\n",
       "      <td>0.0</td>\n",
       "      <td>0.0</td>\n",
       "      <td>0.0</td>\n",
       "      <td>0.0</td>\n",
       "      <td>0</td>\n",
       "    </tr>\n",
       "    <tr>\n",
       "      <th>1</th>\n",
       "      <td>0.0</td>\n",
       "      <td>0.0</td>\n",
       "      <td>0.0</td>\n",
       "      <td>0.0</td>\n",
       "      <td>0.0</td>\n",
       "      <td>0.0</td>\n",
       "      <td>0.0</td>\n",
       "      <td>0.0</td>\n",
       "      <td>0.0</td>\n",
       "      <td>0.0</td>\n",
       "      <td>...</td>\n",
       "      <td>0.0</td>\n",
       "      <td>0.0</td>\n",
       "      <td>0.0</td>\n",
       "      <td>0.0</td>\n",
       "      <td>0.0</td>\n",
       "      <td>0.0</td>\n",
       "      <td>0.0</td>\n",
       "      <td>0.0</td>\n",
       "      <td>0.0</td>\n",
       "      <td>0</td>\n",
       "    </tr>\n",
       "    <tr>\n",
       "      <th>2</th>\n",
       "      <td>0.0</td>\n",
       "      <td>0.0</td>\n",
       "      <td>0.0</td>\n",
       "      <td>0.0</td>\n",
       "      <td>0.0</td>\n",
       "      <td>0.0</td>\n",
       "      <td>0.0</td>\n",
       "      <td>0.0</td>\n",
       "      <td>0.0</td>\n",
       "      <td>0.0</td>\n",
       "      <td>...</td>\n",
       "      <td>0.0</td>\n",
       "      <td>0.0</td>\n",
       "      <td>0.0</td>\n",
       "      <td>0.0</td>\n",
       "      <td>0.0</td>\n",
       "      <td>0.0</td>\n",
       "      <td>0.0</td>\n",
       "      <td>0.0</td>\n",
       "      <td>0.0</td>\n",
       "      <td>0</td>\n",
       "    </tr>\n",
       "    <tr>\n",
       "      <th>3</th>\n",
       "      <td>0.0</td>\n",
       "      <td>0.0</td>\n",
       "      <td>0.0</td>\n",
       "      <td>0.0</td>\n",
       "      <td>0.0</td>\n",
       "      <td>0.0</td>\n",
       "      <td>0.0</td>\n",
       "      <td>0.0</td>\n",
       "      <td>0.0</td>\n",
       "      <td>0.0</td>\n",
       "      <td>...</td>\n",
       "      <td>0.0</td>\n",
       "      <td>0.0</td>\n",
       "      <td>0.0</td>\n",
       "      <td>0.0</td>\n",
       "      <td>0.0</td>\n",
       "      <td>0.0</td>\n",
       "      <td>0.0</td>\n",
       "      <td>0.0</td>\n",
       "      <td>0.0</td>\n",
       "      <td>0</td>\n",
       "    </tr>\n",
       "    <tr>\n",
       "      <th>4</th>\n",
       "      <td>0.0</td>\n",
       "      <td>0.0</td>\n",
       "      <td>0.0</td>\n",
       "      <td>0.0</td>\n",
       "      <td>0.0</td>\n",
       "      <td>0.0</td>\n",
       "      <td>0.0</td>\n",
       "      <td>0.0</td>\n",
       "      <td>0.0</td>\n",
       "      <td>0.0</td>\n",
       "      <td>...</td>\n",
       "      <td>0.0</td>\n",
       "      <td>0.0</td>\n",
       "      <td>0.0</td>\n",
       "      <td>0.0</td>\n",
       "      <td>0.0</td>\n",
       "      <td>0.0</td>\n",
       "      <td>0.0</td>\n",
       "      <td>0.0</td>\n",
       "      <td>0.0</td>\n",
       "      <td>0</td>\n",
       "    </tr>\n",
       "  </tbody>\n",
       "</table>\n",
       "<p>5 rows × 157 columns</p>\n",
       "</div>"
      ],
      "text/plain": [
       "   RIGHT_Palm_x  RIGHT_Palm_y  RIGHT_Palm_z  LEFT_Palm_x  LEFT_Palm_y  \\\n",
       "0           0.0           0.0           0.0          0.0          0.0   \n",
       "1           0.0           0.0           0.0          0.0          0.0   \n",
       "2           0.0           0.0           0.0          0.0          0.0   \n",
       "3           0.0           0.0           0.0          0.0          0.0   \n",
       "4           0.0           0.0           0.0          0.0          0.0   \n",
       "\n",
       "   LEFT_Palm_z  RIGHT_ThumbTip_x  RIGHT_ThumbTip_y  RIGHT_ThumbTip_z  \\\n",
       "0          0.0               0.0               0.0               0.0   \n",
       "1          0.0               0.0               0.0               0.0   \n",
       "2          0.0               0.0               0.0               0.0   \n",
       "3          0.0               0.0               0.0               0.0   \n",
       "4          0.0               0.0               0.0               0.0   \n",
       "\n",
       "   LEFT_ThumbTip_x  ...  LEFT_PinkyMetacarpal_x  LEFT_PinkyMetacarpal_y  \\\n",
       "0              0.0  ...                     0.0                     0.0   \n",
       "1              0.0  ...                     0.0                     0.0   \n",
       "2              0.0  ...                     0.0                     0.0   \n",
       "3              0.0  ...                     0.0                     0.0   \n",
       "4              0.0  ...                     0.0                     0.0   \n",
       "\n",
       "   LEFT_PinkyMetacarpal_z  RIGHT_Wrist_x  RIGHT_Wrist_y  RIGHT_Wrist_z  \\\n",
       "0                     0.0            0.0            0.0            0.0   \n",
       "1                     0.0            0.0            0.0            0.0   \n",
       "2                     0.0            0.0            0.0            0.0   \n",
       "3                     0.0            0.0            0.0            0.0   \n",
       "4                     0.0            0.0            0.0            0.0   \n",
       "\n",
       "   LEFT_Wrist_x  LEFT_Wrist_y  LEFT_Wrist_z  TARGET  \n",
       "0           0.0           0.0           0.0       0  \n",
       "1           0.0           0.0           0.0       0  \n",
       "2           0.0           0.0           0.0       0  \n",
       "3           0.0           0.0           0.0       0  \n",
       "4           0.0           0.0           0.0       0  \n",
       "\n",
       "[5 rows x 157 columns]"
      ]
     },
     "execution_count": 7,
     "metadata": {},
     "output_type": "execute_result"
    }
   ],
   "source": [
    "train.head()"
   ]
  },
  {
   "cell_type": "code",
   "execution_count": 8,
   "id": "4a27cc3b",
   "metadata": {
    "colab": {
     "base_uri": "https://localhost:8080/",
     "height": 256
    },
    "id": "4a27cc3b",
    "outputId": "4d5d44b3-9ed0-475b-995a-1228f9356d7a"
   },
   "outputs": [
    {
     "data": {
      "text/html": [
       "<div>\n",
       "<style scoped>\n",
       "    .dataframe tbody tr th:only-of-type {\n",
       "        vertical-align: middle;\n",
       "    }\n",
       "\n",
       "    .dataframe tbody tr th {\n",
       "        vertical-align: top;\n",
       "    }\n",
       "\n",
       "    .dataframe thead th {\n",
       "        text-align: right;\n",
       "    }\n",
       "</style>\n",
       "<table border=\"1\" class=\"dataframe\">\n",
       "  <thead>\n",
       "    <tr style=\"text-align: right;\">\n",
       "      <th></th>\n",
       "      <th>RIGHT_Palm_x</th>\n",
       "      <th>RIGHT_Palm_y</th>\n",
       "      <th>RIGHT_Palm_z</th>\n",
       "      <th>LEFT_Palm_x</th>\n",
       "      <th>LEFT_Palm_y</th>\n",
       "      <th>LEFT_Palm_z</th>\n",
       "      <th>RIGHT_ThumbTip_x</th>\n",
       "      <th>RIGHT_ThumbTip_y</th>\n",
       "      <th>RIGHT_ThumbTip_z</th>\n",
       "      <th>LEFT_ThumbTip_x</th>\n",
       "      <th>...</th>\n",
       "      <th>LEFT_PinkyMetacarpal_x</th>\n",
       "      <th>LEFT_PinkyMetacarpal_y</th>\n",
       "      <th>LEFT_PinkyMetacarpal_z</th>\n",
       "      <th>RIGHT_Wrist_x</th>\n",
       "      <th>RIGHT_Wrist_y</th>\n",
       "      <th>RIGHT_Wrist_z</th>\n",
       "      <th>LEFT_Wrist_x</th>\n",
       "      <th>LEFT_Wrist_y</th>\n",
       "      <th>LEFT_Wrist_z</th>\n",
       "      <th>TARGET</th>\n",
       "    </tr>\n",
       "  </thead>\n",
       "  <tbody>\n",
       "    <tr>\n",
       "      <th>0</th>\n",
       "      <td>0.0</td>\n",
       "      <td>0.0</td>\n",
       "      <td>0.0</td>\n",
       "      <td>0.0</td>\n",
       "      <td>0.0</td>\n",
       "      <td>0.0</td>\n",
       "      <td>0.0</td>\n",
       "      <td>0.0</td>\n",
       "      <td>0.0</td>\n",
       "      <td>0.0</td>\n",
       "      <td>...</td>\n",
       "      <td>0.0</td>\n",
       "      <td>0.0</td>\n",
       "      <td>0.0</td>\n",
       "      <td>0.0</td>\n",
       "      <td>0.0</td>\n",
       "      <td>0.0</td>\n",
       "      <td>0.0</td>\n",
       "      <td>0.0</td>\n",
       "      <td>0.0</td>\n",
       "      <td>0</td>\n",
       "    </tr>\n",
       "    <tr>\n",
       "      <th>1</th>\n",
       "      <td>0.0</td>\n",
       "      <td>0.0</td>\n",
       "      <td>0.0</td>\n",
       "      <td>0.0</td>\n",
       "      <td>0.0</td>\n",
       "      <td>0.0</td>\n",
       "      <td>0.0</td>\n",
       "      <td>0.0</td>\n",
       "      <td>0.0</td>\n",
       "      <td>0.0</td>\n",
       "      <td>...</td>\n",
       "      <td>0.0</td>\n",
       "      <td>0.0</td>\n",
       "      <td>0.0</td>\n",
       "      <td>0.0</td>\n",
       "      <td>0.0</td>\n",
       "      <td>0.0</td>\n",
       "      <td>0.0</td>\n",
       "      <td>0.0</td>\n",
       "      <td>0.0</td>\n",
       "      <td>0</td>\n",
       "    </tr>\n",
       "    <tr>\n",
       "      <th>2</th>\n",
       "      <td>0.0</td>\n",
       "      <td>0.0</td>\n",
       "      <td>0.0</td>\n",
       "      <td>0.0</td>\n",
       "      <td>0.0</td>\n",
       "      <td>0.0</td>\n",
       "      <td>0.0</td>\n",
       "      <td>0.0</td>\n",
       "      <td>0.0</td>\n",
       "      <td>0.0</td>\n",
       "      <td>...</td>\n",
       "      <td>0.0</td>\n",
       "      <td>0.0</td>\n",
       "      <td>0.0</td>\n",
       "      <td>0.0</td>\n",
       "      <td>0.0</td>\n",
       "      <td>0.0</td>\n",
       "      <td>0.0</td>\n",
       "      <td>0.0</td>\n",
       "      <td>0.0</td>\n",
       "      <td>0</td>\n",
       "    </tr>\n",
       "    <tr>\n",
       "      <th>3</th>\n",
       "      <td>0.0</td>\n",
       "      <td>0.0</td>\n",
       "      <td>0.0</td>\n",
       "      <td>0.0</td>\n",
       "      <td>0.0</td>\n",
       "      <td>0.0</td>\n",
       "      <td>0.0</td>\n",
       "      <td>0.0</td>\n",
       "      <td>0.0</td>\n",
       "      <td>0.0</td>\n",
       "      <td>...</td>\n",
       "      <td>0.0</td>\n",
       "      <td>0.0</td>\n",
       "      <td>0.0</td>\n",
       "      <td>0.0</td>\n",
       "      <td>0.0</td>\n",
       "      <td>0.0</td>\n",
       "      <td>0.0</td>\n",
       "      <td>0.0</td>\n",
       "      <td>0.0</td>\n",
       "      <td>0</td>\n",
       "    </tr>\n",
       "    <tr>\n",
       "      <th>4</th>\n",
       "      <td>0.0</td>\n",
       "      <td>0.0</td>\n",
       "      <td>0.0</td>\n",
       "      <td>0.0</td>\n",
       "      <td>0.0</td>\n",
       "      <td>0.0</td>\n",
       "      <td>0.0</td>\n",
       "      <td>0.0</td>\n",
       "      <td>0.0</td>\n",
       "      <td>0.0</td>\n",
       "      <td>...</td>\n",
       "      <td>0.0</td>\n",
       "      <td>0.0</td>\n",
       "      <td>0.0</td>\n",
       "      <td>0.0</td>\n",
       "      <td>0.0</td>\n",
       "      <td>0.0</td>\n",
       "      <td>0.0</td>\n",
       "      <td>0.0</td>\n",
       "      <td>0.0</td>\n",
       "      <td>0</td>\n",
       "    </tr>\n",
       "  </tbody>\n",
       "</table>\n",
       "<p>5 rows × 157 columns</p>\n",
       "</div>"
      ],
      "text/plain": [
       "   RIGHT_Palm_x  RIGHT_Palm_y  RIGHT_Palm_z  LEFT_Palm_x  LEFT_Palm_y  \\\n",
       "0           0.0           0.0           0.0          0.0          0.0   \n",
       "1           0.0           0.0           0.0          0.0          0.0   \n",
       "2           0.0           0.0           0.0          0.0          0.0   \n",
       "3           0.0           0.0           0.0          0.0          0.0   \n",
       "4           0.0           0.0           0.0          0.0          0.0   \n",
       "\n",
       "   LEFT_Palm_z  RIGHT_ThumbTip_x  RIGHT_ThumbTip_y  RIGHT_ThumbTip_z  \\\n",
       "0          0.0               0.0               0.0               0.0   \n",
       "1          0.0               0.0               0.0               0.0   \n",
       "2          0.0               0.0               0.0               0.0   \n",
       "3          0.0               0.0               0.0               0.0   \n",
       "4          0.0               0.0               0.0               0.0   \n",
       "\n",
       "   LEFT_ThumbTip_x  ...  LEFT_PinkyMetacarpal_x  LEFT_PinkyMetacarpal_y  \\\n",
       "0              0.0  ...                     0.0                     0.0   \n",
       "1              0.0  ...                     0.0                     0.0   \n",
       "2              0.0  ...                     0.0                     0.0   \n",
       "3              0.0  ...                     0.0                     0.0   \n",
       "4              0.0  ...                     0.0                     0.0   \n",
       "\n",
       "   LEFT_PinkyMetacarpal_z  RIGHT_Wrist_x  RIGHT_Wrist_y  RIGHT_Wrist_z  \\\n",
       "0                     0.0            0.0            0.0            0.0   \n",
       "1                     0.0            0.0            0.0            0.0   \n",
       "2                     0.0            0.0            0.0            0.0   \n",
       "3                     0.0            0.0            0.0            0.0   \n",
       "4                     0.0            0.0            0.0            0.0   \n",
       "\n",
       "   LEFT_Wrist_x  LEFT_Wrist_y  LEFT_Wrist_z  TARGET  \n",
       "0           0.0           0.0           0.0       0  \n",
       "1           0.0           0.0           0.0       0  \n",
       "2           0.0           0.0           0.0       0  \n",
       "3           0.0           0.0           0.0       0  \n",
       "4           0.0           0.0           0.0       0  \n",
       "\n",
       "[5 rows x 157 columns]"
      ]
     },
     "execution_count": 8,
     "metadata": {},
     "output_type": "execute_result"
    }
   ],
   "source": [
    "test.head()"
   ]
  },
  {
   "cell_type": "code",
   "execution_count": 9,
   "id": "7522085c",
   "metadata": {
    "colab": {
     "base_uri": "https://localhost:8080/",
     "height": 256
    },
    "id": "7522085c",
    "outputId": "30033aea-7275-464a-a69e-4b42101b4db9"
   },
   "outputs": [
    {
     "data": {
      "text/html": [
       "<div>\n",
       "<style scoped>\n",
       "    .dataframe tbody tr th:only-of-type {\n",
       "        vertical-align: middle;\n",
       "    }\n",
       "\n",
       "    .dataframe tbody tr th {\n",
       "        vertical-align: top;\n",
       "    }\n",
       "\n",
       "    .dataframe thead th {\n",
       "        text-align: right;\n",
       "    }\n",
       "</style>\n",
       "<table border=\"1\" class=\"dataframe\">\n",
       "  <thead>\n",
       "    <tr style=\"text-align: right;\">\n",
       "      <th></th>\n",
       "      <th>RIGHT_Palm_x</th>\n",
       "      <th>RIGHT_Palm_y</th>\n",
       "      <th>RIGHT_Palm_z</th>\n",
       "      <th>LEFT_Palm_x</th>\n",
       "      <th>LEFT_Palm_y</th>\n",
       "      <th>LEFT_Palm_z</th>\n",
       "      <th>RIGHT_ThumbTip_x</th>\n",
       "      <th>RIGHT_ThumbTip_y</th>\n",
       "      <th>RIGHT_ThumbTip_z</th>\n",
       "      <th>LEFT_ThumbTip_x</th>\n",
       "      <th>...</th>\n",
       "      <th>LEFT_PinkyMetacarpal_x</th>\n",
       "      <th>LEFT_PinkyMetacarpal_y</th>\n",
       "      <th>LEFT_PinkyMetacarpal_z</th>\n",
       "      <th>RIGHT_Wrist_x</th>\n",
       "      <th>RIGHT_Wrist_y</th>\n",
       "      <th>RIGHT_Wrist_z</th>\n",
       "      <th>LEFT_Wrist_x</th>\n",
       "      <th>LEFT_Wrist_y</th>\n",
       "      <th>LEFT_Wrist_z</th>\n",
       "      <th>TARGET</th>\n",
       "    </tr>\n",
       "  </thead>\n",
       "  <tbody>\n",
       "    <tr>\n",
       "      <th>0</th>\n",
       "      <td>0.0</td>\n",
       "      <td>0.0</td>\n",
       "      <td>0.0</td>\n",
       "      <td>0.0</td>\n",
       "      <td>0.0</td>\n",
       "      <td>0.0</td>\n",
       "      <td>0.0</td>\n",
       "      <td>0.0</td>\n",
       "      <td>0.0</td>\n",
       "      <td>0.0</td>\n",
       "      <td>...</td>\n",
       "      <td>0.0</td>\n",
       "      <td>0.0</td>\n",
       "      <td>0.0</td>\n",
       "      <td>0.0</td>\n",
       "      <td>0.0</td>\n",
       "      <td>0.0</td>\n",
       "      <td>0.0</td>\n",
       "      <td>0.0</td>\n",
       "      <td>0.0</td>\n",
       "      <td>0</td>\n",
       "    </tr>\n",
       "    <tr>\n",
       "      <th>1</th>\n",
       "      <td>0.0</td>\n",
       "      <td>0.0</td>\n",
       "      <td>0.0</td>\n",
       "      <td>0.0</td>\n",
       "      <td>0.0</td>\n",
       "      <td>0.0</td>\n",
       "      <td>0.0</td>\n",
       "      <td>0.0</td>\n",
       "      <td>0.0</td>\n",
       "      <td>0.0</td>\n",
       "      <td>...</td>\n",
       "      <td>0.0</td>\n",
       "      <td>0.0</td>\n",
       "      <td>0.0</td>\n",
       "      <td>0.0</td>\n",
       "      <td>0.0</td>\n",
       "      <td>0.0</td>\n",
       "      <td>0.0</td>\n",
       "      <td>0.0</td>\n",
       "      <td>0.0</td>\n",
       "      <td>0</td>\n",
       "    </tr>\n",
       "    <tr>\n",
       "      <th>2</th>\n",
       "      <td>0.0</td>\n",
       "      <td>0.0</td>\n",
       "      <td>0.0</td>\n",
       "      <td>0.0</td>\n",
       "      <td>0.0</td>\n",
       "      <td>0.0</td>\n",
       "      <td>0.0</td>\n",
       "      <td>0.0</td>\n",
       "      <td>0.0</td>\n",
       "      <td>0.0</td>\n",
       "      <td>...</td>\n",
       "      <td>0.0</td>\n",
       "      <td>0.0</td>\n",
       "      <td>0.0</td>\n",
       "      <td>0.0</td>\n",
       "      <td>0.0</td>\n",
       "      <td>0.0</td>\n",
       "      <td>0.0</td>\n",
       "      <td>0.0</td>\n",
       "      <td>0.0</td>\n",
       "      <td>0</td>\n",
       "    </tr>\n",
       "    <tr>\n",
       "      <th>3</th>\n",
       "      <td>0.0</td>\n",
       "      <td>0.0</td>\n",
       "      <td>0.0</td>\n",
       "      <td>0.0</td>\n",
       "      <td>0.0</td>\n",
       "      <td>0.0</td>\n",
       "      <td>0.0</td>\n",
       "      <td>0.0</td>\n",
       "      <td>0.0</td>\n",
       "      <td>0.0</td>\n",
       "      <td>...</td>\n",
       "      <td>0.0</td>\n",
       "      <td>0.0</td>\n",
       "      <td>0.0</td>\n",
       "      <td>0.0</td>\n",
       "      <td>0.0</td>\n",
       "      <td>0.0</td>\n",
       "      <td>0.0</td>\n",
       "      <td>0.0</td>\n",
       "      <td>0.0</td>\n",
       "      <td>0</td>\n",
       "    </tr>\n",
       "    <tr>\n",
       "      <th>4</th>\n",
       "      <td>0.0</td>\n",
       "      <td>0.0</td>\n",
       "      <td>0.0</td>\n",
       "      <td>0.0</td>\n",
       "      <td>0.0</td>\n",
       "      <td>0.0</td>\n",
       "      <td>0.0</td>\n",
       "      <td>0.0</td>\n",
       "      <td>0.0</td>\n",
       "      <td>0.0</td>\n",
       "      <td>...</td>\n",
       "      <td>0.0</td>\n",
       "      <td>0.0</td>\n",
       "      <td>0.0</td>\n",
       "      <td>0.0</td>\n",
       "      <td>0.0</td>\n",
       "      <td>0.0</td>\n",
       "      <td>0.0</td>\n",
       "      <td>0.0</td>\n",
       "      <td>0.0</td>\n",
       "      <td>0</td>\n",
       "    </tr>\n",
       "  </tbody>\n",
       "</table>\n",
       "<p>5 rows × 157 columns</p>\n",
       "</div>"
      ],
      "text/plain": [
       "   RIGHT_Palm_x  RIGHT_Palm_y  RIGHT_Palm_z  LEFT_Palm_x  LEFT_Palm_y  \\\n",
       "0           0.0           0.0           0.0          0.0          0.0   \n",
       "1           0.0           0.0           0.0          0.0          0.0   \n",
       "2           0.0           0.0           0.0          0.0          0.0   \n",
       "3           0.0           0.0           0.0          0.0          0.0   \n",
       "4           0.0           0.0           0.0          0.0          0.0   \n",
       "\n",
       "   LEFT_Palm_z  RIGHT_ThumbTip_x  RIGHT_ThumbTip_y  RIGHT_ThumbTip_z  \\\n",
       "0          0.0               0.0               0.0               0.0   \n",
       "1          0.0               0.0               0.0               0.0   \n",
       "2          0.0               0.0               0.0               0.0   \n",
       "3          0.0               0.0               0.0               0.0   \n",
       "4          0.0               0.0               0.0               0.0   \n",
       "\n",
       "   LEFT_ThumbTip_x  ...  LEFT_PinkyMetacarpal_x  LEFT_PinkyMetacarpal_y  \\\n",
       "0              0.0  ...                     0.0                     0.0   \n",
       "1              0.0  ...                     0.0                     0.0   \n",
       "2              0.0  ...                     0.0                     0.0   \n",
       "3              0.0  ...                     0.0                     0.0   \n",
       "4              0.0  ...                     0.0                     0.0   \n",
       "\n",
       "   LEFT_PinkyMetacarpal_z  RIGHT_Wrist_x  RIGHT_Wrist_y  RIGHT_Wrist_z  \\\n",
       "0                     0.0            0.0            0.0            0.0   \n",
       "1                     0.0            0.0            0.0            0.0   \n",
       "2                     0.0            0.0            0.0            0.0   \n",
       "3                     0.0            0.0            0.0            0.0   \n",
       "4                     0.0            0.0            0.0            0.0   \n",
       "\n",
       "   LEFT_Wrist_x  LEFT_Wrist_y  LEFT_Wrist_z  TARGET  \n",
       "0           0.0           0.0           0.0       0  \n",
       "1           0.0           0.0           0.0       0  \n",
       "2           0.0           0.0           0.0       0  \n",
       "3           0.0           0.0           0.0       0  \n",
       "4           0.0           0.0           0.0       0  \n",
       "\n",
       "[5 rows x 157 columns]"
      ]
     },
     "execution_count": 9,
     "metadata": {},
     "output_type": "execute_result"
    }
   ],
   "source": [
    "val.head()"
   ]
  },
  {
   "cell_type": "code",
   "execution_count": 10,
   "id": "e196b6c0",
   "metadata": {
    "colab": {
     "base_uri": "https://localhost:8080/"
    },
    "id": "e196b6c0",
    "outputId": "1178bdd2-d79b-4211-e8eb-96101ac9716c"
   },
   "outputs": [
    {
     "name": "stdout",
     "output_type": "stream",
     "text": [
      "54886 16126 10453\n"
     ]
    }
   ],
   "source": [
    "print(train.shape[0], test.shape[0], val.shape[0])"
   ]
  },
  {
   "cell_type": "code",
   "execution_count": 11,
   "id": "0126e325",
   "metadata": {
    "id": "0126e325"
   },
   "outputs": [],
   "source": [
    "def create_dataset(dataset, target, window_size = 2):\n",
    "    dataX, dataY = [], []\n",
    "    for i in range(len(dataset) - window_size):\n",
    "        dataX.append(dataset[i:(i + window_size)])\n",
    "        dataY.append(target[i:(i + window_size + 1)].values[0])\n",
    "    return np.array(dataX), np.array(dataY)"
   ]
  },
  {
   "cell_type": "markdown",
   "id": "da4ea305",
   "metadata": {
    "id": "da4ea305"
   },
   "source": [
    "Si separano le colonne delle features dall'etichetta."
   ]
  },
  {
   "cell_type": "code",
   "execution_count": 12,
   "id": "d1c6d06b",
   "metadata": {
    "id": "d1c6d06b"
   },
   "outputs": [],
   "source": [
    "train_label = train[\"TARGET\"]\n",
    "test_label = test[\"TARGET\"]\n",
    "val_label = val[\"TARGET\"]\n",
    "\n",
    "del train[\"TARGET\"]\n",
    "del test[\"TARGET\"]\n",
    "del val[\"TARGET\"]"
   ]
  },
  {
   "cell_type": "markdown",
   "id": "owUiLKf4H9jh",
   "metadata": {
    "id": "owUiLKf4H9jh"
   },
   "source": [
    "## Visualizzazione della distribuzione delle classi in Train, Val e Test"
   ]
  },
  {
   "cell_type": "code",
   "execution_count": 13,
   "id": "NvPdymyAH07E",
   "metadata": {
    "id": "NvPdymyAH07E"
   },
   "outputs": [],
   "source": [
    "def get_class_distribution(obj):\n",
    "    count_dict = {\n",
    "        \"No_action\": 0,\n",
    "        \"Prendi\": 0,\n",
    "        \"Rilascia\": 0,\n",
    "        \"Premi\": 0,\n",
    "    }\n",
    "    \n",
    "    for i in obj:\n",
    "        if i == 0: \n",
    "            count_dict['No_action'] += 1\n",
    "        elif i == 1: \n",
    "            count_dict['Prendi'] += 1\n",
    "        elif i == 2: \n",
    "            count_dict['Rilascia'] += 1\n",
    "        elif i == 3: \n",
    "            count_dict['Premi'] += 1            \n",
    "        else:\n",
    "            print(\"Check classes.\")\n",
    "            \n",
    "    return count_dict"
   ]
  },
  {
   "cell_type": "code",
   "execution_count": 14,
   "id": "mdj_1catIJPD",
   "metadata": {
    "colab": {
     "base_uri": "https://localhost:8080/",
     "height": 476
    },
    "id": "mdj_1catIJPD",
    "outputId": "088c5bea-3744-4db5-8234-dea09fe02719"
   },
   "outputs": [
    {
     "data": {
      "text/plain": [
       "Text(0.5, 1.0, 'Class Distribution in Test Set')"
      ]
     },
     "execution_count": 14,
     "metadata": {},
     "output_type": "execute_result"
    },
    {
     "data": {
      "image/png": "[encoded data removed]",
      "text/plain": [
       "<Figure size 1800x504 with 3 Axes>"
      ]
     },
     "metadata": {
      "needs_background": "light"
     },
     "output_type": "display_data"
    }
   ],
   "source": [
    "fig, axes = plt.subplots(nrows=1, ncols=3, figsize=(25,7))\n",
    "# Train\n",
    "sns.barplot(data = pd.DataFrame.from_dict([get_class_distribution(train_label)]).melt(), x = \"variable\", y=\"value\", hue=\"variable\",  ax=axes[0]).set_title('Class Distribution in Train Set')\n",
    "# Validation\n",
    "sns.barplot(data = pd.DataFrame.from_dict([get_class_distribution(val_label)]).melt(), x = \"variable\", y=\"value\", hue=\"variable\",  ax=axes[1]).set_title('Class Distribution in Val Set')\n",
    "# Test\n",
    "sns.barplot(data = pd.DataFrame.from_dict([get_class_distribution(test_label)]).melt(), x = \"variable\", y=\"value\", hue=\"variable\",  ax=axes[2]).set_title('Class Distribution in Test Set')"
   ]
  },
  {
   "cell_type": "code",
   "execution_count": 15,
   "id": "4fef0ed3",
   "metadata": {
    "id": "4fef0ed3"
   },
   "outputs": [],
   "source": [
    "class ClassifierDataset(Dataset):\n",
    "    \n",
    "    def __init__(self, X_data, y_data):\n",
    "        self.X_data = X_data\n",
    "        self.y_data = y_data\n",
    "        \n",
    "    def __getitem__(self, index):\n",
    "        return self.X_data[index], self.y_data[index]\n",
    "        \n",
    "    def __len__ (self):\n",
    "        return len(self.X_data)"
   ]
  },
  {
   "cell_type": "code",
   "execution_count": 16,
   "id": "0948a1a9",
   "metadata": {
    "id": "0948a1a9"
   },
   "outputs": [],
   "source": [
    "window_size = 1"
   ]
  },
  {
   "cell_type": "code",
   "execution_count": 17,
   "id": "679b12e8",
   "metadata": {
    "id": "679b12e8"
   },
   "outputs": [],
   "source": [
    "train_X, train_Y = create_dataset(train, train_label, window_size)\n",
    "train_dataset_w = ClassifierDataset(torch.from_numpy(train_X).float(), torch.from_numpy(train_Y).long())\n",
    "\n",
    "test_X, test_Y = create_dataset(test, test_label, window_size)\n",
    "test_dataset_w = ClassifierDataset(torch.from_numpy(test_X).float(), torch.from_numpy(test_Y).long())\n",
    "\n",
    "val_X, val_Y = create_dataset(val, val_label, window_size)\n",
    "val_dataset_w = ClassifierDataset(torch.from_numpy(val_X).float(), torch.from_numpy(val_Y).long())\n",
    "\n",
    "\n",
    "#train_dataset = [(ClassifierDataset(torch.from_numpy(array).float(), torch.from_numpy(label).long())) for array, label in zip(train_array, train_label_array)]\n",
    "\n",
    "#test_dataset = [(ClassifierDataset(torch.from_numpy(array).float(), torch.from_numpy(label).long())) for array, label in zip(test_array, test_label_array)]\n",
    "\n",
    "#val_dataset = [(ClassifierDataset(torch.from_numpy(array).float(), torch.from_numpy(label).long())) for array, label in zip(val_array, val_label_array)]"
   ]
  },
  {
   "cell_type": "code",
   "execution_count": 18,
   "id": "04c01d87",
   "metadata": {},
   "outputs": [],
   "source": [
    "def create_dataset(array, label, window):\n",
    "    dataset = []\n",
    "    for array, label in zip(train_array, train_label_array):\n",
    "        l = array.shape[0]\n",
    "        i = 0\n",
    "        div_len_train = 0\n",
    "        while l - i >= window:\n",
    "            X_b = []\n",
    "            y_b = []\n",
    "            for _ in range(window):\n",
    "                X_b.append(array[i])\n",
    "                y_b.append(label[i])\n",
    "                i += 1\n",
    "            X_batch = torch.from_numpy(np.array(X_b).astype(float)).float()\n",
    "            y_batch = torch.from_numpy(np.array(y_b).astype(int)).long()\n",
    "            dataset.append(ClassifierDataset(X_batch, y_batch))\n",
    "    return dataset"
   ]
  },
  {
   "cell_type": "code",
   "execution_count": 19,
   "id": "383c55f2",
   "metadata": {},
   "outputs": [],
   "source": [
    "window = 60\n",
    "train_dataset = create_dataset(train_array, train_label_array, window)\n",
    "test_dataset = create_dataset(test_array, test_label_array, window)\n",
    "val_dataset = create_dataset(val_array, val_label_array, window)"
   ]
  },
  {
   "cell_type": "code",
   "execution_count": 20,
   "id": "xIhZwk2cXc4i",
   "metadata": {
    "colab": {
     "base_uri": "https://localhost:8080/"
    },
    "id": "xIhZwk2cXc4i",
    "outputId": "d0820529-5910-4743-aa2b-5aa0c60f3b26"
   },
   "outputs": [
    {
     "name": "stdout",
     "output_type": "stream",
     "text": [
      "torch.Size([60, 156])\n",
      "torch.Size([60])\n",
      "894\n"
     ]
    }
   ],
   "source": [
    "print(train_dataset[0].X_data.shape)\n",
    "print(train_dataset[0].y_data.shape)\n",
    "print(len(train_dataset))"
   ]
  },
  {
   "cell_type": "markdown",
   "id": "i3SiYeWKKX9P",
   "metadata": {
    "id": "i3SiYeWKKX9P"
   },
   "source": [
    "## Weighted Sampling"
   ]
  },
  {
   "cell_type": "markdown",
   "id": "fGJur35nKc4Y",
   "metadata": {
    "id": "fGJur35nKc4Y"
   },
   "source": [
    "Poiché c'è uno squilibrio di classe, utilizziamo la suddivisione stratificata per creare i nostri set di train, convalida e test."
   ]
  },
  {
   "cell_type": "code",
   "execution_count": 21,
   "id": "XAC-pLjfKlRB",
   "metadata": {
    "id": "XAC-pLjfKlRB"
   },
   "outputs": [],
   "source": [
    "target_list = []\n",
    "\n",
    "for _, t in train_dataset_w:\n",
    "    target_list.append(t)\n",
    "    \n",
    "target_list = torch.tensor(target_list)\n",
    "target_list = target_list[torch.randperm(len(target_list))]"
   ]
  },
  {
   "cell_type": "markdown",
   "id": "zSWgB6_kLDcB",
   "metadata": {
    "id": "zSWgB6_kLDcB"
   },
   "source": [
    "Quindi, otteniamo il conteggio di tutte le classi nel nostro set di allenamento.  Usiamo il reciproco di ogni conteggio per ottenere il suo peso.  Ora che abbiamo calcolato i pesi per ogni classe, possiamo procedere."
   ]
  },
  {
   "cell_type": "code",
   "execution_count": 22,
   "id": "AfYqQv22LFiY",
   "metadata": {
    "colab": {
     "base_uri": "https://localhost:8080/"
    },
    "id": "AfYqQv22LFiY",
    "outputId": "8ffd0976-ef7b-4d4d-f562-9fbe963c3e3c"
   },
   "outputs": [
    {
     "name": "stdout",
     "output_type": "stream",
     "text": [
      "tensor([5.1000e-05, 7.6664e-05, 8.5157e-05, 9.5320e-05])\n"
     ]
    }
   ],
   "source": [
    "class_count = [i for i in get_class_distribution(train_label).values()]\n",
    "class_weights = 1./torch.tensor(class_count, dtype=torch.float) \n",
    "\n",
    "print(class_weights)"
   ]
  },
  {
   "cell_type": "markdown",
   "id": "kTcnQd-qLm_E",
   "metadata": {
    "id": "kTcnQd-qLm_E"
   },
   "source": [
    "WeightedRandomSampler prevede un peso per ogni campione.  Lo usiamo come segue."
   ]
  },
  {
   "cell_type": "code",
   "execution_count": 23,
   "id": "_k5ysLm-LRoX",
   "metadata": {
    "id": "_k5ysLm-LRoX"
   },
   "outputs": [],
   "source": [
    "class_weights_all = class_weights[target_list]"
   ]
  },
  {
   "cell_type": "markdown",
   "id": "jzKuSiX2LuMs",
   "metadata": {
    "id": "jzKuSiX2LuMs"
   },
   "source": [
    "Infine, inizializziamo il nostro WeightedRandomSampler.  Lo chiameremo nel nostro dataloader in seguito."
   ]
  },
  {
   "cell_type": "code",
   "execution_count": 24,
   "id": "0Kcco4ucL3j7",
   "metadata": {
    "id": "0Kcco4ucL3j7"
   },
   "outputs": [],
   "source": [
    "weighted_sampler = WeightedRandomSampler(\n",
    "    weights=class_weights_all,\n",
    "    num_samples=len(class_weights_all),\n",
    "    replacement=True\n",
    ")"
   ]
  },
  {
   "cell_type": "markdown",
   "id": "e449aca9",
   "metadata": {
    "id": "e449aca9"
   },
   "source": [
    "## Parametri del modello"
   ]
  },
  {
   "cell_type": "code",
   "execution_count": 63,
   "id": "404be4ab",
   "metadata": {
    "id": "404be4ab"
   },
   "outputs": [],
   "source": [
    "EPOCHS = 20\n",
    "LEARNING_RATE = 0.4\n",
    "NUM_FEATURES = 156\n",
    "NUM_CLASSES = 4"
   ]
  },
  {
   "cell_type": "markdown",
   "id": "20e5701a",
   "metadata": {
    "id": "20e5701a"
   },
   "source": [
    "## Rete Neurale LSTM"
   ]
  },
  {
   "cell_type": "code",
   "execution_count": 64,
   "id": "wxhBYg_t2GM5",
   "metadata": {
    "id": "wxhBYg_t2GM5"
   },
   "outputs": [],
   "source": [
    "class LSTM(nn.Module):\n",
    "    def __init__(self, input_size, output_size=4, hidden_layer_size=78, num_layers=1):\n",
    "        super(LSTM, self).__init__()\n",
    "        self.num_layers = num_layers\n",
    "        self.hidden_size = hidden_layer_size \n",
    "        self.lstm = nn.LSTM(input_size, hidden_layer_size, num_layers)\n",
    "        self.layer_1 = nn.Linear(hidden_layer_size, 39)\n",
    "        self.layer_2 = nn.Linear(39, 13)\n",
    "        self.layer_3 = nn.Linear(13, 8)\n",
    "        self.layer_out = nn.Linear(8, output_size) \n",
    "        \n",
    "        self.tanh = nn.ReLU()\n",
    "        self.dropout = nn.Dropout(p=0.2)\n",
    "        self.batchnorm1 = nn.BatchNorm1d(39)\n",
    "        self.batchnorm2 = nn.BatchNorm1d(13)\n",
    "        self.batchnorm3 = nn.BatchNorm1d(8)\n",
    "        \n",
    "    def forward(self, x, hidden=None):\n",
    "        if hidden is not None:\n",
    "            h0 = hidden[0]\n",
    "            c0 = hidden [1]\n",
    "        else:\n",
    "            h0 = torch.zeros(self.num_layers, 1, self.hidden_size).to(device)\n",
    "            c0 = torch.zeros(self.num_layers, 1, self.hidden_size).to(device)\n",
    "        h, hn = self.lstm(x.view(len(x), 1, -1), (h0, c0))\n",
    "        \n",
    "        h = self.layer_1(h.view(len(x), -1))\n",
    "        h = self.batchnorm1(h)\n",
    "        h = self.tanh(h)\n",
    "        \n",
    "        h = self.layer_2(h)\n",
    "        h = self.batchnorm2(h)\n",
    "        h = self.tanh(h)\n",
    "        h = self.dropout(h)\n",
    "        \n",
    "        h = self.layer_3(h)\n",
    "        h = self.batchnorm3(h)\n",
    "        h = self.tanh(h)\n",
    "        h = self.dropout(h)\n",
    "        \n",
    "        h = self.layer_out(h)\n",
    "        \n",
    "        return h, hn"
   ]
  },
  {
   "cell_type": "code",
   "execution_count": 65,
   "id": "EGVAIQMIS685",
   "metadata": {
    "id": "EGVAIQMIS685"
   },
   "outputs": [],
   "source": [
    "class LSTM(nn.Module):\n",
    "    def __init__(self, input_size, output_size=4, hidden_layer_size=78, num_layers=2):\n",
    "        super(LSTM, self).__init__()\n",
    "        self.num_layers = num_layers\n",
    "        self.hidden_size = hidden_layer_size \n",
    "        self.lstm = nn.LSTM(input_size, hidden_layer_size, num_layers)\n",
    "        self.regressor = nn.Linear(hidden_layer_size, output_size)\n",
    "        \n",
    "    def forward(self, x, hidden=None):\n",
    "        if hidden is not None:\n",
    "            h0 = hidden[0]\n",
    "            c0 = hidden [1]\n",
    "        else:\n",
    "            h0 = torch.zeros(self.num_layers, 1, self.hidden_size).to(device)\n",
    "            c0 = torch.zeros(self.num_layers, 1, self.hidden_size).to(device)\n",
    "        h, hn = self.lstm(x.view(len(x), 1, -1), (h0, c0))\n",
    "        h = self.regressor(h.view(len(x), -1))        \n",
    "        return h, hn"
   ]
  },
  {
   "cell_type": "code",
   "execution_count": 66,
   "id": "78e18779",
   "metadata": {
    "id": "78e18779"
   },
   "outputs": [],
   "source": [
    "device = torch.device('cuda' if torch.cuda.is_available() else 'cpu')"
   ]
  },
  {
   "cell_type": "code",
   "execution_count": 67,
   "id": "9a8781ca",
   "metadata": {
    "colab": {
     "base_uri": "https://localhost:8080/"
    },
    "id": "9a8781ca",
    "outputId": "45a33d5b-405d-4afb-c412-9b1546cbd1ce"
   },
   "outputs": [
    {
     "data": {
      "text/plain": [
       "device(type='cuda')"
      ]
     },
     "execution_count": 67,
     "metadata": {},
     "output_type": "execute_result"
    }
   ],
   "source": [
    "device"
   ]
  },
  {
   "cell_type": "code",
   "execution_count": 68,
   "id": "62349e74",
   "metadata": {
    "colab": {
     "base_uri": "https://localhost:8080/"
    },
    "id": "62349e74",
    "outputId": "2442ccad-2864-4e12-ddf6-138383e40447"
   },
   "outputs": [
    {
     "name": "stdout",
     "output_type": "stream",
     "text": [
      "LSTM(\n",
      "  (lstm): LSTM(156, 78, num_layers=2)\n",
      "  (regressor): Linear(in_features=78, out_features=4, bias=True)\n",
      ")\n"
     ]
    }
   ],
   "source": [
    "model = LSTM(input_size=NUM_FEATURES, output_size=NUM_CLASSES)\n",
    "model.to(device)\n",
    "\n",
    "criterion = nn.CrossEntropyLoss(weight=class_weights.to(device))\n",
    "optimizer = torch.optim.SGD(model.parameters(), lr=LEARNING_RATE)\n",
    "\n",
    "print(model)"
   ]
  },
  {
   "cell_type": "markdown",
   "id": "930e16a8",
   "metadata": {
    "id": "930e16a8"
   },
   "source": [
    "## Train the model"
   ]
  },
  {
   "cell_type": "markdown",
   "id": "d38b5ea5",
   "metadata": {
    "id": "d38b5ea5"
   },
   "source": [
    "Prima di iniziare il nostro addestramento, definiamo una funzione per calcolare la precisione per epoca."
   ]
  },
  {
   "cell_type": "markdown",
   "id": "e77daf61",
   "metadata": {
    "id": "e77daf61"
   },
   "source": [
    "Questa funzione accetta y_pred e y_test come argomenti di input.  Quindi applichiamo log_softmax a y_pred ed estraiamo la classe che ha una probabilità maggiore."
   ]
  },
  {
   "cell_type": "markdown",
   "id": "ab0aa302",
   "metadata": {
    "id": "ab0aa302"
   },
   "source": [
    "Successivamente, confrontiamo le classi previste e le classi effettive per calcolare l'accuratezza."
   ]
  },
  {
   "cell_type": "code",
   "execution_count": 69,
   "id": "drPzJXOoDBCL",
   "metadata": {
    "id": "drPzJXOoDBCL"
   },
   "outputs": [],
   "source": [
    "def multi_acc(y_pred, y_true):\n",
    "    _, y_pred_tags = torch.max(y_pred, dim = 1)\n",
    "    return accuracy_score(y_true.tolist(), y_pred_tags.tolist()) * 100"
   ]
  },
  {
   "cell_type": "code",
   "execution_count": 70,
   "id": "LLM-C4znteUm",
   "metadata": {
    "id": "LLM-C4znteUm"
   },
   "outputs": [],
   "source": [
    "def multi_f1(y_pred, y_true):\n",
    "    _, y_pred_tags = torch.max(y_pred, dim = 1)\n",
    "    return f1_score(y_true.tolist(), y_pred_tags.tolist(), average=None, zero_division=1, labels=[0,1,2,3])"
   ]
  },
  {
   "cell_type": "markdown",
   "id": "85a2c253",
   "metadata": {
    "id": "85a2c253"
   },
   "source": [
    "Definiremo anche 2 dizionari che memorizzeranno l'accuratezza/epoca e la perdita/epoca sia per il treno che per i set di convalida."
   ]
  },
  {
   "cell_type": "code",
   "execution_count": 71,
   "id": "c907075c",
   "metadata": {
    "id": "c907075c"
   },
   "outputs": [],
   "source": [
    "accuracy_stats = {\n",
    "    'train': [],\n",
    "    \"val\": []\n",
    "}\n",
    "\n",
    "loss_stats = {\n",
    "    'train': [],\n",
    "    \"val\": []\n",
    "}\n",
    "\n",
    "f1_score_No_action = {\n",
    "    'train': [],\n",
    "    \"val\": []\n",
    "}\n",
    "\n",
    "f1_score_Prendi = {\n",
    "    'train': [],\n",
    "    \"val\": []\n",
    "}\n",
    "\n",
    "f1_score_Rilascia = {\n",
    "    'train': [],\n",
    "    \"val\": []\n",
    "}\n",
    "\n",
    "f1_score_Premi = {\n",
    "    'train': [],\n",
    "    \"val\": []\n",
    "}"
   ]
  },
  {
   "cell_type": "code",
   "execution_count": 72,
   "id": "IuURNO6culiV",
   "metadata": {
    "colab": {
     "base_uri": "https://localhost:8080/",
     "height": 989,
     "referenced_widgets": [
      "9a9d334287f54a8d84800ed57d650997",
      "350aab8898b649a0ae733a5ac572f0db",
      "7802ba29b3e5429e8ee1ed115d1ca93b",
      "5bfd0cda32ad4b1f9a146a139a28bf6d",
      "2142be525ab64432b2de9edb80a5ac42",
      "c73e79e30252416985595da1660544a1",
      "0135b41a3a4340f99d7f448ce18cd460",
      "b809dd46be0943878e4494089332b7be"
     ]
    },
    "id": "IuURNO6culiV",
    "outputId": "1586b64d-9b41-4529-8151-7c19143ae0ba"
   },
   "outputs": [
    {
     "name": "stdout",
     "output_type": "stream",
     "text": [
      "Begin training.\n"
     ]
    },
    {
     "data": {
      "application/vnd.jupyter.widget-view+json": {
       "model_id": "f3b488fe01e047c583315a304b5216d7",
       "version_major": 2,
       "version_minor": 0
      },
      "text/plain": [
       "  0%|          | 0/20 [00:00<?, ?it/s]"
      ]
     },
     "metadata": {},
     "output_type": "display_data"
    },
    {
     "name": "stdout",
     "output_type": "stream",
     "text": [
      "Epoch 001:          | Train Loss: 1.03281          | Val Loss: 0.98854          | Train Acc: 47.696          | Val Acc: 50.610          | Train F1-No_action: 0.78736          | Val F1-No_action: 0.84322          | Train F1-Prendi: 0.48630          | Val F1-Prendi: 0.56264          | Train F1-Rilascia: 0.48365          | Val F1-Rilascia: 0.54131          | Train F1-Premi: 0.58823          | Val F1-Premi: 0.32458\n",
      "Epoch 002:          | Train Loss: 0.98215          | Val Loss: 0.97989          | Train Acc: 49.213          | Val Acc: 51.005          | Train F1-No_action: 0.80773          | Val F1-No_action: 0.84812          | Train F1-Prendi: 0.48811          | Val F1-Prendi: 0.56264          | Train F1-Rilascia: 0.47858          | Val F1-Rilascia: 0.54262          | Train F1-Premi: 0.57749          | Val F1-Premi: 0.35906\n",
      "Epoch 003:          | Train Loss: 0.97576          | Val Loss: 0.97363          | Train Acc: 49.674          | Val Acc: 51.288          | Train F1-No_action: 0.81527          | Val F1-No_action: 0.85061          | Train F1-Prendi: 0.48681          | Val F1-Prendi: 0.56264          | Train F1-Rilascia: 0.47851          | Val F1-Rilascia: 0.54229          | Train F1-Premi: 0.56287          | Val F1-Premi: 0.36489\n",
      "Epoch 004:          | Train Loss: 0.96851          | Val Loss: 0.96185          | Train Acc: 50.291          | Val Acc: 51.946          | Train F1-No_action: 0.82547          | Val F1-No_action: 0.84975          | Train F1-Prendi: 0.48079          | Val F1-Prendi: 0.56264          | Train F1-Rilascia: 0.46199          | Val F1-Rilascia: 0.53723          | Train F1-Premi: 0.55394          | Val F1-Premi: 0.37092\n",
      "Epoch 005:          | Train Loss: 0.95477          | Val Loss: 0.95504          | Train Acc: 51.286          | Val Acc: 52.489          | Train F1-No_action: 0.83937          | Val F1-No_action: 0.84951          | Train F1-Prendi: 0.48122          | Val F1-Prendi: 0.56152          | Train F1-Rilascia: 0.48009          | Val F1-Rilascia: 0.53832          | Train F1-Premi: 0.56934          | Val F1-Premi: 0.38596\n",
      "Epoch 006:          | Train Loss: 0.94295          | Val Loss: 0.95554          | Train Acc: 53.016          | Val Acc: 52.634          | Train F1-No_action: 0.85453          | Val F1-No_action: 0.85909          | Train F1-Prendi: 0.46449          | Val F1-Prendi: 0.55638          | Train F1-Rilascia: 0.48629          | Val F1-Rilascia: 0.53016          | Train F1-Premi: 0.56644          | Val F1-Premi: 0.39051\n",
      "Epoch 007:          | Train Loss: 0.92893          | Val Loss: 0.94015          | Train Acc: 54.607          | Val Acc: 53.225          | Train F1-No_action: 0.86171          | Val F1-No_action: 0.86249          | Train F1-Prendi: 0.46450          | Val F1-Prendi: 0.54129          | Train F1-Rilascia: 0.49684          | Val F1-Rilascia: 0.51102          | Train F1-Premi: 0.57446          | Val F1-Premi: 0.41378\n",
      "Epoch 008:          | Train Loss: 0.91758          | Val Loss: 0.93946          | Train Acc: 56.003          | Val Acc: 53.831          | Train F1-No_action: 0.86718          | Val F1-No_action: 0.86792          | Train F1-Prendi: 0.49184          | Val F1-Prendi: 0.52362          | Train F1-Rilascia: 0.49223          | Val F1-Rilascia: 0.48691          | Train F1-Premi: 0.58169          | Val F1-Premi: 0.40617\n",
      "Epoch 009:          | Train Loss: 0.91655          | Val Loss: 0.92826          | Train Acc: 56.212          | Val Acc: 55.050          | Train F1-No_action: 0.86135          | Val F1-No_action: 0.86668          | Train F1-Prendi: 0.49326          | Val F1-Prendi: 0.52382          | Train F1-Rilascia: 0.49952          | Val F1-Rilascia: 0.47230          | Train F1-Premi: 0.56911          | Val F1-Premi: 0.41759\n",
      "Epoch 010:          | Train Loss: 0.90237          | Val Loss: 0.92864          | Train Acc: 57.353          | Val Acc: 55.654          | Train F1-No_action: 0.87345          | Val F1-No_action: 0.87744          | Train F1-Prendi: 0.49636          | Val F1-Prendi: 0.49091          | Train F1-Rilascia: 0.49149          | Val F1-Rilascia: 0.44337          | Train F1-Premi: 0.56414          | Val F1-Premi: 0.43889\n",
      "Epoch 011:          | Train Loss: 0.89720          | Val Loss: 0.91789          | Train Acc: 57.713          | Val Acc: 55.977          | Train F1-No_action: 0.87064          | Val F1-No_action: 0.87708          | Train F1-Prendi: 0.47823          | Val F1-Prendi: 0.48369          | Train F1-Rilascia: 0.48957          | Val F1-Rilascia: 0.46312          | Train F1-Premi: 0.55721          | Val F1-Premi: 0.42983\n",
      "Epoch 012:          | Train Loss: 0.89273          | Val Loss: 0.90918          | Train Acc: 57.269          | Val Acc: 56.939          | Train F1-No_action: 0.87102          | Val F1-No_action: 0.87818          | Train F1-Prendi: 0.47526          | Val F1-Prendi: 0.51096          | Train F1-Rilascia: 0.48686          | Val F1-Rilascia: 0.46901          | Train F1-Premi: 0.55872          | Val F1-Premi: 0.44787\n",
      "Epoch 013:          | Train Loss: 0.88152          | Val Loss: 0.90403          | Train Acc: 58.760          | Val Acc: 57.791          | Train F1-No_action: 0.87568          | Val F1-No_action: 0.88172          | Train F1-Prendi: 0.48013          | Val F1-Prendi: 0.49458          | Train F1-Rilascia: 0.48959          | Val F1-Rilascia: 0.47410          | Train F1-Premi: 0.56836          | Val F1-Premi: 0.46692\n",
      "Epoch 014:          | Train Loss: 0.87727          | Val Loss: 0.89905          | Train Acc: 59.282          | Val Acc: 58.387          | Train F1-No_action: 0.87846          | Val F1-No_action: 0.87026          | Train F1-Prendi: 0.47862          | Val F1-Prendi: 0.45544          | Train F1-Rilascia: 0.50315          | Val F1-Rilascia: 0.49668          | Train F1-Premi: 0.57088          | Val F1-Premi: 0.46611\n",
      "Epoch 015:          | Train Loss: 0.87196          | Val Loss: 0.88771          | Train Acc: 59.528          | Val Acc: 59.025          | Train F1-No_action: 0.87306          | Val F1-No_action: 0.86097          | Train F1-Prendi: 0.48979          | Val F1-Prendi: 0.40168          | Train F1-Rilascia: 0.49132          | Val F1-Rilascia: 0.48490          | Train F1-Premi: 0.56578          | Val F1-Premi: 0.49393\n",
      "Epoch 016:          | Train Loss: 0.87559          | Val Loss: 0.93400          | Train Acc: 59.849          | Val Acc: 56.616          | Train F1-No_action: 0.87287          | Val F1-No_action: 0.85151          | Train F1-Prendi: 0.49228          | Val F1-Prendi: 0.50266          | Train F1-Rilascia: 0.51234          | Val F1-Rilascia: 0.47734          | Train F1-Premi: 0.57048          | Val F1-Premi: 0.44868\n",
      "Epoch 017:          | Train Loss: 0.86986          | Val Loss: 0.90466          | Train Acc: 59.292          | Val Acc: 56.691          | Train F1-No_action: 0.87852          | Val F1-No_action: 0.86283          | Train F1-Prendi: 0.47767          | Val F1-Prendi: 0.52248          | Train F1-Rilascia: 0.51113          | Val F1-Rilascia: 0.39612          | Train F1-Premi: 0.57605          | Val F1-Premi: 0.37070\n",
      "Epoch 018:          | Train Loss: 0.86942          | Val Loss: 0.88761          | Train Acc: 58.563          | Val Acc: 58.113          | Train F1-No_action: 0.88088          | Val F1-No_action: 0.86981          | Train F1-Prendi: 0.46598          | Val F1-Prendi: 0.46536          | Train F1-Rilascia: 0.48751          | Val F1-Rilascia: 0.41239          | Train F1-Premi: 0.57010          | Val F1-Premi: 0.42400\n",
      "Epoch 019:          | Train Loss: 0.87315          | Val Loss: 0.92856          | Train Acc: 58.798          | Val Acc: 57.804          | Train F1-No_action: 0.87222          | Val F1-No_action: 0.85845          | Train F1-Prendi: 0.48071          | Val F1-Prendi: 0.51572          | Train F1-Rilascia: 0.49217          | Val F1-Rilascia: 0.43292          | Train F1-Premi: 0.55155          | Val F1-Premi: 0.40915\n",
      "Epoch 020:          | Train Loss: 0.86542          | Val Loss: 0.89330          | Train Acc: 59.461          | Val Acc: 59.170          | Train F1-No_action: 0.87635          | Val F1-No_action: 0.86369          | Train F1-Prendi: 0.46913          | Val F1-Prendi: 0.48697          | Train F1-Rilascia: 0.49510          | Val F1-Rilascia: 0.47250          | Train F1-Premi: 0.56022          | Val F1-Premi: 0.44320\n",
      "Done.\n"
     ]
    }
   ],
   "source": [
    "print(\"Begin training.\")\n",
    "\n",
    "for e in tqdm(range(1, EPOCHS+1)):\n",
    "    \n",
    "    # TRAINING\n",
    "    train_epoch_loss = 0\n",
    "    train_epoch_acc = 0\n",
    "    train_epoch_f1_No_action = 0\n",
    "    train_epoch_f1_Prendi = 0\n",
    "    train_epoch_f1_Rilascia = 0\n",
    "    train_epoch_f1_Premi = 0\n",
    "    \n",
    "    model.train()\n",
    "\n",
    "    hidden_train = None\n",
    "\n",
    "    for train in train_dataset:\n",
    "        X_train_batch, y_train_batch = train.X_data.to(device), train.y_data.to(device)\n",
    "        optimizer.zero_grad()\n",
    "        y_train_pred, hidden_train = model(X_train_batch, hidden_train)\n",
    "\n",
    "        h0, c0 = hidden_train\n",
    "        h0.detach_(), c0.detach_()\n",
    "        hidden_train = (h0, c0)\n",
    "        \n",
    "        train_loss = criterion(y_train_pred, y_train_batch)\n",
    "        train_acc = multi_acc(y_train_pred, y_train_batch)\n",
    "        train_f1 = multi_f1(y_train_pred, y_train_batch)\n",
    "        \n",
    "        train_loss.backward()\n",
    "        optimizer.step()\n",
    "        \n",
    "        train_epoch_loss += train_loss.item()\n",
    "        train_epoch_acc += train_acc.item()\n",
    "        train_epoch_f1_No_action += train_f1[0].item()\n",
    "        train_epoch_f1_Prendi += train_f1[1].item()\n",
    "        train_epoch_f1_Rilascia += train_f1[2].item()\n",
    "        train_epoch_f1_Premi += train_f1[3].item()\n",
    "        \n",
    "    # VALIDATION    \n",
    "    with torch.no_grad():\n",
    "        \n",
    "        val_epoch_loss = 0\n",
    "        val_epoch_acc = 0\n",
    "        val_epoch_f1 = 0\n",
    "        val_epoch_f1_No_action = 0\n",
    "        val_epoch_f1_Prendi = 0\n",
    "        val_epoch_f1_Rilascia = 0\n",
    "        val_epoch_f1_Premi = 0\n",
    "      \n",
    "        #hidden_valid = (h0, c0)\n",
    "        hidden_valid = None\n",
    "\n",
    "        model.eval()\n",
    "        for val in val_dataset:\n",
    "            X_val_batch, y_val_batch = val.X_data.to(device), val.y_data.to(device)\n",
    "            y_val_pred, _ = model(X_val_batch, hidden_valid)\n",
    "\n",
    "            val_loss = criterion(y_val_pred, y_val_batch)\n",
    "            val_acc = multi_acc(y_val_pred, y_val_batch)\n",
    "            val_f1 = multi_f1(y_val_pred, y_val_batch)\n",
    "\n",
    "            val_epoch_loss += val_loss.item()\n",
    "            val_epoch_acc += val_acc.item()\n",
    "            val_epoch_f1_No_action += val_f1[0].item()\n",
    "            val_epoch_f1_Prendi += val_f1[1].item()\n",
    "            val_epoch_f1_Rilascia += val_f1[2].item()\n",
    "            val_epoch_f1_Premi += val_f1[3].item()\n",
    "            \n",
    "    loss_stats['train'].append(train_epoch_loss/len(train_dataset))        \n",
    "    loss_stats['val'].append(val_epoch_loss/len(val_dataset))\n",
    "    accuracy_stats['train'].append(train_epoch_acc/len(train_dataset))\n",
    "    accuracy_stats['val'].append(val_epoch_acc/len(val_dataset))\n",
    "    f1_score_No_action['train'].append(train_epoch_f1_No_action/len(train_dataset))\n",
    "    f1_score_No_action['val'].append(val_epoch_f1_No_action/len(val_dataset))\n",
    "    f1_score_Prendi['train'].append(train_epoch_f1_Prendi/len(train_dataset))\n",
    "    f1_score_Prendi['val'].append(val_epoch_f1_Prendi/len(val_dataset))\n",
    "    f1_score_Rilascia['train'].append(train_epoch_f1_Rilascia/len(train_dataset))\n",
    "    f1_score_Rilascia['val'].append(val_epoch_f1_Rilascia/len(val_dataset))\n",
    "    f1_score_Premi['train'].append(train_epoch_f1_Premi/len(train_dataset))\n",
    "    f1_score_Premi['val'].append(val_epoch_f1_Premi/len(val_dataset))\n",
    "                              \n",
    "    writer.add_scalars(\"Loss/train_val\", {\n",
    "        \"train\": train_epoch_loss/len(train_dataset),\n",
    "        \"val\": val_epoch_loss/len(val_dataset),\n",
    "    }, e)\n",
    "    writer.add_scalars(\"Acc/train_val\", {\n",
    "        \"train\": train_epoch_acc/len(train_dataset),\n",
    "        \"val\": val_epoch_acc/len(val_dataset),\n",
    "    }, e)\n",
    "    writer.add_scalars(\"F1-No_action/train_val\", {\n",
    "        \"train\": train_epoch_f1_No_action/len(train_dataset),\n",
    "        \"val\": val_epoch_f1_No_action/len(val_dataset),\n",
    "    }, e)\n",
    "    writer.add_scalars(\"F1-Prendi/train_val\", {\n",
    "        \"train\": train_epoch_f1_Prendi/len(train_dataset),\n",
    "        \"val\": val_epoch_f1_Prendi/len(val_dataset),\n",
    "    }, e)\n",
    "    writer.add_scalars(\"F1-Rilascia/train_val\", {\n",
    "        \"train\": train_epoch_f1_Rilascia/len(train_dataset),\n",
    "        \"val\": val_epoch_f1_Rilascia/len(val_dataset),\n",
    "    }, e)\n",
    "    writer.add_scalars(\"F1-Premi/train_val\", {\n",
    "        \"train\": train_epoch_f1_Premi/len(train_dataset),\n",
    "        \"val\": val_epoch_f1_Premi/len(val_dataset),\n",
    "    }, e)\n",
    "    writer.flush()\n",
    "    print(f'Epoch {e+0:03}:\\\n",
    "          | Train Loss: {train_epoch_loss/len(train_dataset):.5f}\\\n",
    "          | Val Loss: {val_epoch_loss/len(val_dataset):.5f}\\\n",
    "          | Train Acc: {train_epoch_acc/len(train_dataset):.3f}\\\n",
    "          | Val Acc: {val_epoch_acc/len(val_dataset):.3f}\\\n",
    "          | Train F1-No_action: {train_epoch_f1_No_action/len(train_dataset):.5f}\\\n",
    "          | Val F1-No_action: {val_epoch_f1_No_action/len(val_dataset):.5f}\\\n",
    "          | Train F1-Prendi: {train_epoch_f1_Prendi/len(train_dataset):.5f}\\\n",
    "          | Val F1-Prendi: {val_epoch_f1_Prendi/len(val_dataset):.5f}\\\n",
    "          | Train F1-Rilascia: {train_epoch_f1_Rilascia/len(train_dataset):.5f}\\\n",
    "          | Val F1-Rilascia: {val_epoch_f1_Rilascia/len(val_dataset):.5f}\\\n",
    "          | Train F1-Premi: {train_epoch_f1_Premi/len(train_dataset):.5f}\\\n",
    "          | Val F1-Premi: {val_epoch_f1_Premi/len(val_dataset):.5f}')\n",
    "writer.close()\n",
    "print(\"Done.\")"
   ]
  },
  {
   "cell_type": "markdown",
   "id": "bf53d3eb",
   "metadata": {
    "id": "bf53d3eb"
   },
   "source": [
    "## Visualizzazione Loss e Accuracy"
   ]
  },
  {
   "cell_type": "markdown",
   "id": "21362aee",
   "metadata": {
    "id": "21362aee"
   },
   "source": [
    "Per tracciare i grafici delle linee di perdita e accuratezza, creiamo nuovamente un dataframe dai dizionari precision_stats e loss_stats."
   ]
  },
  {
   "cell_type": "code",
   "execution_count": 54,
   "id": "d42f2836",
   "metadata": {
    "colab": {
     "base_uri": "https://localhost:8080/",
     "height": 475
    },
    "id": "d42f2836",
    "outputId": "7e74ec3c-472f-43b6-a636-703dd05a1d13"
   },
   "outputs": [
    {
     "data": {
      "text/plain": [
       "Text(0.5, 1.0, 'Train-Val Loss/Epoch')"
      ]
     },
     "execution_count": 54,
     "metadata": {},
     "output_type": "execute_result"
    },
    {
     "data": {
      "image/png": "[encoded data removed]",
      "text/plain": [
       "<Figure size 1440x504 with 2 Axes>"
      ]
     },
     "metadata": {
      "needs_background": "light"
     },
     "output_type": "display_data"
    }
   ],
   "source": [
    "# Create dataframes\n",
    "train_val_acc_df = pd.DataFrame.from_dict(accuracy_stats).reset_index().melt(id_vars=['index']).rename(columns={\"index\":\"epochs\"})\n",
    "train_val_loss_df = pd.DataFrame.from_dict(loss_stats).reset_index().melt(id_vars=['index']).rename(columns={\"index\":\"epochs\"})\n",
    "train_val_f1_No_action = pd.DataFrame.from_dict(f1_score_No_action).reset_index().melt(id_vars=['index']).rename(columns={\"index\":\"epochs\"})\n",
    "train_val_f1_Prendi = pd.DataFrame.from_dict(f1_score_Prendi).reset_index().melt(id_vars=['index']).rename(columns={\"index\":\"epochs\"})\n",
    "train_val_f1_Rilascia = pd.DataFrame.from_dict(f1_score_Rilascia).reset_index().melt(id_vars=['index']).rename(columns={\"index\":\"epochs\"})\n",
    "train_val_f1_Premi = pd.DataFrame.from_dict(f1_score_Premi).reset_index().melt(id_vars=['index']).rename(columns={\"index\":\"epochs\"})\n",
    "\n",
    "# Plot the dataframes\n",
    "fig, axes = plt.subplots(nrows=1, ncols=2, figsize=(20,7))\n",
    "\n",
    "sns.lineplot(data=train_val_acc_df, x = \"epochs\", y=\"value\", hue=\"variable\", ax=axes[0]).set_title('Train-Val Accuracy/Epoch')\n",
    "sns.lineplot(data=train_val_loss_df, x = \"epochs\", y=\"value\", hue=\"variable\", ax=axes[1]).set_title('Train-Val Loss/Epoch')"
   ]
  },
  {
   "cell_type": "code",
   "execution_count": 55,
   "id": "BXoi7gM63d_X",
   "metadata": {
    "colab": {
     "base_uri": "https://localhost:8080/",
     "height": 475
    },
    "id": "BXoi7gM63d_X",
    "outputId": "a6d6e802-7f71-4994-b61d-b497b90fbc36"
   },
   "outputs": [
    {
     "data": {
      "text/plain": [
       "Text(0.5, 1.0, 'Train-Val F1-Prendi/Epoch')"
      ]
     },
     "execution_count": 55,
     "metadata": {},
     "output_type": "execute_result"
    },
    {
     "data": {
      "image/png": "[encoded data removed]",
      "text/plain": [
       "<Figure size 1440x504 with 2 Axes>"
      ]
     },
     "metadata": {
      "needs_background": "light"
     },
     "output_type": "display_data"
    }
   ],
   "source": [
    "# Plot the dataframes\n",
    "fig, axes = plt.subplots(nrows=1, ncols=2, figsize=(20,7))\n",
    "\n",
    "sns.lineplot(data=train_val_f1_No_action, x = \"epochs\", y=\"value\", hue=\"variable\", ax=axes[0]).set_title('Train-Val F1-No_action/Epoch')\n",
    "sns.lineplot(data=train_val_f1_Prendi, x = \"epochs\", y=\"value\", hue=\"variable\", ax=axes[1]).set_title('Train-Val F1-Prendi/Epoch')"
   ]
  },
  {
   "cell_type": "code",
   "execution_count": 56,
   "id": "ZOfSJCpy3ed6",
   "metadata": {
    "colab": {
     "base_uri": "https://localhost:8080/",
     "height": 475
    },
    "id": "ZOfSJCpy3ed6",
    "outputId": "0547a758-cbbc-44ca-c49a-63ee035b05dd"
   },
   "outputs": [
    {
     "data": {
      "text/plain": [
       "Text(0.5, 1.0, 'Train-Val F1-Premi/Epoch')"
      ]
     },
     "execution_count": 56,
     "metadata": {},
     "output_type": "execute_result"
    },
    {
     "data": {
      "image/png": "[encoded data removed]",
      "text/plain": [
       "<Figure size 1440x504 with 2 Axes>"
      ]
     },
     "metadata": {
      "needs_background": "light"
     },
     "output_type": "display_data"
    }
   ],
   "source": [
    "# Plot the dataframes\n",
    "fig, axes = plt.subplots(nrows=1, ncols=2, figsize=(20,7))\n",
    "\n",
    "sns.lineplot(data=train_val_f1_Rilascia, x = \"epochs\", y=\"value\", hue=\"variable\", ax=axes[0]).set_title('Train-Val F1-Rilascia/Epoch')\n",
    "sns.lineplot(data=train_val_f1_Premi, x = \"epochs\", y=\"value\", hue=\"variable\", ax=axes[1]).set_title('Train-Val F1-Premi/Epoch')"
   ]
  },
  {
   "cell_type": "markdown",
   "id": "bac0b337",
   "metadata": {
    "id": "bac0b337"
   },
   "source": [
    "## Test the model"
   ]
  },
  {
   "cell_type": "markdown",
   "id": "84238398",
   "metadata": {
    "id": "84238398"
   },
   "source": [
    "Al termine dell'addestramento, dobbiamo testare come si è comportato il nostro modello.  Nota che abbiamo usato model.eval() prima di eseguire il nostro codice di test.  Per dire a PyTorch che non vogliamo eseguire la retropropagazione durante l'inferenza, usiamo torch.no_grad(), proprio come abbiamo fatto per il ciclo di convalida sopra."
   ]
  },
  {
   "cell_type": "markdown",
   "id": "d2f0fd7f",
   "metadata": {
    "id": "d2f0fd7f"
   },
   "source": [
    "Iniziamo definendo un elenco che conterrà le nostre previsioni.  Quindi eseguiamo il ciclo dei nostri batch utilizzando test_loader."
   ]
  },
  {
   "cell_type": "code",
   "execution_count": 57,
   "id": "adc82670",
   "metadata": {
    "colab": {
     "base_uri": "https://localhost:8080/"
    },
    "id": "adc82670",
    "outputId": "b28b09c9-d9b4-4b38-e291-ab6ee926e544"
   },
   "outputs": [
    {
     "name": "stdout",
     "output_type": "stream",
     "text": [
      "894\n",
      "894\n"
     ]
    }
   ],
   "source": [
    "from scipy.stats import mode\n",
    "\n",
    "y_pred_list = []\n",
    "y_test_label = []\n",
    "with torch.no_grad():\n",
    "\n",
    "    model.eval()\n",
    "    for test in test_dataset:\n",
    "        X_batch = test.X_data.to(device)\n",
    "        y_batch = test.y_data.to(device)\n",
    "        y_test_pred, _ = model(X_batch)\n",
    "        _, y_pred_tags = torch.max(y_test_pred, dim = 1)\n",
    "        y_pred_list.append(y_pred_tags.cpu().numpy())\n",
    "        y_test_label.append(y_batch.cpu().numpy())\n",
    "\n",
    "y_pred_list = [a.tolist() for a in y_pred_list]\n",
    "#print(len(y_pred_list))\n",
    "#pred_list = []\n",
    "#for pred in y_pred_list:\n",
    "#    for p in pred:\n",
    "#        pred_list.append(p)\n",
    "#print(len(pred_list[:-1]))\n",
    "#print(len(y_test_label))\n",
    "test_label_real, test_label_pred = [], []\n",
    "for real, pred in zip(y_test_label, y_pred_list):\n",
    "    r = mode(real, axis=None)\n",
    "    test_label_real.append(r[0][0])\n",
    "    p = mode(pred, axis=None)\n",
    "    test_label_pred.append(p[0][0])\n",
    "print(len(test_label_real))\n",
    "print(len(test_label_pred))"
   ]
  },
  {
   "cell_type": "markdown",
   "id": "a5507ef3",
   "metadata": {
    "id": "a5507ef3"
   },
   "source": [
    "## Confusion Matrix"
   ]
  },
  {
   "cell_type": "markdown",
   "id": "8a3aa387",
   "metadata": {
    "id": "8a3aa387"
   },
   "source": [
    "Creiamo un dataframe dalla matrice di confusione e lo tracciamo come una mappa di calore utilizzando la libreria Seaborn."
   ]
  },
  {
   "cell_type": "code",
   "execution_count": 58,
   "id": "6a1bfae3",
   "metadata": {
    "colab": {
     "base_uri": "https://localhost:8080/",
     "height": 285
    },
    "id": "6a1bfae3",
    "outputId": "dae0b352-64fc-40d4-8d1c-bdf972a56777"
   },
   "outputs": [
    {
     "data": {
      "text/plain": [
       "<AxesSubplot:>"
      ]
     },
     "execution_count": 58,
     "metadata": {},
     "output_type": "execute_result"
    },
    {
     "data": {
      "image/png": "[encoded data removed]",
      "text/plain": [
       "<Figure size 432x288 with 2 Axes>"
      ]
     },
     "metadata": {
      "needs_background": "light"
     },
     "output_type": "display_data"
    }
   ],
   "source": [
    "confusion_matrix_df = pd.DataFrame(confusion_matrix(test_label_real, test_label_pred)).rename(columns=idx2class, index=idx2class)\n",
    "sns.heatmap(confusion_matrix_df, annot=True)"
   ]
  },
  {
   "cell_type": "code",
   "execution_count": 59,
   "id": "94b39741",
   "metadata": {
    "colab": {
     "base_uri": "https://localhost:8080/"
    },
    "id": "94b39741",
    "outputId": "787851a7-7d1f-4e53-cb73-5ad5f2c17dad"
   },
   "outputs": [
    {
     "name": "stdout",
     "output_type": "stream",
     "text": [
      "              precision    recall  f1-score   support\n",
      "\n",
      "           0       0.85      0.87      0.86       289\n",
      "           1       0.46      0.53      0.50       232\n",
      "           2       0.37      0.35      0.36       193\n",
      "           3       0.54      0.46      0.49       180\n",
      "\n",
      "    accuracy                           0.59       894\n",
      "   macro avg       0.56      0.55      0.55       894\n",
      "weighted avg       0.58      0.59      0.58       894\n",
      "\n"
     ]
    }
   ],
   "source": [
    "print(classification_report(test_label_real, test_label_pred))"
   ]
  },
  {
   "cell_type": "code",
   "execution_count": 60,
   "id": "10e52191",
   "metadata": {},
   "outputs": [],
   "source": [
    "torch.save(model.state_dict(), main_folder + \"/mymodel.pt\")"
   ]
  },
  {
   "cell_type": "code",
   "execution_count": 61,
   "id": "12b09d2d",
   "metadata": {},
   "outputs": [
    {
     "name": "stdout",
     "output_type": "stream",
     "text": [
      "LSTM(\n",
      "  (lstm): LSTM(156, 78)\n",
      "  (regressor): Linear(in_features=78, out_features=4, bias=True)\n",
      ")\n"
     ]
    }
   ],
   "source": [
    "nmodel = LSTM(input_size=NUM_FEATURES, output_size=NUM_CLASSES)\n",
    "nmodel.load_state_dict(torch.load(\"../data/mymodel.pt\"))\n",
    "print(nmodel)"
   ]
  },
  {
   "cell_type": "code",
   "execution_count": 62,
   "id": "26aff8e9",
   "metadata": {},
   "outputs": [
    {
     "name": "stdout",
     "output_type": "stream",
     "text": [
      "torch.Size([1, 156])\n",
      "tensor([ 0.1200, -0.2827,  0.5002,  0.0000,  0.0000,  0.0000,  0.0467, -0.3055,\n",
      "         0.5442,  0.0000,  0.0000,  0.0000,  0.0558, -0.3136,  0.5779,  0.0000,\n",
      "         0.0000,  0.0000,  0.0671, -0.3006,  0.5986,  0.0000,  0.0000,  0.0000,\n",
      "         0.0902, -0.3157,  0.5829,  0.0000,  0.0000,  0.0000,  0.1177, -0.3129,\n",
      "         0.5675,  0.0000,  0.0000,  0.0000,  0.0633, -0.3050,  0.5331,  0.0000,\n",
      "         0.0000,  0.0000,  0.0593, -0.3035,  0.5684,  0.0000,  0.0000,  0.0000,\n",
      "         0.0732, -0.2907,  0.5875,  0.0000,  0.0000,  0.0000,  0.0970, -0.2999,\n",
      "         0.5785,  0.0000,  0.0000,  0.0000,  0.1260, -0.3010,  0.5668,  0.0000,\n",
      "         0.0000,  0.0000,  0.0749, -0.3025,  0.5031,  0.0000,  0.0000,  0.0000,\n",
      "         0.0849, -0.2674,  0.5184,  0.0000,  0.0000,  0.0000,  0.1053, -0.2669,\n",
      "         0.5236,  0.0000,  0.0000,  0.0000,  0.1229, -0.2745,  0.5286,  0.0000,\n",
      "         0.0000,  0.0000,  0.1410, -0.2841,  0.5318,  0.0000,  0.0000,  0.0000,\n",
      "         0.0672, -0.2872,  0.5517,  0.0000,  0.0000,  0.0000,  0.0840, -0.2768,\n",
      "         0.5681,  0.0000,  0.0000,  0.0000,  0.1070, -0.2818,  0.5675,  0.0000,\n",
      "         0.0000,  0.0000,  0.1330, -0.2866,  0.5577,  0.0000,  0.0000,  0.0000,\n",
      "         0.1050, -0.2997,  0.4687,  0.0000,  0.0000,  0.0000,  0.1148, -0.2968,\n",
      "         0.4713,  0.0000,  0.0000,  0.0000,  0.1222, -0.2968,  0.4728,  0.0000,\n",
      "         0.0000,  0.0000,  0.1321, -0.2972,  0.4754,  0.0000,  0.0000,  0.0000,\n",
      "         0.1403, -0.3005,  0.4772,  0.0000,  0.0000,  0.0000,  0.1283, -0.3008,\n",
      "         0.4537,  0.0000,  0.0000,  0.0000], device='cuda:0')\n",
      "1 [array([0], dtype=int64)]\n"
     ]
    }
   ],
   "source": [
    "y_pred_list = []\n",
    "t = torch.from_numpy(np.array([[0., 0., 0., 0., 0., 0., 0., 0., 0., 0., 0., 0., 0., 0., 0., 0., 0., 0., 0., 0., 0., 0., 0., 0.,\n",
    "        0., 0., 0., 0., 0., 0., 0., 0., 0., 0., 0., 0., 0., 0., 0., 0., 0., 0., 0., 0., 0., 0., 0., 0.,\n",
    "        0., 0., 0., 0., 0., 0., 0., 0., 0., 0., 0., 0., 0., 0., 0., 0., 0., 0., 0., 0., 0., 0., 0., 0.,\n",
    "        0., 0., 0., 0., 0., 0., 0., 0., 0., 0., 0., 0., 0., 0., 0., 0., 0., 0., 0., 0., 0., 0., 0., 0.,\n",
    "        0., 0., 0., 0., 0., 0., 0., 0., 0., 0., 0., 0., 0., 0., 0., 0., 0., 0., 0., 0., 0., 0., 0., 0.,\n",
    "        0., 0., 0., 0., 0., 0., 0., 0., 0., 0., 0., 0., 0., 0., 0., 0., 0., 0., 0., 0., 0., 0., 0., 0.,\n",
    "        0., 0., 0., 0., 0., 0., 0., 0., 0., 0., 0., 0.]]).astype(float)).float().to(device)\n",
    "print(t.shape)\n",
    "\n",
    "with torch.no_grad():\n",
    "\n",
    "    model.eval()\n",
    "    for test in test_dataset:\n",
    "        print(X_batch[0])\n",
    "        X_batch = test.X_data.to(device)\n",
    "        y_test_pred, _ = model(t)\n",
    "        _, y_pred_tags = torch.max(y_test_pred, dim = 1)\n",
    "        y_pred_list.append(y_pred_tags.cpu().numpy())\n",
    "        break\n",
    "print(len(y_pred_list), y_pred_list)"
   ]
  },
  {
   "cell_type": "code",
   "execution_count": null,
   "id": "bd599fa9",
   "metadata": {},
   "outputs": [],
   "source": []
  }
 ],
 "metadata": {
  "accelerator": "TPU",
  "colab": {
   "collapsed_sections": [],
   "name": "LSTM-Copy1.3.ipynb",
   "provenance": []
  },
  "kernelspec": {
   "display_name": "Python 3",
   "language": "python",
   "name": "python3"
  },
  "language_info": {
   "codemirror_mode": {
    "name": "ipython",
    "version": 3
   },
   "file_extension": ".py",
   "mimetype": "text/x-python",
   "name": "python",
   "nbconvert_exporter": "python",
   "pygments_lexer": "ipython3",
   "version": "3.8.10"
  },
  "widgets": {
   "application/vnd.jupyter.widget-state+json": {
    "0135b41a3a4340f99d7f448ce18cd460": {
     "model_module": "@jupyter-widgets/controls",
     "model_name": "DescriptionStyleModel",
     "state": {
      "_model_module": "@jupyter-widgets/controls",
      "_model_module_version": "1.5.0",
      "_model_name": "DescriptionStyleModel",
      "_view_count": null,
      "_view_module": "@jupyter-widgets/base",
      "_view_module_version": "1.2.0",
      "_view_name": "StyleView",
      "description_width": ""
     }
    },
    "2142be525ab64432b2de9edb80a5ac42": {
     "model_module": "@jupyter-widgets/controls",
     "model_name": "ProgressStyleModel",
     "state": {
      "_model_module": "@jupyter-widgets/controls",
      "_model_module_version": "1.5.0",
      "_model_name": "ProgressStyleModel",
      "_view_count": null,
      "_view_module": "@jupyter-widgets/base",
      "_view_module_version": "1.2.0",
      "_view_name": "StyleView",
      "bar_color": null,
      "description_width": "initial"
     }
    },
    "350aab8898b649a0ae733a5ac572f0db": {
     "model_module": "@jupyter-widgets/base",
     "model_name": "LayoutModel",
     "state": {
      "_model_module": "@jupyter-widgets/base",
      "_model_module_version": "1.2.0",
      "_model_name": "LayoutModel",
      "_view_count": null,
      "_view_module": "@jupyter-widgets/base",
      "_view_module_version": "1.2.0",
      "_view_name": "LayoutView",
      "align_content": null,
      "align_items": null,
      "align_self": null,
      "border": null,
      "bottom": null,
      "display": null,
      "flex": null,
      "flex_flow": null,
      "grid_area": null,
      "grid_auto_columns": null,
      "grid_auto_flow": null,
      "grid_auto_rows": null,
      "grid_column": null,
      "grid_gap": null,
      "grid_row": null,
      "grid_template_areas": null,
      "grid_template_columns": null,
      "grid_template_rows": null,
      "height": null,
      "justify_content": null,
      "justify_items": null,
      "left": null,
      "margin": null,
      "max_height": null,
      "max_width": null,
      "min_height": null,
      "min_width": null,
      "object_fit": null,
      "object_position": null,
      "order": null,
      "overflow": null,
      "overflow_x": null,
      "overflow_y": null,
      "padding": null,
      "right": null,
      "top": null,
      "visibility": null,
      "width": null
     }
    },
    "5bfd0cda32ad4b1f9a146a139a28bf6d": {
     "model_module": "@jupyter-widgets/controls",
     "model_name": "HTMLModel",
     "state": {
      "_dom_classes": [],
      "_model_module": "@jupyter-widgets/controls",
      "_model_module_version": "1.5.0",
      "_model_name": "HTMLModel",
      "_view_count": null,
      "_view_module": "@jupyter-widgets/controls",
      "_view_module_version": "1.5.0",
      "_view_name": "HTMLView",
      "description": "",
      "description_tooltip": null,
      "layout": "IPY_MODEL_b809dd46be0943878e4494089332b7be",
      "placeholder": "​",
      "style": "IPY_MODEL_0135b41a3a4340f99d7f448ce18cd460",
      "value": " 50/50 [10:18&lt;00:00, 12.38s/it]"
     }
    },
    "7802ba29b3e5429e8ee1ed115d1ca93b": {
     "model_module": "@jupyter-widgets/controls",
     "model_name": "FloatProgressModel",
     "state": {
      "_dom_classes": [],
      "_model_module": "@jupyter-widgets/controls",
      "_model_module_version": "1.5.0",
      "_model_name": "FloatProgressModel",
      "_view_count": null,
      "_view_module": "@jupyter-widgets/controls",
      "_view_module_version": "1.5.0",
      "_view_name": "ProgressView",
      "bar_style": "success",
      "description": "100%",
      "description_tooltip": null,
      "layout": "IPY_MODEL_c73e79e30252416985595da1660544a1",
      "max": 50,
      "min": 0,
      "orientation": "horizontal",
      "style": "IPY_MODEL_2142be525ab64432b2de9edb80a5ac42",
      "value": 50
     }
    },
    "9a9d334287f54a8d84800ed57d650997": {
     "model_module": "@jupyter-widgets/controls",
     "model_name": "HBoxModel",
     "state": {
      "_dom_classes": [],
      "_model_module": "@jupyter-widgets/controls",
      "_model_module_version": "1.5.0",
      "_model_name": "HBoxModel",
      "_view_count": null,
      "_view_module": "@jupyter-widgets/controls",
      "_view_module_version": "1.5.0",
      "_view_name": "HBoxView",
      "box_style": "",
      "children": [
       "IPY_MODEL_7802ba29b3e5429e8ee1ed115d1ca93b",
       "IPY_MODEL_5bfd0cda32ad4b1f9a146a139a28bf6d"
      ],
      "layout": "IPY_MODEL_350aab8898b649a0ae733a5ac572f0db"
     }
    },
    "b809dd46be0943878e4494089332b7be": {
     "model_module": "@jupyter-widgets/base",
     "model_name": "LayoutModel",
     "state": {
      "_model_module": "@jupyter-widgets/base",
      "_model_module_version": "1.2.0",
      "_model_name": "LayoutModel",
      "_view_count": null,
      "_view_module": "@jupyter-widgets/base",
      "_view_module_version": "1.2.0",
      "_view_name": "LayoutView",
      "align_content": null,
      "align_items": null,
      "align_self": null,
      "border": null,
      "bottom": null,
      "display": null,
      "flex": null,
      "flex_flow": null,
      "grid_area": null,
      "grid_auto_columns": null,
      "grid_auto_flow": null,
      "grid_auto_rows": null,
      "grid_column": null,
      "grid_gap": null,
      "grid_row": null,
      "grid_template_areas": null,
      "grid_template_columns": null,
      "grid_template_rows": null,
      "height": null,
      "justify_content": null,
      "justify_items": null,
      "left": null,
      "margin": null,
      "max_height": null,
      "max_width": null,
      "min_height": null,
      "min_width": null,
      "object_fit": null,
      "object_position": null,
      "order": null,
      "overflow": null,
      "overflow_x": null,
      "overflow_y": null,
      "padding": null,
      "right": null,
      "top": null,
      "visibility": null,
      "width": null
     }
    },
    "c73e79e30252416985595da1660544a1": {
     "model_module": "@jupyter-widgets/base",
     "model_name": "LayoutModel",
     "state": {
      "_model_module": "@jupyter-widgets/base",
      "_model_module_version": "1.2.0",
      "_model_name": "LayoutModel",
      "_view_count": null,
      "_view_module": "@jupyter-widgets/base",
      "_view_module_version": "1.2.0",
      "_view_name": "LayoutView",
      "align_content": null,
      "align_items": null,
      "align_self": null,
      "border": null,
      "bottom": null,
      "display": null,
      "flex": null,
      "flex_flow": null,
      "grid_area": null,
      "grid_auto_columns": null,
      "grid_auto_flow": null,
      "grid_auto_rows": null,
      "grid_column": null,
      "grid_gap": null,
      "grid_row": null,
      "grid_template_areas": null,
      "grid_template_columns": null,
      "grid_template_rows": null,
      "height": null,
      "justify_content": null,
      "justify_items": null,
      "left": null,
      "margin": null,
      "max_height": null,
      "max_width": null,
      "min_height": null,
      "min_width": null,
      "object_fit": null,
      "object_position": null,
      "order": null,
      "overflow": null,
      "overflow_x": null,
      "overflow_y": null,
      "padding": null,
      "right": null,
      "top": null,
      "visibility": null,
      "width": null
     }
    }
   }
  }
 },
 "nbformat": 4,
 "nbformat_minor": 5
}

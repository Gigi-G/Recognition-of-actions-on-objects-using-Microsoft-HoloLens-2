{
 "cells": [
  {
   "cell_type": "markdown",
   "id": "b57ba0a3",
   "metadata": {
    "id": "b57ba0a3"
   },
   "source": [
    "# LSTM"
   ]
  },
  {
   "cell_type": "markdown",
   "id": "2d826350",
   "metadata": {
    "id": "2d826350"
   },
   "source": [
    "## Caricamento del dataframe"
   ]
  },
  {
   "cell_type": "code",
   "execution_count": 1,
   "id": "5cac63e0",
   "metadata": {
    "colab": {
     "base_uri": "https://localhost:8080/",
     "height": 256
    },
    "id": "5cac63e0",
    "outputId": "b4225c27-827f-46ad-edc7-521c2df980c9"
   },
   "outputs": [
    {
     "data": {
      "text/html": [
       "<div>\n",
       "<style scoped>\n",
       "    .dataframe tbody tr th:only-of-type {\n",
       "        vertical-align: middle;\n",
       "    }\n",
       "\n",
       "    .dataframe tbody tr th {\n",
       "        vertical-align: top;\n",
       "    }\n",
       "\n",
       "    .dataframe thead th {\n",
       "        text-align: right;\n",
       "    }\n",
       "</style>\n",
       "<table border=\"1\" class=\"dataframe\">\n",
       "  <thead>\n",
       "    <tr style=\"text-align: right;\">\n",
       "      <th></th>\n",
       "      <th>RIGHT_Palm_x</th>\n",
       "      <th>RIGHT_Palm_y</th>\n",
       "      <th>RIGHT_Palm_z</th>\n",
       "      <th>LEFT_Palm_x</th>\n",
       "      <th>LEFT_Palm_y</th>\n",
       "      <th>LEFT_Palm_z</th>\n",
       "      <th>RIGHT_ThumbTip_x</th>\n",
       "      <th>RIGHT_ThumbTip_y</th>\n",
       "      <th>RIGHT_ThumbTip_z</th>\n",
       "      <th>LEFT_ThumbTip_x</th>\n",
       "      <th>...</th>\n",
       "      <th>LEFT_PinkyMetacarpal_x</th>\n",
       "      <th>LEFT_PinkyMetacarpal_y</th>\n",
       "      <th>LEFT_PinkyMetacarpal_z</th>\n",
       "      <th>RIGHT_Wrist_x</th>\n",
       "      <th>RIGHT_Wrist_y</th>\n",
       "      <th>RIGHT_Wrist_z</th>\n",
       "      <th>LEFT_Wrist_x</th>\n",
       "      <th>LEFT_Wrist_y</th>\n",
       "      <th>LEFT_Wrist_z</th>\n",
       "      <th>TARGET</th>\n",
       "    </tr>\n",
       "  </thead>\n",
       "  <tbody>\n",
       "    <tr>\n",
       "      <th>0</th>\n",
       "      <td>0.000000</td>\n",
       "      <td>0.000000</td>\n",
       "      <td>0.000000</td>\n",
       "      <td>-0.254745</td>\n",
       "      <td>-0.180888</td>\n",
       "      <td>0.529562</td>\n",
       "      <td>0.000000</td>\n",
       "      <td>0.000000</td>\n",
       "      <td>0.000000</td>\n",
       "      <td>-0.199201</td>\n",
       "      <td>...</td>\n",
       "      <td>-0.247262</td>\n",
       "      <td>-0.205080</td>\n",
       "      <td>0.502736</td>\n",
       "      <td>0.000000</td>\n",
       "      <td>0.000000</td>\n",
       "      <td>0.000000</td>\n",
       "      <td>-0.249076</td>\n",
       "      <td>-0.191259</td>\n",
       "      <td>0.480058</td>\n",
       "      <td>Prendi</td>\n",
       "    </tr>\n",
       "    <tr>\n",
       "      <th>1</th>\n",
       "      <td>0.188626</td>\n",
       "      <td>-0.124457</td>\n",
       "      <td>0.562990</td>\n",
       "      <td>-0.251265</td>\n",
       "      <td>-0.165891</td>\n",
       "      <td>0.534760</td>\n",
       "      <td>0.139340</td>\n",
       "      <td>-0.091834</td>\n",
       "      <td>0.614373</td>\n",
       "      <td>-0.195666</td>\n",
       "      <td>...</td>\n",
       "      <td>-0.243838</td>\n",
       "      <td>-0.190570</td>\n",
       "      <td>0.508365</td>\n",
       "      <td>0.187135</td>\n",
       "      <td>-0.141886</td>\n",
       "      <td>0.513036</td>\n",
       "      <td>-0.245797</td>\n",
       "      <td>-0.177189</td>\n",
       "      <td>0.485436</td>\n",
       "      <td>Prendi</td>\n",
       "    </tr>\n",
       "    <tr>\n",
       "      <th>2</th>\n",
       "      <td>0.187749</td>\n",
       "      <td>-0.098200</td>\n",
       "      <td>0.550945</td>\n",
       "      <td>-0.248171</td>\n",
       "      <td>-0.126271</td>\n",
       "      <td>0.533840</td>\n",
       "      <td>0.131223</td>\n",
       "      <td>-0.057304</td>\n",
       "      <td>0.596986</td>\n",
       "      <td>-0.187347</td>\n",
       "      <td>...</td>\n",
       "      <td>-0.241498</td>\n",
       "      <td>-0.166368</td>\n",
       "      <td>0.511143</td>\n",
       "      <td>0.188074</td>\n",
       "      <td>-0.132619</td>\n",
       "      <td>0.511210</td>\n",
       "      <td>-0.242174</td>\n",
       "      <td>-0.153959</td>\n",
       "      <td>0.487576</td>\n",
       "      <td>Prendi</td>\n",
       "    </tr>\n",
       "    <tr>\n",
       "      <th>3</th>\n",
       "      <td>0.188498</td>\n",
       "      <td>-0.076763</td>\n",
       "      <td>0.546801</td>\n",
       "      <td>-0.242461</td>\n",
       "      <td>-0.105347</td>\n",
       "      <td>0.531485</td>\n",
       "      <td>0.131638</td>\n",
       "      <td>-0.034524</td>\n",
       "      <td>0.591092</td>\n",
       "      <td>-0.181352</td>\n",
       "      <td>...</td>\n",
       "      <td>-0.243147</td>\n",
       "      <td>-0.153661</td>\n",
       "      <td>0.509436</td>\n",
       "      <td>0.182542</td>\n",
       "      <td>-0.121196</td>\n",
       "      <td>0.505738</td>\n",
       "      <td>-0.243236</td>\n",
       "      <td>-0.142064</td>\n",
       "      <td>0.485318</td>\n",
       "      <td>Prendi</td>\n",
       "    </tr>\n",
       "    <tr>\n",
       "      <th>4</th>\n",
       "      <td>0.186390</td>\n",
       "      <td>-0.062258</td>\n",
       "      <td>0.545261</td>\n",
       "      <td>-0.237655</td>\n",
       "      <td>-0.089744</td>\n",
       "      <td>0.533881</td>\n",
       "      <td>0.128792</td>\n",
       "      <td>-0.019735</td>\n",
       "      <td>0.587737</td>\n",
       "      <td>-0.176113</td>\n",
       "      <td>...</td>\n",
       "      <td>-0.237435</td>\n",
       "      <td>-0.133566</td>\n",
       "      <td>0.507988</td>\n",
       "      <td>0.183394</td>\n",
       "      <td>-0.101564</td>\n",
       "      <td>0.502848</td>\n",
       "      <td>-0.237633</td>\n",
       "      <td>-0.122870</td>\n",
       "      <td>0.483391</td>\n",
       "      <td>Prendi</td>\n",
       "    </tr>\n",
       "  </tbody>\n",
       "</table>\n",
       "<p>5 rows × 157 columns</p>\n",
       "</div>"
      ],
      "text/plain": [
       "   RIGHT_Palm_x  RIGHT_Palm_y  RIGHT_Palm_z  LEFT_Palm_x  LEFT_Palm_y  \\\n",
       "0      0.000000      0.000000      0.000000    -0.254745    -0.180888   \n",
       "1      0.188626     -0.124457      0.562990    -0.251265    -0.165891   \n",
       "2      0.187749     -0.098200      0.550945    -0.248171    -0.126271   \n",
       "3      0.188498     -0.076763      0.546801    -0.242461    -0.105347   \n",
       "4      0.186390     -0.062258      0.545261    -0.237655    -0.089744   \n",
       "\n",
       "   LEFT_Palm_z  RIGHT_ThumbTip_x  RIGHT_ThumbTip_y  RIGHT_ThumbTip_z  \\\n",
       "0     0.529562          0.000000          0.000000          0.000000   \n",
       "1     0.534760          0.139340         -0.091834          0.614373   \n",
       "2     0.533840          0.131223         -0.057304          0.596986   \n",
       "3     0.531485          0.131638         -0.034524          0.591092   \n",
       "4     0.533881          0.128792         -0.019735          0.587737   \n",
       "\n",
       "   LEFT_ThumbTip_x  ...  LEFT_PinkyMetacarpal_x  LEFT_PinkyMetacarpal_y  \\\n",
       "0        -0.199201  ...               -0.247262               -0.205080   \n",
       "1        -0.195666  ...               -0.243838               -0.190570   \n",
       "2        -0.187347  ...               -0.241498               -0.166368   \n",
       "3        -0.181352  ...               -0.243147               -0.153661   \n",
       "4        -0.176113  ...               -0.237435               -0.133566   \n",
       "\n",
       "   LEFT_PinkyMetacarpal_z  RIGHT_Wrist_x  RIGHT_Wrist_y  RIGHT_Wrist_z  \\\n",
       "0                0.502736       0.000000       0.000000       0.000000   \n",
       "1                0.508365       0.187135      -0.141886       0.513036   \n",
       "2                0.511143       0.188074      -0.132619       0.511210   \n",
       "3                0.509436       0.182542      -0.121196       0.505738   \n",
       "4                0.507988       0.183394      -0.101564       0.502848   \n",
       "\n",
       "   LEFT_Wrist_x  LEFT_Wrist_y  LEFT_Wrist_z  TARGET  \n",
       "0     -0.249076     -0.191259      0.480058  Prendi  \n",
       "1     -0.245797     -0.177189      0.485436  Prendi  \n",
       "2     -0.242174     -0.153959      0.487576  Prendi  \n",
       "3     -0.243236     -0.142064      0.485318  Prendi  \n",
       "4     -0.237633     -0.122870      0.483391  Prendi  \n",
       "\n",
       "[5 rows x 157 columns]"
      ]
     },
     "execution_count": 1,
     "metadata": {},
     "output_type": "execute_result"
    }
   ],
   "source": [
    "import torch\n",
    "from torch import nn\n",
    "from torch.utils.tensorboard import SummaryWriter\n",
    "from torch.utils.data import Dataset, DataLoader, WeightedRandomSampler\n",
    "import torch.nn as nn\n",
    "\n",
    "import numpy as np\n",
    "import pandas as pd\n",
    "import sys\n",
    "import seaborn as sns\n",
    "import matplotlib.pyplot as plt\n",
    "from tqdm.notebook import tqdm\n",
    "from sklearn.metrics import confusion_matrix, classification_report\n",
    "\n",
    "from torch.utils.tensorboard import SummaryWriter\n",
    "\n",
    "writer = SummaryWriter(\"./runs/LSTM\")\n",
    "\n",
    "df = pd.read_csv(\"./framing_action.csv\")\n",
    "df.head()"
   ]
  },
  {
   "cell_type": "code",
   "execution_count": 2,
   "id": "8affb0f7",
   "metadata": {
    "id": "8affb0f7"
   },
   "outputs": [],
   "source": [
    "class2idx = {\n",
    "    \"No_action\": 0,\n",
    "    \"Prendi\": 1,\n",
    "    \"Rilascia\": 2,\n",
    "    \"Premi\": 3\n",
    "}\n",
    "\n",
    "idx2class = {v: k for k, v in class2idx.items()}"
   ]
  },
  {
   "cell_type": "code",
   "execution_count": 3,
   "id": "a971a849",
   "metadata": {
    "id": "a971a849"
   },
   "outputs": [],
   "source": [
    "df['TARGET'].replace(class2idx, inplace=True)"
   ]
  },
  {
   "cell_type": "code",
   "execution_count": 4,
   "id": "7a38725f",
   "metadata": {
    "colab": {
     "base_uri": "https://localhost:8080/",
     "height": 256
    },
    "id": "7a38725f",
    "outputId": "8c9e2966-a976-47d0-e49d-d4d473cfe220"
   },
   "outputs": [
    {
     "data": {
      "text/html": [
       "<div>\n",
       "<style scoped>\n",
       "    .dataframe tbody tr th:only-of-type {\n",
       "        vertical-align: middle;\n",
       "    }\n",
       "\n",
       "    .dataframe tbody tr th {\n",
       "        vertical-align: top;\n",
       "    }\n",
       "\n",
       "    .dataframe thead th {\n",
       "        text-align: right;\n",
       "    }\n",
       "</style>\n",
       "<table border=\"1\" class=\"dataframe\">\n",
       "  <thead>\n",
       "    <tr style=\"text-align: right;\">\n",
       "      <th></th>\n",
       "      <th>RIGHT_Palm_x</th>\n",
       "      <th>RIGHT_Palm_y</th>\n",
       "      <th>RIGHT_Palm_z</th>\n",
       "      <th>LEFT_Palm_x</th>\n",
       "      <th>LEFT_Palm_y</th>\n",
       "      <th>LEFT_Palm_z</th>\n",
       "      <th>RIGHT_ThumbTip_x</th>\n",
       "      <th>RIGHT_ThumbTip_y</th>\n",
       "      <th>RIGHT_ThumbTip_z</th>\n",
       "      <th>LEFT_ThumbTip_x</th>\n",
       "      <th>...</th>\n",
       "      <th>LEFT_PinkyMetacarpal_x</th>\n",
       "      <th>LEFT_PinkyMetacarpal_y</th>\n",
       "      <th>LEFT_PinkyMetacarpal_z</th>\n",
       "      <th>RIGHT_Wrist_x</th>\n",
       "      <th>RIGHT_Wrist_y</th>\n",
       "      <th>RIGHT_Wrist_z</th>\n",
       "      <th>LEFT_Wrist_x</th>\n",
       "      <th>LEFT_Wrist_y</th>\n",
       "      <th>LEFT_Wrist_z</th>\n",
       "      <th>TARGET</th>\n",
       "    </tr>\n",
       "  </thead>\n",
       "  <tbody>\n",
       "    <tr>\n",
       "      <th>0</th>\n",
       "      <td>0.000000</td>\n",
       "      <td>0.000000</td>\n",
       "      <td>0.000000</td>\n",
       "      <td>-0.254745</td>\n",
       "      <td>-0.180888</td>\n",
       "      <td>0.529562</td>\n",
       "      <td>0.000000</td>\n",
       "      <td>0.000000</td>\n",
       "      <td>0.000000</td>\n",
       "      <td>-0.199201</td>\n",
       "      <td>...</td>\n",
       "      <td>-0.247262</td>\n",
       "      <td>-0.205080</td>\n",
       "      <td>0.502736</td>\n",
       "      <td>0.000000</td>\n",
       "      <td>0.000000</td>\n",
       "      <td>0.000000</td>\n",
       "      <td>-0.249076</td>\n",
       "      <td>-0.191259</td>\n",
       "      <td>0.480058</td>\n",
       "      <td>1</td>\n",
       "    </tr>\n",
       "    <tr>\n",
       "      <th>1</th>\n",
       "      <td>0.188626</td>\n",
       "      <td>-0.124457</td>\n",
       "      <td>0.562990</td>\n",
       "      <td>-0.251265</td>\n",
       "      <td>-0.165891</td>\n",
       "      <td>0.534760</td>\n",
       "      <td>0.139340</td>\n",
       "      <td>-0.091834</td>\n",
       "      <td>0.614373</td>\n",
       "      <td>-0.195666</td>\n",
       "      <td>...</td>\n",
       "      <td>-0.243838</td>\n",
       "      <td>-0.190570</td>\n",
       "      <td>0.508365</td>\n",
       "      <td>0.187135</td>\n",
       "      <td>-0.141886</td>\n",
       "      <td>0.513036</td>\n",
       "      <td>-0.245797</td>\n",
       "      <td>-0.177189</td>\n",
       "      <td>0.485436</td>\n",
       "      <td>1</td>\n",
       "    </tr>\n",
       "    <tr>\n",
       "      <th>2</th>\n",
       "      <td>0.187749</td>\n",
       "      <td>-0.098200</td>\n",
       "      <td>0.550945</td>\n",
       "      <td>-0.248171</td>\n",
       "      <td>-0.126271</td>\n",
       "      <td>0.533840</td>\n",
       "      <td>0.131223</td>\n",
       "      <td>-0.057304</td>\n",
       "      <td>0.596986</td>\n",
       "      <td>-0.187347</td>\n",
       "      <td>...</td>\n",
       "      <td>-0.241498</td>\n",
       "      <td>-0.166368</td>\n",
       "      <td>0.511143</td>\n",
       "      <td>0.188074</td>\n",
       "      <td>-0.132619</td>\n",
       "      <td>0.511210</td>\n",
       "      <td>-0.242174</td>\n",
       "      <td>-0.153959</td>\n",
       "      <td>0.487576</td>\n",
       "      <td>1</td>\n",
       "    </tr>\n",
       "    <tr>\n",
       "      <th>3</th>\n",
       "      <td>0.188498</td>\n",
       "      <td>-0.076763</td>\n",
       "      <td>0.546801</td>\n",
       "      <td>-0.242461</td>\n",
       "      <td>-0.105347</td>\n",
       "      <td>0.531485</td>\n",
       "      <td>0.131638</td>\n",
       "      <td>-0.034524</td>\n",
       "      <td>0.591092</td>\n",
       "      <td>-0.181352</td>\n",
       "      <td>...</td>\n",
       "      <td>-0.243147</td>\n",
       "      <td>-0.153661</td>\n",
       "      <td>0.509436</td>\n",
       "      <td>0.182542</td>\n",
       "      <td>-0.121196</td>\n",
       "      <td>0.505738</td>\n",
       "      <td>-0.243236</td>\n",
       "      <td>-0.142064</td>\n",
       "      <td>0.485318</td>\n",
       "      <td>1</td>\n",
       "    </tr>\n",
       "    <tr>\n",
       "      <th>4</th>\n",
       "      <td>0.186390</td>\n",
       "      <td>-0.062258</td>\n",
       "      <td>0.545261</td>\n",
       "      <td>-0.237655</td>\n",
       "      <td>-0.089744</td>\n",
       "      <td>0.533881</td>\n",
       "      <td>0.128792</td>\n",
       "      <td>-0.019735</td>\n",
       "      <td>0.587737</td>\n",
       "      <td>-0.176113</td>\n",
       "      <td>...</td>\n",
       "      <td>-0.237435</td>\n",
       "      <td>-0.133566</td>\n",
       "      <td>0.507988</td>\n",
       "      <td>0.183394</td>\n",
       "      <td>-0.101564</td>\n",
       "      <td>0.502848</td>\n",
       "      <td>-0.237633</td>\n",
       "      <td>-0.122870</td>\n",
       "      <td>0.483391</td>\n",
       "      <td>1</td>\n",
       "    </tr>\n",
       "  </tbody>\n",
       "</table>\n",
       "<p>5 rows × 157 columns</p>\n",
       "</div>"
      ],
      "text/plain": [
       "   RIGHT_Palm_x  RIGHT_Palm_y  RIGHT_Palm_z  LEFT_Palm_x  LEFT_Palm_y  \\\n",
       "0      0.000000      0.000000      0.000000    -0.254745    -0.180888   \n",
       "1      0.188626     -0.124457      0.562990    -0.251265    -0.165891   \n",
       "2      0.187749     -0.098200      0.550945    -0.248171    -0.126271   \n",
       "3      0.188498     -0.076763      0.546801    -0.242461    -0.105347   \n",
       "4      0.186390     -0.062258      0.545261    -0.237655    -0.089744   \n",
       "\n",
       "   LEFT_Palm_z  RIGHT_ThumbTip_x  RIGHT_ThumbTip_y  RIGHT_ThumbTip_z  \\\n",
       "0     0.529562          0.000000          0.000000          0.000000   \n",
       "1     0.534760          0.139340         -0.091834          0.614373   \n",
       "2     0.533840          0.131223         -0.057304          0.596986   \n",
       "3     0.531485          0.131638         -0.034524          0.591092   \n",
       "4     0.533881          0.128792         -0.019735          0.587737   \n",
       "\n",
       "   LEFT_ThumbTip_x  ...  LEFT_PinkyMetacarpal_x  LEFT_PinkyMetacarpal_y  \\\n",
       "0        -0.199201  ...               -0.247262               -0.205080   \n",
       "1        -0.195666  ...               -0.243838               -0.190570   \n",
       "2        -0.187347  ...               -0.241498               -0.166368   \n",
       "3        -0.181352  ...               -0.243147               -0.153661   \n",
       "4        -0.176113  ...               -0.237435               -0.133566   \n",
       "\n",
       "   LEFT_PinkyMetacarpal_z  RIGHT_Wrist_x  RIGHT_Wrist_y  RIGHT_Wrist_z  \\\n",
       "0                0.502736       0.000000       0.000000       0.000000   \n",
       "1                0.508365       0.187135      -0.141886       0.513036   \n",
       "2                0.511143       0.188074      -0.132619       0.511210   \n",
       "3                0.509436       0.182542      -0.121196       0.505738   \n",
       "4                0.507988       0.183394      -0.101564       0.502848   \n",
       "\n",
       "   LEFT_Wrist_x  LEFT_Wrist_y  LEFT_Wrist_z  TARGET  \n",
       "0     -0.249076     -0.191259      0.480058       1  \n",
       "1     -0.245797     -0.177189      0.485436       1  \n",
       "2     -0.242174     -0.153959      0.487576       1  \n",
       "3     -0.243236     -0.142064      0.485318       1  \n",
       "4     -0.237633     -0.122870      0.483391       1  \n",
       "\n",
       "[5 rows x 157 columns]"
      ]
     },
     "execution_count": 4,
     "metadata": {},
     "output_type": "execute_result"
    }
   ],
   "source": [
    "df.head()"
   ]
  },
  {
   "cell_type": "markdown",
   "id": "acbaa788",
   "metadata": {
    "id": "acbaa788"
   },
   "source": [
    "## Train - Validation - Test"
   ]
  },
  {
   "cell_type": "markdown",
   "id": "121bf342",
   "metadata": {
    "id": "121bf342"
   },
   "source": [
    "Per creare il train-val-split, utilizziamo la seguente funzione:"
   ]
  },
  {
   "cell_type": "code",
   "execution_count": 5,
   "id": "0126e325",
   "metadata": {
    "id": "0126e325"
   },
   "outputs": [],
   "source": [
    "def create_dataset(dataset, target, window_size = 2):\n",
    "    dataX, dataY = [], []\n",
    "    for i in range(len(dataset) - window_size):\n",
    "        dataX.append(dataset[i:i + window_size])\n",
    "        dataY.append(target[(i + window_size):(i + window_size + 1)].values[0])\n",
    "    return np.array(dataX), np.array(dataY)"
   ]
  },
  {
   "cell_type": "markdown",
   "id": "fb886a28",
   "metadata": {
    "id": "fb886a28"
   },
   "source": [
    "Determiniamo la grandezza dei tre dataset."
   ]
  },
  {
   "cell_type": "code",
   "execution_count": 6,
   "id": "44c86554",
   "metadata": {
    "colab": {
     "base_uri": "https://localhost:8080/"
    },
    "id": "44c86554",
    "outputId": "63c020c6-d211-4566-d37b-9db96dd8416f"
   },
   "outputs": [
    {
     "name": "stdout",
     "output_type": "stream",
     "text": [
      "3469 892 595\n"
     ]
    }
   ],
   "source": [
    "train_size = int(len(df) * 0.7)\n",
    "test_size = int((len(df) - train_size) * 0.6)\n",
    "val_size = len(df) - train_size - test_size\n",
    "\n",
    "print(train_size, test_size, val_size)"
   ]
  },
  {
   "cell_type": "code",
   "execution_count": 7,
   "id": "e196b6c0",
   "metadata": {
    "colab": {
     "base_uri": "https://localhost:8080/"
    },
    "id": "e196b6c0",
    "outputId": "22c320a4-e674-4521-ac35-72defed513b2"
   },
   "outputs": [
    {
     "name": "stdout",
     "output_type": "stream",
     "text": [
      "3469 892 595\n"
     ]
    }
   ],
   "source": [
    "train = df[0:train_size]\n",
    "test = df[train_size:(len(df) - val_size)] \n",
    "val = df[(len(df) - val_size):len(df)]\n",
    "\n",
    "print(train.shape[0], test.shape[0], val.shape[0])"
   ]
  },
  {
   "cell_type": "markdown",
   "id": "da4ea305",
   "metadata": {
    "id": "da4ea305"
   },
   "source": [
    "Separiamo le colonne delle features dall'etichetta."
   ]
  },
  {
   "cell_type": "code",
   "execution_count": 8,
   "id": "d1c6d06b",
   "metadata": {
    "id": "d1c6d06b"
   },
   "outputs": [],
   "source": [
    "train_label = train[\"TARGET\"]\n",
    "test_label = test[\"TARGET\"]\n",
    "val_label = val[\"TARGET\"]\n",
    "\n",
    "del train[\"TARGET\"]\n",
    "del test[\"TARGET\"]\n",
    "del val[\"TARGET\"]"
   ]
  },
  {
   "cell_type": "markdown",
   "id": "owUiLKf4H9jh",
   "metadata": {
    "id": "owUiLKf4H9jh"
   },
   "source": [
    "## Visualizzazione della distribuzione delle classi in Train, Val e Test"
   ]
  },
  {
   "cell_type": "code",
   "execution_count": 9,
   "id": "NvPdymyAH07E",
   "metadata": {
    "id": "NvPdymyAH07E"
   },
   "outputs": [],
   "source": [
    "def get_class_distribution(obj):\n",
    "    count_dict = {\n",
    "        \"No_action\": 0,\n",
    "        \"Prendi\": 0,\n",
    "        \"Rilascia\": 0,\n",
    "        \"Premi\": 0,\n",
    "    }\n",
    "    \n",
    "    for i in obj:\n",
    "        if i == 0: \n",
    "            count_dict['No_action'] += 1\n",
    "        elif i == 1: \n",
    "            count_dict['Prendi'] += 1\n",
    "        elif i == 2: \n",
    "            count_dict['Rilascia'] += 1\n",
    "        elif i == 3: \n",
    "            count_dict['Premi'] += 1            \n",
    "        else:\n",
    "            print(\"Check classes.\")\n",
    "            \n",
    "    return count_dict"
   ]
  },
  {
   "cell_type": "code",
   "execution_count": 10,
   "id": "mdj_1catIJPD",
   "metadata": {
    "colab": {
     "base_uri": "https://localhost:8080/",
     "height": 476
    },
    "id": "mdj_1catIJPD",
    "outputId": "2bcceb8a-1876-443f-eff6-2d26c13d77c0"
   },
   "outputs": [
    {
     "data": {
      "text/plain": [
       "Text(0.5, 1.0, 'Class Distribution in Test Set')"
      ]
     },
     "execution_count": 10,
     "metadata": {},
     "output_type": "execute_result"
    },
    {
     "data": {
      "image/png": "[encoded data removed]",
      "text/plain": [
       "<Figure size 1800x504 with 3 Axes>"
      ]
     },
     "metadata": {
      "needs_background": "light"
     },
     "output_type": "display_data"
    }
   ],
   "source": [
    "fig, axes = plt.subplots(nrows=1, ncols=3, figsize=(25,7))\n",
    "# Train\n",
    "sns.barplot(data = pd.DataFrame.from_dict([get_class_distribution(train_label)]).melt(), x = \"variable\", y=\"value\", hue=\"variable\",  ax=axes[0]).set_title('Class Distribution in Train Set')\n",
    "# Validation\n",
    "sns.barplot(data = pd.DataFrame.from_dict([get_class_distribution(val_label)]).melt(), x = \"variable\", y=\"value\", hue=\"variable\",  ax=axes[1]).set_title('Class Distribution in Val Set')\n",
    "# Test\n",
    "sns.barplot(data = pd.DataFrame.from_dict([get_class_distribution(test_label)]).melt(), x = \"variable\", y=\"value\", hue=\"variable\",  ax=axes[2]).set_title('Class Distribution in Test Set')"
   ]
  },
  {
   "cell_type": "code",
   "execution_count": 11,
   "id": "4fef0ed3",
   "metadata": {
    "id": "4fef0ed3"
   },
   "outputs": [],
   "source": [
    "class ClassifierDataset(Dataset):\n",
    "    \n",
    "    def __init__(self, X_data, y_data):\n",
    "        self.X_data = X_data\n",
    "        self.y_data = y_data\n",
    "        \n",
    "    def __getitem__(self, index):\n",
    "        return self.X_data[index], self.y_data[index]\n",
    "        \n",
    "    def __len__ (self):\n",
    "        return len(self.X_data)"
   ]
  },
  {
   "cell_type": "code",
   "execution_count": 12,
   "id": "0948a1a9",
   "metadata": {
    "id": "0948a1a9"
   },
   "outputs": [],
   "source": [
    "window_size = 33"
   ]
  },
  {
   "cell_type": "code",
   "execution_count": 13,
   "id": "679b12e8",
   "metadata": {
    "id": "679b12e8"
   },
   "outputs": [],
   "source": [
    "train_X, train_Y = create_dataset(train, train_label, window_size)\n",
    "train_dataset = ClassifierDataset(torch.from_numpy(train_X).float(), torch.from_numpy(train_Y).long())\n",
    "\n",
    "test_X, test_Y = create_dataset(test, test_label, window_size)\n",
    "test_dataset = ClassifierDataset(torch.from_numpy(test_X).float(), torch.from_numpy(test_Y).long())\n",
    "\n",
    "val_X, val_Y = create_dataset(val, val_label, window_size)\n",
    "val_dataset = ClassifierDataset(torch.from_numpy(val_X).float(), torch.from_numpy(val_Y).long())"
   ]
  },
  {
   "cell_type": "markdown",
   "id": "i3SiYeWKKX9P",
   "metadata": {
    "id": "i3SiYeWKKX9P"
   },
   "source": [
    "## Weighted Sampling"
   ]
  },
  {
   "cell_type": "markdown",
   "id": "fGJur35nKc4Y",
   "metadata": {
    "id": "fGJur35nKc4Y"
   },
   "source": [
    "Poiché c'è uno squilibrio di classe, utilizziamo la suddivisione stratificata per creare i nostri set di train, convalida e test."
   ]
  },
  {
   "cell_type": "code",
   "execution_count": 14,
   "id": "XAC-pLjfKlRB",
   "metadata": {
    "id": "XAC-pLjfKlRB"
   },
   "outputs": [],
   "source": [
    "target_list = []\n",
    "\n",
    "for _, t in train_dataset:\n",
    "    target_list.append(t)\n",
    "    \n",
    "target_list = torch.tensor(target_list)\n",
    "target_list = target_list[torch.randperm(len(target_list))]"
   ]
  },
  {
   "cell_type": "markdown",
   "id": "zSWgB6_kLDcB",
   "metadata": {
    "id": "zSWgB6_kLDcB"
   },
   "source": [
    "Quindi, otteniamo il conteggio di tutte le classi nel nostro set di allenamento.  Usiamo il reciproco di ogni conteggio per ottenere il suo peso.  Ora che abbiamo calcolato i pesi per ogni classe, possiamo procedere."
   ]
  },
  {
   "cell_type": "code",
   "execution_count": 15,
   "id": "AfYqQv22LFiY",
   "metadata": {
    "colab": {
     "base_uri": "https://localhost:8080/"
    },
    "id": "AfYqQv22LFiY",
    "outputId": "c3163ae9-b0da-4d02-8ba4-fc891257a66a"
   },
   "outputs": [
    {
     "name": "stdout",
     "output_type": "stream",
     "text": [
      "tensor([0.0004, 0.0026, 0.0035, 0.0057])\n"
     ]
    }
   ],
   "source": [
    "class_count = [i for i in get_class_distribution(train_label).values()]\n",
    "#class_count[0] *= 1.5\n",
    "class_weights = 1./torch.tensor(class_count, dtype=torch.float) \n",
    " \n",
    "print(class_weights)"
   ]
  },
  {
   "cell_type": "markdown",
   "id": "kTcnQd-qLm_E",
   "metadata": {
    "id": "kTcnQd-qLm_E"
   },
   "source": [
    "WeightedRandomSampler prevede un peso per ogni campione.  Lo usiamo come segue."
   ]
  },
  {
   "cell_type": "code",
   "execution_count": 16,
   "id": "_k5ysLm-LRoX",
   "metadata": {
    "id": "_k5ysLm-LRoX"
   },
   "outputs": [],
   "source": [
    "class_weights_all = class_weights[target_list]"
   ]
  },
  {
   "cell_type": "markdown",
   "id": "jzKuSiX2LuMs",
   "metadata": {
    "id": "jzKuSiX2LuMs"
   },
   "source": [
    "Infine, inizializziamo il nostro WeightedRandomSampler.  Lo chiameremo nel nostro dataloader in seguito."
   ]
  },
  {
   "cell_type": "code",
   "execution_count": 17,
   "id": "0Kcco4ucL3j7",
   "metadata": {
    "id": "0Kcco4ucL3j7"
   },
   "outputs": [],
   "source": [
    "weighted_sampler = WeightedRandomSampler(\n",
    "    weights=class_weights_all,\n",
    "    num_samples=len(class_weights_all),\n",
    "    replacement=True\n",
    ")"
   ]
  },
  {
   "cell_type": "markdown",
   "id": "e449aca9",
   "metadata": {
    "id": "e449aca9"
   },
   "source": [
    "## Parametri del modello"
   ]
  },
  {
   "cell_type": "code",
   "execution_count": 18,
   "id": "404be4ab",
   "metadata": {
    "id": "404be4ab"
   },
   "outputs": [],
   "source": [
    "EPOCHS = 50\n",
    "BATCH_SIZE = 256\n",
    "LEARNING_RATE = 0.0002\n",
    "NUM_FEATURES = len(df.columns)-1\n",
    "NUM_CLASSES = 4"
   ]
  },
  {
   "cell_type": "markdown",
   "id": "fe209a48",
   "metadata": {
    "id": "fe209a48"
   },
   "source": [
    "## Dataloader"
   ]
  },
  {
   "cell_type": "code",
   "execution_count": 19,
   "id": "f65a6d03",
   "metadata": {
    "id": "f65a6d03"
   },
   "outputs": [],
   "source": [
    "train_loader = DataLoader(dataset=train_dataset, batch_size=BATCH_SIZE, shuffle=False, sampler=weighted_sampler)\n",
    "\n",
    "val_loader = DataLoader(dataset=val_dataset, batch_size=1, shuffle=False)\n",
    "\n",
    "test_loader = DataLoader(dataset=test_dataset, batch_size=1, shuffle=False)"
   ]
  },
  {
   "cell_type": "markdown",
   "id": "20e5701a",
   "metadata": {
    "id": "20e5701a"
   },
   "source": [
    "## Rete Neurale LSTM"
   ]
  },
  {
   "cell_type": "code",
   "execution_count": 20,
   "id": "51251295",
   "metadata": {
    "id": "51251295"
   },
   "outputs": [],
   "source": [
    "class LSTM(nn.Module):\n",
    "    def __init__(self, input_size, output_size=4, hidden_layer_size=117, num_layers=2):\n",
    "        super(LSTM, self).__init__()\n",
    "        self.num_layers = num_layers\n",
    "        self.hidden_size = hidden_layer_size \n",
    "        self.rnn = nn.LSTM(input_size, hidden_layer_size, num_layers, batch_first=True)\n",
    "        self.layer_1 = nn.Linear(hidden_layer_size, 60)\n",
    "        #self.layer_2 = nn.Linear(78, 39)\n",
    "        #self.layer_3 = nn.Linear(39, 16)\n",
    "        self.layer_out = nn.Linear(60, output_size) \n",
    "        #self.regressor = nn.Linear(hidden_layer_size, output_size)\n",
    "        \n",
    "        self.relu = nn.ReLU()\n",
    "        #self.dropout = nn.Dropout(p=0.2)\n",
    "        self.batchnorm1 = nn.BatchNorm1d(hidden_layer_size)\n",
    "        self.batchnorm2 = nn.BatchNorm1d(60)\n",
    "        #self.batchnorm3 = nn.BatchNorm1d(16)\n",
    "        \n",
    "    def forward(self, x):\n",
    "        h0 = torch.zeros(self.num_layers, x.size(0), self.hidden_size).to(device)\n",
    "        \n",
    "        c0 = torch.zeros(self.num_layers, x.size(0), self.hidden_size).to(device)\n",
    "        \n",
    "        h, _ = self.rnn(x, (h0, c0)) #h contiene i valori di tutti gli output\n",
    "        h = h[:,-1,:] #seleziona l'ultimo output\n",
    "        #h = h.squeeze(1) #trasforma la shape da bs x 1 x hidden_size a bs x hidden_size\n",
    "        h = h.view(-1, self.hidden_size)\n",
    "        h = self.batchnorm1(h)\n",
    "        h = self.relu(h)\n",
    "        \n",
    "        h = self.layer_1(h)\n",
    "        h = self.batchnorm2(h)\n",
    "        h = self.relu(h)\n",
    "        \n",
    "        #h = self.layer_2(h)\n",
    "        #h = self.batchnorm2(h)\n",
    "        #h = self.tanh(h)\n",
    "        #h = self.dropout(h)\n",
    "        \n",
    "        #h = self.layer_3(h)\n",
    "        #h = self.batchnorm3(h)\n",
    "        #h = self.tanh(h)\n",
    "        #h = self.dropout(h)\n",
    "        \n",
    "        h = self.layer_out(h)\n",
    "        #h = h.view(-1, 4)\n",
    "        #h = self.regressor(h)\n",
    "        return h"
   ]
  },
  {
   "cell_type": "code",
   "execution_count": 21,
   "id": "8acd2191",
   "metadata": {},
   "outputs": [],
   "source": [
    "class LSTMCell(nn.Module):\n",
    "    def __init__(self, input_size, output_size=4, hidden_layer_size=117, num_layers=1):\n",
    "        super(LSTMCell, self).__init__()\n",
    "        self.num_layers = num_layers\n",
    "        self.hidden_layer_size = hidden_layer_size \n",
    "        self.lstm = nn.LSTM(input_size, hidden_layer_size, num_layers, batch_first=True)\n",
    "        self.layer_1 = nn.Linear(hidden_layer_size, 60)\n",
    "        self.layer_out = nn.Linear(60, output_size) \n",
    "        \n",
    "        self.relu = nn.ReLU()\n",
    "        self.batchnorm1 = nn.BatchNorm1d(hidden_layer_size)\n",
    "        self.batchnorm2 = nn.BatchNorm1d(60)\n",
    "        \n",
    "    def forward(self, x):\n",
    "        h0 = torch.zeros(self.num_layers, x.size(0), self.hidden_layer_size).to(device)\n",
    "        c0 = torch.zeros(self.num_layers, x.size(0), self.hidden_layer_size).to(device)\n",
    "        output, (h, c) = self.lstm(x, (h0, c0))\n",
    "        h = h.view(-1, self.hidden_layer_size) #reshaping the data for Dense layer next\n",
    "        h = self.batchnorm1(h)\n",
    "        h = self.relu(h)\n",
    "        h = self.layer_1(h)\n",
    "        h = h.view(-1, 60)\n",
    "        h = self.batchnorm2(h)\n",
    "        h = self.relu(h)\n",
    "        h = self.layer_out(h)\n",
    "        return h"
   ]
  },
  {
   "cell_type": "code",
   "execution_count": 22,
   "id": "78e18779",
   "metadata": {
    "id": "78e18779"
   },
   "outputs": [],
   "source": [
    "device = torch.device('cuda' if torch.cuda.is_available() else 'cpu')"
   ]
  },
  {
   "cell_type": "code",
   "execution_count": 23,
   "id": "9a8781ca",
   "metadata": {
    "colab": {
     "base_uri": "https://localhost:8080/"
    },
    "id": "9a8781ca",
    "outputId": "4ef1ecbf-9f77-40d4-e886-53ba2b846eb4"
   },
   "outputs": [
    {
     "data": {
      "text/plain": [
       "device(type='cpu')"
      ]
     },
     "execution_count": 23,
     "metadata": {},
     "output_type": "execute_result"
    }
   ],
   "source": [
    "device"
   ]
  },
  {
   "cell_type": "code",
   "execution_count": 24,
   "id": "62349e74",
   "metadata": {
    "colab": {
     "base_uri": "https://localhost:8080/"
    },
    "id": "62349e74",
    "outputId": "669380f7-80da-42b9-d4ee-5a2c91586cc4"
   },
   "outputs": [
    {
     "name": "stdout",
     "output_type": "stream",
     "text": [
      "LSTM(\n",
      "  (rnn): LSTM(156, 117, num_layers=2, batch_first=True)\n",
      "  (layer_1): Linear(in_features=117, out_features=60, bias=True)\n",
      "  (layer_out): Linear(in_features=60, out_features=4, bias=True)\n",
      "  (relu): ReLU()\n",
      "  (batchnorm1): BatchNorm1d(117, eps=1e-05, momentum=0.1, affine=True, track_running_stats=True)\n",
      "  (batchnorm2): BatchNorm1d(60, eps=1e-05, momentum=0.1, affine=True, track_running_stats=True)\n",
      ")\n"
     ]
    }
   ],
   "source": [
    "model = LSTM(input_size=NUM_FEATURES, output_size=NUM_CLASSES)\n",
    "model.to(device)\n",
    "\n",
    "criterion = nn.CrossEntropyLoss(weight=class_weights.to(device))\n",
    "optimizer = torch.optim.RMSprop(model.parameters(), lr=LEARNING_RATE)\n",
    "\n",
    "print(model)"
   ]
  },
  {
   "cell_type": "markdown",
   "id": "930e16a8",
   "metadata": {
    "id": "930e16a8"
   },
   "source": [
    "## Train the model"
   ]
  },
  {
   "cell_type": "markdown",
   "id": "d38b5ea5",
   "metadata": {
    "id": "d38b5ea5"
   },
   "source": [
    "Prima di iniziare il nostro addestramento, definiamo una funzione per calcolare la precisione per epoca."
   ]
  },
  {
   "cell_type": "markdown",
   "id": "e77daf61",
   "metadata": {
    "id": "e77daf61"
   },
   "source": [
    "Questa funzione accetta y_pred e y_test come argomenti di input.  Quindi applichiamo log_softmax a y_pred ed estraiamo la classe che ha una probabilità maggiore."
   ]
  },
  {
   "cell_type": "markdown",
   "id": "ab0aa302",
   "metadata": {
    "id": "ab0aa302"
   },
   "source": [
    "Successivamente, confrontiamo le classi previste e le classi effettive per calcolare l'accuratezza."
   ]
  },
  {
   "cell_type": "code",
   "execution_count": 25,
   "id": "e1c00459",
   "metadata": {
    "id": "e1c00459"
   },
   "outputs": [],
   "source": [
    "def multi_acc(y_pred, y_test):\n",
    "    y_pred_softmax = torch.log_softmax(y_pred, dim = 1)\n",
    "    _, y_pred_tags = torch.max(y_pred_softmax, dim = 1)    \n",
    "    \n",
    "    correct_pred = (y_pred_tags == y_test).float()\n",
    "    acc = correct_pred.sum() / len(correct_pred)\n",
    "    \n",
    "    acc = torch.round(acc * 100)\n",
    "    \n",
    "    return acc"
   ]
  },
  {
   "cell_type": "markdown",
   "id": "85a2c253",
   "metadata": {
    "id": "85a2c253"
   },
   "source": [
    "Definiremo anche 2 dizionari che memorizzeranno l'accuratezza/epoca e la perdita/epoca sia per il treno che per i set di convalida."
   ]
  },
  {
   "cell_type": "code",
   "execution_count": 26,
   "id": "c907075c",
   "metadata": {
    "id": "c907075c"
   },
   "outputs": [],
   "source": [
    "accuracy_stats = {\n",
    "    'train': [],\n",
    "    \"val\": []\n",
    "}\n",
    "\n",
    "loss_stats = {\n",
    "    'train': [],\n",
    "    \"val\": []\n",
    "}"
   ]
  },
  {
   "cell_type": "code",
   "execution_count": 27,
   "id": "b01e00d5",
   "metadata": {
    "colab": {
     "base_uri": "https://localhost:8080/",
     "height": 1000,
     "referenced_widgets": [
      "2094ed721fd240278a95fc74faca5f69",
      "d4e2a214153843de8b454cfe9ba8c659",
      "ee4d57b50c9344e89d8f1e50b46696df",
      "8aad80fccf69488d94aad9331518fa23",
      "582e9dcf9b174c6b8bc6d4c386f273bd",
      "80718daf22514304850cc8435169a088",
      "ac1b37b0faee44569fe5f7c36c54655b",
      "6edbd7ef749d4d318f256bfed6190646"
     ]
    },
    "id": "b01e00d5",
    "outputId": "2dbffdbe-b7e5-486a-dc4c-7b7be2c78af7"
   },
   "outputs": [
    {
     "name": "stdout",
     "output_type": "stream",
     "text": [
      "Begin training.\n"
     ]
    },
    {
     "data": {
      "application/vnd.jupyter.widget-view+json": {
       "model_id": "5620a0b379ef48bab8d61d9ddfddef7d",
       "version_major": 2,
       "version_minor": 0
      },
      "text/plain": [
       "  0%|          | 0/50 [00:00<?, ?it/s]"
      ]
     },
     "metadata": {},
     "output_type": "display_data"
    },
    {
     "name": "stdout",
     "output_type": "stream",
     "text": [
      "Epoch 001:          | Train Loss: 1.02062          | Val Loss: 1.31013          | Train Acc: 61.929          | Val Acc: 84.875\n",
      "Epoch 002:          | Train Loss: 0.85949          | Val Loss: 1.29147          | Train Acc: 68.929          | Val Acc: 55.516\n",
      "Epoch 003:          | Train Loss: 0.76294          | Val Loss: 1.25893          | Train Acc: 72.071          | Val Acc: 57.473\n",
      "Epoch 004:          | Train Loss: 0.70187          | Val Loss: 1.15405          | Train Acc: 72.929          | Val Acc: 64.057\n",
      "Epoch 005:          | Train Loss: 0.67825          | Val Loss: 0.94181          | Train Acc: 74.429          | Val Acc: 66.192\n",
      "Epoch 006:          | Train Loss: 0.60089          | Val Loss: 0.88722          | Train Acc: 77.071          | Val Acc: 71.886\n",
      "Epoch 007:          | Train Loss: 0.53466          | Val Loss: 0.73444          | Train Acc: 79.357          | Val Acc: 70.463\n",
      "Epoch 008:          | Train Loss: 0.49629          | Val Loss: 0.73344          | Train Acc: 80.500          | Val Acc: 74.555\n",
      "Epoch 009:          | Train Loss: 0.45488          | Val Loss: 0.74406          | Train Acc: 82.143          | Val Acc: 70.996\n",
      "Epoch 010:          | Train Loss: 0.45573          | Val Loss: 0.94972          | Train Acc: 83.071          | Val Acc: 70.107\n",
      "Epoch 011:          | Train Loss: 0.42857          | Val Loss: 0.73496          | Train Acc: 83.857          | Val Acc: 74.377\n",
      "Epoch 012:          | Train Loss: 0.39334          | Val Loss: 0.72342          | Train Acc: 84.857          | Val Acc: 72.776\n",
      "Epoch 013:          | Train Loss: 0.32267          | Val Loss: 0.68734          | Train Acc: 86.857          | Val Acc: 81.495\n",
      "Epoch 014:          | Train Loss: 0.32262          | Val Loss: 0.58579          | Train Acc: 87.071          | Val Acc: 77.402\n",
      "Epoch 015:          | Train Loss: 0.31453          | Val Loss: 0.56601          | Train Acc: 87.143          | Val Acc: 78.292\n",
      "Epoch 016:          | Train Loss: 0.28232          | Val Loss: 0.58416          | Train Acc: 87.786          | Val Acc: 80.249\n",
      "Epoch 017:          | Train Loss: 0.29184          | Val Loss: 0.69732          | Train Acc: 88.714          | Val Acc: 79.004\n",
      "Epoch 018:          | Train Loss: 0.26655          | Val Loss: 0.57805          | Train Acc: 89.000          | Val Acc: 80.783\n",
      "Epoch 019:          | Train Loss: 0.30877          | Val Loss: 0.70704          | Train Acc: 87.571          | Val Acc: 80.427\n",
      "Epoch 020:          | Train Loss: 0.25733          | Val Loss: 0.54198          | Train Acc: 89.429          | Val Acc: 81.495\n",
      "Epoch 021:          | Train Loss: 0.21609          | Val Loss: 0.63791          | Train Acc: 90.714          | Val Acc: 74.911\n",
      "Epoch 022:          | Train Loss: 0.25796          | Val Loss: 0.63800          | Train Acc: 90.071          | Val Acc: 81.139\n",
      "Epoch 023:          | Train Loss: 0.19736          | Val Loss: 0.49669          | Train Acc: 91.357          | Val Acc: 86.121\n",
      "Epoch 024:          | Train Loss: 0.24674          | Val Loss: 0.57817          | Train Acc: 91.357          | Val Acc: 78.826\n",
      "Epoch 025:          | Train Loss: 0.18986          | Val Loss: 0.48711          | Train Acc: 92.286          | Val Acc: 81.673\n",
      "Epoch 026:          | Train Loss: 0.18385          | Val Loss: 0.49753          | Train Acc: 93.429          | Val Acc: 83.274\n",
      "Epoch 027:          | Train Loss: 0.17603          | Val Loss: 0.55348          | Train Acc: 93.071          | Val Acc: 79.537\n",
      "Epoch 028:          | Train Loss: 0.21389          | Val Loss: 0.66948          | Train Acc: 91.857          | Val Acc: 81.139\n",
      "Epoch 029:          | Train Loss: 0.17818          | Val Loss: 0.49737          | Train Acc: 93.643          | Val Acc: 83.630\n",
      "Epoch 030:          | Train Loss: 0.15930          | Val Loss: 0.61689          | Train Acc: 93.929          | Val Acc: 79.181\n",
      "Epoch 031:          | Train Loss: 0.16015          | Val Loss: 0.41479          | Train Acc: 93.714          | Val Acc: 86.833\n",
      "Epoch 032:          | Train Loss: 0.16034          | Val Loss: 0.53075          | Train Acc: 94.714          | Val Acc: 83.808\n",
      "Epoch 033:          | Train Loss: 0.17125          | Val Loss: 0.70531          | Train Acc: 94.643          | Val Acc: 76.690\n",
      "Epoch 034:          | Train Loss: 0.18687          | Val Loss: 0.47190          | Train Acc: 94.214          | Val Acc: 82.562\n",
      "Epoch 035:          | Train Loss: 0.15163          | Val Loss: 0.43421          | Train Acc: 95.143          | Val Acc: 83.808\n",
      "Epoch 036:          | Train Loss: 0.13889          | Val Loss: 0.55559          | Train Acc: 95.429          | Val Acc: 81.317\n",
      "Epoch 037:          | Train Loss: 0.16383          | Val Loss: 0.45866          | Train Acc: 95.214          | Val Acc: 84.698\n",
      "Epoch 038:          | Train Loss: 0.17027          | Val Loss: 0.56998          | Train Acc: 94.786          | Val Acc: 81.851\n",
      "Epoch 039:          | Train Loss: 0.15363          | Val Loss: 0.49948          | Train Acc: 95.643          | Val Acc: 83.630\n",
      "Epoch 040:          | Train Loss: 0.23224          | Val Loss: 0.44402          | Train Acc: 94.714          | Val Acc: 83.096\n",
      "Epoch 041:          | Train Loss: 0.12585          | Val Loss: 0.60167          | Train Acc: 95.857          | Val Acc: 81.851\n",
      "Epoch 042:          | Train Loss: 0.11115          | Val Loss: 0.53940          | Train Acc: 96.500          | Val Acc: 82.206\n",
      "Epoch 043:          | Train Loss: 0.12139          | Val Loss: 0.62554          | Train Acc: 96.500          | Val Acc: 80.783\n",
      "Epoch 044:          | Train Loss: 0.12942          | Val Loss: 0.62694          | Train Acc: 96.571          | Val Acc: 80.427\n",
      "Epoch 045:          | Train Loss: 0.11835          | Val Loss: 0.45103          | Train Acc: 96.857          | Val Acc: 84.342\n",
      "Epoch 046:          | Train Loss: 0.15309          | Val Loss: 0.50029          | Train Acc: 96.429          | Val Acc: 80.783\n",
      "Epoch 047:          | Train Loss: 0.16086          | Val Loss: 0.41847          | Train Acc: 95.714          | Val Acc: 85.587\n",
      "Epoch 048:          | Train Loss: 0.10958          | Val Loss: 0.49217          | Train Acc: 96.714          | Val Acc: 80.249\n",
      "Epoch 049:          | Train Loss: 0.11938          | Val Loss: 0.40542          | Train Acc: 97.000          | Val Acc: 87.367\n",
      "Epoch 050:          | Train Loss: 0.12231          | Val Loss: 0.71252          | Train Acc: 96.643          | Val Acc: 80.427\n",
      "Done.\n"
     ]
    }
   ],
   "source": [
    "print(\"Begin training.\")\n",
    "\n",
    "for e in tqdm(range(1, EPOCHS+1)):\n",
    "    \n",
    "    # TRAINING\n",
    "    train_epoch_loss = 0\n",
    "    train_epoch_acc = 0\n",
    "    \n",
    "    model.train()\n",
    "    for X_train_batch, y_train_batch in train_loader:\n",
    "        X_train_batch, y_train_batch = X_train_batch.to(device), y_train_batch.to(device)\n",
    "        optimizer.zero_grad()\n",
    "        \n",
    "        y_train_pred = model(X_train_batch)\n",
    "        \n",
    "        train_loss = criterion(y_train_pred, y_train_batch)\n",
    "        train_acc = multi_acc(y_train_pred, y_train_batch)\n",
    "        \n",
    "        train_loss.backward()\n",
    "        optimizer.step()\n",
    "        \n",
    "        train_epoch_loss += train_loss.item()\n",
    "        train_epoch_acc += train_acc.item()\n",
    "        \n",
    "    # VALIDATION    \n",
    "    with torch.no_grad():\n",
    "        \n",
    "        val_epoch_loss = 0\n",
    "        val_epoch_acc = 0\n",
    "        \n",
    "        model.eval()\n",
    "        for X_val_batch, y_val_batch in val_loader:\n",
    "            X_val_batch, y_val_batch = X_val_batch.to(device), y_val_batch.to(device)\n",
    "            \n",
    "            y_val_pred = model(X_val_batch)\n",
    "                        \n",
    "            val_loss = criterion(y_val_pred, y_val_batch)\n",
    "            val_acc = multi_acc(y_val_pred, y_val_batch)\n",
    "            \n",
    "            val_epoch_loss += val_loss.item()\n",
    "            val_epoch_acc += val_acc.item()\n",
    "            \n",
    "    loss_stats['train'].append(train_epoch_loss/len(train_loader))        \n",
    "    loss_stats['val'].append(val_epoch_loss/len(val_loader))\n",
    "    accuracy_stats['train'].append(train_epoch_acc/len(train_loader))\n",
    "    accuracy_stats['val'].append(val_epoch_acc/len(val_loader))\n",
    "                              \n",
    "    writer.add_scalars(\"Loss/train_val\", {\n",
    "        \"train\": train_epoch_loss/len(train_loader),\n",
    "        \"val\": val_epoch_loss/len(val_loader),\n",
    "    }, e)\n",
    "    writer.add_scalars(\"Acc/train_val\", {\n",
    "        \"train\": train_epoch_acc/len(train_loader),\n",
    "        \"val\": val_epoch_acc/len(val_loader),\n",
    "    }, e)\n",
    "    writer.flush()\n",
    "    print(f'Epoch {e+0:03}:\\\n",
    "          | Train Loss: {train_epoch_loss/len(train_loader):.5f}\\\n",
    "          | Val Loss: {val_epoch_loss/len(val_loader):.5f}\\\n",
    "          | Train Acc: {train_epoch_acc/len(train_loader):.3f}\\\n",
    "          | Val Acc: {val_epoch_acc/len(val_loader):.3f}')\n",
    "writer.close()\n",
    "print(\"Done.\")"
   ]
  },
  {
   "cell_type": "markdown",
   "id": "bf53d3eb",
   "metadata": {
    "id": "bf53d3eb"
   },
   "source": [
    "## Visualizzazione Loss e Accuracy"
   ]
  },
  {
   "cell_type": "markdown",
   "id": "21362aee",
   "metadata": {
    "id": "21362aee"
   },
   "source": [
    "Per tracciare i grafici delle linee di perdita e accuratezza, creiamo nuovamente un dataframe dai dizionari precision_stats e loss_stats."
   ]
  },
  {
   "cell_type": "code",
   "execution_count": 28,
   "id": "d42f2836",
   "metadata": {
    "colab": {
     "base_uri": "https://localhost:8080/",
     "height": 475
    },
    "id": "d42f2836",
    "outputId": "1bfe85ff-db53-4879-92cf-854e44ef7fea"
   },
   "outputs": [
    {
     "data": {
      "text/plain": [
       "Text(0.5, 1.0, 'Train-Val Loss/Epoch')"
      ]
     },
     "execution_count": 28,
     "metadata": {},
     "output_type": "execute_result"
    },
    {
     "data": {
      "image/png": "[encoded data removed]",
      "text/plain": [
       "<Figure size 1440x504 with 2 Axes>"
      ]
     },
     "metadata": {
      "needs_background": "light"
     },
     "output_type": "display_data"
    }
   ],
   "source": [
    "# Create dataframes\n",
    "train_val_acc_df = pd.DataFrame.from_dict(accuracy_stats).reset_index().melt(id_vars=['index']).rename(columns={\"index\":\"epochs\"})\n",
    "train_val_loss_df = pd.DataFrame.from_dict(loss_stats).reset_index().melt(id_vars=['index']).rename(columns={\"index\":\"epochs\"})\n",
    "\n",
    "# Plot the dataframes\n",
    "fig, axes = plt.subplots(nrows=1, ncols=2, figsize=(20,7))\n",
    "\n",
    "sns.lineplot(data=train_val_acc_df, x = \"epochs\", y=\"value\", hue=\"variable\", ax=axes[0]).set_title('Train-Val Accuracy/Epoch')\n",
    "sns.lineplot(data=train_val_loss_df, x = \"epochs\", y=\"value\", hue=\"variable\", ax=axes[1]).set_title('Train-Val Loss/Epoch')"
   ]
  },
  {
   "cell_type": "markdown",
   "id": "bac0b337",
   "metadata": {
    "id": "bac0b337"
   },
   "source": [
    "## Test the model"
   ]
  },
  {
   "cell_type": "markdown",
   "id": "84238398",
   "metadata": {
    "id": "84238398"
   },
   "source": [
    "Al termine dell'addestramento, dobbiamo testare come si è comportato il nostro modello.  Nota che abbiamo usato model.eval() prima di eseguire il nostro codice di test.  Per dire a PyTorch che non vogliamo eseguire la retropropagazione durante l'inferenza, usiamo torch.no_grad(), proprio come abbiamo fatto per il ciclo di convalida sopra."
   ]
  },
  {
   "cell_type": "markdown",
   "id": "d2f0fd7f",
   "metadata": {
    "id": "d2f0fd7f"
   },
   "source": [
    "Iniziamo definendo un elenco che conterrà le nostre previsioni.  Quindi eseguiamo il ciclo dei nostri batch utilizzando test_loader."
   ]
  },
  {
   "cell_type": "code",
   "execution_count": 29,
   "id": "adc82670",
   "metadata": {
    "id": "adc82670"
   },
   "outputs": [],
   "source": [
    "y_pred_list = []\n",
    "\n",
    "with torch.no_grad():\n",
    "    model.eval()\n",
    "    for X_batch, _ in test_loader:\n",
    "        X_batch = X_batch.to(device)\n",
    "        y_test_pred = model(X_batch)\n",
    "        _, y_pred_tags = torch.max(y_test_pred, dim = 1)\n",
    "        y_pred_list.append(y_pred_tags.cpu().numpy())\n",
    "\n",
    "y_pred_list = [a.squeeze().tolist() for a in y_pred_list]"
   ]
  },
  {
   "cell_type": "markdown",
   "id": "a5507ef3",
   "metadata": {
    "id": "a5507ef3"
   },
   "source": [
    "## Confusion Matrix"
   ]
  },
  {
   "cell_type": "markdown",
   "id": "8a3aa387",
   "metadata": {
    "id": "8a3aa387"
   },
   "source": [
    "Creiamo un dataframe dalla matrice di confusione e lo tracciamo come una mappa di calore utilizzando la libreria Seaborn."
   ]
  },
  {
   "cell_type": "code",
   "execution_count": 30,
   "id": "6a1bfae3",
   "metadata": {
    "colab": {
     "base_uri": "https://localhost:8080/",
     "height": 283
    },
    "id": "6a1bfae3",
    "outputId": "b9698171-dbfb-4f11-8d1f-abc31d6ec3ba"
   },
   "outputs": [
    {
     "data": {
      "text/plain": [
       "<AxesSubplot:>"
      ]
     },
     "execution_count": 30,
     "metadata": {},
     "output_type": "execute_result"
    },
    {
     "data": {
      "image/png": "[encoded data removed]",
      "text/plain": [
       "<Figure size 432x288 with 2 Axes>"
      ]
     },
     "metadata": {
      "needs_background": "light"
     },
     "output_type": "display_data"
    }
   ],
   "source": [
    "confusion_matrix_df = pd.DataFrame(confusion_matrix(test_Y, y_pred_list)).rename(columns=idx2class, index=idx2class)\n",
    "sns.heatmap(confusion_matrix_df, annot=True)"
   ]
  },
  {
   "cell_type": "code",
   "execution_count": 31,
   "id": "94b39741",
   "metadata": {
    "colab": {
     "base_uri": "https://localhost:8080/"
    },
    "id": "94b39741",
    "outputId": "e5c2c9d6-3d6f-4a90-fa20-e4683bace465"
   },
   "outputs": [
    {
     "name": "stdout",
     "output_type": "stream",
     "text": [
      "              precision    recall  f1-score   support\n",
      "\n",
      "           0       0.88      0.85      0.86       608\n",
      "           1       0.57      0.38      0.46       112\n",
      "           2       0.00      0.00      0.00        85\n",
      "           3       0.13      0.48      0.21        54\n",
      "\n",
      "    accuracy                           0.68       859\n",
      "   macro avg       0.40      0.43      0.38       859\n",
      "weighted avg       0.71      0.68      0.68       859\n",
      "\n"
     ]
    }
   ],
   "source": [
    "print(classification_report(test_Y, y_pred_list))"
   ]
  },
  {
   "cell_type": "code",
   "execution_count": null,
   "id": "5bbde930",
   "metadata": {
    "id": "5bbde930"
   },
   "outputs": [],
   "source": []
  }
 ],
 "metadata": {
  "accelerator": "GPU",
  "colab": {
   "name": "LSTM_Funzionante.ipynb",
   "provenance": []
  },
  "kernelspec": {
   "display_name": "Python 3",
   "language": "python",
   "name": "python3"
  },
  "language_info": {
   "codemirror_mode": {
    "name": "ipython",
    "version": 3
   },
   "file_extension": ".py",
   "mimetype": "text/x-python",
   "name": "python",
   "nbconvert_exporter": "python",
   "pygments_lexer": "ipython3",
   "version": "3.8.6"
  },
  "widgets": {
   "application/vnd.jupyter.widget-state+json": {
    "2094ed721fd240278a95fc74faca5f69": {
     "model_module": "@jupyter-widgets/controls",
     "model_name": "HBoxModel",
     "state": {
      "_dom_classes": [],
      "_model_module": "@jupyter-widgets/controls",
      "_model_module_version": "1.5.0",
      "_model_name": "HBoxModel",
      "_view_count": null,
      "_view_module": "@jupyter-widgets/controls",
      "_view_module_version": "1.5.0",
      "_view_name": "HBoxView",
      "box_style": "",
      "children": [
       "IPY_MODEL_ee4d57b50c9344e89d8f1e50b46696df",
       "IPY_MODEL_8aad80fccf69488d94aad9331518fa23"
      ],
      "layout": "IPY_MODEL_d4e2a214153843de8b454cfe9ba8c659"
     }
    },
    "582e9dcf9b174c6b8bc6d4c386f273bd": {
     "model_module": "@jupyter-widgets/controls",
     "model_name": "ProgressStyleModel",
     "state": {
      "_model_module": "@jupyter-widgets/controls",
      "_model_module_version": "1.5.0",
      "_model_name": "ProgressStyleModel",
      "_view_count": null,
      "_view_module": "@jupyter-widgets/base",
      "_view_module_version": "1.2.0",
      "_view_name": "StyleView",
      "bar_color": null,
      "description_width": "initial"
     }
    },
    "6edbd7ef749d4d318f256bfed6190646": {
     "model_module": "@jupyter-widgets/base",
     "model_name": "LayoutModel",
     "state": {
      "_model_module": "@jupyter-widgets/base",
      "_model_module_version": "1.2.0",
      "_model_name": "LayoutModel",
      "_view_count": null,
      "_view_module": "@jupyter-widgets/base",
      "_view_module_version": "1.2.0",
      "_view_name": "LayoutView",
      "align_content": null,
      "align_items": null,
      "align_self": null,
      "border": null,
      "bottom": null,
      "display": null,
      "flex": null,
      "flex_flow": null,
      "grid_area": null,
      "grid_auto_columns": null,
      "grid_auto_flow": null,
      "grid_auto_rows": null,
      "grid_column": null,
      "grid_gap": null,
      "grid_row": null,
      "grid_template_areas": null,
      "grid_template_columns": null,
      "grid_template_rows": null,
      "height": null,
      "justify_content": null,
      "justify_items": null,
      "left": null,
      "margin": null,
      "max_height": null,
      "max_width": null,
      "min_height": null,
      "min_width": null,
      "object_fit": null,
      "object_position": null,
      "order": null,
      "overflow": null,
      "overflow_x": null,
      "overflow_y": null,
      "padding": null,
      "right": null,
      "top": null,
      "visibility": null,
      "width": null
     }
    },
    "80718daf22514304850cc8435169a088": {
     "model_module": "@jupyter-widgets/base",
     "model_name": "LayoutModel",
     "state": {
      "_model_module": "@jupyter-widgets/base",
      "_model_module_version": "1.2.0",
      "_model_name": "LayoutModel",
      "_view_count": null,
      "_view_module": "@jupyter-widgets/base",
      "_view_module_version": "1.2.0",
      "_view_name": "LayoutView",
      "align_content": null,
      "align_items": null,
      "align_self": null,
      "border": null,
      "bottom": null,
      "display": null,
      "flex": null,
      "flex_flow": null,
      "grid_area": null,
      "grid_auto_columns": null,
      "grid_auto_flow": null,
      "grid_auto_rows": null,
      "grid_column": null,
      "grid_gap": null,
      "grid_row": null,
      "grid_template_areas": null,
      "grid_template_columns": null,
      "grid_template_rows": null,
      "height": null,
      "justify_content": null,
      "justify_items": null,
      "left": null,
      "margin": null,
      "max_height": null,
      "max_width": null,
      "min_height": null,
      "min_width": null,
      "object_fit": null,
      "object_position": null,
      "order": null,
      "overflow": null,
      "overflow_x": null,
      "overflow_y": null,
      "padding": null,
      "right": null,
      "top": null,
      "visibility": null,
      "width": null
     }
    },
    "8aad80fccf69488d94aad9331518fa23": {
     "model_module": "@jupyter-widgets/controls",
     "model_name": "HTMLModel",
     "state": {
      "_dom_classes": [],
      "_model_module": "@jupyter-widgets/controls",
      "_model_module_version": "1.5.0",
      "_model_name": "HTMLModel",
      "_view_count": null,
      "_view_module": "@jupyter-widgets/controls",
      "_view_module_version": "1.5.0",
      "_view_name": "HTMLView",
      "description": "",
      "description_tooltip": null,
      "layout": "IPY_MODEL_6edbd7ef749d4d318f256bfed6190646",
      "placeholder": "​",
      "style": "IPY_MODEL_ac1b37b0faee44569fe5f7c36c54655b",
      "value": " 100/100 [05:21&lt;00:00,  3.22s/it]"
     }
    },
    "ac1b37b0faee44569fe5f7c36c54655b": {
     "model_module": "@jupyter-widgets/controls",
     "model_name": "DescriptionStyleModel",
     "state": {
      "_model_module": "@jupyter-widgets/controls",
      "_model_module_version": "1.5.0",
      "_model_name": "DescriptionStyleModel",
      "_view_count": null,
      "_view_module": "@jupyter-widgets/base",
      "_view_module_version": "1.2.0",
      "_view_name": "StyleView",
      "description_width": ""
     }
    },
    "d4e2a214153843de8b454cfe9ba8c659": {
     "model_module": "@jupyter-widgets/base",
     "model_name": "LayoutModel",
     "state": {
      "_model_module": "@jupyter-widgets/base",
      "_model_module_version": "1.2.0",
      "_model_name": "LayoutModel",
      "_view_count": null,
      "_view_module": "@jupyter-widgets/base",
      "_view_module_version": "1.2.0",
      "_view_name": "LayoutView",
      "align_content": null,
      "align_items": null,
      "align_self": null,
      "border": null,
      "bottom": null,
      "display": null,
      "flex": null,
      "flex_flow": null,
      "grid_area": null,
      "grid_auto_columns": null,
      "grid_auto_flow": null,
      "grid_auto_rows": null,
      "grid_column": null,
      "grid_gap": null,
      "grid_row": null,
      "grid_template_areas": null,
      "grid_template_columns": null,
      "grid_template_rows": null,
      "height": null,
      "justify_content": null,
      "justify_items": null,
      "left": null,
      "margin": null,
      "max_height": null,
      "max_width": null,
      "min_height": null,
      "min_width": null,
      "object_fit": null,
      "object_position": null,
      "order": null,
      "overflow": null,
      "overflow_x": null,
      "overflow_y": null,
      "padding": null,
      "right": null,
      "top": null,
      "visibility": null,
      "width": null
     }
    },
    "ee4d57b50c9344e89d8f1e50b46696df": {
     "model_module": "@jupyter-widgets/controls",
     "model_name": "FloatProgressModel",
     "state": {
      "_dom_classes": [],
      "_model_module": "@jupyter-widgets/controls",
      "_model_module_version": "1.5.0",
      "_model_name": "FloatProgressModel",
      "_view_count": null,
      "_view_module": "@jupyter-widgets/controls",
      "_view_module_version": "1.5.0",
      "_view_name": "ProgressView",
      "bar_style": "success",
      "description": "100%",
      "description_tooltip": null,
      "layout": "IPY_MODEL_80718daf22514304850cc8435169a088",
      "max": 100,
      "min": 0,
      "orientation": "horizontal",
      "style": "IPY_MODEL_582e9dcf9b174c6b8bc6d4c386f273bd",
      "value": 100
     }
    }
   }
  }
 },
 "nbformat": 4,
 "nbformat_minor": 5
}

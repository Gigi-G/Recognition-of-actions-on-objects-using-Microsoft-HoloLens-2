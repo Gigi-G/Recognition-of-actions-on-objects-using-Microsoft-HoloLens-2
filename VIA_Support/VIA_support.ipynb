{
 "cells": [
  {
   "cell_type": "code",
   "execution_count": null,
   "id": "f5b8d01c",
   "metadata": {},
   "outputs": [],
   "source": [
    "import json\n",
    "from modules.select_file import SelectFile\n",
    "from modules.extract_json import ExtractJSON\n",
    "from modules.extract_action import ExtractAction\n",
    "from modules.create_metadata import CreateMetadata"
   ]
  },
  {
   "cell_type": "code",
   "execution_count": null,
   "id": "a3e2712c",
   "metadata": {},
   "outputs": [],
   "source": [
    "via_json = SelectFile.get_path(\"Insert the absolute path of the VIA JSON file:\")\n",
    "js = json.loads(\n",
    "    ExtractJSON.get_json(\n",
    "        via_json\n",
    "    )\n",
    ")\n",
    "ex_action:ExtractAction = ExtractAction(\n",
    "    SelectFile.get_path(\"Insert the absolute path of the action file:\")\n",
    ")\n",
    "time:int = ex_action.get_time()\n",
    "action:list = ex_action.get_action_vector()\n",
    "js[\"metadata\"] = CreateMetadata.create(action, time, left_size = 2000, right_size = 1000)\n",
    "js[\"file\"][\"1\"][\"src\"] = js[\"file\"][\"1\"][\"fname\"] = SelectFile.get_path(\"Insert the absolute path of the video:\")"
   ]
  },
  {
   "cell_type": "code",
   "execution_count": null,
   "id": "8d9d6ec3",
   "metadata": {},
   "outputs": [],
   "source": [
    "import json\n",
    "\n",
    "def save_json_file(path:str, js:dict) -> None:\n",
    "    with open(path, \"w\") as f:\n",
    "        f.write(json.dumps(js))\n",
    "        f.close()\n",
    "    print(\"JSON file has just been saved!\")\n",
    "\n",
    "def metadata_list(js:dict) -> list:\n",
    "    annotations:list = []\n",
    "    for key, value in js[\"metadata\"].items():\n",
    "        annotations.append([key, value[\"z\"]])\n",
    "    return annotations\n",
    "\n",
    "def print_metadata_element(annotations:list) -> None:\n",
    "    print(\"Select the line that you want to modify:\")\n",
    "    index:int = 0\n",
    "    for val in annotations:\n",
    "        print(str(index) + \": \" + str(val))\n",
    "        index += 1\n",
    "\n",
    "def modify_specific_part(via_json:str, js:dict) -> None:\n",
    "    annotations:list = metadata_list(js)\n",
    "    inp:str = \"\"\n",
    "    while True:\n",
    "        print_metadata_element(annotations)\n",
    "        print(\"Write 'quit' or 'q' to exit.\")\n",
    "        inp = input()\n",
    "        if inp == \"quit\" or inp == \"q\":\n",
    "            save_json_file(via_json, js)\n",
    "            break\n",
    "        print(\"Insert left window value:\")\n",
    "        left:float = float(input())\n",
    "        print(\"Insert right window value:\")\n",
    "        right:float = float(input())\n",
    "        CreateMetadata.modify_specific_key(js[\"metadata\"], annotations[int(inp)][0], left, right)"
   ]
  },
  {
   "cell_type": "code",
   "execution_count": null,
   "id": "ea56e660",
   "metadata": {},
   "outputs": [],
   "source": [
    "modify_specific_part(via_json, js)"
   ]
  }
 ],
 "metadata": {
  "kernelspec": {
   "display_name": "Python 3",
   "language": "python",
   "name": "python3"
  },
  "language_info": {
   "codemirror_mode": {
    "name": "ipython",
    "version": 3
   },
   "file_extension": ".py",
   "mimetype": "text/x-python",
   "name": "python",
   "nbconvert_exporter": "python",
   "pygments_lexer": "ipython3",
   "version": "3.8.6"
  }
 },
 "nbformat": 4,
 "nbformat_minor": 5
}

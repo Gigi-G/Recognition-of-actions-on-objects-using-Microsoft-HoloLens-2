{
  "cells": [
    {
      "cell_type": "code",
      "execution_count": null,
      "metadata": {
        "collapsed": false
      },
      "outputs": [],
      "source": [
        "%matplotlib inline"
      ]
    },
    {
      "cell_type": "markdown",
      "metadata": {},
      "source": [
        "\n# 3D animation\n\n\nAn animated plot in 3D.\n\n"
      ]
    },
    {
      "cell_type": "code",
      "execution_count": null,
      "metadata": {
        "collapsed": false
      },
      "outputs": [],
      "source": [
        "import numpy as np\nimport matplotlib.pyplot as plt\nimport mpl_toolkits.mplot3d.axes3d as p3\nimport matplotlib.animation as animation\n\n# Fixing random state for reproducibility\nnp.random.seed(19680801)\n\n\ndef Gen_RandLine(length, dims=2):\n    \"\"\"\n    Create a line using a random walk algorithm\n\n    length is the number of points for the line.\n    dims is the number of dimensions the line has.\n    \"\"\"\n    lineData = np.empty((dims, length))\n    lineData[:, 0] = np.random.rand(dims)\n    for index in range(1, length):\n        # scaling the random numbers by 0.1 so\n        # movement is small compared to position.\n        # subtraction by 0.5 is to change the range to [-0.5, 0.5]\n        # to allow a line to move backwards.\n        step = ((np.random.rand(dims) - 0.5) * 0.1)\n        lineData[:, index] = lineData[:, index - 1] + step\n\n    return lineData\n\n\ndef update_lines(num, dataLines, lines):\n    for line, data in zip(lines, dataLines):\n        # NOTE: there is no .set_data() for 3 dim data...\n        line.set_data(data[0:2, :num])\n        line.set_3d_properties(data[2, :num])\n    return lines\n\n# Attaching 3D axis to the figure\nfig = plt.figure()\nax = p3.Axes3D(fig)\n\n# Fifty lines of random 3-D lines\ndata = [Gen_RandLine(25, 3) for index in range(50)]\n\n# Creating fifty line objects.\n# NOTE: Can't pass empty arrays into 3d version of plot()\nlines = [ax.plot(dat[0, 0:1], dat[1, 0:1], dat[2, 0:1])[0] for dat in data]\n\n# Setting the axes properties\nax.set_xlim3d([0.0, 1.0])\nax.set_xlabel('X')\n\nax.set_ylim3d([0.0, 1.0])\nax.set_ylabel('Y')\n\nax.set_zlim3d([0.0, 1.0])\nax.set_zlabel('Z')\n\nax.set_title('3D Test')\n\n# Creating the Animation object\nline_ani = animation.FuncAnimation(fig, update_lines, 25, fargs=(data, lines),\n                                   interval=50, blit=False)\n\nplt.show()"
      ]
    }
  ],
  "metadata": {
    "kernelspec": {
      "display_name": "Python 3",
      "language": "python",
      "name": "python3"
    },
    "language_info": {
      "codemirror_mode": {
        "name": "ipython",
        "version": 3
      },
      "file_extension": ".py",
      "mimetype": "text/x-python",
      "name": "python",
      "nbconvert_exporter": "python",
      "pygments_lexer": "ipython3",
      "version": "3.6.4"
    }
  },
  "nbformat": 4,
  "nbformat_minor": 0
}
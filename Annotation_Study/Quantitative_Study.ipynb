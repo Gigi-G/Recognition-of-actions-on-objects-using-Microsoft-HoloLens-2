{
 "cells": [
  {
   "cell_type": "markdown",
   "id": "be62f68f",
   "metadata": {},
   "source": [
    "## Studio Quantitativo\n",
    "\n",
    "Per effettuare lo studio quantitativo si utilizzerà l'**indice di Jaccard**, che misura la similarità tra insiemi campionari, ed è definito come la dimensione dell'intersezione divisa per la dimensione dell'unione degli insiemi campionari.<br><br>\n",
    "\n",
    "<center>$J(A,B)={{|A\\cap B|} \\over {|A\\cup B|}}$</center>\n",
    "\n",
    "Supponiamo di avere la seguente etichettatura per un'azione di *PUSH*:\n",
    "\n",
    "<img src=\"Immagini/13.png\">\n",
    "\n",
    "dove:\n",
    "\n",
    "- $x_{11}$ rappresenta l'inizio dell'etichetta automatica;\n",
    "- $x_{12}$ rappresenta la fine dell'etichetta automatica;\n",
    "- $x_{21}$ rappresenta l'inizio dell'etichetta manuale;\n",
    "- $x_{22}$ rappresenta la fine dell'etichetta manuale.\n",
    "\n",
    "L'intersezione (I) e l'unione (U) possono essere definite come segue:<br><br>\n",
    "\n",
    "<center>\n",
    "    $I = \\min(x_{1,2}, x_{2,2}) - \\max(x_{1,1} - x_{2,1})$<br><br>\n",
    "    $U = \\max(x_{1,2}, x_{2,2}) - \\min(x_{1,1} - x_{2,1})$\n",
    "</center>\n",
    "\n",
    "Allora:<br><br>\n",
    "\n",
    "<center>$J(Premi_A, Premi_M)={{|Premi_A\\cap Premi_M|} \\over {|Premi_A\\cup Premi_M|}}=$</center><br>\n",
    "<center>$={{I} \\over {U}}=$</center><br>\n",
    "<center>$={{\\min(x_{1,2}, x_{2,2}) - \\max(x_{1,1} - x_{2,1})} \\over {\\max(x_{1,2}, x_{2,2}) - \\min(x_{1,1} - x_{2,1})}}$</center>\n",
    "\n",
    "Adesso, possiamo calcolare la similarità tra tutte le etichette automatiche e quelle manuali."
   ]
  },
  {
   "cell_type": "code",
   "execution_count": 1,
   "id": "8821c631",
   "metadata": {},
   "outputs": [
    {
     "data": {
      "text/plain": [
       "{'project': {'pid': '__VIA_PROJECT_ID__',\n",
       "  'rev': '__VIA_PROJECT_REV_ID__',\n",
       "  'rev_timestamp': '__VIA_PROJECT_REV_TIMESTAMP__',\n",
       "  'pname': '001_Ripresa',\n",
       "  'creator': 'VGG Image Annotator (http://www.robots.ox.ac.uk/~vgg/software/via)',\n",
       "  'created': 1618820919692,\n",
       "  'vid_list': ['1']},\n",
       " 'config': {'file': {'loc_prefix': {'1': '', '2': '', '3': '', '4': ''}},\n",
       "  'ui': {'file_content_align': 'center',\n",
       "   'file_metadata_editor_visible': True,\n",
       "   'spatial_metadata_editor_visible': True,\n",
       "   'spatial_region_label_attribute_id': '',\n",
       "   'gtimeline_visible_row_count': '4'}},\n",
       " 'attribute': {'1': {'aname': 'Activity',\n",
       "   'anchor_id': 'FILE1_Z2_XY0',\n",
       "   'type': 1,\n",
       "   'desc': 'Activity',\n",
       "   'options': {},\n",
       "   'default_option_id': ''}},\n",
       " 'file': {'1': {'fid': '1',\n",
       "   'fname': '/home/gigi-g/OneDrive/Tesi1/2021-04-07-00-48-37-381/2021-04-07-00-48-37-381_Video.mp4',\n",
       "   'type': 4,\n",
       "   'loc': 1,\n",
       "   'src': ''}},\n",
       " 'metadata': {'1_10000000': {'vid': 1,\n",
       "   'flg': 0,\n",
       "   'z': [11.831, 13.831],\n",
       "   'xy': [],\n",
       "   'av': {'1': 'Prendi_A'}},\n",
       "  '1_10000001': {'vid': 1,\n",
       "   'flg': 0,\n",
       "   'z': [17.715, 19.715],\n",
       "   'xy': [],\n",
       "   'av': {'1': 'Prendi_A'}},\n",
       "  '1_10000002': {'vid': 1,\n",
       "   'flg': 0,\n",
       "   'z': [22.398, 24.398],\n",
       "   'xy': [],\n",
       "   'av': {'1': 'Rilascia_A'}},\n",
       "  '1_10000003': {'vid': 1,\n",
       "   'flg': 0,\n",
       "   'z': [26.939, 28.939],\n",
       "   'xy': [],\n",
       "   'av': {'1': 'Rilascia_A'}},\n",
       "  '1_10000004': {'vid': 1,\n",
       "   'flg': 0,\n",
       "   'z': [30.926, 32.926],\n",
       "   'xy': [],\n",
       "   'av': {'1': 'Premi_A'}},\n",
       "  '1_10000005': {'vid': 1,\n",
       "   'flg': 0,\n",
       "   'z': [36.541, 38.541],\n",
       "   'xy': [],\n",
       "   'av': {'1': 'Prendi_A'}},\n",
       "  '1_10000006': {'vid': 1,\n",
       "   'flg': 0,\n",
       "   'z': [40.866, 42.866],\n",
       "   'xy': [],\n",
       "   'av': {'1': 'Prendi_A'}},\n",
       "  '1_10000007': {'vid': 1,\n",
       "   'flg': 0,\n",
       "   'z': [45.496, 47.496],\n",
       "   'xy': [],\n",
       "   'av': {'1': 'Rilascia_A'}},\n",
       "  '1_10000008': {'vid': 1,\n",
       "   'flg': 0,\n",
       "   'z': [50.367, 52.367],\n",
       "   'xy': [],\n",
       "   'av': {'1': 'Rilascia_A'}},\n",
       "  '1_10000009': {'vid': 1,\n",
       "   'flg': 0,\n",
       "   'z': [58.3, 60.3],\n",
       "   'xy': [],\n",
       "   'av': {'1': 'Premi_A'}},\n",
       "  '1_10000010': {'vid': 1,\n",
       "   'flg': 0,\n",
       "   'z': [61.503, 63.503],\n",
       "   'xy': [],\n",
       "   'av': {'1': 'Premi_A'}},\n",
       "  '1_10000011': {'vid': 1,\n",
       "   'flg': 0,\n",
       "   'z': [67.076, 69.076],\n",
       "   'xy': [],\n",
       "   'av': {'1': 'Prendi_A'}},\n",
       "  '1_10000012': {'vid': 1,\n",
       "   'flg': 0,\n",
       "   'z': [73.647, 75.647],\n",
       "   'xy': [],\n",
       "   'av': {'1': 'Rilascia_A'}},\n",
       "  '1_10000013': {'vid': 1,\n",
       "   'flg': 0,\n",
       "   'z': [79.568, 81.568],\n",
       "   'xy': [],\n",
       "   'av': {'1': 'Prendi_A'}},\n",
       "  '1_10000014': {'vid': 1,\n",
       "   'flg': 0,\n",
       "   'z': [84.639, 86.639],\n",
       "   'xy': [],\n",
       "   'av': {'1': 'Rilascia_A'}},\n",
       "  '1_10000015': {'vid': 1,\n",
       "   'flg': 0,\n",
       "   'z': [89.907, 91.907],\n",
       "   'xy': [],\n",
       "   'av': {'1': 'Premi_A'}},\n",
       "  '1_10000016': {'vid': 1,\n",
       "   'flg': 0,\n",
       "   'z': [95.968, 97.968],\n",
       "   'xy': [],\n",
       "   'av': {'1': 'Prendi_A'}},\n",
       "  '1_10000017': {'vid': 1,\n",
       "   'flg': 0,\n",
       "   'z': [100.352, 102.352],\n",
       "   'xy': [],\n",
       "   'av': {'1': 'Rilascia_A'}},\n",
       "  '1_20000000': {'vid': 1,\n",
       "   'flg': 0,\n",
       "   'z': [11.398, 14.71],\n",
       "   'xy': [],\n",
       "   'av': {'1': 'Prendi_M'}},\n",
       "  '1_20000001': {'vid': 1,\n",
       "   'flg': 0,\n",
       "   'z': [17.523, 19.835],\n",
       "   'xy': [],\n",
       "   'av': {'1': 'Prendi_M'}},\n",
       "  '1_20000002': {'vid': 1,\n",
       "   'flg': 0,\n",
       "   'z': [23.398, 25.085],\n",
       "   'xy': [],\n",
       "   'av': {'1': 'Rilascia_M'}},\n",
       "  '1_20000003': {'vid': 1,\n",
       "   'flg': 0,\n",
       "   'z': [26.474, 28.682],\n",
       "   'xy': [],\n",
       "   'av': {'1': 'Rilascia_M'}},\n",
       "  '1_20000004': {'vid': 1,\n",
       "   'flg': 0,\n",
       "   'z': [30.648, 33.023],\n",
       "   'xy': [],\n",
       "   'av': {'1': 'Premi_M'}},\n",
       "  '1_20000005': {'vid': 1,\n",
       "   'flg': 0,\n",
       "   'z': [36.241, 38.561],\n",
       "   'xy': [],\n",
       "   'av': {'1': 'Prendi_M'}},\n",
       "  '1_20000006': {'vid': 1,\n",
       "   'flg': 0,\n",
       "   'z': [40.546, 42.606],\n",
       "   'xy': [],\n",
       "   'av': {'1': 'Prendi_M'}},\n",
       "  '1_20000007': {'vid': 1,\n",
       "   'flg': 0,\n",
       "   'z': [45.356, 47.276],\n",
       "   'xy': [],\n",
       "   'av': {'1': 'Rilascia_M'}},\n",
       "  '1_20000008': {'vid': 1,\n",
       "   'flg': 0,\n",
       "   'z': [50.127, 52.407],\n",
       "   'xy': [],\n",
       "   'av': {'1': 'Rilascia_M'}},\n",
       "  '1_20000009': {'vid': 1,\n",
       "   'flg': 0,\n",
       "   'z': [58.085, 59.71],\n",
       "   'xy': [],\n",
       "   'av': {'1': 'Premi_M'}},\n",
       "  '1_20000010': {'vid': 1,\n",
       "   'flg': 0,\n",
       "   'z': [61.123, 63.203],\n",
       "   'xy': [],\n",
       "   'av': {'1': 'Premi_M'}},\n",
       "  '1_20000011': {'vid': 1,\n",
       "   'flg': 0,\n",
       "   'z': [66.536, 68.976],\n",
       "   'xy': [],\n",
       "   'av': {'1': 'Prendi_M'}},\n",
       "  '1_20000012': {'vid': 1,\n",
       "   'flg': 0,\n",
       "   'z': [73.587, 75.667],\n",
       "   'xy': [],\n",
       "   'av': {'1': 'Rilascia_M'}},\n",
       "  '1_20000013': {'vid': 1,\n",
       "   'flg': 0,\n",
       "   'z': [79.148, 81.488],\n",
       "   'xy': [],\n",
       "   'av': {'1': 'Prendi_M'}},\n",
       "  '1_20000014': {'vid': 1,\n",
       "   'flg': 0,\n",
       "   'z': [84.559, 86.439],\n",
       "   'xy': [],\n",
       "   'av': {'1': 'Rilascia_M'}},\n",
       "  '1_20000015': {'vid': 1,\n",
       "   'flg': 0,\n",
       "   'z': [89.567, 92.447],\n",
       "   'xy': [],\n",
       "   'av': {'1': 'Premi_M'}},\n",
       "  '1_20000016': {'vid': 1,\n",
       "   'flg': 0,\n",
       "   'z': [95.728, 98.068],\n",
       "   'xy': [],\n",
       "   'av': {'1': 'Prendi_M'}},\n",
       "  '1_20000017': {'vid': 1,\n",
       "   'flg': 0,\n",
       "   'z': [100.572, 102.712],\n",
       "   'xy': [],\n",
       "   'av': {'1': 'Rilascia_M'}}},\n",
       " 'view': {'1': {'fid_list': ['1']}}}"
      ]
     },
     "execution_count": 1,
     "metadata": {},
     "output_type": "execute_result"
    }
   ],
   "source": [
    "import json\n",
    "from modules.extract_json import ExtractJSON\n",
    "\n",
    "js = json.loads(\n",
    "    ExtractJSON.get_json(\n",
    "        \"via_qualitative_study.json\"\n",
    "    )\n",
    ")\n",
    "js"
   ]
  },
  {
   "cell_type": "code",
   "execution_count": 2,
   "id": "40fa341e",
   "metadata": {},
   "outputs": [
    {
     "name": "stdout",
     "output_type": "stream",
     "text": [
      "In totale ci sono 36 metadati.\n"
     ]
    }
   ],
   "source": [
    "metadata = js[\"metadata\"]\n",
    "print(f\"In totale ci sono {len(metadata)} metadati.\")"
   ]
  },
  {
   "cell_type": "markdown",
   "id": "271a74c1",
   "metadata": {},
   "source": [
    "Dei 36 elementi che costituiscono i metadati, a due a due essi rappresentano la stessa azione, solo che la prima ha un'etichetta manuale, mentre la seconda ha un'etichetta automatica. Gli elementi del dizionario che si riferiscono alla stessa azione possiedono la stessa **chiave** a meno del terzo carattere che è pari a `1` nel caso di etichetta automatica e `2` nel caso di etichetta manuale.\n",
    "\n",
    "**Esempio:** 1_10000001 si riferisce alla stessa azione di 1_20000001."
   ]
  },
  {
   "cell_type": "code",
   "execution_count": 3,
   "id": "b89aae81",
   "metadata": {},
   "outputs": [
    {
     "data": {
      "text/plain": [
       "True"
      ]
     },
     "execution_count": 3,
     "metadata": {},
     "output_type": "execute_result"
    }
   ],
   "source": [
    "metadata[\"1_10000001\"][\"av\"][\"1\"][:-2] == metadata[\"1_20000001\"][\"av\"][\"1\"][:-2]"
   ]
  },
  {
   "cell_type": "markdown",
   "id": "544df01c",
   "metadata": {},
   "source": [
    "La funzione `jaccard_similarity` permette di calcolare la similarità di Jaccard, come visto in precedenza."
   ]
  },
  {
   "cell_type": "code",
   "execution_count": 4,
   "id": "49f3199e",
   "metadata": {},
   "outputs": [],
   "source": [
    "def jaccard_similarity(x11, x12, x21, x22) -> float:\n",
    "    I = min(x12, x22) - max(x11, x21)\n",
    "    U = max(x12, x22) - min(x11, x21)\n",
    "    return I/U"
   ]
  },
  {
   "cell_type": "markdown",
   "id": "79450e48",
   "metadata": {},
   "source": [
    "La funzione `similarity_dict` calcola la similarità di jaccard tra tutte le etichette automatiche e manuali e ritorna un dizionario così fatto:\n",
    "\n",
    "- **key**: numero progressivo;\n",
    "- **\"Action\"**: contiene il tipo di azione;\n",
    "- **\"similarity\"**: contiene la similarità di jaccard."
   ]
  },
  {
   "cell_type": "code",
   "execution_count": 5,
   "id": "2c3f3431",
   "metadata": {},
   "outputs": [],
   "source": [
    "def similarity_dict(metadata) -> dict:\n",
    "    action = 0\n",
    "    result = {}\n",
    "    for key1, value in metadata.items():\n",
    "        if action >= len(metadata) / 2: break\n",
    "        #print(key1, value[\"av\"][\"1\"], value[\"z\"])\n",
    "        # key2 è la chiave che identifica l'etichetta manuale\n",
    "        key2 = list(key1)\n",
    "        key2[2] = '2'\n",
    "        key2 = ''.join(key2)\n",
    "        #print(key2, metadata[key2][\"av\"][\"1\"], metadata[key2][\"z\"])\n",
    "        result[key1] = {\n",
    "            \"action\": value[\"av\"][\"1\"][:-2],\n",
    "            \"similarity\": jaccard_similarity(value[\"z\"][0], value[\"z\"][1], metadata[key2][\"z\"][0], metadata[key2][\"z\"][1])\n",
    "        }\n",
    "        action += 1\n",
    "    return result"
   ]
  },
  {
   "cell_type": "code",
   "execution_count": 6,
   "id": "0e7e077c",
   "metadata": {},
   "outputs": [
    {
     "data": {
      "text/plain": [
       "{'1_10000000': {'action': 'Prendi', 'similarity': 0.6038647342995167},\n",
       " '1_10000001': {'action': 'Prendi', 'similarity': 0.8650519031141864},\n",
       " '1_10000002': {'action': 'Rilascia', 'similarity': 0.37216226274655734},\n",
       " '1_10000003': {'action': 'Rilascia', 'similarity': 0.7070993914807296},\n",
       " '1_10000004': {'action': 'Premi', 'similarity': 0.842105263157895},\n",
       " '1_10000005': {'action': 'Prendi', 'similarity': 0.8620689655172413},\n",
       " '1_10000006': {'action': 'Prendi', 'similarity': 0.7500000000000008},\n",
       " '1_10000007': {'action': 'Rilascia', 'similarity': 0.8317757009345798},\n",
       " '1_10000008': {'action': 'Rilascia', 'similarity': 0.8771929824561426},\n",
       " '1_10000009': {'action': 'Premi', 'similarity': 0.6365688487584678},\n",
       " '1_10000010': {'action': 'Premi', 'similarity': 0.7142857142857147},\n",
       " '1_10000011': {'action': 'Prendi', 'similarity': 0.7480314960629967},\n",
       " '1_10000012': {'action': 'Rilascia', 'similarity': 0.9615384615384623},\n",
       " '1_10000013': {'action': 'Prendi', 'similarity': 0.7933884297520662},\n",
       " '1_10000014': {'action': 'Rilascia', 'similarity': 0.8653846153846148},\n",
       " '1_10000015': {'action': 'Premi', 'similarity': 0.6944444444444421},\n",
       " '1_10000016': {'action': 'Prendi', 'similarity': 0.8547008547008534},\n",
       " '1_10000017': {'action': 'Rilascia', 'similarity': 0.7542372881355939}}"
      ]
     },
     "execution_count": 6,
     "metadata": {},
     "output_type": "execute_result"
    }
   ],
   "source": [
    "sim = similarity_dict(metadata)\n",
    "sim"
   ]
  },
  {
   "cell_type": "markdown",
   "id": "515edc9b",
   "metadata": {},
   "source": [
    "A questo punto possiamo calcolare la media tra tutti i valori di similarità e la media per singola azione."
   ]
  },
  {
   "cell_type": "code",
   "execution_count": 7,
   "id": "9bf87fe2",
   "metadata": {},
   "outputs": [],
   "source": [
    "def mean(similarity, action = False) -> list:\n",
    "    \n",
    "    if not action:\n",
    "        return [sum(value[\"similarity\"] for value in similarity.values()) / len(similarity)]\n",
    "    \n",
    "    s_take = 0\n",
    "    c_take = 0\n",
    "    s_release = 0\n",
    "    c_release = 0\n",
    "    s_push = 0\n",
    "    c_push = 0\n",
    "    for _, value in similarity.items():\n",
    "        if value[\"action\"] == \"Prendi\":\n",
    "            s_take += value[\"similarity\"]\n",
    "            c_take += 1\n",
    "        elif value[\"action\"] == \"Rilascia\":\n",
    "            s_release += value[\"similarity\"]\n",
    "            c_release += 1\n",
    "        else:\n",
    "            s_push += value[\"similarity\"]\n",
    "            c_push += 1\n",
    "    return [s_take/c_take, s_release/c_release, s_push/c_push]"
   ]
  },
  {
   "cell_type": "code",
   "execution_count": 8,
   "id": "61eacefb",
   "metadata": {},
   "outputs": [
    {
     "data": {
      "text/plain": [
       "[0.762994519820559]"
      ]
     },
     "execution_count": 8,
     "metadata": {},
     "output_type": "execute_result"
    }
   ],
   "source": [
    "mean(sim)"
   ]
  },
  {
   "cell_type": "code",
   "execution_count": 9,
   "id": "090a366f",
   "metadata": {},
   "outputs": [
    {
     "data": {
      "text/plain": [
       "[0.7824437690638374, 0.7670558146680972, 0.7218510676616299]"
      ]
     },
     "execution_count": 9,
     "metadata": {},
     "output_type": "execute_result"
    }
   ],
   "source": [
    "mean(sim, True)"
   ]
  },
  {
   "cell_type": "markdown",
   "id": "793e2e25",
   "metadata": {},
   "source": [
    "Quello che possiamo osservare è che: \n",
    "\n",
    "- La media tra tutte le similarità è pari a 0.762994519820559.\n",
    "- La media tra le similarità delle azioni TAKE è pari a 0.7824437690638374.\n",
    "- La media tra le similarità delle azioni REALEASE è pari a 0.7670558146680972\n",
    "- La media tra le similarità delle azioni PUSH è pari a 0.7218510676616299\n",
    "\n",
    "Osserviamo subito che la media risulta essere abbastanza alta e quindi le etichette automatiche e quelle manuali sono molto simili tra di loro.\n",
    "\n",
    "Rappresentiamo i valori di similarità in un Box Plot. Per prima cosa estraiamo tutti i valori di similarità all'interno del vettore `similarities`."
   ]
  },
  {
   "cell_type": "code",
   "execution_count": 10,
   "id": "17c62098",
   "metadata": {},
   "outputs": [
    {
     "data": {
      "text/plain": [
       "[0.6038647342995167,\n",
       " 0.8650519031141864,\n",
       " 0.37216226274655734,\n",
       " 0.7070993914807296,\n",
       " 0.842105263157895,\n",
       " 0.8620689655172413,\n",
       " 0.7500000000000008,\n",
       " 0.8317757009345798,\n",
       " 0.8771929824561426,\n",
       " 0.6365688487584678,\n",
       " 0.7142857142857147,\n",
       " 0.7480314960629967,\n",
       " 0.9615384615384623,\n",
       " 0.7933884297520662,\n",
       " 0.8653846153846148,\n",
       " 0.6944444444444421,\n",
       " 0.8547008547008534,\n",
       " 0.7542372881355939]"
      ]
     },
     "execution_count": 10,
     "metadata": {},
     "output_type": "execute_result"
    }
   ],
   "source": [
    "similarities = []\n",
    "for _, value in sim.items():\n",
    "    similarities.append(value[\"similarity\"])\n",
    "similarities"
   ]
  },
  {
   "cell_type": "code",
   "execution_count": 11,
   "id": "36b27461",
   "metadata": {},
   "outputs": [],
   "source": [
    "import matplotlib.pyplot as plt\n",
    "\n",
    "def box_plot(data) -> None:\n",
    "    green_diamond = dict(markerfacecolor='g', marker='D')\n",
    "    fig1, ax1 = plt.subplots()\n",
    "    ax1.set_title('Box Plot')\n",
    "    ax1.boxplot(data, flierprops=green_diamond)\n",
    "    plt.grid()"
   ]
  },
  {
   "cell_type": "code",
   "execution_count": 12,
   "id": "f7dd7743",
   "metadata": {},
   "outputs": [
    {
     "data": {
      "image/png": "[encoded data removed]",
      "text/plain": [
       "<Figure size 432x288 with 1 Axes>"
      ]
     },
     "metadata": {
      "needs_background": "light"
     },
     "output_type": "display_data"
    }
   ],
   "source": [
    "box_plot(similarities)"
   ]
  },
  {
   "cell_type": "markdown",
   "id": "98575508",
   "metadata": {},
   "source": [
    "Dal Box Plot possiamo osservare che solo un valore di similarità risulta essere un outlier, ovvero un valore anomalo, quindi questo sarà l'errore di etichettatura automatica più grande. I restanti valori sono superiori a 0.6, che comunque è un buon risultato dato che la similarità di Jaccard è compresa nell'intervallo [0,1].\n",
    "\n",
    "Rappresentiamo i valori di similarità in tre Box Plot, uno per ogni azione. Per prima cosa estraiamo i valori di similarità in 3 vettori distinti. "
   ]
  },
  {
   "cell_type": "code",
   "execution_count": 13,
   "id": "5e6da192",
   "metadata": {},
   "outputs": [
    {
     "name": "stdout",
     "output_type": "stream",
     "text": [
      "TAKE: [0.6038647342995167, 0.8650519031141864, 0.8620689655172413, 0.7500000000000008, 0.7480314960629967, 0.7933884297520662, 0.8547008547008534] \n",
      "\n",
      "RELEASE: [0.37216226274655734, 0.7070993914807296, 0.8317757009345798, 0.8771929824561426, 0.9615384615384623, 0.8653846153846148, 0.7542372881355939] \n",
      "\n",
      "PUSH: [0.842105263157895, 0.6365688487584678, 0.7142857142857147, 0.6944444444444421] \n",
      "\n"
     ]
    }
   ],
   "source": [
    "sim_take = []\n",
    "sim_release = []\n",
    "sim_push = []\n",
    "for _, value in sim.items():\n",
    "    if value[\"action\"] == \"Prendi\":\n",
    "            sim_take.append(value[\"similarity\"])\n",
    "    elif value[\"action\"] == \"Rilascia\":\n",
    "        sim_release.append(value[\"similarity\"])\n",
    "    else:\n",
    "        sim_push.append(value[\"similarity\"])\n",
    "print(\"TAKE:\", sim_take, \"\\n\")\n",
    "print(\"RELEASE:\", sim_release, \"\\n\")\n",
    "print(\"PUSH:\", sim_push, \"\\n\")"
   ]
  },
  {
   "cell_type": "code",
   "execution_count": 14,
   "id": "3e4c137d",
   "metadata": {},
   "outputs": [
    {
     "data": {
      "image/png": "[encoded data removed]",
      "text/plain": [
       "<Figure size 432x288 with 1 Axes>"
      ]
     },
     "metadata": {
      "needs_background": "light"
     },
     "output_type": "display_data"
    }
   ],
   "source": [
    "box_plot([sim_take, sim_release, sim_push])"
   ]
  },
  {
   "cell_type": "markdown",
   "id": "b35fa282",
   "metadata": {},
   "source": [
    "### Conclusione\n",
    "\n",
    "In questo secondo grafico possiamo osservare che l'outlier appartiene alle azioni di RELEASE. Dai tre Box Plot possiamo ricavare che i risultati di similarità tra le etichette automatiche e quelle manuali, nel video analizzato, hanno valori alti che ci permettono di confermare che anche attraverso uno studio quantitativo l'etichettatura automatica può essere accettata."
   ]
  }
 ],
 "metadata": {
  "kernelspec": {
   "display_name": "Python 3",
   "language": "python",
   "name": "python3"
  },
  "language_info": {
   "codemirror_mode": {
    "name": "ipython",
    "version": 3
   },
   "file_extension": ".py",
   "mimetype": "text/x-python",
   "name": "python",
   "nbconvert_exporter": "python",
   "pygments_lexer": "ipython3",
   "version": "3.8.10"
  }
 },
 "nbformat": 4,
 "nbformat_minor": 5
}
